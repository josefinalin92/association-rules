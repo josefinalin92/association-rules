{
 "cells": [
  {
   "cell_type": "markdown",
   "id": "9a9d2366",
   "metadata": {},
   "source": [
    "# Análisis exploratorio de los datos"
   ]
  },
  {
   "cell_type": "markdown",
   "id": "91db89f5",
   "metadata": {},
   "source": [
    "El objetivo de este notebook es realizar un análisis de datos de nuestro dataset de Kaggle: https://www.kaggle.com/datasets/puneetbhaya/online-retail\n",
    "\n",
    "Se irá explorando los distintos campos de interés para luego tomar decisiones de preparación del dataset para el modelado."
   ]
  },
  {
   "cell_type": "code",
   "execution_count": 1,
   "id": "ca2be59a",
   "metadata": {},
   "outputs": [],
   "source": [
    "import pandas as pd"
   ]
  },
  {
   "cell_type": "code",
   "execution_count": 2,
   "id": "5289f1c6",
   "metadata": {},
   "outputs": [],
   "source": [
    "# Se bajó el archivo que tiene el formato de .xlsx\n",
    "df = pd.read_excel(\"C:/Users/josefina.lin/Documents/Master/10-Trabajo Final/datasets/Online Retail.xlsx\")"
   ]
  },
  {
   "cell_type": "markdown",
   "id": "09b25be2",
   "metadata": {},
   "source": [
    "Al ordenar el dataframe por el primer campo (`InvoiceNo`), se empieza a dilucidar el significado de los campos:\n",
    "* `InvoiceNo`: identificador de la transacción\n",
    "* `StockCode`: identificador del producto comprado\n",
    "* `Description`: descripción o nombre del producto comprado\n",
    "* `Quantity`: cantidad de productos comprados\n",
    "* `InvoiceDate`: timestamp (fecha, hora y minutos) de cuando se ejecutó la transacción\n",
    "* `UnitPrice`: precio unitario del producto\n",
    "* `CustomerID` identificador del cliente que hizo la transacción\n",
    "* `Country`: el país en donde se hizo la transacción"
   ]
  },
  {
   "cell_type": "markdown",
   "id": "d037e7b1",
   "metadata": {},
   "source": [
    "### Exploraciones generales"
   ]
  },
  {
   "cell_type": "code",
   "execution_count": 3,
   "id": "36581788",
   "metadata": {
    "scrolled": true
   },
   "outputs": [
    {
     "data": {
      "text/html": [
       "<div>\n",
       "<style scoped>\n",
       "    .dataframe tbody tr th:only-of-type {\n",
       "        vertical-align: middle;\n",
       "    }\n",
       "\n",
       "    .dataframe tbody tr th {\n",
       "        vertical-align: top;\n",
       "    }\n",
       "\n",
       "    .dataframe thead th {\n",
       "        text-align: right;\n",
       "    }\n",
       "</style>\n",
       "<table border=\"1\" class=\"dataframe\">\n",
       "  <thead>\n",
       "    <tr style=\"text-align: right;\">\n",
       "      <th></th>\n",
       "      <th>InvoiceNo</th>\n",
       "      <th>StockCode</th>\n",
       "      <th>Description</th>\n",
       "      <th>Quantity</th>\n",
       "      <th>InvoiceDate</th>\n",
       "      <th>UnitPrice</th>\n",
       "      <th>CustomerID</th>\n",
       "      <th>Country</th>\n",
       "    </tr>\n",
       "  </thead>\n",
       "  <tbody>\n",
       "    <tr>\n",
       "      <th>6</th>\n",
       "      <td>536365</td>\n",
       "      <td>21730</td>\n",
       "      <td>GLASS STAR FROSTED T-LIGHT HOLDER</td>\n",
       "      <td>6</td>\n",
       "      <td>2010-12-01 08:26:00</td>\n",
       "      <td>4.25</td>\n",
       "      <td>17850.0</td>\n",
       "      <td>United Kingdom</td>\n",
       "    </tr>\n",
       "    <tr>\n",
       "      <th>5</th>\n",
       "      <td>536365</td>\n",
       "      <td>22752</td>\n",
       "      <td>SET 7 BABUSHKA NESTING BOXES</td>\n",
       "      <td>2</td>\n",
       "      <td>2010-12-01 08:26:00</td>\n",
       "      <td>7.65</td>\n",
       "      <td>17850.0</td>\n",
       "      <td>United Kingdom</td>\n",
       "    </tr>\n",
       "    <tr>\n",
       "      <th>1</th>\n",
       "      <td>536365</td>\n",
       "      <td>71053</td>\n",
       "      <td>WHITE METAL LANTERN</td>\n",
       "      <td>6</td>\n",
       "      <td>2010-12-01 08:26:00</td>\n",
       "      <td>3.39</td>\n",
       "      <td>17850.0</td>\n",
       "      <td>United Kingdom</td>\n",
       "    </tr>\n",
       "    <tr>\n",
       "      <th>4</th>\n",
       "      <td>536365</td>\n",
       "      <td>84029E</td>\n",
       "      <td>RED WOOLLY HOTTIE WHITE HEART.</td>\n",
       "      <td>6</td>\n",
       "      <td>2010-12-01 08:26:00</td>\n",
       "      <td>3.39</td>\n",
       "      <td>17850.0</td>\n",
       "      <td>United Kingdom</td>\n",
       "    </tr>\n",
       "    <tr>\n",
       "      <th>3</th>\n",
       "      <td>536365</td>\n",
       "      <td>84029G</td>\n",
       "      <td>KNITTED UNION FLAG HOT WATER BOTTLE</td>\n",
       "      <td>6</td>\n",
       "      <td>2010-12-01 08:26:00</td>\n",
       "      <td>3.39</td>\n",
       "      <td>17850.0</td>\n",
       "      <td>United Kingdom</td>\n",
       "    </tr>\n",
       "    <tr>\n",
       "      <th>2</th>\n",
       "      <td>536365</td>\n",
       "      <td>84406B</td>\n",
       "      <td>CREAM CUPID HEARTS COAT HANGER</td>\n",
       "      <td>8</td>\n",
       "      <td>2010-12-01 08:26:00</td>\n",
       "      <td>2.75</td>\n",
       "      <td>17850.0</td>\n",
       "      <td>United Kingdom</td>\n",
       "    </tr>\n",
       "    <tr>\n",
       "      <th>0</th>\n",
       "      <td>536365</td>\n",
       "      <td>85123A</td>\n",
       "      <td>WHITE HANGING HEART T-LIGHT HOLDER</td>\n",
       "      <td>6</td>\n",
       "      <td>2010-12-01 08:26:00</td>\n",
       "      <td>2.55</td>\n",
       "      <td>17850.0</td>\n",
       "      <td>United Kingdom</td>\n",
       "    </tr>\n",
       "    <tr>\n",
       "      <th>8</th>\n",
       "      <td>536366</td>\n",
       "      <td>22632</td>\n",
       "      <td>HAND WARMER RED POLKA DOT</td>\n",
       "      <td>6</td>\n",
       "      <td>2010-12-01 08:28:00</td>\n",
       "      <td>1.85</td>\n",
       "      <td>17850.0</td>\n",
       "      <td>United Kingdom</td>\n",
       "    </tr>\n",
       "    <tr>\n",
       "      <th>7</th>\n",
       "      <td>536366</td>\n",
       "      <td>22633</td>\n",
       "      <td>HAND WARMER UNION JACK</td>\n",
       "      <td>6</td>\n",
       "      <td>2010-12-01 08:28:00</td>\n",
       "      <td>1.85</td>\n",
       "      <td>17850.0</td>\n",
       "      <td>United Kingdom</td>\n",
       "    </tr>\n",
       "    <tr>\n",
       "      <th>17</th>\n",
       "      <td>536367</td>\n",
       "      <td>21754</td>\n",
       "      <td>HOME BUILDING BLOCK WORD</td>\n",
       "      <td>3</td>\n",
       "      <td>2010-12-01 08:34:00</td>\n",
       "      <td>5.95</td>\n",
       "      <td>13047.0</td>\n",
       "      <td>United Kingdom</td>\n",
       "    </tr>\n",
       "  </tbody>\n",
       "</table>\n",
       "</div>"
      ],
      "text/plain": [
       "   InvoiceNo StockCode                          Description  Quantity  \\\n",
       "6     536365     21730    GLASS STAR FROSTED T-LIGHT HOLDER         6   \n",
       "5     536365     22752         SET 7 BABUSHKA NESTING BOXES         2   \n",
       "1     536365     71053                  WHITE METAL LANTERN         6   \n",
       "4     536365    84029E       RED WOOLLY HOTTIE WHITE HEART.         6   \n",
       "3     536365    84029G  KNITTED UNION FLAG HOT WATER BOTTLE         6   \n",
       "2     536365    84406B       CREAM CUPID HEARTS COAT HANGER         8   \n",
       "0     536365    85123A   WHITE HANGING HEART T-LIGHT HOLDER         6   \n",
       "8     536366     22632            HAND WARMER RED POLKA DOT         6   \n",
       "7     536366     22633               HAND WARMER UNION JACK         6   \n",
       "17    536367     21754             HOME BUILDING BLOCK WORD         3   \n",
       "\n",
       "           InvoiceDate  UnitPrice  CustomerID         Country  \n",
       "6  2010-12-01 08:26:00       4.25     17850.0  United Kingdom  \n",
       "5  2010-12-01 08:26:00       7.65     17850.0  United Kingdom  \n",
       "1  2010-12-01 08:26:00       3.39     17850.0  United Kingdom  \n",
       "4  2010-12-01 08:26:00       3.39     17850.0  United Kingdom  \n",
       "3  2010-12-01 08:26:00       3.39     17850.0  United Kingdom  \n",
       "2  2010-12-01 08:26:00       2.75     17850.0  United Kingdom  \n",
       "0  2010-12-01 08:26:00       2.55     17850.0  United Kingdom  \n",
       "8  2010-12-01 08:28:00       1.85     17850.0  United Kingdom  \n",
       "7  2010-12-01 08:28:00       1.85     17850.0  United Kingdom  \n",
       "17 2010-12-01 08:34:00       5.95     13047.0  United Kingdom  "
      ]
     },
     "execution_count": 3,
     "metadata": {},
     "output_type": "execute_result"
    }
   ],
   "source": [
    "df['InvoiceNo'] = df['InvoiceNo'].astype(str)\n",
    "df.sort_values(by=['InvoiceNo','StockCode'], inplace=True)\n",
    "df.head(10)"
   ]
  },
  {
   "cell_type": "markdown",
   "id": "e54bf543",
   "metadata": {},
   "source": [
    "Se puede observar que hay algunas columnas que contienen nulos:\n",
    "* Description\n",
    "* CustomerID"
   ]
  },
  {
   "cell_type": "code",
   "execution_count": 4,
   "id": "365696e1",
   "metadata": {
    "scrolled": true
   },
   "outputs": [
    {
     "name": "stdout",
     "output_type": "stream",
     "text": [
      "<class 'pandas.core.frame.DataFrame'>\n",
      "Int64Index: 541909 entries, 6 to 541716\n",
      "Data columns (total 8 columns):\n",
      " #   Column       Non-Null Count   Dtype         \n",
      "---  ------       --------------   -----         \n",
      " 0   InvoiceNo    541909 non-null  object        \n",
      " 1   StockCode    541909 non-null  object        \n",
      " 2   Description  540455 non-null  object        \n",
      " 3   Quantity     541909 non-null  int64         \n",
      " 4   InvoiceDate  541909 non-null  datetime64[ns]\n",
      " 5   UnitPrice    541909 non-null  float64       \n",
      " 6   CustomerID   406829 non-null  float64       \n",
      " 7   Country      541909 non-null  object        \n",
      "dtypes: datetime64[ns](1), float64(2), int64(1), object(4)\n",
      "memory usage: 37.2+ MB\n"
     ]
    }
   ],
   "source": [
    "# Exploramos las columnas que tiene el dataset\n",
    "df.info()"
   ]
  },
  {
   "cell_type": "markdown",
   "id": "cb4dbd74",
   "metadata": {},
   "source": [
    "El objetivo del proyecto es poder encontrar la relación entre productos que se compran juntos, por ende hay algunos campos que __no__ \n",
    "sería de nuestro interés explorarlos:\n",
    "* __Quantity__\n",
    "* __InvoiceDate__\n",
    "* __UnitPrice__\n",
    "* __CustomerID__"
   ]
  },
  {
   "cell_type": "markdown",
   "id": "4e2444ee",
   "metadata": {},
   "source": [
    "### Exploraciones por cada campo"
   ]
  },
  {
   "cell_type": "markdown",
   "id": "b958919e",
   "metadata": {},
   "source": [
    "#### Nombre de productos y la relación con su código"
   ]
  },
  {
   "cell_type": "code",
   "execution_count": 5,
   "id": "0cd11c84",
   "metadata": {},
   "outputs": [],
   "source": [
    "# Primero hacemos una copia del dataframe original quedando\n",
    "# solo con los campos que nos interesan\n",
    "\n",
    "products = df[['StockCode','Description']].copy()"
   ]
  },
  {
   "cell_type": "code",
   "execution_count": 6,
   "id": "0eb910d0",
   "metadata": {},
   "outputs": [
    {
     "data": {
      "text/html": [
       "<div>\n",
       "<style scoped>\n",
       "    .dataframe tbody tr th:only-of-type {\n",
       "        vertical-align: middle;\n",
       "    }\n",
       "\n",
       "    .dataframe tbody tr th {\n",
       "        vertical-align: top;\n",
       "    }\n",
       "\n",
       "    .dataframe thead th {\n",
       "        text-align: right;\n",
       "    }\n",
       "</style>\n",
       "<table border=\"1\" class=\"dataframe\">\n",
       "  <thead>\n",
       "    <tr style=\"text-align: right;\">\n",
       "      <th></th>\n",
       "      <th>StockCode</th>\n",
       "      <th>qty_descriptions</th>\n",
       "    </tr>\n",
       "  </thead>\n",
       "  <tbody>\n",
       "    <tr>\n",
       "      <th>96</th>\n",
       "      <td>20713</td>\n",
       "      <td>8</td>\n",
       "    </tr>\n",
       "    <tr>\n",
       "      <th>1905</th>\n",
       "      <td>23084</td>\n",
       "      <td>7</td>\n",
       "    </tr>\n",
       "    <tr>\n",
       "      <th>794</th>\n",
       "      <td>21830</td>\n",
       "      <td>6</td>\n",
       "    </tr>\n",
       "    <tr>\n",
       "      <th>2825</th>\n",
       "      <td>85175</td>\n",
       "      <td>6</td>\n",
       "    </tr>\n",
       "    <tr>\n",
       "      <th>352</th>\n",
       "      <td>21181</td>\n",
       "      <td>5</td>\n",
       "    </tr>\n",
       "    <tr>\n",
       "      <th>2147</th>\n",
       "      <td>23343</td>\n",
       "      <td>5</td>\n",
       "    </tr>\n",
       "    <tr>\n",
       "      <th>2822</th>\n",
       "      <td>85172</td>\n",
       "      <td>5</td>\n",
       "    </tr>\n",
       "    <tr>\n",
       "      <th>3244</th>\n",
       "      <td>72807A</td>\n",
       "      <td>5</td>\n",
       "    </tr>\n",
       "    <tr>\n",
       "      <th>1948</th>\n",
       "      <td>23131</td>\n",
       "      <td>5</td>\n",
       "    </tr>\n",
       "    <tr>\n",
       "      <th>1666</th>\n",
       "      <td>22837</td>\n",
       "      <td>4</td>\n",
       "    </tr>\n",
       "  </tbody>\n",
       "</table>\n",
       "</div>"
      ],
      "text/plain": [
       "     StockCode  qty_descriptions\n",
       "96       20713                 8\n",
       "1905     23084                 7\n",
       "794      21830                 6\n",
       "2825     85175                 6\n",
       "352      21181                 5\n",
       "2147     23343                 5\n",
       "2822     85172                 5\n",
       "3244    72807A                 5\n",
       "1948     23131                 5\n",
       "1666     22837                 4"
      ]
     },
     "execution_count": 6,
     "metadata": {},
     "output_type": "execute_result"
    }
   ],
   "source": [
    "# Creamos un objeto resultado de contar registros únicos de\n",
    "# la descripción del producto por el StockCode\n",
    "\n",
    "pdct_gb = products.groupby(by=[\"StockCode\"])\\\n",
    "                  .agg({'Description':'nunique'})\\\n",
    "                  .rename(columns={'Description':'qty_descriptions'})\\\n",
    "                  .reset_index()\\\n",
    "                  .sort_values(by='qty_descriptions', ascending=False)\n",
    "pdct_gb.head(10)"
   ]
  },
  {
   "cell_type": "markdown",
   "id": "a346575d",
   "metadata": {},
   "source": [
    "Se observan 650 registros que tiene más de una descripción asociada a un código identificador del producto."
   ]
  },
  {
   "cell_type": "code",
   "execution_count": 7,
   "id": "b2127a77",
   "metadata": {},
   "outputs": [
    {
     "data": {
      "text/plain": [
       "650"
      ]
     },
     "execution_count": 7,
     "metadata": {},
     "output_type": "execute_result"
    }
   ],
   "source": [
    "len(pdct_gb[pdct_gb['qty_descriptions']>1])"
   ]
  },
  {
   "cell_type": "code",
   "execution_count": 8,
   "id": "59a8f218",
   "metadata": {},
   "outputs": [
    {
     "data": {
      "text/plain": [
       "0.1597051597051597"
      ]
     },
     "execution_count": 8,
     "metadata": {},
     "output_type": "execute_result"
    }
   ],
   "source": [
    "len(pdct_gb[pdct_gb['qty_descriptions']>1])/len(pdct_gb)"
   ]
  },
  {
   "cell_type": "code",
   "execution_count": 9,
   "id": "db1ad7a3",
   "metadata": {},
   "outputs": [
    {
     "data": {
      "text/plain": [
       "4070"
      ]
     },
     "execution_count": 9,
     "metadata": {},
     "output_type": "execute_result"
    }
   ],
   "source": [
    "len(pdct_gb)"
   ]
  },
  {
   "cell_type": "markdown",
   "id": "f716aa4e",
   "metadata": {},
   "source": [
    "Se agarra un ejemplo, el `StockCode = 20713`, para ver qué descripciones tiene: tiene una descripción correcta pero también hay muchos casos basura y nulos."
   ]
  },
  {
   "cell_type": "code",
   "execution_count": 10,
   "id": "8a8c08ff",
   "metadata": {
    "scrolled": true
   },
   "outputs": [
    {
     "data": {
      "text/plain": [
       "array(['JUMBO BAG OWLS', nan, 'wrongly marked. 23343 in box',\n",
       "       'wrongly coded-23343', 'found', 'Found', 'wrongly marked 23343',\n",
       "       'Marked as 23343', 'wrongly coded 23343'], dtype=object)"
      ]
     },
     "execution_count": 10,
     "metadata": {},
     "output_type": "execute_result"
    }
   ],
   "source": [
    "products[products['StockCode']==20713].Description.unique()"
   ]
  },
  {
   "cell_type": "markdown",
   "id": "96c6b845",
   "metadata": {},
   "source": [
    "__Coclusión para la exploración del campo `Description`:\n",
    "Se recomienda eliminar los registros duplicados.__"
   ]
  },
  {
   "cell_type": "markdown",
   "id": "4ad402ae",
   "metadata": {},
   "source": [
    "#### Órdenes por país"
   ]
  },
  {
   "cell_type": "code",
   "execution_count": 11,
   "id": "2d21ba09",
   "metadata": {},
   "outputs": [],
   "source": [
    "# Se filtran los campos que nos interesan: InvoiceNo y Country\n",
    "\n",
    "orders_by_country =  df[['InvoiceNo','Country']].copy()"
   ]
  },
  {
   "cell_type": "code",
   "execution_count": 12,
   "id": "f764bbfd",
   "metadata": {},
   "outputs": [
    {
     "data": {
      "text/html": [
       "<div>\n",
       "<style scoped>\n",
       "    .dataframe tbody tr th:only-of-type {\n",
       "        vertical-align: middle;\n",
       "    }\n",
       "\n",
       "    .dataframe tbody tr th {\n",
       "        vertical-align: top;\n",
       "    }\n",
       "\n",
       "    .dataframe thead th {\n",
       "        text-align: right;\n",
       "    }\n",
       "</style>\n",
       "<table border=\"1\" class=\"dataframe\">\n",
       "  <thead>\n",
       "    <tr style=\"text-align: right;\">\n",
       "      <th></th>\n",
       "      <th>Country</th>\n",
       "      <th>qty_orders</th>\n",
       "    </tr>\n",
       "  </thead>\n",
       "  <tbody>\n",
       "    <tr>\n",
       "      <th>36</th>\n",
       "      <td>United Kingdom</td>\n",
       "      <td>23494</td>\n",
       "    </tr>\n",
       "    <tr>\n",
       "      <th>14</th>\n",
       "      <td>Germany</td>\n",
       "      <td>603</td>\n",
       "    </tr>\n",
       "    <tr>\n",
       "      <th>13</th>\n",
       "      <td>France</td>\n",
       "      <td>461</td>\n",
       "    </tr>\n",
       "    <tr>\n",
       "      <th>10</th>\n",
       "      <td>EIRE</td>\n",
       "      <td>360</td>\n",
       "    </tr>\n",
       "    <tr>\n",
       "      <th>3</th>\n",
       "      <td>Belgium</td>\n",
       "      <td>119</td>\n",
       "    </tr>\n",
       "    <tr>\n",
       "      <th>31</th>\n",
       "      <td>Spain</td>\n",
       "      <td>105</td>\n",
       "    </tr>\n",
       "    <tr>\n",
       "      <th>24</th>\n",
       "      <td>Netherlands</td>\n",
       "      <td>101</td>\n",
       "    </tr>\n",
       "    <tr>\n",
       "      <th>33</th>\n",
       "      <td>Switzerland</td>\n",
       "      <td>74</td>\n",
       "    </tr>\n",
       "    <tr>\n",
       "      <th>27</th>\n",
       "      <td>Portugal</td>\n",
       "      <td>71</td>\n",
       "    </tr>\n",
       "    <tr>\n",
       "      <th>0</th>\n",
       "      <td>Australia</td>\n",
       "      <td>69</td>\n",
       "    </tr>\n",
       "  </tbody>\n",
       "</table>\n",
       "</div>"
      ],
      "text/plain": [
       "           Country  qty_orders\n",
       "36  United Kingdom       23494\n",
       "14         Germany         603\n",
       "13          France         461\n",
       "10            EIRE         360\n",
       "3          Belgium         119\n",
       "31           Spain         105\n",
       "24     Netherlands         101\n",
       "33     Switzerland          74\n",
       "27        Portugal          71\n",
       "0        Australia          69"
      ]
     },
     "execution_count": 12,
     "metadata": {},
     "output_type": "execute_result"
    }
   ],
   "source": [
    "# Se crea un objeto agrupado contabilizando la cantidad de órdenes\n",
    "# por país\n",
    "\n",
    "obc_gb = orders_by_country.groupby(by=[\"Country\"])\\\n",
    "                          .agg({'InvoiceNo':'nunique'})\\\n",
    "                          .rename(columns={'InvoiceNo':\n",
    "                                           'qty_orders'})\\\n",
    "                          .reset_index()\\\n",
    "                          .sort_values(by='qty_orders', \n",
    "                                       ascending=False)\n",
    "obc_gb.head(10)"
   ]
  },
  {
   "cell_type": "code",
   "execution_count": 13,
   "id": "e633a5c1",
   "metadata": {},
   "outputs": [],
   "source": [
    "# Se crea un campo de porcentaje\n",
    "obc_gb['share'] = round(obc_gb['qty_orders']/obc_gb['qty_orders']\\\n",
    "                        .sum()*100,2)"
   ]
  },
  {
   "cell_type": "code",
   "execution_count": 14,
   "id": "cc5e36a5",
   "metadata": {},
   "outputs": [],
   "source": [
    "import matplotlib.pyplot as plt \n",
    "import seaborn as sns\n",
    "sns.set_palette(\"pastel\")"
   ]
  },
  {
   "cell_type": "markdown",
   "id": "c498ca63",
   "metadata": {},
   "source": [
    "Se puede observar que hay una distribución más concentrada en el país United Kingdom, por lo que es de esperar que los resultados del modelo sean más sesgados para este país si entrenamos con todos los registros. Esto puede causar que se encuentren mejores relaciones para los productos comprados en este país que para el resto de los países, por ende las recomendaciones usando las asociaciones de productos funcionen mejor en United Kingdom.\n",
    "\n",
    "__Conclusión: para evitar este problema de sesgo nos centraremos en los datos de United Kingdom para el modelo.__"
   ]
  },
  {
   "cell_type": "code",
   "execution_count": 15,
   "id": "67be781a",
   "metadata": {},
   "outputs": [
    {
     "data": {
      "image/png": "[encoded data removed]",
      "text/plain": [
       "<Figure size 800x400 with 1 Axes>"
      ]
     },
     "metadata": {},
     "output_type": "display_data"
    }
   ],
   "source": [
    "plt.figure(figsize=(8, 4))\n",
    "splot = sns.barplot(x = obc_gb[:8].Country, \n",
    "                    y = obc_gb[:8].share)\n",
    "\n",
    "for p in splot.patches:\n",
    "    splot.annotate(format(p.get_height(), '.1f'), \n",
    "                   (p.get_x() + p.get_width() / 2., p.get_height()), \n",
    "                   ha = 'center', va = 'center', \n",
    "                   xytext = (0, 9), \n",
    "                   textcoords = 'offset points')\n",
    "plt.ylim(0, 100)\n",
    "splot.tick_params(axis='x', rotation=90, labelsize=13)\n",
    "plt.title('Orders distribution by Country', fontsize=14)    \n",
    "plt.show()"
   ]
  },
  {
   "cell_type": "markdown",
   "id": "684f4b1b",
   "metadata": {},
   "source": [
    "#### Productos distintos comprados por país"
   ]
  },
  {
   "cell_type": "code",
   "execution_count": 16,
   "id": "843fa411",
   "metadata": {},
   "outputs": [],
   "source": [
    "# Se filtra solo los campos que nos interesa\n",
    "products_by_country =  df[['Country','StockCode']].copy()"
   ]
  },
  {
   "cell_type": "code",
   "execution_count": 17,
   "id": "f836c452",
   "metadata": {},
   "outputs": [
    {
     "data": {
      "text/html": [
       "<div>\n",
       "<style scoped>\n",
       "    .dataframe tbody tr th:only-of-type {\n",
       "        vertical-align: middle;\n",
       "    }\n",
       "\n",
       "    .dataframe tbody tr th {\n",
       "        vertical-align: top;\n",
       "    }\n",
       "\n",
       "    .dataframe thead th {\n",
       "        text-align: right;\n",
       "    }\n",
       "</style>\n",
       "<table border=\"1\" class=\"dataframe\">\n",
       "  <thead>\n",
       "    <tr style=\"text-align: right;\">\n",
       "      <th></th>\n",
       "      <th>Country</th>\n",
       "      <th>qty_products</th>\n",
       "    </tr>\n",
       "  </thead>\n",
       "  <tbody>\n",
       "    <tr>\n",
       "      <th>36</th>\n",
       "      <td>United Kingdom</td>\n",
       "      <td>4065</td>\n",
       "    </tr>\n",
       "    <tr>\n",
       "      <th>10</th>\n",
       "      <td>EIRE</td>\n",
       "      <td>1976</td>\n",
       "    </tr>\n",
       "    <tr>\n",
       "      <th>14</th>\n",
       "      <td>Germany</td>\n",
       "      <td>1671</td>\n",
       "    </tr>\n",
       "    <tr>\n",
       "      <th>13</th>\n",
       "      <td>France</td>\n",
       "      <td>1543</td>\n",
       "    </tr>\n",
       "    <tr>\n",
       "      <th>31</th>\n",
       "      <td>Spain</td>\n",
       "      <td>1093</td>\n",
       "    </tr>\n",
       "    <tr>\n",
       "      <th>33</th>\n",
       "      <td>Switzerland</td>\n",
       "      <td>978</td>\n",
       "    </tr>\n",
       "    <tr>\n",
       "      <th>24</th>\n",
       "      <td>Netherlands</td>\n",
       "      <td>785</td>\n",
       "    </tr>\n",
       "    <tr>\n",
       "      <th>3</th>\n",
       "      <td>Belgium</td>\n",
       "      <td>778</td>\n",
       "    </tr>\n",
       "    <tr>\n",
       "      <th>27</th>\n",
       "      <td>Portugal</td>\n",
       "      <td>706</td>\n",
       "    </tr>\n",
       "    <tr>\n",
       "      <th>0</th>\n",
       "      <td>Australia</td>\n",
       "      <td>600</td>\n",
       "    </tr>\n",
       "  </tbody>\n",
       "</table>\n",
       "</div>"
      ],
      "text/plain": [
       "           Country  qty_products\n",
       "36  United Kingdom          4065\n",
       "10            EIRE          1976\n",
       "14         Germany          1671\n",
       "13          France          1543\n",
       "31           Spain          1093\n",
       "33     Switzerland           978\n",
       "24     Netherlands           785\n",
       "3          Belgium           778\n",
       "27        Portugal           706\n",
       "0        Australia           600"
      ]
     },
     "execution_count": 17,
     "metadata": {},
     "output_type": "execute_result"
    }
   ],
   "source": [
    "# Creamos un objeto contando los productos distintos vendidos por país\n",
    "dpbc_gb = products_by_country.groupby(by=[\"Country\"])\\\n",
    "                             .agg({'StockCode':'nunique'})\\\n",
    "                             .rename(columns={'StockCode':\n",
    "                                              'qty_products'})\\\n",
    "                             .reset_index()\\\n",
    "                             .sort_values(by='qty_products', \n",
    "                                          ascending=False)\n",
    "dpbc_gb.head(10)"
   ]
  },
  {
   "cell_type": "code",
   "execution_count": 18,
   "id": "a5929bc3",
   "metadata": {},
   "outputs": [],
   "source": [
    "# Calculamos el porcentaje de productos distintos vendidos por país\n",
    "# sobre el total\n",
    "dpbc_gb['share'] = round(dpbc_gb['qty_products']/dpbc_gb['qty_products']\\\n",
    "                          .sum()*100,2)"
   ]
  },
  {
   "cell_type": "code",
   "execution_count": 19,
   "id": "b783964e",
   "metadata": {},
   "outputs": [
    {
     "data": {
      "image/png": "[encoded data removed]",
      "text/plain": [
       "<Figure size 800x400 with 1 Axes>"
      ]
     },
     "metadata": {},
     "output_type": "display_data"
    }
   ],
   "source": [
    "plt.figure(figsize=(8, 4))\n",
    "splot = sns.barplot(x = dpbc_gb[:15].Country, \n",
    "                    y = dpbc_gb[:15].share)\n",
    "\n",
    "for p in splot.patches:\n",
    "    splot.annotate(format(p.get_height(), '.1f'), \n",
    "                   (p.get_x() + p.get_width() / 2., p.get_height()), \n",
    "                   ha = 'center', va = 'center', \n",
    "                   xytext = (0, 9), \n",
    "                   textcoords = 'offset points')\n",
    "plt.ylim(0, 25)\n",
    "splot.tick_params(axis='x', rotation=90, labelsize=10)\n",
    "plt.title('Distinct products distribution by Country', fontsize=10)    \n",
    "plt.show()"
   ]
  },
  {
   "cell_type": "markdown",
   "id": "256cea6b",
   "metadata": {},
   "source": [
    "#### Órdenes y cantidad de productos"
   ]
  },
  {
   "cell_type": "markdown",
   "id": "5d13d3fc",
   "metadata": {},
   "source": [
    "Debido a que nuestro algoritmo necesita encontrar relaciones entre productos que se compran con mayor frecuencia __juntos__, es importante analizar la distribución de la cantidad de productos que tienen las órdenes."
   ]
  },
  {
   "cell_type": "code",
   "execution_count": 20,
   "id": "e35f9c78",
   "metadata": {
    "scrolled": true
   },
   "outputs": [
    {
     "data": {
      "text/html": [
       "<div>\n",
       "<style scoped>\n",
       "    .dataframe tbody tr th:only-of-type {\n",
       "        vertical-align: middle;\n",
       "    }\n",
       "\n",
       "    .dataframe tbody tr th {\n",
       "        vertical-align: top;\n",
       "    }\n",
       "\n",
       "    .dataframe thead th {\n",
       "        text-align: right;\n",
       "    }\n",
       "</style>\n",
       "<table border=\"1\" class=\"dataframe\">\n",
       "  <thead>\n",
       "    <tr style=\"text-align: right;\">\n",
       "      <th></th>\n",
       "      <th>InvoiceNo</th>\n",
       "      <th>StockCode</th>\n",
       "    </tr>\n",
       "  </thead>\n",
       "  <tbody>\n",
       "    <tr>\n",
       "      <th>169436</th>\n",
       "      <td>551174</td>\n",
       "      <td>22921</td>\n",
       "    </tr>\n",
       "    <tr>\n",
       "      <th>185900</th>\n",
       "      <td>552831</td>\n",
       "      <td>48194</td>\n",
       "    </tr>\n",
       "  </tbody>\n",
       "</table>\n",
       "</div>"
      ],
      "text/plain": [
       "       InvoiceNo StockCode\n",
       "169436    551174     22921\n",
       "185900    552831     48194"
      ]
     },
     "execution_count": 20,
     "metadata": {},
     "output_type": "execute_result"
    }
   ],
   "source": [
    "# Se filtran los campos de interés: StockCode y InvoiceNo\n",
    "products_by_orders = df[['InvoiceNo','StockCode']].copy()\n",
    "products_by_orders.sample(2)"
   ]
  },
  {
   "cell_type": "code",
   "execution_count": 21,
   "id": "72ba40d8",
   "metadata": {
    "scrolled": true
   },
   "outputs": [
    {
     "data": {
      "text/html": [
       "<div>\n",
       "<style scoped>\n",
       "    .dataframe tbody tr th:only-of-type {\n",
       "        vertical-align: middle;\n",
       "    }\n",
       "\n",
       "    .dataframe tbody tr th {\n",
       "        vertical-align: top;\n",
       "    }\n",
       "\n",
       "    .dataframe thead th {\n",
       "        text-align: right;\n",
       "    }\n",
       "</style>\n",
       "<table border=\"1\" class=\"dataframe\">\n",
       "  <thead>\n",
       "    <tr style=\"text-align: right;\">\n",
       "      <th></th>\n",
       "      <th>InvoiceNo</th>\n",
       "      <th>qty_products</th>\n",
       "    </tr>\n",
       "  </thead>\n",
       "  <tbody>\n",
       "    <tr>\n",
       "      <th>23671</th>\n",
       "      <td>C554477</td>\n",
       "      <td>1</td>\n",
       "    </tr>\n",
       "    <tr>\n",
       "      <th>22947</th>\n",
       "      <td>C545844</td>\n",
       "      <td>1</td>\n",
       "    </tr>\n",
       "    <tr>\n",
       "      <th>22948</th>\n",
       "      <td>C545846</td>\n",
       "      <td>1</td>\n",
       "    </tr>\n",
       "    <tr>\n",
       "      <th>4189</th>\n",
       "      <td>545433</td>\n",
       "      <td>1</td>\n",
       "    </tr>\n",
       "    <tr>\n",
       "      <th>22949</th>\n",
       "      <td>C545847</td>\n",
       "      <td>1</td>\n",
       "    </tr>\n",
       "    <tr>\n",
       "      <th>22950</th>\n",
       "      <td>C545848</td>\n",
       "      <td>1</td>\n",
       "    </tr>\n",
       "    <tr>\n",
       "      <th>22951</th>\n",
       "      <td>C545849</td>\n",
       "      <td>1</td>\n",
       "    </tr>\n",
       "    <tr>\n",
       "      <th>4184</th>\n",
       "      <td>545427</td>\n",
       "      <td>1</td>\n",
       "    </tr>\n",
       "    <tr>\n",
       "      <th>17193</th>\n",
       "      <td>571731</td>\n",
       "      <td>1</td>\n",
       "    </tr>\n",
       "    <tr>\n",
       "      <th>4181</th>\n",
       "      <td>545424</td>\n",
       "      <td>1</td>\n",
       "    </tr>\n",
       "  </tbody>\n",
       "</table>\n",
       "</div>"
      ],
      "text/plain": [
       "      InvoiceNo  qty_products\n",
       "23671   C554477             1\n",
       "22947   C545844             1\n",
       "22948   C545846             1\n",
       "4189     545433             1\n",
       "22949   C545847             1\n",
       "22950   C545848             1\n",
       "22951   C545849             1\n",
       "4184     545427             1\n",
       "17193    571731             1\n",
       "4181     545424             1"
      ]
     },
     "execution_count": 21,
     "metadata": {},
     "output_type": "execute_result"
    }
   ],
   "source": [
    "# Se crea un objeto contabilizando la cantidad de productos por órden\n",
    "pbo_gb = products_by_orders.groupby(by=[\"InvoiceNo\"])\\\n",
    "                           .agg({'StockCode':'nunique'})\\\n",
    "                           .rename(columns={'StockCode':\n",
    "                                            'qty_products'})\\\n",
    "                           .reset_index()\\\n",
    "                           .sort_values(by='qty_products', \n",
    "                                        ascending=True)\n",
    "pbo_gb.head(10)"
   ]
  },
  {
   "cell_type": "markdown",
   "id": "ce17f800",
   "metadata": {},
   "source": [
    "Existe un 22.76% de órdenes que solo tienen un producto:"
   ]
  },
  {
   "cell_type": "code",
   "execution_count": 22,
   "id": "0a573b02",
   "metadata": {},
   "outputs": [
    {
     "data": {
      "text/plain": [
       "22.76"
      ]
     },
     "execution_count": 22,
     "metadata": {},
     "output_type": "execute_result"
    }
   ],
   "source": [
    "round(len(pbo_gb[pbo_gb['qty_products'] == 1])/len(pbo_gb)*100,2)"
   ]
  },
  {
   "cell_type": "code",
   "execution_count": 23,
   "id": "a34f4f64",
   "metadata": {},
   "outputs": [
    {
     "data": {
      "text/html": [
       "<div>\n",
       "<style scoped>\n",
       "    .dataframe tbody tr th:only-of-type {\n",
       "        vertical-align: middle;\n",
       "    }\n",
       "\n",
       "    .dataframe tbody tr th {\n",
       "        vertical-align: top;\n",
       "    }\n",
       "\n",
       "    .dataframe thead th {\n",
       "        text-align: right;\n",
       "    }\n",
       "</style>\n",
       "<table border=\"1\" class=\"dataframe\">\n",
       "  <thead>\n",
       "    <tr style=\"text-align: right;\">\n",
       "      <th></th>\n",
       "      <th>qty_products</th>\n",
       "      <th>qty_orders</th>\n",
       "    </tr>\n",
       "  </thead>\n",
       "  <tbody>\n",
       "    <tr>\n",
       "      <th>0</th>\n",
       "      <td>1</td>\n",
       "      <td>5894</td>\n",
       "    </tr>\n",
       "    <tr>\n",
       "      <th>1</th>\n",
       "      <td>2</td>\n",
       "      <td>1587</td>\n",
       "    </tr>\n",
       "    <tr>\n",
       "      <th>2</th>\n",
       "      <td>3</td>\n",
       "      <td>1083</td>\n",
       "    </tr>\n",
       "    <tr>\n",
       "      <th>3</th>\n",
       "      <td>4</td>\n",
       "      <td>810</td>\n",
       "    </tr>\n",
       "    <tr>\n",
       "      <th>4</th>\n",
       "      <td>5</td>\n",
       "      <td>792</td>\n",
       "    </tr>\n",
       "  </tbody>\n",
       "</table>\n",
       "</div>"
      ],
      "text/plain": [
       "   qty_products  qty_orders\n",
       "0             1        5894\n",
       "1             2        1587\n",
       "2             3        1083\n",
       "3             4         810\n",
       "4             5         792"
      ]
     },
     "execution_count": 23,
     "metadata": {},
     "output_type": "execute_result"
    }
   ],
   "source": [
    "dist_pbo = pbo_gb.groupby(by=[\"qty_products\"])\\\n",
    "                 .agg({'InvoiceNo':'nunique'})\\\n",
    "                 .rename(columns={'InvoiceNo':\n",
    "                                  'qty_orders'})\\\n",
    "                 .reset_index()\\\n",
    "                 .sort_values(by='qty_orders', \n",
    "                              ascending=False)\n",
    "dist_pbo.head(5)"
   ]
  },
  {
   "cell_type": "code",
   "execution_count": 24,
   "id": "c1beb551",
   "metadata": {},
   "outputs": [],
   "source": [
    "dist_pbo['share'] = round(dist_pbo['qty_orders']/dist_pbo['qty_orders']\\\n",
    "                          .sum()*100,2)"
   ]
  },
  {
   "cell_type": "markdown",
   "id": "ac4f4186",
   "metadata": {},
   "source": [
    "Más allá de que hay una concentración del 22.76% de órdenes con 1 solo producto, se puede observar que hay una distribución bastante homogénea en el resto de las cantidades de productos comprados."
   ]
  },
  {
   "cell_type": "code",
   "execution_count": 25,
   "id": "cbfe0871",
   "metadata": {},
   "outputs": [
    {
     "data": {
      "image/png": "[encoded data removed]",
      "text/plain": [
       "<Figure size 800x400 with 1 Axes>"
      ]
     },
     "metadata": {},
     "output_type": "display_data"
    }
   ],
   "source": [
    "plt.figure(figsize=(8, 4))\n",
    "splot = sns.barplot(x = dist_pbo[:15].qty_products, \n",
    "                    y = dist_pbo[:15].share)\n",
    "\n",
    "for p in splot.patches:\n",
    "    splot.annotate(format(p.get_height(), '.1f'), \n",
    "                   (p.get_x() + p.get_width() / 2., p.get_height()), \n",
    "                   ha = 'center', va = 'center', \n",
    "                   xytext = (0, 9), \n",
    "                   textcoords = 'offset points')\n",
    "plt.ylim(0, 30)\n",
    "splot.tick_params(axis='x', rotation=90, labelsize=13)\n",
    "plt.title('Orders distribution by Quantity products bought', fontsize=14)    \n",
    "plt.show()"
   ]
  },
  {
   "cell_type": "markdown",
   "id": "6ec50a15",
   "metadata": {},
   "source": [
    "Siguiendo con la distribución, se observa que la mediana es de 10 productos.\n",
    "El máximo llama la atención por lo que indagaremos a qué se debe."
   ]
  },
  {
   "cell_type": "code",
   "execution_count": 26,
   "id": "e601fb40",
   "metadata": {
    "scrolled": true
   },
   "outputs": [
    {
     "data": {
      "text/html": [
       "<div>\n",
       "<style scoped>\n",
       "    .dataframe tbody tr th:only-of-type {\n",
       "        vertical-align: middle;\n",
       "    }\n",
       "\n",
       "    .dataframe tbody tr th {\n",
       "        vertical-align: top;\n",
       "    }\n",
       "\n",
       "    .dataframe thead th {\n",
       "        text-align: right;\n",
       "    }\n",
       "</style>\n",
       "<table border=\"1\" class=\"dataframe\">\n",
       "  <thead>\n",
       "    <tr style=\"text-align: right;\">\n",
       "      <th></th>\n",
       "      <th>qty_products</th>\n",
       "    </tr>\n",
       "  </thead>\n",
       "  <tbody>\n",
       "    <tr>\n",
       "      <th>count</th>\n",
       "      <td>25900.000000</td>\n",
       "    </tr>\n",
       "    <tr>\n",
       "      <th>mean</th>\n",
       "      <td>20.510618</td>\n",
       "    </tr>\n",
       "    <tr>\n",
       "      <th>std</th>\n",
       "      <td>42.500488</td>\n",
       "    </tr>\n",
       "    <tr>\n",
       "      <th>min</th>\n",
       "      <td>1.000000</td>\n",
       "    </tr>\n",
       "    <tr>\n",
       "      <th>25%</th>\n",
       "      <td>2.000000</td>\n",
       "    </tr>\n",
       "    <tr>\n",
       "      <th>50%</th>\n",
       "      <td>10.000000</td>\n",
       "    </tr>\n",
       "    <tr>\n",
       "      <th>75%</th>\n",
       "      <td>23.000000</td>\n",
       "    </tr>\n",
       "    <tr>\n",
       "      <th>max</th>\n",
       "      <td>1110.000000</td>\n",
       "    </tr>\n",
       "  </tbody>\n",
       "</table>\n",
       "</div>"
      ],
      "text/plain": [
       "       qty_products\n",
       "count  25900.000000\n",
       "mean      20.510618\n",
       "std       42.500488\n",
       "min        1.000000\n",
       "25%        2.000000\n",
       "50%       10.000000\n",
       "75%       23.000000\n",
       "max     1110.000000"
      ]
     },
     "execution_count": 26,
     "metadata": {},
     "output_type": "execute_result"
    }
   ],
   "source": [
    "pbo_gb.describe()"
   ]
  },
  {
   "cell_type": "code",
   "execution_count": 27,
   "id": "e1ab653d",
   "metadata": {},
   "outputs": [
    {
     "data": {
      "text/html": [
       "<div>\n",
       "<style scoped>\n",
       "    .dataframe tbody tr th:only-of-type {\n",
       "        vertical-align: middle;\n",
       "    }\n",
       "\n",
       "    .dataframe tbody tr th {\n",
       "        vertical-align: top;\n",
       "    }\n",
       "\n",
       "    .dataframe thead th {\n",
       "        text-align: right;\n",
       "    }\n",
       "</style>\n",
       "<table border=\"1\" class=\"dataframe\">\n",
       "  <thead>\n",
       "    <tr style=\"text-align: right;\">\n",
       "      <th></th>\n",
       "      <th>InvoiceNo</th>\n",
       "      <th>qty_products</th>\n",
       "    </tr>\n",
       "  </thead>\n",
       "  <tbody>\n",
       "    <tr>\n",
       "      <th>18141</th>\n",
       "      <td>573585</td>\n",
       "      <td>1110</td>\n",
       "    </tr>\n",
       "  </tbody>\n",
       "</table>\n",
       "</div>"
      ],
      "text/plain": [
       "      InvoiceNo  qty_products\n",
       "18141    573585          1110"
      ]
     },
     "execution_count": 27,
     "metadata": {},
     "output_type": "execute_result"
    }
   ],
   "source": [
    "# Identificamos el InvoiceNo que tenga 1110 productos\n",
    "pbo_gb[pbo_gb['qty_products']==1110]"
   ]
  },
  {
   "cell_type": "markdown",
   "id": "74258eb2",
   "metadata": {},
   "source": [
    "Se puede observar que esta orden no tiene `CustomerID`, además tiene productos repetidos con distintas cantidades: `StockCode = 23221` tiene 2 registros, uno con `Quantity = 4` y otro con `Quantity = 1`. Es por ello que nos hace pensar que puede ser un agrupador de varias compras para varios usuarios."
   ]
  },
  {
   "cell_type": "code",
   "execution_count": 28,
   "id": "3df59382",
   "metadata": {},
   "outputs": [
    {
     "data": {
      "text/html": [
       "<div>\n",
       "<style scoped>\n",
       "    .dataframe tbody tr th:only-of-type {\n",
       "        vertical-align: middle;\n",
       "    }\n",
       "\n",
       "    .dataframe tbody tr th {\n",
       "        vertical-align: top;\n",
       "    }\n",
       "\n",
       "    .dataframe thead th {\n",
       "        text-align: right;\n",
       "    }\n",
       "</style>\n",
       "<table border=\"1\" class=\"dataframe\">\n",
       "  <thead>\n",
       "    <tr style=\"text-align: right;\">\n",
       "      <th></th>\n",
       "      <th>InvoiceNo</th>\n",
       "      <th>StockCode</th>\n",
       "      <th>Description</th>\n",
       "      <th>Quantity</th>\n",
       "      <th>InvoiceDate</th>\n",
       "      <th>UnitPrice</th>\n",
       "      <th>CustomerID</th>\n",
       "      <th>Country</th>\n",
       "    </tr>\n",
       "  </thead>\n",
       "  <tbody>\n",
       "    <tr>\n",
       "      <th>430237</th>\n",
       "      <td>573585</td>\n",
       "      <td>11001</td>\n",
       "      <td>ASSTD DESIGN RACING CAR PEN</td>\n",
       "      <td>2</td>\n",
       "      <td>2011-10-31 14:41:00</td>\n",
       "      <td>3.29</td>\n",
       "      <td>NaN</td>\n",
       "      <td>United Kingdom</td>\n",
       "    </tr>\n",
       "    <tr>\n",
       "      <th>430238</th>\n",
       "      <td>573585</td>\n",
       "      <td>15036</td>\n",
       "      <td>ASSORTED COLOURS SILK FAN</td>\n",
       "      <td>15</td>\n",
       "      <td>2011-10-31 14:41:00</td>\n",
       "      <td>1.63</td>\n",
       "      <td>NaN</td>\n",
       "      <td>United Kingdom</td>\n",
       "    </tr>\n",
       "    <tr>\n",
       "      <th>430239</th>\n",
       "      <td>573585</td>\n",
       "      <td>15039</td>\n",
       "      <td>SANDALWOOD FAN</td>\n",
       "      <td>15</td>\n",
       "      <td>2011-10-31 14:41:00</td>\n",
       "      <td>1.63</td>\n",
       "      <td>NaN</td>\n",
       "      <td>United Kingdom</td>\n",
       "    </tr>\n",
       "    <tr>\n",
       "      <th>430244</th>\n",
       "      <td>573585</td>\n",
       "      <td>16219</td>\n",
       "      <td>HOUSE SHAPE PENCIL SHARPENER</td>\n",
       "      <td>2</td>\n",
       "      <td>2011-10-31 14:41:00</td>\n",
       "      <td>0.83</td>\n",
       "      <td>NaN</td>\n",
       "      <td>United Kingdom</td>\n",
       "    </tr>\n",
       "    <tr>\n",
       "      <th>430245</th>\n",
       "      <td>573585</td>\n",
       "      <td>16235</td>\n",
       "      <td>RECYCLED PENCIL WITH RABBIT ERASER</td>\n",
       "      <td>2</td>\n",
       "      <td>2011-10-31 14:41:00</td>\n",
       "      <td>0.42</td>\n",
       "      <td>NaN</td>\n",
       "      <td>United Kingdom</td>\n",
       "    </tr>\n",
       "    <tr>\n",
       "      <th>...</th>\n",
       "      <td>...</td>\n",
       "      <td>...</td>\n",
       "      <td>...</td>\n",
       "      <td>...</td>\n",
       "      <td>...</td>\n",
       "      <td>...</td>\n",
       "      <td>...</td>\n",
       "      <td>...</td>\n",
       "    </tr>\n",
       "    <tr>\n",
       "      <th>431345</th>\n",
       "      <td>573585</td>\n",
       "      <td>90202B</td>\n",
       "      <td>WHITE ENAMEL FLOWER HAIR TIE</td>\n",
       "      <td>1</td>\n",
       "      <td>2011-10-31 14:41:00</td>\n",
       "      <td>2.90</td>\n",
       "      <td>NaN</td>\n",
       "      <td>United Kingdom</td>\n",
       "    </tr>\n",
       "    <tr>\n",
       "      <th>431346</th>\n",
       "      <td>573585</td>\n",
       "      <td>90209C</td>\n",
       "      <td>PINK ENAMEL+GLASS HAIR COMB</td>\n",
       "      <td>3</td>\n",
       "      <td>2011-10-31 14:41:00</td>\n",
       "      <td>2.07</td>\n",
       "      <td>NaN</td>\n",
       "      <td>United Kingdom</td>\n",
       "    </tr>\n",
       "    <tr>\n",
       "      <th>431347</th>\n",
       "      <td>573585</td>\n",
       "      <td>90214S</td>\n",
       "      <td>LETTER \"S\" BLING KEY RING</td>\n",
       "      <td>1</td>\n",
       "      <td>2011-10-31 14:41:00</td>\n",
       "      <td>0.83</td>\n",
       "      <td>NaN</td>\n",
       "      <td>United Kingdom</td>\n",
       "    </tr>\n",
       "    <tr>\n",
       "      <th>431348</th>\n",
       "      <td>573585</td>\n",
       "      <td>DOT</td>\n",
       "      <td>DOTCOM POSTAGE</td>\n",
       "      <td>1</td>\n",
       "      <td>2011-10-31 14:41:00</td>\n",
       "      <td>2019.05</td>\n",
       "      <td>NaN</td>\n",
       "      <td>United Kingdom</td>\n",
       "    </tr>\n",
       "    <tr>\n",
       "      <th>431349</th>\n",
       "      <td>573585</td>\n",
       "      <td>gift_0001_20</td>\n",
       "      <td>Dotcomgiftshop Gift Voucher £20.00</td>\n",
       "      <td>1</td>\n",
       "      <td>2011-10-31 14:41:00</td>\n",
       "      <td>16.67</td>\n",
       "      <td>NaN</td>\n",
       "      <td>United Kingdom</td>\n",
       "    </tr>\n",
       "  </tbody>\n",
       "</table>\n",
       "<p>1114 rows × 8 columns</p>\n",
       "</div>"
      ],
      "text/plain": [
       "       InvoiceNo     StockCode                         Description  Quantity  \\\n",
       "430237    573585         11001         ASSTD DESIGN RACING CAR PEN         2   \n",
       "430238    573585         15036           ASSORTED COLOURS SILK FAN        15   \n",
       "430239    573585         15039                      SANDALWOOD FAN        15   \n",
       "430244    573585         16219        HOUSE SHAPE PENCIL SHARPENER         2   \n",
       "430245    573585         16235  RECYCLED PENCIL WITH RABBIT ERASER         2   \n",
       "...          ...           ...                                 ...       ...   \n",
       "431345    573585        90202B        WHITE ENAMEL FLOWER HAIR TIE         1   \n",
       "431346    573585        90209C         PINK ENAMEL+GLASS HAIR COMB         3   \n",
       "431347    573585        90214S           LETTER \"S\" BLING KEY RING         1   \n",
       "431348    573585           DOT                      DOTCOM POSTAGE         1   \n",
       "431349    573585  gift_0001_20  Dotcomgiftshop Gift Voucher £20.00         1   \n",
       "\n",
       "               InvoiceDate  UnitPrice  CustomerID         Country  \n",
       "430237 2011-10-31 14:41:00       3.29         NaN  United Kingdom  \n",
       "430238 2011-10-31 14:41:00       1.63         NaN  United Kingdom  \n",
       "430239 2011-10-31 14:41:00       1.63         NaN  United Kingdom  \n",
       "430244 2011-10-31 14:41:00       0.83         NaN  United Kingdom  \n",
       "430245 2011-10-31 14:41:00       0.42         NaN  United Kingdom  \n",
       "...                    ...        ...         ...             ...  \n",
       "431345 2011-10-31 14:41:00       2.90         NaN  United Kingdom  \n",
       "431346 2011-10-31 14:41:00       2.07         NaN  United Kingdom  \n",
       "431347 2011-10-31 14:41:00       0.83         NaN  United Kingdom  \n",
       "431348 2011-10-31 14:41:00    2019.05         NaN  United Kingdom  \n",
       "431349 2011-10-31 14:41:00      16.67         NaN  United Kingdom  \n",
       "\n",
       "[1114 rows x 8 columns]"
      ]
     },
     "execution_count": 28,
     "metadata": {},
     "output_type": "execute_result"
    }
   ],
   "source": [
    "# Luego filtramos por ese InvoiceNo en el dataframe original\n",
    "df[df['InvoiceNo']=='573585']"
   ]
  },
  {
   "cell_type": "markdown",
   "id": "7d0e44cb",
   "metadata": {},
   "source": [
    "Se explorará aquellas órdenes que no tienen `CustomerID` para contabilizar la cantidad de productos por órden."
   ]
  },
  {
   "cell_type": "code",
   "execution_count": 29,
   "id": "6f65e30c",
   "metadata": {},
   "outputs": [],
   "source": [
    "# Creamos un nuevo dataframe solo con los registros con customerID nulos.\n",
    "nan_customer = df[df['CustomerID'].isna()].copy()\n",
    "nan_customer = nan_customer[['InvoiceNo','StockCode']]"
   ]
  },
  {
   "cell_type": "code",
   "execution_count": 30,
   "id": "ae56bb7f",
   "metadata": {},
   "outputs": [],
   "source": [
    "# Creamos un objeto contando los productos por orden para \n",
    "# cuando no tenemos identificados a los clientes\n",
    "nc_gb = nan_customer.groupby(by=[\"InvoiceNo\"])\\\n",
    "                    .agg({'StockCode':'nunique'})\\\n",
    "                    .rename(columns={'StockCode':\n",
    "                                     'qty_products'})\\\n",
    "                    .reset_index()\\\n",
    "                    .sort_values(by='qty_products', \n",
    "                                 ascending=True)"
   ]
  },
  {
   "cell_type": "code",
   "execution_count": 31,
   "id": "16be5737",
   "metadata": {},
   "outputs": [
    {
     "data": {
      "text/html": [
       "<div>\n",
       "<style scoped>\n",
       "    .dataframe tbody tr th:only-of-type {\n",
       "        vertical-align: middle;\n",
       "    }\n",
       "\n",
       "    .dataframe tbody tr th {\n",
       "        vertical-align: top;\n",
       "    }\n",
       "\n",
       "    .dataframe thead th {\n",
       "        text-align: right;\n",
       "    }\n",
       "</style>\n",
       "<table border=\"1\" class=\"dataframe\">\n",
       "  <thead>\n",
       "    <tr style=\"text-align: right;\">\n",
       "      <th></th>\n",
       "      <th>InvoiceNo</th>\n",
       "      <th>qty_products</th>\n",
       "    </tr>\n",
       "  </thead>\n",
       "  <tbody>\n",
       "    <tr>\n",
       "      <th>0</th>\n",
       "      <td>536414</td>\n",
       "      <td>1</td>\n",
       "    </tr>\n",
       "    <tr>\n",
       "      <th>2314</th>\n",
       "      <td>561920</td>\n",
       "      <td>1</td>\n",
       "    </tr>\n",
       "    <tr>\n",
       "      <th>2315</th>\n",
       "      <td>561921</td>\n",
       "      <td>1</td>\n",
       "    </tr>\n",
       "    <tr>\n",
       "      <th>2316</th>\n",
       "      <td>561924</td>\n",
       "      <td>1</td>\n",
       "    </tr>\n",
       "    <tr>\n",
       "      <th>2317</th>\n",
       "      <td>561927</td>\n",
       "      <td>1</td>\n",
       "    </tr>\n",
       "    <tr>\n",
       "      <th>...</th>\n",
       "      <td>...</td>\n",
       "      <td>...</td>\n",
       "    </tr>\n",
       "    <tr>\n",
       "      <th>1977</th>\n",
       "      <td>558475</td>\n",
       "      <td>704</td>\n",
       "    </tr>\n",
       "    <tr>\n",
       "      <th>3478</th>\n",
       "      <td>580729</td>\n",
       "      <td>721</td>\n",
       "    </tr>\n",
       "    <tr>\n",
       "      <th>3522</th>\n",
       "      <td>581492</td>\n",
       "      <td>731</td>\n",
       "    </tr>\n",
       "    <tr>\n",
       "      <th>3511</th>\n",
       "      <td>581219</td>\n",
       "      <td>749</td>\n",
       "    </tr>\n",
       "    <tr>\n",
       "      <th>3052</th>\n",
       "      <td>573585</td>\n",
       "      <td>1110</td>\n",
       "    </tr>\n",
       "  </tbody>\n",
       "</table>\n",
       "<p>3710 rows × 2 columns</p>\n",
       "</div>"
      ],
      "text/plain": [
       "     InvoiceNo  qty_products\n",
       "0       536414             1\n",
       "2314    561920             1\n",
       "2315    561921             1\n",
       "2316    561924             1\n",
       "2317    561927             1\n",
       "...        ...           ...\n",
       "1977    558475           704\n",
       "3478    580729           721\n",
       "3522    581492           731\n",
       "3511    581219           749\n",
       "3052    573585          1110\n",
       "\n",
       "[3710 rows x 2 columns]"
      ]
     },
     "execution_count": 31,
     "metadata": {},
     "output_type": "execute_result"
    }
   ],
   "source": [
    "nc_gb"
   ]
  },
  {
   "cell_type": "markdown",
   "id": "bec9a60b",
   "metadata": {},
   "source": [
    "Sigue habiendo muchas órdenes con pocos productos en donde no se identifican los clientes. Por lo que puede indicar que no todos los registros sin `CustomerID` sean órdenes que agrupan compras de varios clientes. De hecho la mediana para este dataset filtrado es de 1 producto."
   ]
  },
  {
   "cell_type": "code",
   "execution_count": 32,
   "id": "65aac429",
   "metadata": {
    "scrolled": true
   },
   "outputs": [
    {
     "data": {
      "text/html": [
       "<div>\n",
       "<style scoped>\n",
       "    .dataframe tbody tr th:only-of-type {\n",
       "        vertical-align: middle;\n",
       "    }\n",
       "\n",
       "    .dataframe tbody tr th {\n",
       "        vertical-align: top;\n",
       "    }\n",
       "\n",
       "    .dataframe thead th {\n",
       "        text-align: right;\n",
       "    }\n",
       "</style>\n",
       "<table border=\"1\" class=\"dataframe\">\n",
       "  <thead>\n",
       "    <tr style=\"text-align: right;\">\n",
       "      <th></th>\n",
       "      <th>qty_products</th>\n",
       "    </tr>\n",
       "  </thead>\n",
       "  <tbody>\n",
       "    <tr>\n",
       "      <th>count</th>\n",
       "      <td>3710.000000</td>\n",
       "    </tr>\n",
       "    <tr>\n",
       "      <th>mean</th>\n",
       "      <td>36.265229</td>\n",
       "    </tr>\n",
       "    <tr>\n",
       "      <th>std</th>\n",
       "      <td>95.881790</td>\n",
       "    </tr>\n",
       "    <tr>\n",
       "      <th>min</th>\n",
       "      <td>1.000000</td>\n",
       "    </tr>\n",
       "    <tr>\n",
       "      <th>25%</th>\n",
       "      <td>1.000000</td>\n",
       "    </tr>\n",
       "    <tr>\n",
       "      <th>50%</th>\n",
       "      <td>1.000000</td>\n",
       "    </tr>\n",
       "    <tr>\n",
       "      <th>75%</th>\n",
       "      <td>9.000000</td>\n",
       "    </tr>\n",
       "    <tr>\n",
       "      <th>max</th>\n",
       "      <td>1110.000000</td>\n",
       "    </tr>\n",
       "  </tbody>\n",
       "</table>\n",
       "</div>"
      ],
      "text/plain": [
       "       qty_products\n",
       "count   3710.000000\n",
       "mean      36.265229\n",
       "std       95.881790\n",
       "min        1.000000\n",
       "25%        1.000000\n",
       "50%        1.000000\n",
       "75%        9.000000\n",
       "max     1110.000000"
      ]
     },
     "execution_count": 32,
     "metadata": {},
     "output_type": "execute_result"
    }
   ],
   "source": [
    "nc_gb.describe()"
   ]
  },
  {
   "cell_type": "markdown",
   "id": "72e2ea3f",
   "metadata": {},
   "source": [
    "Por lo que volvemos a filtrar aquellas órdenes que cumplan con las siguientes condiciones:\n",
    "* No tienen `CustomerID`\n",
    "* Órdenes con más de 100 productos, considerando 100 productos una cantidad grande para ser de 1 solo usuario."
   ]
  },
  {
   "cell_type": "code",
   "execution_count": 33,
   "id": "37d6abb1",
   "metadata": {},
   "outputs": [],
   "source": [
    "# Se crea una lista con los InvoiceNo que cumplan las 2 condiciones\n",
    "# de especificadas arriba\n",
    "orders_more_100_pdts = nc_gb[nc_gb['qty_products']>100].InvoiceNo.unique()"
   ]
  },
  {
   "cell_type": "code",
   "execution_count": 34,
   "id": "daad0f68",
   "metadata": {},
   "outputs": [],
   "source": [
    "# Filtramos del dataset original por estos InvoiceNo\n",
    "orders_more_100_pdts_customer_na = df[df['InvoiceNo']\\\n",
    "                                      .isin(orders_more_100_pdts)]"
   ]
  },
  {
   "cell_type": "code",
   "execution_count": 35,
   "id": "49ed1433",
   "metadata": {},
   "outputs": [
    {
     "data": {
      "text/plain": [
       "20.25"
      ]
     },
     "execution_count": 35,
     "metadata": {},
     "output_type": "execute_result"
    }
   ],
   "source": [
    "# Calculamos el porcentaje de estos casos respecto al total\n",
    "round(len(orders_more_100_pdts_customer_na)/len(df)*100,2)"
   ]
  },
  {
   "cell_type": "code",
   "execution_count": 36,
   "id": "ebc812d5",
   "metadata": {},
   "outputs": [
    {
     "data": {
      "text/plain": [
       "1.63"
      ]
     },
     "execution_count": 36,
     "metadata": {},
     "output_type": "execute_result"
    }
   ],
   "source": [
    "# Calculamos el porcentaje de órdenes respecto al total\n",
    "round(orders_more_100_pdts_customer_na.InvoiceNo\\\n",
    "      .nunique()/df.InvoiceNo.nunique()*100,2)"
   ]
  },
  {
   "cell_type": "markdown",
   "id": "28a3f4d4",
   "metadata": {},
   "source": [
    "__Conclusiones:__\n",
    "\n",
    "1. borrar aquellos registros con 1 solo producto.\n",
    "\n",
    "2. creo que sería mejor borrar estos registros pues pueden introducir ruido porque tienen varias órdenes de distintos usuarios juntos. Esto puede causar la errónea asociación de un producto del customer A con el producto comprado por el customer B que en realidad no deberían haberse comprado juntos."
   ]
  },
  {
   "cell_type": "markdown",
   "id": "e37c1cd2",
   "metadata": {},
   "source": [
    "### Preparar el dataset para el modelo\n",
    "\n",
    "En el análisis realizado se definió las siguientes decisiones a tomar:\n",
    "1. Filtrar el dataset solo para United Kingdom\n",
    "2. Borrar las órdenes con 1 solo producto\n",
    "3. Borrar las órdenes que potencialmente pueden ser para más de 1 cliente: sin CustomerID y con más de 100 productos por órden.\n",
    "4. Borrar las descripciones duplicadas que están asociadas a 1 StockCode \n"
   ]
  },
  {
   "cell_type": "code",
   "execution_count": 37,
   "id": "ff30bf36",
   "metadata": {},
   "outputs": [],
   "source": [
    "# 1. Filtramos solo para United Kingdom\n",
    "df1 = df[df[\"Country\"] == 'United Kingdom'].copy()"
   ]
  },
  {
   "cell_type": "code",
   "execution_count": 38,
   "id": "8bfdf004",
   "metadata": {},
   "outputs": [
    {
     "name": "stdout",
     "output_type": "stream",
     "text": [
      "<class 'pandas.core.frame.DataFrame'>\n",
      "Int64Index: 495478 entries, 6 to 541716\n",
      "Data columns (total 8 columns):\n",
      " #   Column       Non-Null Count   Dtype         \n",
      "---  ------       --------------   -----         \n",
      " 0   InvoiceNo    495478 non-null  object        \n",
      " 1   StockCode    495478 non-null  object        \n",
      " 2   Description  494024 non-null  object        \n",
      " 3   Quantity     495478 non-null  int64         \n",
      " 4   InvoiceDate  495478 non-null  datetime64[ns]\n",
      " 5   UnitPrice    495478 non-null  float64       \n",
      " 6   CustomerID   361878 non-null  float64       \n",
      " 7   Country      495478 non-null  object        \n",
      "dtypes: datetime64[ns](1), float64(2), int64(1), object(4)\n",
      "memory usage: 34.0+ MB\n"
     ]
    }
   ],
   "source": [
    "df1.info()"
   ]
  },
  {
   "cell_type": "code",
   "execution_count": 39,
   "id": "e923cbcc",
   "metadata": {},
   "outputs": [
    {
     "data": {
      "text/html": [
       "<div>\n",
       "<style scoped>\n",
       "    .dataframe tbody tr th:only-of-type {\n",
       "        vertical-align: middle;\n",
       "    }\n",
       "\n",
       "    .dataframe tbody tr th {\n",
       "        vertical-align: top;\n",
       "    }\n",
       "\n",
       "    .dataframe thead th {\n",
       "        text-align: right;\n",
       "    }\n",
       "</style>\n",
       "<table border=\"1\" class=\"dataframe\">\n",
       "  <thead>\n",
       "    <tr style=\"text-align: right;\">\n",
       "      <th></th>\n",
       "      <th>InvoiceNo</th>\n",
       "      <th>qty_products</th>\n",
       "    </tr>\n",
       "  </thead>\n",
       "  <tbody>\n",
       "    <tr>\n",
       "      <th>23671</th>\n",
       "      <td>C554477</td>\n",
       "      <td>1</td>\n",
       "    </tr>\n",
       "    <tr>\n",
       "      <th>22947</th>\n",
       "      <td>C545844</td>\n",
       "      <td>1</td>\n",
       "    </tr>\n",
       "    <tr>\n",
       "      <th>22948</th>\n",
       "      <td>C545846</td>\n",
       "      <td>1</td>\n",
       "    </tr>\n",
       "    <tr>\n",
       "      <th>4189</th>\n",
       "      <td>545433</td>\n",
       "      <td>1</td>\n",
       "    </tr>\n",
       "    <tr>\n",
       "      <th>22949</th>\n",
       "      <td>C545847</td>\n",
       "      <td>1</td>\n",
       "    </tr>\n",
       "  </tbody>\n",
       "</table>\n",
       "</div>"
      ],
      "text/plain": [
       "      InvoiceNo  qty_products\n",
       "23671   C554477             1\n",
       "22947   C545844             1\n",
       "22948   C545846             1\n",
       "4189     545433             1\n",
       "22949   C545847             1"
      ]
     },
     "execution_count": 39,
     "metadata": {},
     "output_type": "execute_result"
    }
   ],
   "source": [
    "# 2. Borramos las órdenes con 1 solo producto\n",
    "# 2.1 Recordemos que tenemmos el dataframe \"pbo_gb\" que contabilizada la cantidad de productos distintos por órden\n",
    "pbo_gb.head(5)"
   ]
  },
  {
   "cell_type": "code",
   "execution_count": 40,
   "id": "119088c4",
   "metadata": {},
   "outputs": [],
   "source": [
    "# 2.2 Se crea un set de aquellos InvoiceNo con 1 solo producto\n",
    "orders_with_1_product = pbo_gb[pbo_gb[\"qty_products\"] == 1].InvoiceNo.unique()\n",
    "orders_with_1_product = set(orders_with_1_product)"
   ]
  },
  {
   "cell_type": "code",
   "execution_count": 41,
   "id": "5fe82225",
   "metadata": {},
   "outputs": [
    {
     "name": "stdout",
     "output_type": "stream",
     "text": [
      "<class 'pandas.core.frame.DataFrame'>\n",
      "Int64Index: 489874 entries, 6 to 541716\n",
      "Data columns (total 8 columns):\n",
      " #   Column       Non-Null Count   Dtype         \n",
      "---  ------       --------------   -----         \n",
      " 0   InvoiceNo    489874 non-null  object        \n",
      " 1   StockCode    489874 non-null  object        \n",
      " 2   Description  489874 non-null  object        \n",
      " 3   Quantity     489874 non-null  int64         \n",
      " 4   InvoiceDate  489874 non-null  datetime64[ns]\n",
      " 5   UnitPrice    489874 non-null  float64       \n",
      " 6   CustomerID   358755 non-null  float64       \n",
      " 7   Country      489874 non-null  object        \n",
      "dtypes: datetime64[ns](1), float64(2), int64(1), object(4)\n",
      "memory usage: 33.6+ MB\n"
     ]
    }
   ],
   "source": [
    "# 2.3 Luego filtramos el dataset de df1 \n",
    "# eliminando aquellos registros que estén en la lista creada en el punto anterior\n",
    "df1 = df1[~df1[\"InvoiceNo\"].isin(orders_with_1_product)]\n",
    "df1.info()"
   ]
  },
  {
   "cell_type": "code",
   "execution_count": 42,
   "id": "360a9883",
   "metadata": {},
   "outputs": [
    {
     "data": {
      "text/html": [
       "<div>\n",
       "<style scoped>\n",
       "    .dataframe tbody tr th:only-of-type {\n",
       "        vertical-align: middle;\n",
       "    }\n",
       "\n",
       "    .dataframe tbody tr th {\n",
       "        vertical-align: top;\n",
       "    }\n",
       "\n",
       "    .dataframe thead th {\n",
       "        text-align: right;\n",
       "    }\n",
       "</style>\n",
       "<table border=\"1\" class=\"dataframe\">\n",
       "  <thead>\n",
       "    <tr style=\"text-align: right;\">\n",
       "      <th></th>\n",
       "      <th>InvoiceNo</th>\n",
       "      <th>StockCode</th>\n",
       "      <th>Description</th>\n",
       "      <th>Quantity</th>\n",
       "      <th>InvoiceDate</th>\n",
       "      <th>UnitPrice</th>\n",
       "      <th>CustomerID</th>\n",
       "      <th>Country</th>\n",
       "    </tr>\n",
       "  </thead>\n",
       "  <tbody>\n",
       "    <tr>\n",
       "      <th>1845</th>\n",
       "      <td>536544</td>\n",
       "      <td>11001</td>\n",
       "      <td>ASSTD DESIGN RACING CAR PEN</td>\n",
       "      <td>3</td>\n",
       "      <td>2010-12-01 14:32:00</td>\n",
       "      <td>3.36</td>\n",
       "      <td>NaN</td>\n",
       "      <td>United Kingdom</td>\n",
       "    </tr>\n",
       "    <tr>\n",
       "      <th>1846</th>\n",
       "      <td>536544</td>\n",
       "      <td>16236</td>\n",
       "      <td>KITTY PENCIL ERASERS</td>\n",
       "      <td>1</td>\n",
       "      <td>2010-12-01 14:32:00</td>\n",
       "      <td>0.43</td>\n",
       "      <td>NaN</td>\n",
       "      <td>United Kingdom</td>\n",
       "    </tr>\n",
       "    <tr>\n",
       "      <th>1847</th>\n",
       "      <td>536544</td>\n",
       "      <td>16237</td>\n",
       "      <td>SLEEPING CAT ERASERS</td>\n",
       "      <td>4</td>\n",
       "      <td>2010-12-01 14:32:00</td>\n",
       "      <td>0.43</td>\n",
       "      <td>NaN</td>\n",
       "      <td>United Kingdom</td>\n",
       "    </tr>\n",
       "    <tr>\n",
       "      <th>1848</th>\n",
       "      <td>536544</td>\n",
       "      <td>16238</td>\n",
       "      <td>PARTY TIME PENCIL ERASERS</td>\n",
       "      <td>1</td>\n",
       "      <td>2010-12-01 14:32:00</td>\n",
       "      <td>0.43</td>\n",
       "      <td>NaN</td>\n",
       "      <td>United Kingdom</td>\n",
       "    </tr>\n",
       "    <tr>\n",
       "      <th>1849</th>\n",
       "      <td>536544</td>\n",
       "      <td>17003</td>\n",
       "      <td>BROCADE RING PURSE</td>\n",
       "      <td>3</td>\n",
       "      <td>2010-12-01 14:32:00</td>\n",
       "      <td>0.43</td>\n",
       "      <td>NaN</td>\n",
       "      <td>United Kingdom</td>\n",
       "    </tr>\n",
       "  </tbody>\n",
       "</table>\n",
       "</div>"
      ],
      "text/plain": [
       "     InvoiceNo StockCode                  Description  Quantity  \\\n",
       "1845    536544     11001  ASSTD DESIGN RACING CAR PEN         3   \n",
       "1846    536544     16236         KITTY PENCIL ERASERS         1   \n",
       "1847    536544     16237         SLEEPING CAT ERASERS         4   \n",
       "1848    536544     16238    PARTY TIME PENCIL ERASERS         1   \n",
       "1849    536544     17003          BROCADE RING PURSE          3   \n",
       "\n",
       "             InvoiceDate  UnitPrice  CustomerID         Country  \n",
       "1845 2010-12-01 14:32:00       3.36         NaN  United Kingdom  \n",
       "1846 2010-12-01 14:32:00       0.43         NaN  United Kingdom  \n",
       "1847 2010-12-01 14:32:00       0.43         NaN  United Kingdom  \n",
       "1848 2010-12-01 14:32:00       0.43         NaN  United Kingdom  \n",
       "1849 2010-12-01 14:32:00       0.43         NaN  United Kingdom  "
      ]
     },
     "execution_count": 42,
     "metadata": {},
     "output_type": "execute_result"
    }
   ],
   "source": [
    "# 3.1 Recordemos que tenemos un dataframe con las órdenes que no tienen el CustomerID \n",
    "# y a su vez tienen más de 100 productos\n",
    "\n",
    "orders_more_100_pdts_customer_na.head(5)"
   ]
  },
  {
   "cell_type": "code",
   "execution_count": 43,
   "id": "ef196dff",
   "metadata": {},
   "outputs": [],
   "source": [
    "# 3.2 Creamos un set con los InvoiceNo únicos\n",
    "\n",
    "orders_more_100_pdts_customer_na = orders_more_100_pdts_customer_na.InvoiceNo.unique()\n",
    "orders_more_100_pdts_customer_na = set(orders_more_100_pdts_customer_na)"
   ]
  },
  {
   "cell_type": "code",
   "execution_count": 44,
   "id": "f9dd8675",
   "metadata": {
    "scrolled": false
   },
   "outputs": [
    {
     "name": "stdout",
     "output_type": "stream",
     "text": [
      "<class 'pandas.core.frame.DataFrame'>\n",
      "Int64Index: 380162 entries, 6 to 541716\n",
      "Data columns (total 8 columns):\n",
      " #   Column       Non-Null Count   Dtype         \n",
      "---  ------       --------------   -----         \n",
      " 0   InvoiceNo    380162 non-null  object        \n",
      " 1   StockCode    380162 non-null  object        \n",
      " 2   Description  380162 non-null  object        \n",
      " 3   Quantity     380162 non-null  int64         \n",
      " 4   InvoiceDate  380162 non-null  datetime64[ns]\n",
      " 5   UnitPrice    380162 non-null  float64       \n",
      " 6   CustomerID   358755 non-null  float64       \n",
      " 7   Country      380162 non-null  object        \n",
      "dtypes: datetime64[ns](1), float64(2), int64(1), object(4)\n",
      "memory usage: 26.1+ MB\n"
     ]
    }
   ],
   "source": [
    "# 3.3 Luego filtramos el dataset de df1 \n",
    "# eliminando aquellos registros que estén en la lista creada en el punto anterior\n",
    "\n",
    "df1 = df1[~df1[\"InvoiceNo\"].isin(orders_more_100_pdts_customer_na)]\n",
    "df1.info()"
   ]
  },
  {
   "cell_type": "code",
   "execution_count": 45,
   "id": "77ceb472",
   "metadata": {},
   "outputs": [
    {
     "name": "stdout",
     "output_type": "stream",
     "text": [
      "<class 'pandas.core.frame.DataFrame'>\n",
      "Int64Index: 380162 entries, 6 to 541716\n",
      "Data columns (total 2 columns):\n",
      " #   Column       Non-Null Count   Dtype \n",
      "---  ------       --------------   ----- \n",
      " 0   StockCode    380162 non-null  object\n",
      " 1   Description  380162 non-null  object\n",
      "dtypes: object(2)\n",
      "memory usage: 8.7+ MB\n"
     ]
    }
   ],
   "source": [
    "# 4.1. Creamos un dataframe con las columnas StockCode y Description\n",
    "products = df1[['StockCode','Description']].copy()\n",
    "products.info()"
   ]
  },
  {
   "cell_type": "code",
   "execution_count": 46,
   "id": "12ed9023",
   "metadata": {},
   "outputs": [
    {
     "name": "stdout",
     "output_type": "stream",
     "text": [
      "<class 'pandas.core.frame.DataFrame'>\n",
      "Int64Index: 3994 entries, 6 to 152578\n",
      "Data columns (total 2 columns):\n",
      " #   Column       Non-Null Count  Dtype \n",
      "---  ------       --------------  ----- \n",
      " 0   StockCode    3994 non-null   object\n",
      " 1   Description  3994 non-null   object\n",
      "dtypes: object(2)\n",
      "memory usage: 93.6+ KB\n"
     ]
    }
   ],
   "source": [
    "# 4.2. Se elimina los duplicados\n",
    "products.drop_duplicates(inplace=True)\n",
    "products.info()"
   ]
  },
  {
   "cell_type": "code",
   "execution_count": 47,
   "id": "13d2dfdd",
   "metadata": {},
   "outputs": [
    {
     "data": {
      "text/html": [
       "<div>\n",
       "<style scoped>\n",
       "    .dataframe tbody tr th:only-of-type {\n",
       "        vertical-align: middle;\n",
       "    }\n",
       "\n",
       "    .dataframe tbody tr th {\n",
       "        vertical-align: top;\n",
       "    }\n",
       "\n",
       "    .dataframe thead th {\n",
       "        text-align: right;\n",
       "    }\n",
       "</style>\n",
       "<table border=\"1\" class=\"dataframe\">\n",
       "  <thead>\n",
       "    <tr style=\"text-align: right;\">\n",
       "      <th></th>\n",
       "      <th>StockCode</th>\n",
       "      <th>qty_descriptions</th>\n",
       "    </tr>\n",
       "  </thead>\n",
       "  <tbody>\n",
       "    <tr>\n",
       "      <th>1966</th>\n",
       "      <td>23196</td>\n",
       "      <td>4</td>\n",
       "    </tr>\n",
       "    <tr>\n",
       "      <th>2006</th>\n",
       "      <td>23236</td>\n",
       "      <td>4</td>\n",
       "    </tr>\n",
       "    <tr>\n",
       "      <th>2867</th>\n",
       "      <td>17107D</td>\n",
       "      <td>3</td>\n",
       "    </tr>\n",
       "    <tr>\n",
       "      <th>2010</th>\n",
       "      <td>23240</td>\n",
       "      <td>3</td>\n",
       "    </tr>\n",
       "    <tr>\n",
       "      <th>1973</th>\n",
       "      <td>23203</td>\n",
       "      <td>3</td>\n",
       "    </tr>\n",
       "    <tr>\n",
       "      <th>1564</th>\n",
       "      <td>22776</td>\n",
       "      <td>3</td>\n",
       "    </tr>\n",
       "    <tr>\n",
       "      <th>2162</th>\n",
       "      <td>23413</td>\n",
       "      <td>3</td>\n",
       "    </tr>\n",
       "    <tr>\n",
       "      <th>2145</th>\n",
       "      <td>23396</td>\n",
       "      <td>3</td>\n",
       "    </tr>\n",
       "    <tr>\n",
       "      <th>1897</th>\n",
       "      <td>23126</td>\n",
       "      <td>3</td>\n",
       "    </tr>\n",
       "    <tr>\n",
       "      <th>1718</th>\n",
       "      <td>22937</td>\n",
       "      <td>3</td>\n",
       "    </tr>\n",
       "  </tbody>\n",
       "</table>\n",
       "</div>"
      ],
      "text/plain": [
       "     StockCode  qty_descriptions\n",
       "1966     23196                 4\n",
       "2006     23236                 4\n",
       "2867    17107D                 3\n",
       "2010     23240                 3\n",
       "1973     23203                 3\n",
       "1564     22776                 3\n",
       "2162     23413                 3\n",
       "2145     23396                 3\n",
       "1897     23126                 3\n",
       "1718     22937                 3"
      ]
     },
     "execution_count": 47,
     "metadata": {},
     "output_type": "execute_result"
    }
   ],
   "source": [
    "# 4.3. Volver a crear el objeto pdct_gb que indica los StockCodes con Descriptions duplicados\n",
    "pdct_gb = products.groupby(by=[\"StockCode\"])\\\n",
    "                  .agg({'Description':'nunique'})\\\n",
    "                  .rename(columns={'Description':'qty_descriptions'})\\\n",
    "                  .reset_index()\\\n",
    "                  .sort_values(by='qty_descriptions', ascending=False)\n",
    "pdct_gb.head(10)"
   ]
  },
  {
   "cell_type": "code",
   "execution_count": 48,
   "id": "b73d5065",
   "metadata": {},
   "outputs": [
    {
     "name": "stdout",
     "output_type": "stream",
     "text": [
      "<class 'pandas.core.frame.DataFrame'>\n",
      "Int64Index: 3570 entries, 6 to 152578\n",
      "Data columns (total 2 columns):\n",
      " #   Column       Non-Null Count  Dtype \n",
      "---  ------       --------------  ----- \n",
      " 0   StockCode    3570 non-null   object\n",
      " 1   Description  3570 non-null   object\n",
      "dtypes: object(2)\n",
      "memory usage: 83.7+ KB\n"
     ]
    }
   ],
   "source": [
    "# 4.4 Se elimina de la lista de productos aquellos que tienen más de una descripción asociado a un StockCode\n",
    "products = products[~products['StockCode'].isin(pdct_gb[pdct_gb['qty_descriptions'] > 1]['StockCode'].unique())]\n",
    "products.info()"
   ]
  },
  {
   "cell_type": "code",
   "execution_count": 49,
   "id": "2b078a0f",
   "metadata": {},
   "outputs": [],
   "source": [
    "# 4.5 Nos creamos un dataframe solo con los StockCodes que tienen más de un Description\n",
    "stock_codes_w_more_1_description = pd.DataFrame(pdct_gb[pdct_gb['qty_descriptions'] > 1]['StockCode'].unique(),\n",
    "                                                columns=['StockCode'])"
   ]
  },
  {
   "cell_type": "code",
   "execution_count": 50,
   "id": "eae3b62a",
   "metadata": {},
   "outputs": [],
   "source": [
    "# 4.6. Mergeamos con el dataframe df1 trayendo el campo Description\n",
    "stock_codes_w_more_1_description = pd.merge(stock_codes_w_more_1_description['StockCode'],\n",
    "                                            df1[['StockCode','Description']],\n",
    "                                            how='left',\n",
    "                                            on = 'StockCode')"
   ]
  },
  {
   "cell_type": "code",
   "execution_count": 51,
   "id": "a8108042",
   "metadata": {},
   "outputs": [
    {
     "data": {
      "text/html": [
       "<div>\n",
       "<style scoped>\n",
       "    .dataframe tbody tr th:only-of-type {\n",
       "        vertical-align: middle;\n",
       "    }\n",
       "\n",
       "    .dataframe tbody tr th {\n",
       "        vertical-align: top;\n",
       "    }\n",
       "\n",
       "    .dataframe thead th {\n",
       "        text-align: right;\n",
       "    }\n",
       "</style>\n",
       "<table border=\"1\" class=\"dataframe\">\n",
       "  <thead>\n",
       "    <tr style=\"text-align: right;\">\n",
       "      <th></th>\n",
       "      <th>StockCode</th>\n",
       "      <th>Description</th>\n",
       "    </tr>\n",
       "  </thead>\n",
       "  <tbody>\n",
       "    <tr>\n",
       "      <th>0</th>\n",
       "      <td>23196</td>\n",
       "      <td>RETRO LEAVES MAGNETIC NOTEPAD</td>\n",
       "    </tr>\n",
       "    <tr>\n",
       "      <th>1</th>\n",
       "      <td>23196</td>\n",
       "      <td>RETRO LEAVES MAGNETIC NOTEPAD</td>\n",
       "    </tr>\n",
       "    <tr>\n",
       "      <th>2</th>\n",
       "      <td>23196</td>\n",
       "      <td>RETRO LEAVES MAGNETIC NOTEPAD</td>\n",
       "    </tr>\n",
       "    <tr>\n",
       "      <th>3</th>\n",
       "      <td>23196</td>\n",
       "      <td>RETRO LEAVES MAGNETIC NOTEPAD</td>\n",
       "    </tr>\n",
       "    <tr>\n",
       "      <th>4</th>\n",
       "      <td>23196</td>\n",
       "      <td>RETO LEAVES MAGNETIC SHOPPING LIST</td>\n",
       "    </tr>\n",
       "    <tr>\n",
       "      <th>...</th>\n",
       "      <td>...</td>\n",
       "      <td>...</td>\n",
       "    </tr>\n",
       "    <tr>\n",
       "      <th>33510</th>\n",
       "      <td>71053</td>\n",
       "      <td>WHITE METAL LANTERN</td>\n",
       "    </tr>\n",
       "    <tr>\n",
       "      <th>33511</th>\n",
       "      <td>71053</td>\n",
       "      <td>WHITE METAL LANTERN</td>\n",
       "    </tr>\n",
       "    <tr>\n",
       "      <th>33512</th>\n",
       "      <td>71053</td>\n",
       "      <td>WHITE METAL LANTERN</td>\n",
       "    </tr>\n",
       "    <tr>\n",
       "      <th>33513</th>\n",
       "      <td>71053</td>\n",
       "      <td>WHITE METAL LANTERN</td>\n",
       "    </tr>\n",
       "    <tr>\n",
       "      <th>33514</th>\n",
       "      <td>71053</td>\n",
       "      <td>WHITE METAL LANTERN</td>\n",
       "    </tr>\n",
       "  </tbody>\n",
       "</table>\n",
       "<p>33515 rows × 2 columns</p>\n",
       "</div>"
      ],
      "text/plain": [
       "      StockCode                         Description\n",
       "0         23196       RETRO LEAVES MAGNETIC NOTEPAD\n",
       "1         23196       RETRO LEAVES MAGNETIC NOTEPAD\n",
       "2         23196       RETRO LEAVES MAGNETIC NOTEPAD\n",
       "3         23196       RETRO LEAVES MAGNETIC NOTEPAD\n",
       "4         23196  RETO LEAVES MAGNETIC SHOPPING LIST\n",
       "...         ...                                 ...\n",
       "33510     71053                 WHITE METAL LANTERN\n",
       "33511     71053                 WHITE METAL LANTERN\n",
       "33512     71053                 WHITE METAL LANTERN\n",
       "33513     71053                 WHITE METAL LANTERN\n",
       "33514     71053                 WHITE METAL LANTERN\n",
       "\n",
       "[33515 rows x 2 columns]"
      ]
     },
     "execution_count": 51,
     "metadata": {},
     "output_type": "execute_result"
    }
   ],
   "source": [
    "stock_codes_w_more_1_description"
   ]
  },
  {
   "cell_type": "code",
   "execution_count": 52,
   "id": "e2673361",
   "metadata": {},
   "outputs": [],
   "source": [
    "# 4.7. Eliminamos los duplicados generados por el merge del paso anterior\n",
    "stock_codes_w_more_1_description.drop_duplicates(inplace=True)"
   ]
  },
  {
   "cell_type": "code",
   "execution_count": 53,
   "id": "fb0c8577",
   "metadata": {},
   "outputs": [
    {
     "data": {
      "text/plain": [
       "array(['RETRO LEAVES MAGNETIC NOTEPAD',\n",
       "       'RETO LEAVES MAGNETIC SHOPPING LIST',\n",
       "       'LEAVES MAGNETIC  SHOPPING LIST', 'VINTAGE LEAF MAGNETIC NOTEPAD',\n",
       "       'DOILEY STORAGE TIN', 'DOILEY BISCUIT TIN',\n",
       "       'STORAGE TIN VINTAGE DOILEY ', 'STORAGE TIN VINTAGE DOILY ',\n",
       "       \"FLOWER FAIRY,5 SUMMER B'DRAW LINERS\",\n",
       "       'FLOWER FAIRY 5 DRAWER LINERS',\n",
       "       'FLOWER FAIRY 5 SUMMER DRAW LINERS',\n",
       "       'SET OF 4 KNICK KNACK TINS DOILEY ',\n",
       "       'SET OF 4 KNICK KNACK TINS DOILY ',\n",
       "       'SET OF 4 KNICK KNACK TINS  DOILEY ', 'JUMBO BAG DOILEY PATTERNS',\n",
       "       'JUMBO BAG VINTAGE DOILEY ', 'JUMBO BAG VINTAGE DOILY ',\n",
       "       'SWEETHEART CAKESTAND 3 TIER', 'CAKESTAND, 3 TIER, LOVEHEART',\n",
       "       'SWEETHEART 3 TIER CAKE STAND ', 'VINTAGE COFFEE GRINDER BOX',\n",
       "       'DECROTIVEVINTAGE COFFEE GRINDER BOX',\n",
       "       'DECORATIVE VINTAGE COFFEE  BOX', 'BUTTERFLY CUSHION COVER',\n",
       "       'LA JARDIN BOTANIQUE CUSHION COVER',\n",
       "       'LE JARDIN BOTANIQUE CUSHION COVER', 'DOLLCRAFT GIRL AMELIE KIT',\n",
       "       'FELTCRAFT GIRL AMELIE KIT', 'DOLLCRAFT GIRL AMELIE',\n",
       "       'BAKING MOULD CHOCOLATE CUPCAKES',\n",
       "       'BAKING MOULD CHOCOLATE CUP CAKES',\n",
       "       'BAKING MOULD CUPCAKE CHOCOLATE', 'WRAP DOILEY DESIGN',\n",
       "       'WRAP  VINTAGE DOILEY ', 'WRAP  VINTAGE DOILY ',\n",
       "       'BICYCLE SAFTEY WALL ART', 'WALL ART BICYCLE SAFTEY ',\n",
       "       'WALL ART BICYCLE SAFETY', 'LUNCH BAG DOILEY PATTERN ',\n",
       "       'LUNCH BAG VINTAGE DOILY ', 'LUNCH BAG VINTAGE DOILEY ',\n",
       "       'ROUND STORAGE TIN VINTAGE LEAF', 'CANNISTER VINTAGE LEAF DESIGN',\n",
       "       'STORAGE TIN VINTAGE LEAF', 'CHILDRENS CUTLERY SPACEBOY ',\n",
       "       'KIDS CUTLERY SPACEBOY ', 'KEY FOB , GARAGE DESIGN',\n",
       "       'GARAGE KEY FOB', 'SPOTTY BUNTING', 'BUNTING , SPOTTY ',\n",
       "       'FOOD COVER WITH BEADS SET 2 ',\n",
       "       'FOOD COVER WITH BEADS , SET 2 SIZES', 'GINGHAM ROSE WRAP',\n",
       "       'WRAP GINGHAM ROSE ', 'WRAP, BILLBOARD FONTS DESIGN',\n",
       "       'WRAP BILLBOARD FONTS DESIGN', 'DRAWER KNOB CRACKLE GLAZE IVORY',\n",
       "       'DOORKNOB CRACKED GLAZE IVORY', 'VINTAGE RED ENAMEL TRIM MUG ',\n",
       "       'ENAMEL MUG PANTRY', 'TREASURE AHOY WALL ART',\n",
       "       'WALL ART TREASURE AHOY ', 'PINK 3 PIECE POLKADOT CUTLERY SET',\n",
       "       'CHILDRENS CUTLERY POLKADOT PINK', 'HORSE & PONY WALL ART',\n",
       "       'WALL ART HORSE & PONY ', 'VINTAGE RED TRIM ENAMEL BOWL ',\n",
       "       'ENAMEL BOWL PANTRY', \"PINK B'FLY C/COVER W BOBBLES\",\n",
       "       'PINK BUTTERFLY CUSHION COVER',\n",
       "       'RED 3 PIECE RETROSPOT CUTLERY SET',\n",
       "       'CHILDRENS CUTLERY RETROSPOT RED ',\n",
       "       'SET OF 36 DOILIES PANTRY DESIGN',\n",
       "       'SET OF 36 PANTRY PAPER DOILIES',\n",
       "       'GREEN 3 PIECE POLKADOT CUTLERY SET',\n",
       "       'CHILDRENS CUTLERY POLKADOT GREEN ', 'SMALL POP BOX,FUNKY MONKEY',\n",
       "       'SMALL POP BOX FUNKY MONKEY', 'BLUE 3 PIECE POLKADOT CUTLERY SET',\n",
       "       'CHILDRENS CUTLERY POLKADOT BLUE', 'KEEP CALM BIRTHDAY WRAP',\n",
       "       'WRAP KEEP CALM BIRTHDAY', \"CHILDREN'S SPACEBOY MUG\",\n",
       "       'CHILDRENS SPACEBOY MUG', 'MONEY BOX FIRST ADE DESIGN',\n",
       "       'MONEY BOX FIRST AID DESIGN', 'DOG AND BALL WALL ART',\n",
       "       'WALL ART DOG AND BALL ', 'WRAP RED DOILEY',\n",
       "       'WRAP RED VINTAGE DOILY', 'NO SINGING METAL SIGN',\n",
       "       'N0 SINGING METAL SIGN', 'VINTAGE RED ENAMEL TRIM JUG ',\n",
       "       'ENAMEL JUG PANTRY', 'BREAD BIN DINER STYLE IVORY',\n",
       "       'BREAD BIN, DINER STYLE, IVORY', 'CHILDRENS CUTLERY DOLLY GIRL ',\n",
       "       'KIDS CUTLERY DOLLY GIRL ', 'GLASS  SONGBIRD STORAGE JAR',\n",
       "       'GLASS SONGBIRD STORAGE JAR', 'BREAD BIN DINER STYLE MINT',\n",
       "       'BREAD BIN, DINER STYLE, MINT', 'PACK/12 XMAS FUN CARD',\n",
       "       'PACK OF 12 CHRISTMAS FUN CARDS',\n",
       "       'CHRISTMAS TABLE CANDLE SILVER SPIKE',\n",
       "       'CHRISTMAS TABLE SILVER CANDLE SPIKE',\n",
       "       '16 PIECE CUTLERY SET PANTRY DESIGN',\n",
       "       '16 PC CUTLERY SET PANTRY DESIGN',\n",
       "       'FOLDING BUTTERFLY MIRROR HOT PINK ', 'FOLDING MIRROR HOT PINK ',\n",
       "       'FOLDING BUTTERFLY MIRROR RED  ', 'FOLDING MIRROR RED  ',\n",
       "       'FOLDING BUTTERFLY MIRROR IVORY ', 'FOLDING MIRROR IVORY ',\n",
       "       'CAT AND BIRD WALL ART', 'WALL ART CAT AND BIRD ',\n",
       "       'DOORMAT VINTAGE LEAVES DESIGN ', 'DOORMAT VINTAGE LEAF',\n",
       "       'WOOD S/3 CABINET ANT WHITE FINISH',\n",
       "       '3 DRAWER ANTIQUE WHITE WOOD CABINET',\n",
       "       'DRAWER KNOB CRACKLE GLAZE BLUE', 'DOORKNOB CRACKED GLAZE BLUE',\n",
       "       'SWISS ROLL TOWEL, PINK  SPOTS', 'SWISS ROLL TOWEL PINK  SPOTS',\n",
       "       'LARGE CAKE TOWEL, CHOCOLATE SPOTS',\n",
       "       'LARGE CAKE TOWEL CHOCOLATE SPOTS',\n",
       "       'DRAWER KNOB CRACKLE GLAZE GREEN', 'DOORKNOB CRACKED GLAZE GREEN',\n",
       "       'ANTIQUE SILVER TEA GLASS ETCHED', 'ANTIQUE SILVER T-LIGHT GLASS',\n",
       "       'SPACE BOY CHILDRENS CUP', 'SPACEBOY CHILDRENS CUP',\n",
       "       'TRAVEL CARD WALLET RETRO PETALS',\n",
       "       'TRAVEL CARD WALLET VINTAGE LEAF',\n",
       "       'DRAWER KNOB CRACKLE GLAZE PINK', 'DOORKNOB CRACKED GLAZE PINK',\n",
       "       'S/4 VALENTINE DECOUPAGE HEART BOX',\n",
       "       'SET 4 VALENTINE DECOUPAGE HEART BOX', \"WALL ART LOVES' SECRET \",\n",
       "       \"WALL ART , LOVES' SECRET \", 'SPACEBOY MINI BACKPACK',\n",
       "       'SPACEBOY MINI RUCKSACK', 'MINT DINER WALL CLOCK',\n",
       "       'MINT DINER CLOCK', 'BAKING MOULD TOFFEE CUP CHOCOLATE',\n",
       "       'BAKING MOULD TOFFEE CUP  CHOCOLATE',\n",
       "       'FAIRY TALE COTTAGE NIGHTLIGHT', 'FAIRY TALE COTTAGE NIGHT LIGHT',\n",
       "       'STOP FOR TEA WALL ART', 'WALL ART STOP FOR TEA ',\n",
       "       'VILLAGE SHOW WALL ART', 'WALL ART VILLAGE SHOW ',\n",
       "       'PACK OF 12 VINTAGE DOILY TISSUES', 'PACK OF 12 DOILEY TISSUES',\n",
       "       'SILVER/BLACK ORBIT NECKLACE', 'SILVER AND BLACK ORBIT NECKLACE',\n",
       "       'GOLD M PEARL  ORBIT NECKLACE', 'GOLD M.O.P. ORBIT NECKLACE',\n",
       "       'SILVER/MOP ORBIT NECKLACE', 'SILVER M.O.P. ORBIT NECKLACE',\n",
       "       'I LOVE LONDON WALL ART', 'WALL ART I LOVE LONDON ',\n",
       "       ' SET 2 TEA TOWELS I LOVE LONDON ',\n",
       "       'SET 2 TEA TOWELS I LOVE LONDON ', 'VINYL RECORD FRAME SILVER',\n",
       "       'SILVER RECORD COVER FRAME', 'JUMBO BAG SCANDINAVIAN PAISLEY',\n",
       "       'JUMBO BAG SCANDINAVIAN BLUE PAISLEY',\n",
       "       'WALL ART THE MAGIC FOREST ', 'WALL ART , THE MAGIC FOREST ',\n",
       "       'WALL ART CLASSIC PUDDINGS ', 'WALL ART ,PUDDINGS ',\n",
       "       'SMOKEY GREY COLOUR D.O.F. GLASS', 'SMOKEY GREY COLOUR GLASS',\n",
       "       'TUMBLER, NEW ENGLAND', 'TUMBLER NEW ENGLAND', 'TUMBLER, BAROQUE',\n",
       "       'TUMBLER BAROQUE', \"70'S ALPHABET WALL ART\",\n",
       "       \"WALL ART 70'S ALPHABET \", 'SET OF 12 T-LIGHTS VINTAGE DOILEY',\n",
       "       'SET OF 12 T-LIGHTS VINTAGE DOILY', 'SET 8 CANDLES VINTAGE DOILEY',\n",
       "       'SET 8 CANDLES VINTAGE DOILY', 'KEEP CALM WALL ART ',\n",
       "       'WALL ART KEEP CALM ', 'SET 12 COLOURING PENCILS DOILY',\n",
       "       'SET 12 COLOUR PENCILS DOILEY', 'DOLLY GIRL MINI BACKPACK',\n",
       "       'DOLLY GIRL MINI RUCKSACK', 'APRON APPLE DELIGHT',\n",
       "       'ADULT APRON APPLE DELIGHT', 'DECORATION , WOBBLY CHICKEN, METAL ',\n",
       "       'DECORATION WOBBLY CHICKEN', 'DECORATION , WOBBLY RABBIT , METAL ',\n",
       "       'DECORATION WOBBLY RABBIT METAL ', 'VINTAGE RED ENAMEL TRIM PLATE',\n",
       "       'ENAMEL DINNER PLATE PANTRY', '3 TRADITIONAL COOKIE CUTTERS  SET',\n",
       "       '3 TRADITIONAl BISCUIT CUTTERS  SET', 'PINK HORSE SOCK PUPPET',\n",
       "       'PINK HORSE SOCK PUPPET KIT', 'JAM JAR WITH GREEN LID',\n",
       "       'JAM JAR WITH BLUE LID', 'HEN HOUSE W CHICK STANDING',\n",
       "       'HEN HOUSE WITH CHICK STANDING', 'HOME SWEEET HOME 3 PEG HANGER ',\n",
       "       'HOME SWEET HOME 3 PEG HANGER ', 'ACRYLIC JEWEL SNOWFLAKE,PINK',\n",
       "       'PINK ACRYLIC JEWEL SNOWFLAKE', 'FLOWER PURPLE CLOCK W/SUCKER',\n",
       "       'FLOWER PURPLE CLOCK WITH SUCKER',\n",
       "       'RUSTIC STRAWBERRY JAMPOT LARGE ',\n",
       "       'RUSTIC STRAWBERRY JAM POT LARGE ',\n",
       "       'RUSTIC STRAWBERRY JAMPOT SMALL',\n",
       "       'RUSTIC STRAWBERRY JAM POT SMALL', 'BUFFALO BILL WALL ART ',\n",
       "       'WALL ART BUFFALO BILL ', 'DOG LICENCE WALL ART',\n",
       "       'WALL ART DOG LICENCE ', '60 CAKE CASES VINTAGE CHRISTMAS',\n",
       "       '72 CAKE CASES VINTAGE CHRISTMAS', 'ANIMALS AND NATURE WALL ART',\n",
       "       'WALL ART ANIMALS AND NATURE ', '36 DOILIES VINTAGE CHRISTMAS',\n",
       "       'SET OF 36 VINTAGE CHRISTMAS DOILIES', '36 DOILIES DOLLY GIRL',\n",
       "       'SET OF 36 DOLLY GIRL PAPER DOILIES', 'SPACEBOY WALL ART',\n",
       "       'WALL ART SPACEBOY', 'DOLLY GIRL WALL ART', 'WALL ART DOLLY GIRL ',\n",
       "       'WALL ART ONLY ONE PERSON ', 'WALL ART,ONLY ONE PERSON ',\n",
       "       'JARDIN ETCHED GLASS BUTTER DISH',\n",
       "       'JARDIN ETCHED GLASS CHEESE DISH',\n",
       "       'DECORATION HEN ON NEST, HANGING',\n",
       "       'HANGING HEN ON NEST DECORATION',\n",
       "       'EASTER DECORATION SITTING BUNNY', 'DECORATION SITTING BUNNY',\n",
       "       'SET 36 COLOUR PENCILS DOILEY', 'SET 36 COLOURING PENCILS DOILY',\n",
       "       'STRAWBERRY CERAMIC TRINKET BOX', 'STRAWBERRY CERAMIC TRINKET POT',\n",
       "       'ZINC HERB GARDEN CONTAINER', 'METAL HERB GERDEN CONTAINER',\n",
       "       'ZINC HEARTS PLANT POT HOLDER', 'ZINC PLANT POT HOLDER',\n",
       "       'IVORY PANTRY HANGING LAMP ', 'IVORY CAFE HANGING LAMP ',\n",
       "       'BELL HEART DECORATION', 'JINGLE BELL HEART DECORATION',\n",
       "       'GLASS CLOCHE SMALL', 'GLASS BELL JAR SMALL',\n",
       "       'CHARLOTTE BAG VINTAGE ALPHABET ',\n",
       "       'CHARLOTTE BAG ALPHABET  DESIGN', 'GLASS BELL JAR LARGE',\n",
       "       'GLASS CLOCHE LARGE', 'GIN + TONIC DIET METAL SIGN',\n",
       "       'GIN AND TONIC DIET METAL SIGN', 'GARLAND, VINTAGE BELLS',\n",
       "       'VINTAGE BELLS GARLAND', 'LARGE PARLOUR PICTURE FRAME',\n",
       "       'LARGE PARLOUR FRAME', 'MEDIUM PARLOUR PICTURE FRAME ',\n",
       "       'MEDIUM PARLOUR FRAME ', 'SMALL POPCORN HOLDER', 'POPCORN HOLDER',\n",
       "       'HEART WREATH DECORATION WITH BELL',\n",
       "       'PAINTED HEART WREATH WITH BELL', 'SMALL PARLOUR PICTURE FRAME',\n",
       "       'SMALL PARLOUR FRAME', 'JINGLE BELL HEART ANTIQUE GOLD',\n",
       "       'BELL HEART ANTIQUE GOLD', 'ZINC  STAR T-LIGHT HOLDER ',\n",
       "       'ZINC STAR T-LIGHT HOLDER ', 'SET OF 3 MINI HANGING PORTRAITS',\n",
       "       'THREE MINI HANGING FRAMES', 'LUNCH BAG SUKI  DESIGN ',\n",
       "       'LUNCH BAG SUKI DESIGN ', 'WHITE HANGING HEART T-LIGHT HOLDER',\n",
       "       'CREAM HANGING HEART T-LIGHT HOLDER',\n",
       "       'GREEN METAL BOX ARMY SUPPLIES', 'GREEN METAL BOX TOP SECRET',\n",
       "       'JUNGLE POPSICLES ICE LOLLY HOLDERS',\n",
       "       'JUNGLE POPSICLES ICE LOLLY MOULDS', 'WHITE WIRE PLANT POT HOLDER',\n",
       "       'WHITE HEARTS WIRE PLANT POT HOLDER', 'LED TEA LIGHTS',\n",
       "       'PACK OF SIX LED TEA LIGHTS', 'ROCOCO WALL MIRROR WHITE',\n",
       "       'ROCOCO WALL MIROR', 'VIPPASSPORT COVER ', 'VIP PASSPORT COVER ',\n",
       "       'MISTLETOE HEART WREATH CREAM', 'MISELTOE HEART WREATH WHITE',\n",
       "       'HANGING JAM JAR T-LIGHT HOLDER',\n",
       "       'HANGING JAM JAR T-LIGHT HOLDERS', 'FELTCRAFT BOY JEAN-PAUL KIT',\n",
       "       'DOLLCRAFT BOY JEAN-PAUL ', 'DOLLCRAFT GIRL NICOLE',\n",
       "       'FELTCRAFT GIRL NICOLE KIT', 'ELEPHANT, BIRTHDAY CARD, ',\n",
       "       'ELEPHANT BIRTHDAY CARD ', 'CHRISTMAS RETROSPOT HEART WOOD',\n",
       "       'RETROSPOT WOODEN HEART DECORATION', 'WRAP, CAROUSEL',\n",
       "       'WRAP CAROUSEL', 'COLOUR GLASS. STAR T-LIGHT HOLDER',\n",
       "       'COLOURED GLASS STAR T-LIGHT HOLDER',\n",
       "       'VINTAGE  2 METER FOLDING RULER', 'VINTAGE  2 METRE FOLDING RULER',\n",
       "       'TUSCAN VILLA FEEDING STATION', 'TUSCAN VILLA BIRD FEEDER',\n",
       "       'PACK 3 BOXES CHRISTMAS PANNETONE',\n",
       "       'PACK 3 BOXES CHRISTMAS PANETTONE', 'BUNDLE OF 3 RETRO NOTE BOOKS',\n",
       "       'BUNDLE OF 3 RETRO EXERCISE BOOKS', 'PACK 3 BOXES BIRD PANNETONE ',\n",
       "       'PACK 3 BOXES BIRD PANETTONE ', 'SET 10 LIGHTS NIGHT OWL',\n",
       "       'SET 10 NIGHT OWL LIGHTS', 'GYMKHANNA TREASURE BOOK BOX',\n",
       "       'GYMKHANA TREASURE BOOK BOX', 'SKETCHBOOK MAGNETIC SHOPPING LIST',\n",
       "       'VEGETABLE MAGNETIC  SHOPPING LIST', 'TUSCAN VILLA DOVECOTE',\n",
       "       'TUSCAN VILLA DOVECOTE BIRD FEEDER', 'ASS COL CIRCLE MOBILE ',\n",
       "       'ASSORTED COLOURED CIRCLE MOBILE ',\n",
       "       'SET OF 36 DOILIES SPACEBOY DESIGN ',\n",
       "       'SET OF 36 SPACEBOY PAPER DOILIES', 'TOADSTOOL BEDSIDE LIGHT ',\n",
       "       ' TOADSTOOL BEDSIDE LIGHT ', 'CHRISTMAS MUSICAL ZINC HEART ',\n",
       "       'MUSICAL ZINC HEART DECORATION ',\n",
       "       'MINIATURE ANTIQUE ROSE HOOK IVORY',\n",
       "       'MINITURE ANTIQUE ROSE HOOK IVORY', ' RED SPOT GIFT BAG LARGE',\n",
       "       'GIFT BAG LARGE SPOT ', 'CLASSIC SUGAR DISPENSER',\n",
       "       'CLASSIC CAFE SUGAR DISPENSER',\n",
       "       'CHRISTMAS HANGING HEART WITH BELL', 'HANGING HEART WITH BELL',\n",
       "       'FLOWERS CHANDELIER T-LIGHT HOLDER',\n",
       "       'CRYSTAL CHANDELIER T-LIGHT HOLDER',\n",
       "       'HEART TRELLISTRIPLE T-LIGHT HOLDER',\n",
       "       'HEART TRELLIS TRIPLE T-LIGHT HOLDER',\n",
       "       'PLAYING CARDS VINTAGE DOILEY ', 'PLAYING CARDS VINTAGE DOILY ',\n",
       "       'PACK OF 6 PANNETONE GIFT BOXES', 'PACK OF 6 PANETTONE GIFT BOXES',\n",
       "       'BISCUIT TIN VINTAGE LEAF', 'SET OF 4 KNICK KNACK TINS LEAVES ',\n",
       "       'SET OF 4 KNICK KNACK TINS LEAF', \" 50'S CHRISTMAS GIFT BAG LARGE\",\n",
       "       \"GIFT BAG LARGE 50'S CHRISTMAS\",\n",
       "       'GEMSTONE CHANDELIER T-LIGHT HOLDER',\n",
       "       'BEADED CHANDELIER T-LIGHT HOLDER', 'GLITTER CHRISTMAS HEART ',\n",
       "       'GLITTER HEART DECORATION', 'PAPER LANTERN 5 POINT SEQUIN STAR',\n",
       "       'PAPER LANTERN 5 POINT STUDDED STAR',\n",
       "       'GIFT BAG LARGE VINTAGE CHRISTMAS',\n",
       "       'VINTAGE CHRISTMAS GIFT BAG LARGE ',\n",
       "       'PAPER LANTERN 5 POINT STAR MOON 30',\n",
       "       'PAPER LANTERN 5 POINT STAR MOON ',\n",
       "       'PAPER LANTERN 9 POINT HOLLY STAR S',\n",
       "       'PAPER LANTERN 9 POINT HOLLY STAR 23',\n",
       "       'PAPER LANTERN 9 POINT HOLLY STAR 40',\n",
       "       'PAPER LANTERN 9 POINT HOLLY STAR L',\n",
       "       'PAPER LANTERN 9 POINT SNOW STAR',\n",
       "       'PAPER LANTERN 6 POINT SNOW STAR',\n",
       "       'PAPER LANTERN 9 POINT SNOW STAR ', 'CLASSIC GLASS COOKIE JAR',\n",
       "       'CLASSIC GLASS SWEET JAR', 'MISTLETOE HEART WREATH GREEN',\n",
       "       'MISELTOE HEART WREATH ', 'WRAP VINTAGE PETALS  DESIGN',\n",
       "       'WRAP VINTAGE LEAF DESIGN', 'CLASSIC CHROME BICYCLE BELL ',\n",
       "       'CLASSIC CROME BICYCLE BELL ', 'CHRISTMAS GINGHAM HEART',\n",
       "       'GINGHAM HEART DECORATION', 'HAND WARMER RED POLKA DOT',\n",
       "       'HAND WARMER RED RETROSPOT', 'ALUMINIUM STAMPED HEART',\n",
       "       'ALUMINIUM HEART', 'LADLE LOVE HEART RED ',\n",
       "       'MINI LADLE LOVE HEART RED ', 'VINTAGE EMBOSSED HEART',\n",
       "       'VINTAGE ENGRAVED HEART', 'VINTAGE DONKEY TAIL GAME ',\n",
       "       'DONKEY TAIL GAME ', 'SMALL DECO JEWELLERY STAND',\n",
       "       'SMALL JEWELLERY STAND', 'PINK  POLKADOT PLATE ',\n",
       "       'PINK POLKADOT PLATE ', 'SQUARECUSHION COVER PINK UNION FLAG',\n",
       "       'SQUARECUSHION COVER PINK UNION JACK', 'LADLE LOVE HEART PINK',\n",
       "       'MINI LADLE LOVE HEART PINK', 'LARGE DECO JEWELLERY STAND',\n",
       "       'LARGE JEWELLERY STAND', 'ZINC T-LIGHT HOLDER STAR LARGE',\n",
       "       'ZINC T-LIGHT HOLDER STARS LARGE',\n",
       "       'CANDLEHOLDER PINK HANGING HEART',\n",
       "       'PINK HANGING HEART T-LIGHT HOLDER',\n",
       "       'PARTY CONES CANDY TREE DECORATION',\n",
       "       'PARTY CONES CANDY DECORATION', 'DOUBLE CERAMIC PARLOUR HOOK',\n",
       "       'PARLOUR CERAMIC WALL HOOK', 'WHITE METAL LANTERN',\n",
       "       'WHITE MOROCCAN METAL LANTERN'], dtype=object)"
      ]
     },
     "execution_count": 53,
     "metadata": {},
     "output_type": "execute_result"
    }
   ],
   "source": [
    "stock_codes_w_more_1_description[\"Description\"].unique()"
   ]
  },
  {
   "cell_type": "code",
   "execution_count": 54,
   "id": "91509114",
   "metadata": {},
   "outputs": [
    {
     "data": {
      "text/html": [
       "<div>\n",
       "<style scoped>\n",
       "    .dataframe tbody tr th:only-of-type {\n",
       "        vertical-align: middle;\n",
       "    }\n",
       "\n",
       "    .dataframe tbody tr th {\n",
       "        vertical-align: top;\n",
       "    }\n",
       "\n",
       "    .dataframe thead th {\n",
       "        text-align: right;\n",
       "    }\n",
       "</style>\n",
       "<table border=\"1\" class=\"dataframe\">\n",
       "  <thead>\n",
       "    <tr style=\"text-align: right;\">\n",
       "      <th></th>\n",
       "      <th>StockCode</th>\n",
       "      <th>Description</th>\n",
       "      <th>duplicates</th>\n",
       "    </tr>\n",
       "  </thead>\n",
       "  <tbody>\n",
       "    <tr>\n",
       "      <th>25303</th>\n",
       "      <td>20622</td>\n",
       "      <td>VIPPASSPORT COVER</td>\n",
       "      <td>1</td>\n",
       "    </tr>\n",
       "    <tr>\n",
       "      <th>25325</th>\n",
       "      <td>20622</td>\n",
       "      <td>VIP PASSPORT COVER</td>\n",
       "      <td>2</td>\n",
       "    </tr>\n",
       "    <tr>\n",
       "      <th>10730</th>\n",
       "      <td>21109</td>\n",
       "      <td>LARGE CAKE TOWEL, CHOCOLATE SPOTS</td>\n",
       "      <td>1</td>\n",
       "    </tr>\n",
       "    <tr>\n",
       "      <th>10734</th>\n",
       "      <td>21109</td>\n",
       "      <td>LARGE CAKE TOWEL CHOCOLATE SPOTS</td>\n",
       "      <td>2</td>\n",
       "    </tr>\n",
       "    <tr>\n",
       "      <th>10414</th>\n",
       "      <td>21112</td>\n",
       "      <td>SWISS ROLL TOWEL, PINK  SPOTS</td>\n",
       "      <td>1</td>\n",
       "    </tr>\n",
       "    <tr>\n",
       "      <th>...</th>\n",
       "      <td>...</td>\n",
       "      <td>...</td>\n",
       "      <td>...</td>\n",
       "    </tr>\n",
       "    <tr>\n",
       "      <th>13071</th>\n",
       "      <td>90014A</td>\n",
       "      <td>SILVER M.O.P. ORBIT NECKLACE</td>\n",
       "      <td>2</td>\n",
       "    </tr>\n",
       "    <tr>\n",
       "      <th>13055</th>\n",
       "      <td>90014B</td>\n",
       "      <td>GOLD M PEARL  ORBIT NECKLACE</td>\n",
       "      <td>1</td>\n",
       "    </tr>\n",
       "    <tr>\n",
       "      <th>13061</th>\n",
       "      <td>90014B</td>\n",
       "      <td>GOLD M.O.P. ORBIT NECKLACE</td>\n",
       "      <td>2</td>\n",
       "    </tr>\n",
       "    <tr>\n",
       "      <th>13052</th>\n",
       "      <td>90014C</td>\n",
       "      <td>SILVER/BLACK ORBIT NECKLACE</td>\n",
       "      <td>1</td>\n",
       "    </tr>\n",
       "    <tr>\n",
       "      <th>13054</th>\n",
       "      <td>90014C</td>\n",
       "      <td>SILVER AND BLACK ORBIT NECKLACE</td>\n",
       "      <td>2</td>\n",
       "    </tr>\n",
       "  </tbody>\n",
       "</table>\n",
       "<p>424 rows × 3 columns</p>\n",
       "</div>"
      ],
      "text/plain": [
       "      StockCode                        Description  duplicates\n",
       "25303     20622                 VIPPASSPORT COVER            1\n",
       "25325     20622                VIP PASSPORT COVER            2\n",
       "10730     21109  LARGE CAKE TOWEL, CHOCOLATE SPOTS           1\n",
       "10734     21109   LARGE CAKE TOWEL CHOCOLATE SPOTS           2\n",
       "10414     21112      SWISS ROLL TOWEL, PINK  SPOTS           1\n",
       "...         ...                                ...         ...\n",
       "13071    90014A       SILVER M.O.P. ORBIT NECKLACE           2\n",
       "13055    90014B       GOLD M PEARL  ORBIT NECKLACE           1\n",
       "13061    90014B         GOLD M.O.P. ORBIT NECKLACE           2\n",
       "13052    90014C        SILVER/BLACK ORBIT NECKLACE           1\n",
       "13054    90014C    SILVER AND BLACK ORBIT NECKLACE           2\n",
       "\n",
       "[424 rows x 3 columns]"
      ]
     },
     "execution_count": 54,
     "metadata": {},
     "output_type": "execute_result"
    }
   ],
   "source": [
    "# 4.8. Se crea una columna \"duplicates\" que va rankeando por StockCode\n",
    "stock_codes_w_more_1_description['duplicates'] = stock_codes_w_more_1_description.groupby(['StockCode']).cumcount()+1\n",
    "stock_codes_w_more_1_description.sort_values(by=['StockCode','duplicates'])"
   ]
  },
  {
   "cell_type": "code",
   "execution_count": 55,
   "id": "f47b2b9e",
   "metadata": {},
   "outputs": [],
   "source": [
    "# 4.9 Elminamos los duplicados (quedando solo con \"duplicates\" = 1) y borramos la columna \"duplicates\"\n",
    "stock_codes_w_more_1_description = stock_codes_w_more_1_description[stock_codes_w_more_1_description['duplicates']==1].copy()\n",
    "stock_codes_w_more_1_description.drop(labels=['duplicates'],\n",
    "                                      axis=1,\n",
    "                                      inplace=True)"
   ]
  },
  {
   "cell_type": "code",
   "execution_count": 56,
   "id": "445f2b92",
   "metadata": {},
   "outputs": [
    {
     "name": "stdout",
     "output_type": "stream",
     "text": [
      "<class 'pandas.core.frame.DataFrame'>\n",
      "Int64Index: 204 entries, 0 to 33245\n",
      "Data columns (total 2 columns):\n",
      " #   Column       Non-Null Count  Dtype \n",
      "---  ------       --------------  ----- \n",
      " 0   StockCode    204 non-null    object\n",
      " 1   Description  204 non-null    object\n",
      "dtypes: object(2)\n",
      "memory usage: 4.8+ KB\n"
     ]
    }
   ],
   "source": [
    "stock_codes_w_more_1_description.info()"
   ]
  },
  {
   "cell_type": "code",
   "execution_count": 57,
   "id": "6ea48e17",
   "metadata": {},
   "outputs": [
    {
     "name": "stdout",
     "output_type": "stream",
     "text": [
      "<class 'pandas.core.frame.DataFrame'>\n",
      "Int64Index: 3774 entries, 6 to 33245\n",
      "Data columns (total 2 columns):\n",
      " #   Column       Non-Null Count  Dtype \n",
      "---  ------       --------------  ----- \n",
      " 0   StockCode    3774 non-null   object\n",
      " 1   Description  3774 non-null   object\n",
      "dtypes: object(2)\n",
      "memory usage: 88.5+ KB\n"
     ]
    }
   ],
   "source": [
    "# 4.10. Unimos el dataset products (que solo tenía sin duplicados en Description)\n",
    "# con este nuevo dataset stock_codes_w_more_1_description que dejamos sin duplicados\n",
    "products_without_duplicates = pd.concat([products, stock_codes_w_more_1_description])\n",
    "products_without_duplicates.info()"
   ]
  },
  {
   "cell_type": "code",
   "execution_count": 58,
   "id": "d0326415",
   "metadata": {
    "scrolled": true
   },
   "outputs": [
    {
     "name": "stdout",
     "output_type": "stream",
     "text": [
      "<class 'pandas.core.frame.DataFrame'>\n",
      "Int64Index: 366749 entries, 0 to 366748\n",
      "Data columns (total 8 columns):\n",
      " #   Column       Non-Null Count   Dtype         \n",
      "---  ------       --------------   -----         \n",
      " 0   StockCode    366749 non-null  object        \n",
      " 1   Description  366749 non-null  object        \n",
      " 2   InvoiceNo    366749 non-null  object        \n",
      " 3   Quantity     366749 non-null  int64         \n",
      " 4   InvoiceDate  366749 non-null  datetime64[ns]\n",
      " 5   UnitPrice    366749 non-null  float64       \n",
      " 6   CustomerID   345953 non-null  float64       \n",
      " 7   Country      366749 non-null  object        \n",
      "dtypes: datetime64[ns](1), float64(2), int64(1), object(4)\n",
      "memory usage: 25.2+ MB\n"
     ]
    }
   ],
   "source": [
    "df2 = pd.merge(products_without_duplicates,\n",
    "               df1,\n",
    "               how='inner',\n",
    "               on = ['Description','StockCode'])\n",
    "df2.info()"
   ]
  },
  {
   "cell_type": "code",
   "execution_count": 59,
   "id": "6d6ba204",
   "metadata": {
    "scrolled": true
   },
   "outputs": [
    {
     "name": "stdout",
     "output_type": "stream",
     "text": [
      "<class 'pandas.core.frame.DataFrame'>\n",
      "Int64Index: 361763 entries, 0 to 366748\n",
      "Data columns (total 8 columns):\n",
      " #   Column       Non-Null Count   Dtype         \n",
      "---  ------       --------------   -----         \n",
      " 0   StockCode    361763 non-null  object        \n",
      " 1   Description  361763 non-null  object        \n",
      " 2   InvoiceNo    361763 non-null  object        \n",
      " 3   Quantity     361763 non-null  int64         \n",
      " 4   InvoiceDate  361763 non-null  datetime64[ns]\n",
      " 5   UnitPrice    361763 non-null  float64       \n",
      " 6   CustomerID   340989 non-null  float64       \n",
      " 7   Country      361763 non-null  object        \n",
      "dtypes: datetime64[ns](1), float64(2), int64(1), object(4)\n",
      "memory usage: 24.8+ MB\n"
     ]
    }
   ],
   "source": [
    "df2.drop_duplicates(inplace=True)\n",
    "df2.info()"
   ]
  },
  {
   "cell_type": "code",
   "execution_count": 60,
   "id": "5c7a24df",
   "metadata": {},
   "outputs": [
    {
     "data": {
      "text/html": [
       "<div>\n",
       "<style scoped>\n",
       "    .dataframe tbody tr th:only-of-type {\n",
       "        vertical-align: middle;\n",
       "    }\n",
       "\n",
       "    .dataframe tbody tr th {\n",
       "        vertical-align: top;\n",
       "    }\n",
       "\n",
       "    .dataframe thead th {\n",
       "        text-align: right;\n",
       "    }\n",
       "</style>\n",
       "<table border=\"1\" class=\"dataframe\">\n",
       "  <thead>\n",
       "    <tr style=\"text-align: right;\">\n",
       "      <th></th>\n",
       "      <th>StockCode</th>\n",
       "      <th>qty_descriptions</th>\n",
       "    </tr>\n",
       "  </thead>\n",
       "  <tbody>\n",
       "    <tr>\n",
       "      <th>0</th>\n",
       "      <td>10002</td>\n",
       "      <td>1</td>\n",
       "    </tr>\n",
       "    <tr>\n",
       "      <th>2520</th>\n",
       "      <td>84352</td>\n",
       "      <td>1</td>\n",
       "    </tr>\n",
       "    <tr>\n",
       "      <th>2508</th>\n",
       "      <td>84051</td>\n",
       "      <td>1</td>\n",
       "    </tr>\n",
       "    <tr>\n",
       "      <th>2509</th>\n",
       "      <td>84077</td>\n",
       "      <td>1</td>\n",
       "    </tr>\n",
       "    <tr>\n",
       "      <th>2510</th>\n",
       "      <td>84192</td>\n",
       "      <td>1</td>\n",
       "    </tr>\n",
       "    <tr>\n",
       "      <th>2511</th>\n",
       "      <td>84199</td>\n",
       "      <td>1</td>\n",
       "    </tr>\n",
       "    <tr>\n",
       "      <th>2512</th>\n",
       "      <td>84212</td>\n",
       "      <td>1</td>\n",
       "    </tr>\n",
       "    <tr>\n",
       "      <th>2513</th>\n",
       "      <td>84218</td>\n",
       "      <td>1</td>\n",
       "    </tr>\n",
       "    <tr>\n",
       "      <th>2514</th>\n",
       "      <td>84226</td>\n",
       "      <td>1</td>\n",
       "    </tr>\n",
       "    <tr>\n",
       "      <th>2515</th>\n",
       "      <td>84227</td>\n",
       "      <td>1</td>\n",
       "    </tr>\n",
       "  </tbody>\n",
       "</table>\n",
       "</div>"
      ],
      "text/plain": [
       "     StockCode  qty_descriptions\n",
       "0        10002                 1\n",
       "2520     84352                 1\n",
       "2508     84051                 1\n",
       "2509     84077                 1\n",
       "2510     84192                 1\n",
       "2511     84199                 1\n",
       "2512     84212                 1\n",
       "2513     84218                 1\n",
       "2514     84226                 1\n",
       "2515     84227                 1"
      ]
     },
     "execution_count": 60,
     "metadata": {},
     "output_type": "execute_result"
    }
   ],
   "source": [
    "pdct_gb = df2[['StockCode','Description']].groupby(by=[\"StockCode\"])\\\n",
    "                                          .agg({'Description':'nunique'})\\\n",
    "                                          .rename(columns={'Description':'qty_descriptions'})\\\n",
    "                                          .reset_index()\\\n",
    "                                          .sort_values(by='qty_descriptions', ascending=False)\n",
    "pdct_gb.head(10)"
   ]
  },
  {
   "cell_type": "code",
   "execution_count": 61,
   "id": "35b55ebb",
   "metadata": {},
   "outputs": [],
   "source": [
    "# 4. Guardamos el dataset como model_input para usar en el siguiente notebook\n",
    "df2.to_csv('C:/Users/josefina.lin/Documents/Master/10-Trabajo Final/datasets/model_input.csv', index = False)"
   ]
  }
 ],
 "metadata": {
  "kernelspec": {
   "display_name": "Python 3 (ipykernel)",
   "language": "python",
   "name": "python3"
  },
  "language_info": {
   "codemirror_mode": {
    "name": "ipython",
    "version": 3
   },
   "file_extension": ".py",
   "mimetype": "text/x-python",
   "name": "python",
   "nbconvert_exporter": "python",
   "pygments_lexer": "ipython3",
   "version": "3.8.5"
  }
 },
 "nbformat": 4,
 "nbformat_minor": 5
}
