{
 "cells": [
  {
   "cell_type": "markdown",
   "id": "f9e37a2d",
   "metadata": {},
   "source": [
    "# Recomendar productos según el carrito de compras del usuario\n",
    "\n",
    "### Objetivo\n",
    "\n",
    "Incrementar el Basket Size (tamaño del carrito de compras) de los usuarios mejorando la experiencia de compra a través de la recomendación de productos que tienen alta probabilidad de comprarse en conjunto, en base a reglas de asociación."
   ]
  },
  {
   "cell_type": "markdown",
   "id": "32bbe612",
   "metadata": {},
   "source": [
    "## Importar librerías"
   ]
  },
  {
   "cell_type": "code",
   "execution_count": 1,
   "id": "e6773caa",
   "metadata": {
    "scrolled": true
   },
   "outputs": [],
   "source": [
    "import time\n",
    "from datetime import datetime\n",
    "import numpy as np\n",
    "import pandas as pd"
   ]
  },
  {
   "cell_type": "code",
   "execution_count": 2,
   "id": "7f45a77a",
   "metadata": {
    "scrolled": true
   },
   "outputs": [],
   "source": [
    "orders = pd.read_csv('C:/Users/josefina.lin/Documents/Master/10-Trabajo Final/datasets/model_input.csv')"
   ]
  },
  {
   "cell_type": "code",
   "execution_count": 3,
   "id": "6fc74afa",
   "metadata": {
    "scrolled": true
   },
   "outputs": [
    {
     "data": {
      "text/html": [
       "<div>\n",
       "<style scoped>\n",
       "    .dataframe tbody tr th:only-of-type {\n",
       "        vertical-align: middle;\n",
       "    }\n",
       "\n",
       "    .dataframe tbody tr th {\n",
       "        vertical-align: top;\n",
       "    }\n",
       "\n",
       "    .dataframe thead th {\n",
       "        text-align: right;\n",
       "    }\n",
       "</style>\n",
       "<table border=\"1\" class=\"dataframe\">\n",
       "  <thead>\n",
       "    <tr style=\"text-align: right;\">\n",
       "      <th></th>\n",
       "      <th>StockCode</th>\n",
       "      <th>Description</th>\n",
       "      <th>InvoiceNo</th>\n",
       "      <th>Quantity</th>\n",
       "      <th>InvoiceDate</th>\n",
       "      <th>UnitPrice</th>\n",
       "      <th>CustomerID</th>\n",
       "      <th>Country</th>\n",
       "    </tr>\n",
       "  </thead>\n",
       "  <tbody>\n",
       "    <tr>\n",
       "      <th>0</th>\n",
       "      <td>21730</td>\n",
       "      <td>GLASS STAR FROSTED T-LIGHT HOLDER</td>\n",
       "      <td>536365</td>\n",
       "      <td>6</td>\n",
       "      <td>2010-12-01 08:26:00</td>\n",
       "      <td>4.25</td>\n",
       "      <td>17850.0</td>\n",
       "      <td>United Kingdom</td>\n",
       "    </tr>\n",
       "    <tr>\n",
       "      <th>1</th>\n",
       "      <td>21730</td>\n",
       "      <td>GLASS STAR FROSTED T-LIGHT HOLDER</td>\n",
       "      <td>536373</td>\n",
       "      <td>6</td>\n",
       "      <td>2010-12-01 09:02:00</td>\n",
       "      <td>4.25</td>\n",
       "      <td>17850.0</td>\n",
       "      <td>United Kingdom</td>\n",
       "    </tr>\n",
       "    <tr>\n",
       "      <th>2</th>\n",
       "      <td>21730</td>\n",
       "      <td>GLASS STAR FROSTED T-LIGHT HOLDER</td>\n",
       "      <td>536375</td>\n",
       "      <td>6</td>\n",
       "      <td>2010-12-01 09:32:00</td>\n",
       "      <td>4.25</td>\n",
       "      <td>17850.0</td>\n",
       "      <td>United Kingdom</td>\n",
       "    </tr>\n",
       "    <tr>\n",
       "      <th>3</th>\n",
       "      <td>21730</td>\n",
       "      <td>GLASS STAR FROSTED T-LIGHT HOLDER</td>\n",
       "      <td>536396</td>\n",
       "      <td>6</td>\n",
       "      <td>2010-12-01 10:51:00</td>\n",
       "      <td>4.25</td>\n",
       "      <td>17850.0</td>\n",
       "      <td>United Kingdom</td>\n",
       "    </tr>\n",
       "    <tr>\n",
       "      <th>4</th>\n",
       "      <td>21730</td>\n",
       "      <td>GLASS STAR FROSTED T-LIGHT HOLDER</td>\n",
       "      <td>536406</td>\n",
       "      <td>6</td>\n",
       "      <td>2010-12-01 11:33:00</td>\n",
       "      <td>4.25</td>\n",
       "      <td>17850.0</td>\n",
       "      <td>United Kingdom</td>\n",
       "    </tr>\n",
       "  </tbody>\n",
       "</table>\n",
       "</div>"
      ],
      "text/plain": [
       "  StockCode                        Description InvoiceNo  Quantity  \\\n",
       "0     21730  GLASS STAR FROSTED T-LIGHT HOLDER    536365         6   \n",
       "1     21730  GLASS STAR FROSTED T-LIGHT HOLDER    536373         6   \n",
       "2     21730  GLASS STAR FROSTED T-LIGHT HOLDER    536375         6   \n",
       "3     21730  GLASS STAR FROSTED T-LIGHT HOLDER    536396         6   \n",
       "4     21730  GLASS STAR FROSTED T-LIGHT HOLDER    536406         6   \n",
       "\n",
       "           InvoiceDate  UnitPrice  CustomerID         Country  \n",
       "0  2010-12-01 08:26:00       4.25     17850.0  United Kingdom  \n",
       "1  2010-12-01 09:02:00       4.25     17850.0  United Kingdom  \n",
       "2  2010-12-01 09:32:00       4.25     17850.0  United Kingdom  \n",
       "3  2010-12-01 10:51:00       4.25     17850.0  United Kingdom  \n",
       "4  2010-12-01 11:33:00       4.25     17850.0  United Kingdom  "
      ]
     },
     "execution_count": 3,
     "metadata": {},
     "output_type": "execute_result"
    }
   ],
   "source": [
    "orders.head()"
   ]
  },
  {
   "cell_type": "code",
   "execution_count": 4,
   "id": "69d33ee8",
   "metadata": {
    "scrolled": true
   },
   "outputs": [],
   "source": [
    "orders.drop([\"CustomerID\",\"Quantity\",\"UnitPrice\",\"InvoiceDate\"],\n",
    "            axis=1,\n",
    "           inplace=True)"
   ]
  },
  {
   "cell_type": "markdown",
   "id": "b73e2855",
   "metadata": {},
   "source": [
    "## Inspeccionar la data"
   ]
  },
  {
   "cell_type": "code",
   "execution_count": 5,
   "id": "ed269abb",
   "metadata": {
    "scrolled": true
   },
   "outputs": [
    {
     "name": "stdout",
     "output_type": "stream",
     "text": [
      "<class 'pandas.core.frame.DataFrame'>\n",
      "RangeIndex: 379115 entries, 0 to 379114\n",
      "Data columns (total 4 columns):\n",
      " #   Column       Non-Null Count   Dtype \n",
      "---  ------       --------------   ----- \n",
      " 0   StockCode    379115 non-null  object\n",
      " 1   Description  379115 non-null  object\n",
      " 2   InvoiceNo    379115 non-null  object\n",
      " 3   Country      379115 non-null  object\n",
      "dtypes: object(4)\n",
      "memory usage: 11.6+ MB\n"
     ]
    }
   ],
   "source": [
    "orders.info()"
   ]
  },
  {
   "cell_type": "code",
   "execution_count": 6,
   "id": "52251912",
   "metadata": {
    "scrolled": true
   },
   "outputs": [],
   "source": [
    "### Identificamos las columnas que son categóricas\n",
    "\n",
    "CATEGORICAL_COLUMNS = ['InvoiceNo',\n",
    "                       'StockCode',\n",
    "                       'Description', \n",
    "                       'Country'\n",
    "                      ]\n",
    "orders[CATEGORICAL_COLUMNS] = orders[CATEGORICAL_COLUMNS].astype('object')"
   ]
  },
  {
   "cell_type": "code",
   "execution_count": 7,
   "id": "4fe4dbda",
   "metadata": {
    "scrolled": false
   },
   "outputs": [
    {
     "data": {
      "text/html": [
       "<div>\n",
       "<style scoped>\n",
       "    .dataframe tbody tr th:only-of-type {\n",
       "        vertical-align: middle;\n",
       "    }\n",
       "\n",
       "    .dataframe tbody tr th {\n",
       "        vertical-align: top;\n",
       "    }\n",
       "\n",
       "    .dataframe thead th {\n",
       "        text-align: right;\n",
       "    }\n",
       "</style>\n",
       "<table border=\"1\" class=\"dataframe\">\n",
       "  <thead>\n",
       "    <tr style=\"text-align: right;\">\n",
       "      <th></th>\n",
       "      <th>InvoiceNo</th>\n",
       "      <th>StockCode</th>\n",
       "      <th>Description</th>\n",
       "      <th>Country</th>\n",
       "    </tr>\n",
       "  </thead>\n",
       "  <tbody>\n",
       "    <tr>\n",
       "      <th>count</th>\n",
       "      <td>379115</td>\n",
       "      <td>379115</td>\n",
       "      <td>379115</td>\n",
       "      <td>379115</td>\n",
       "    </tr>\n",
       "    <tr>\n",
       "      <th>unique</th>\n",
       "      <td>18476</td>\n",
       "      <td>3778</td>\n",
       "      <td>3673</td>\n",
       "      <td>3</td>\n",
       "    </tr>\n",
       "    <tr>\n",
       "      <th>top</th>\n",
       "      <td>576339</td>\n",
       "      <td>85123A</td>\n",
       "      <td>WHITE HANGING HEART T-LIGHT HOLDER</td>\n",
       "      <td>United Kingdom</td>\n",
       "    </tr>\n",
       "    <tr>\n",
       "      <th>freq</th>\n",
       "      <td>519</td>\n",
       "      <td>1964</td>\n",
       "      <td>1997</td>\n",
       "      <td>361763</td>\n",
       "    </tr>\n",
       "  </tbody>\n",
       "</table>\n",
       "</div>"
      ],
      "text/plain": [
       "       InvoiceNo StockCode                         Description         Country\n",
       "count     379115    379115                              379115          379115\n",
       "unique     18476      3778                                3673               3\n",
       "top       576339    85123A  WHITE HANGING HEART T-LIGHT HOLDER  United Kingdom\n",
       "freq         519      1964                                1997          361763"
      ]
     },
     "execution_count": 7,
     "metadata": {},
     "output_type": "execute_result"
    }
   ],
   "source": [
    "orders[CATEGORICAL_COLUMNS].describe()"
   ]
  },
  {
   "cell_type": "markdown",
   "id": "72e869e2",
   "metadata": {},
   "source": [
    "## Implementación de las Reglas de Asociación"
   ]
  },
  {
   "cell_type": "code",
   "execution_count": 8,
   "id": "8b027695",
   "metadata": {},
   "outputs": [],
   "source": [
    "from mlxtend.preprocessing import TransactionEncoder\n",
    "from mlxtend.frequent_patterns import apriori, association_rules, fpgrowth"
   ]
  },
  {
   "cell_type": "code",
   "execution_count": 9,
   "id": "5c673345",
   "metadata": {
    "scrolled": false
   },
   "outputs": [],
   "source": [
    "import networkx as nx\n",
    "from pyvis.network import Network"
   ]
  },
  {
   "cell_type": "markdown",
   "id": "ff40068d",
   "metadata": {},
   "source": [
    "El __soporte__ indica qué tan popular es un artículo, es decir, cuán frecuente aparece en las compras. El umbral lo tenemos que determinar nostotros, por ejemplo, si lo seteamos en 0.5 entonces nos quedaeremos solo con aquellos que ocurren juntos por lo menos el 5% de las veces. Cuanto más bajo sea mayor combinaciones de artícuilos lograremos y por lo tanto más cantidad de recomendaciones y este es nuestro objetivo."
   ]
  },
  {
   "cell_type": "markdown",
   "id": "e3a0ad43",
   "metadata": {},
   "source": [
    "### Helper Functions"
   ]
  },
  {
   "cell_type": "code",
   "execution_count": 10,
   "id": "52a817be",
   "metadata": {
    "scrolled": true
   },
   "outputs": [],
   "source": [
    "def perform_rule_calculation(transact_items_matrix, rule_type=\"fpgrowth\", min_support=0.005):\n",
    "    \"\"\"\n",
    "    desc: this function performs the association rule calculation \n",
    "    @params:\n",
    "        - transact_items_matrix: the transaction X Items matrix\n",
    "        - rule_type: \n",
    "                    - apriori or Growth algorithms (default=\"fpgrowth\")\n",
    "                    \n",
    "        - min_support: minimum support threshold value (default = 0.005)\n",
    "        \n",
    "    @returns:\n",
    "        - the matrix containing 3 columns:\n",
    "            - support: support values for each combination of items\n",
    "            - itemsets: the combination of items\n",
    "            - number_of_items: the number of items in each combination of items\n",
    "            \n",
    "        - the excution time for the corresponding algorithm\n",
    "        \n",
    "    \"\"\"\n",
    "    start_time = 0\n",
    "    total_execution = 0\n",
    "    \n",
    "    if(not rule_type==\"fpgrowth\"):\n",
    "        start_time = time.time()\n",
    "        rule_items = apriori(transact_items_matrix, \n",
    "                       min_support=min_support, \n",
    "                       use_colnames=True)\n",
    "        total_execution = time.time() - start_time\n",
    "        print(\"Computed Apriori!\")\n",
    "        \n",
    "    else:\n",
    "        start_time = time.time()\n",
    "        rule_items = fpgrowth(transact_items_matrix, \n",
    "                       min_support=min_support, \n",
    "                       use_colnames=True)\n",
    "        total_execution = time.time() - start_time\n",
    "        print(\"Computed Fp Growth!\")\n",
    "    \n",
    "    rule_items['number_of_items'] = rule_items['itemsets'].apply(lambda x: len(x))\n",
    "    \n",
    "    return rule_items, total_execution"
   ]
  },
  {
   "cell_type": "code",
   "execution_count": 11,
   "id": "1e3fecdc",
   "metadata": {
    "scrolled": true
   },
   "outputs": [],
   "source": [
    "def compute_association_rule(rule_matrix, metric=\"lift\", min_thresh=1):\n",
    "    \"\"\"\n",
    "    @desc: Compute the final association rule\n",
    "    @params:\n",
    "        - rule_matrix: the corresponding algorithms matrix\n",
    "        - metric: the metric to be used (default is lift)\n",
    "        - min_thresh: the minimum threshold (default is 1)\n",
    "        \n",
    "    @returns:\n",
    "        - rules: all the information for each transaction satisfying the given metric & threshold\n",
    "    \"\"\"\n",
    "    rules = association_rules(rule_matrix, \n",
    "                              metric=metric, \n",
    "                              min_threshold=min_thresh)\n",
    "    \n",
    "    return rules"
   ]
  },
  {
   "cell_type": "code",
   "execution_count": 12,
   "id": "e7fc8255",
   "metadata": {},
   "outputs": [],
   "source": [
    "# Plot Lift Vs Coverage(confidence) \n",
    "def plot_metrics_relationship(rule_matrix, col1, col2):\n",
    "    \"\"\"\n",
    "    desc: shows the relationship between the two input columns \n",
    "    @params:\n",
    "        - rule_matrix: the matrix containing the result of a rule (apriori or Fp Growth)\n",
    "        - col1: first column\n",
    "        - col2: second column\n",
    "    \"\"\"\n",
    "    fit = np.polyfit(rule_matrix[col1], rule_matrix[col2], 1)\n",
    "    fit_funt = np.poly1d(fit)\n",
    "    plt.plot(rule_matrix[col1], rule_matrix[col2], 'yo', rule_matrix[col1], \n",
    "    fit_funt(rule_matrix[col1]))\n",
    "    plt.xlabel(col1)\n",
    "    plt.ylabel(col2)\n",
    "    plt.title('{} vs {}'.format(col1, col2))"
   ]
  },
  {
   "cell_type": "code",
   "execution_count": 13,
   "id": "4bfd8476",
   "metadata": {},
   "outputs": [],
   "source": [
    "def compare_time_exec(algo1=list, alg2=list):\n",
    "    \"\"\"\n",
    "    @desc: shows the execution time between two algorithms\n",
    "    @params:\n",
    "        - algo1: list containing the description of first algorithm, where\n",
    "            \n",
    "        - algo2: list containing the description of second algorithm, where\n",
    "    \"\"\"\n",
    "    \n",
    "    execution_times = [algo1[1], algo2[1]]\n",
    "    algo_names = (algo1[0], algo2[0])\n",
    "    y=np.arange(len(algo_names))\n",
    "    \n",
    "    plt.bar(y,execution_times,color=['orange', 'blue'])\n",
    "    plt.xticks(y,algo_names)\n",
    "    plt.xlabel('Algorithms')\n",
    "    plt.ylabel('Time')\n",
    "    plt.title(\"Execution Time (seconds) Comparison\")\n",
    "    plt.show()"
   ]
  },
  {
   "cell_type": "markdown",
   "id": "8c3a9e3c",
   "metadata": {},
   "source": [
    "## Fp Growth Algorithm"
   ]
  },
  {
   "cell_type": "markdown",
   "id": "0838cd67",
   "metadata": {},
   "source": [
    "Se calcula el soporte de todo el conjunto de artículos utilizando la matriz calculada __trans_encoder_matrix__ con un soporte mínimo de 0.005. \n",
    "La  regla aplicada es del tipo \"fpgrowth\" que es la que está por default."
   ]
  },
  {
   "cell_type": "code",
   "execution_count": 14,
   "id": "cf03c9de",
   "metadata": {
    "scrolled": true
   },
   "outputs": [],
   "source": [
    "min_thresh = 1\n",
    "f_metric='lift'\n",
    "t = datetime.now().strftime(\"%Y%m%d\")"
   ]
  },
  {
   "cell_type": "code",
   "execution_count": 15,
   "id": "f6c5885e",
   "metadata": {
    "scrolled": true
   },
   "outputs": [
    {
     "name": "stdout",
     "output_type": "stream",
     "text": [
      "United Kingdom\n"
     ]
    },
    {
     "name": "stderr",
     "output_type": "stream",
     "text": [
      "C:\\Users\\josefina.lin\\AppData\\Local\\Temp\\ipykernel_24928\\2423767037.py:7: FutureWarning: In a future version of pandas, a length 1 tuple will be returned when iterating over a groupby with a grouper equal to a list of length 1. Don't supply a list with a single grouper to avoid this warning.\n",
      "  in list(orders.loc[orders.Country==country].groupby(['InvoiceNo']))]\n"
     ]
    },
    {
     "name": "stdout",
     "output_type": "stream",
     "text": [
      "France\n",
      "Germany\n"
     ]
    },
    {
     "name": "stderr",
     "output_type": "stream",
     "text": [
      "C:\\Users\\josefina.lin\\AppData\\Local\\Temp\\ipykernel_24928\\2423767037.py:7: FutureWarning: In a future version of pandas, a length 1 tuple will be returned when iterating over a groupby with a grouper equal to a list of length 1. Don't supply a list with a single grouper to avoid this warning.\n",
      "  in list(orders.loc[orders.Country==country].groupby(['InvoiceNo']))]\n",
      "C:\\Users\\josefina.lin\\AppData\\Local\\Temp\\ipykernel_24928\\2423767037.py:7: FutureWarning: In a future version of pandas, a length 1 tuple will be returned when iterating over a groupby with a grouper equal to a list of length 1. Don't supply a list with a single grouper to avoid this warning.\n",
      "  in list(orders.loc[orders.Country==country].groupby(['InvoiceNo']))]\n"
     ]
    }
   ],
   "source": [
    "for country in  list(orders.Country.unique()):\n",
    "    \n",
    "    print(country)\n",
    "    ## generamos una lista de transacciones por país\n",
    "    all_transactions = [transaction[1]['StockCode'].tolist() \n",
    "                    for transaction \n",
    "                    in list(orders.loc[orders.Country==country].groupby(['InvoiceNo']))]"
   ]
  },
  {
   "cell_type": "code",
   "execution_count": 16,
   "id": "ca5264b1",
   "metadata": {
    "scrolled": true
   },
   "outputs": [],
   "source": [
    "## Creamos la matriz de transaction encoder    \n",
    "trans_encoder = TransactionEncoder() # Instanciate the encoder\n",
    "trans_encoder_matrix = trans_encoder.fit(all_transactions).transform(all_transactions)\n",
    "trans_encoder_matrix = pd.DataFrame(trans_encoder_matrix, columns=trans_encoder.columns_)"
   ]
  },
  {
   "cell_type": "code",
   "execution_count": 17,
   "id": "ffd4cd24",
   "metadata": {},
   "outputs": [
    {
     "data": {
      "text/html": [
       "<div>\n",
       "<style scoped>\n",
       "    .dataframe tbody tr th:only-of-type {\n",
       "        vertical-align: middle;\n",
       "    }\n",
       "\n",
       "    .dataframe tbody tr th {\n",
       "        vertical-align: top;\n",
       "    }\n",
       "\n",
       "    .dataframe thead th {\n",
       "        text-align: right;\n",
       "    }\n",
       "</style>\n",
       "<table border=\"1\" class=\"dataframe\">\n",
       "  <thead>\n",
       "    <tr style=\"text-align: right;\">\n",
       "      <th></th>\n",
       "      <th>10002</th>\n",
       "      <th>10125</th>\n",
       "      <th>10135</th>\n",
       "      <th>11001</th>\n",
       "      <th>15034</th>\n",
       "      <th>15036</th>\n",
       "      <th>15039</th>\n",
       "      <th>15044A</th>\n",
       "      <th>15044B</th>\n",
       "      <th>15044D</th>\n",
       "      <th>...</th>\n",
       "      <th>90170</th>\n",
       "      <th>90173</th>\n",
       "      <th>90201A</th>\n",
       "      <th>90201B</th>\n",
       "      <th>90201C</th>\n",
       "      <th>90201D</th>\n",
       "      <th>90202D</th>\n",
       "      <th>90204</th>\n",
       "      <th>M</th>\n",
       "      <th>POST</th>\n",
       "    </tr>\n",
       "  </thead>\n",
       "  <tbody>\n",
       "    <tr>\n",
       "      <th>0</th>\n",
       "      <td>False</td>\n",
       "      <td>False</td>\n",
       "      <td>False</td>\n",
       "      <td>False</td>\n",
       "      <td>False</td>\n",
       "      <td>False</td>\n",
       "      <td>False</td>\n",
       "      <td>False</td>\n",
       "      <td>False</td>\n",
       "      <td>False</td>\n",
       "      <td>...</td>\n",
       "      <td>False</td>\n",
       "      <td>False</td>\n",
       "      <td>False</td>\n",
       "      <td>False</td>\n",
       "      <td>False</td>\n",
       "      <td>False</td>\n",
       "      <td>False</td>\n",
       "      <td>False</td>\n",
       "      <td>False</td>\n",
       "      <td>True</td>\n",
       "    </tr>\n",
       "    <tr>\n",
       "      <th>1</th>\n",
       "      <td>False</td>\n",
       "      <td>False</td>\n",
       "      <td>False</td>\n",
       "      <td>False</td>\n",
       "      <td>False</td>\n",
       "      <td>False</td>\n",
       "      <td>False</td>\n",
       "      <td>False</td>\n",
       "      <td>False</td>\n",
       "      <td>False</td>\n",
       "      <td>...</td>\n",
       "      <td>False</td>\n",
       "      <td>False</td>\n",
       "      <td>False</td>\n",
       "      <td>False</td>\n",
       "      <td>False</td>\n",
       "      <td>False</td>\n",
       "      <td>False</td>\n",
       "      <td>False</td>\n",
       "      <td>False</td>\n",
       "      <td>True</td>\n",
       "    </tr>\n",
       "    <tr>\n",
       "      <th>2</th>\n",
       "      <td>False</td>\n",
       "      <td>False</td>\n",
       "      <td>False</td>\n",
       "      <td>False</td>\n",
       "      <td>False</td>\n",
       "      <td>False</td>\n",
       "      <td>False</td>\n",
       "      <td>False</td>\n",
       "      <td>False</td>\n",
       "      <td>False</td>\n",
       "      <td>...</td>\n",
       "      <td>False</td>\n",
       "      <td>False</td>\n",
       "      <td>False</td>\n",
       "      <td>False</td>\n",
       "      <td>False</td>\n",
       "      <td>False</td>\n",
       "      <td>False</td>\n",
       "      <td>False</td>\n",
       "      <td>False</td>\n",
       "      <td>True</td>\n",
       "    </tr>\n",
       "    <tr>\n",
       "      <th>3</th>\n",
       "      <td>False</td>\n",
       "      <td>False</td>\n",
       "      <td>False</td>\n",
       "      <td>False</td>\n",
       "      <td>False</td>\n",
       "      <td>False</td>\n",
       "      <td>False</td>\n",
       "      <td>False</td>\n",
       "      <td>False</td>\n",
       "      <td>False</td>\n",
       "      <td>...</td>\n",
       "      <td>False</td>\n",
       "      <td>False</td>\n",
       "      <td>False</td>\n",
       "      <td>False</td>\n",
       "      <td>False</td>\n",
       "      <td>False</td>\n",
       "      <td>False</td>\n",
       "      <td>False</td>\n",
       "      <td>False</td>\n",
       "      <td>True</td>\n",
       "    </tr>\n",
       "    <tr>\n",
       "      <th>4</th>\n",
       "      <td>False</td>\n",
       "      <td>False</td>\n",
       "      <td>False</td>\n",
       "      <td>False</td>\n",
       "      <td>False</td>\n",
       "      <td>False</td>\n",
       "      <td>False</td>\n",
       "      <td>False</td>\n",
       "      <td>False</td>\n",
       "      <td>False</td>\n",
       "      <td>...</td>\n",
       "      <td>False</td>\n",
       "      <td>False</td>\n",
       "      <td>False</td>\n",
       "      <td>False</td>\n",
       "      <td>False</td>\n",
       "      <td>False</td>\n",
       "      <td>False</td>\n",
       "      <td>False</td>\n",
       "      <td>False</td>\n",
       "      <td>True</td>\n",
       "    </tr>\n",
       "  </tbody>\n",
       "</table>\n",
       "<p>5 rows × 1636 columns</p>\n",
       "</div>"
      ],
      "text/plain": [
       "   10002  10125  10135  11001  15034  15036  15039  15044A  15044B  15044D  \\\n",
       "0  False  False  False  False  False  False  False   False   False   False   \n",
       "1  False  False  False  False  False  False  False   False   False   False   \n",
       "2  False  False  False  False  False  False  False   False   False   False   \n",
       "3  False  False  False  False  False  False  False   False   False   False   \n",
       "4  False  False  False  False  False  False  False   False   False   False   \n",
       "\n",
       "   ...  90170  90173  90201A  90201B  90201C  90201D  90202D  90204      M  \\\n",
       "0  ...  False  False   False   False   False   False   False  False  False   \n",
       "1  ...  False  False   False   False   False   False   False  False  False   \n",
       "2  ...  False  False   False   False   False   False   False  False  False   \n",
       "3  ...  False  False   False   False   False   False   False  False  False   \n",
       "4  ...  False  False   False   False   False   False   False  False  False   \n",
       "\n",
       "   POST  \n",
       "0  True  \n",
       "1  True  \n",
       "2  True  \n",
       "3  True  \n",
       "4  True  \n",
       "\n",
       "[5 rows x 1636 columns]"
      ]
     },
     "execution_count": 17,
     "metadata": {},
     "output_type": "execute_result"
    }
   ],
   "source": [
    "trans_encoder_matrix.head()"
   ]
  },
  {
   "cell_type": "code",
   "execution_count": 19,
   "id": "6e38d5f6",
   "metadata": {},
   "outputs": [
    {
     "name": "stdout",
     "output_type": "stream",
     "text": [
      "Computed Fp Growth!\n"
     ]
    }
   ],
   "source": [
    "## Make rule calculation rule\n",
    "    \n",
    "fpgrowth_matrix, fp_growth_exec_time = perform_rule_calculation(trans_encoder_matrix)"
   ]
  },
  {
   "cell_type": "code",
   "execution_count": 20,
   "id": "58d0bbb1",
   "metadata": {
    "scrolled": true
   },
   "outputs": [
    {
     "ename": "MemoryError",
     "evalue": "Unable to allocate 1.86 GiB for an array with shape (7, 35720178) and data type float64",
     "output_type": "error",
     "traceback": [
      "\u001b[1;31m---------------------------------------------------------------------------\u001b[0m",
      "\u001b[1;31mMemoryError\u001b[0m                               Traceback (most recent call last)",
      "Cell \u001b[1;32mIn[20], line 4\u001b[0m\n\u001b[0;32m      1\u001b[0m \u001b[38;5;66;03m## Perform lift result \u001b[39;00m\n\u001b[0;32m      2\u001b[0m fp_growth_rule_lift \u001b[38;5;241m=\u001b[39m compute_association_rule(fpgrowth_matrix, metric\u001b[38;5;241m=\u001b[39mf_metric, min_thresh\u001b[38;5;241m=\u001b[39mmin_thresh)\n\u001b[1;32m----> 4\u001b[0m result_fpg_rule_lift \u001b[38;5;241m=\u001b[39m \u001b[43mfp_growth_rule_lift\u001b[49m\u001b[38;5;241;43m.\u001b[39;49m\u001b[43mexplode\u001b[49m\u001b[43m(\u001b[49m\u001b[38;5;124;43m'\u001b[39;49m\u001b[38;5;124;43mantecedents\u001b[39;49m\u001b[38;5;124;43m'\u001b[39;49m\u001b[43m,\u001b[49m\u001b[43m \u001b[49m\n\u001b[0;32m      5\u001b[0m \u001b[43m                                               \u001b[49m\u001b[43mignore_index\u001b[49m\u001b[38;5;241;43m=\u001b[39;49m\u001b[38;5;28;43;01mTrue\u001b[39;49;00m\u001b[43m)\u001b[49m\u001b[38;5;241;43m.\u001b[39;49m\u001b[43mexplode\u001b[49m\u001b[43m(\u001b[49m\u001b[38;5;124;43m'\u001b[39;49m\u001b[38;5;124;43mconsequents\u001b[39;49m\u001b[38;5;124;43m'\u001b[39;49m\u001b[43m)\u001b[49m\u001b[38;5;241m.\u001b[39mcopy()\n",
      "File \u001b[1;32m~\\Anaconda3\\lib\\site-packages\\pandas\\core\\frame.py:9037\u001b[0m, in \u001b[0;36mDataFrame.explode\u001b[1;34m(self, column, ignore_index)\u001b[0m\n\u001b[0;32m   9035\u001b[0m             \u001b[38;5;28;01mraise\u001b[39;00m \u001b[38;5;167;01mValueError\u001b[39;00m(\u001b[38;5;124m\"\u001b[39m\u001b[38;5;124mcolumns must have matching element counts\u001b[39m\u001b[38;5;124m\"\u001b[39m)\n\u001b[0;32m   9036\u001b[0m     result \u001b[38;5;241m=\u001b[39m DataFrame({c: df[c]\u001b[38;5;241m.\u001b[39mexplode() \u001b[38;5;28;01mfor\u001b[39;00m c \u001b[38;5;129;01min\u001b[39;00m columns})\n\u001b[1;32m-> 9037\u001b[0m result \u001b[38;5;241m=\u001b[39m \u001b[43mdf\u001b[49m\u001b[38;5;241;43m.\u001b[39;49m\u001b[43mdrop\u001b[49m\u001b[43m(\u001b[49m\u001b[43mcolumns\u001b[49m\u001b[43m,\u001b[49m\u001b[43m \u001b[49m\u001b[43maxis\u001b[49m\u001b[38;5;241;43m=\u001b[39;49m\u001b[38;5;241;43m1\u001b[39;49m\u001b[43m)\u001b[49m\u001b[38;5;241;43m.\u001b[39;49m\u001b[43mjoin\u001b[49m\u001b[43m(\u001b[49m\u001b[43mresult\u001b[49m\u001b[43m)\u001b[49m\n\u001b[0;32m   9038\u001b[0m \u001b[38;5;28;01mif\u001b[39;00m ignore_index:\n\u001b[0;32m   9039\u001b[0m     result\u001b[38;5;241m.\u001b[39mindex \u001b[38;5;241m=\u001b[39m default_index(\u001b[38;5;28mlen\u001b[39m(result))\n",
      "File \u001b[1;32m~\\Anaconda3\\lib\\site-packages\\pandas\\core\\frame.py:9976\u001b[0m, in \u001b[0;36mDataFrame.join\u001b[1;34m(self, other, on, how, lsuffix, rsuffix, sort, validate)\u001b[0m\n\u001b[0;32m   9813\u001b[0m \u001b[38;5;28;01mdef\u001b[39;00m \u001b[38;5;21mjoin\u001b[39m(\n\u001b[0;32m   9814\u001b[0m     \u001b[38;5;28mself\u001b[39m,\n\u001b[0;32m   9815\u001b[0m     other: DataFrame \u001b[38;5;241m|\u001b[39m Series \u001b[38;5;241m|\u001b[39m \u001b[38;5;28mlist\u001b[39m[DataFrame \u001b[38;5;241m|\u001b[39m Series],\n\u001b[1;32m   (...)\u001b[0m\n\u001b[0;32m   9821\u001b[0m     validate: \u001b[38;5;28mstr\u001b[39m \u001b[38;5;241m|\u001b[39m \u001b[38;5;28;01mNone\u001b[39;00m \u001b[38;5;241m=\u001b[39m \u001b[38;5;28;01mNone\u001b[39;00m,\n\u001b[0;32m   9822\u001b[0m ) \u001b[38;5;241m-\u001b[39m\u001b[38;5;241m>\u001b[39m DataFrame:\n\u001b[0;32m   9823\u001b[0m     \u001b[38;5;124;03m\"\"\"\u001b[39;00m\n\u001b[0;32m   9824\u001b[0m \u001b[38;5;124;03m    Join columns of another DataFrame.\u001b[39;00m\n\u001b[0;32m   9825\u001b[0m \n\u001b[1;32m   (...)\u001b[0m\n\u001b[0;32m   9974\u001b[0m \u001b[38;5;124;03m    5  K1  A5   B1\u001b[39;00m\n\u001b[0;32m   9975\u001b[0m \u001b[38;5;124;03m    \"\"\"\u001b[39;00m\n\u001b[1;32m-> 9976\u001b[0m     \u001b[38;5;28;01mreturn\u001b[39;00m \u001b[38;5;28;43mself\u001b[39;49m\u001b[38;5;241;43m.\u001b[39;49m\u001b[43m_join_compat\u001b[49m\u001b[43m(\u001b[49m\n\u001b[0;32m   9977\u001b[0m \u001b[43m        \u001b[49m\u001b[43mother\u001b[49m\u001b[43m,\u001b[49m\n\u001b[0;32m   9978\u001b[0m \u001b[43m        \u001b[49m\u001b[43mon\u001b[49m\u001b[38;5;241;43m=\u001b[39;49m\u001b[43mon\u001b[49m\u001b[43m,\u001b[49m\n\u001b[0;32m   9979\u001b[0m \u001b[43m        \u001b[49m\u001b[43mhow\u001b[49m\u001b[38;5;241;43m=\u001b[39;49m\u001b[43mhow\u001b[49m\u001b[43m,\u001b[49m\n\u001b[0;32m   9980\u001b[0m \u001b[43m        \u001b[49m\u001b[43mlsuffix\u001b[49m\u001b[38;5;241;43m=\u001b[39;49m\u001b[43mlsuffix\u001b[49m\u001b[43m,\u001b[49m\n\u001b[0;32m   9981\u001b[0m \u001b[43m        \u001b[49m\u001b[43mrsuffix\u001b[49m\u001b[38;5;241;43m=\u001b[39;49m\u001b[43mrsuffix\u001b[49m\u001b[43m,\u001b[49m\n\u001b[0;32m   9982\u001b[0m \u001b[43m        \u001b[49m\u001b[43msort\u001b[49m\u001b[38;5;241;43m=\u001b[39;49m\u001b[43msort\u001b[49m\u001b[43m,\u001b[49m\n\u001b[0;32m   9983\u001b[0m \u001b[43m        \u001b[49m\u001b[43mvalidate\u001b[49m\u001b[38;5;241;43m=\u001b[39;49m\u001b[43mvalidate\u001b[49m\u001b[43m,\u001b[49m\n\u001b[0;32m   9984\u001b[0m \u001b[43m    \u001b[49m\u001b[43m)\u001b[49m\n",
      "File \u001b[1;32m~\\Anaconda3\\lib\\site-packages\\pandas\\core\\frame.py:10015\u001b[0m, in \u001b[0;36mDataFrame._join_compat\u001b[1;34m(self, other, on, how, lsuffix, rsuffix, sort, validate)\u001b[0m\n\u001b[0;32m  10005\u001b[0m     \u001b[38;5;28;01mif\u001b[39;00m how \u001b[38;5;241m==\u001b[39m \u001b[38;5;124m\"\u001b[39m\u001b[38;5;124mcross\u001b[39m\u001b[38;5;124m\"\u001b[39m:\n\u001b[0;32m  10006\u001b[0m         \u001b[38;5;28;01mreturn\u001b[39;00m merge(\n\u001b[0;32m  10007\u001b[0m             \u001b[38;5;28mself\u001b[39m,\n\u001b[0;32m  10008\u001b[0m             other,\n\u001b[1;32m   (...)\u001b[0m\n\u001b[0;32m  10013\u001b[0m             validate\u001b[38;5;241m=\u001b[39mvalidate,\n\u001b[0;32m  10014\u001b[0m         )\n\u001b[1;32m> 10015\u001b[0m     \u001b[38;5;28;01mreturn\u001b[39;00m \u001b[43mmerge\u001b[49m\u001b[43m(\u001b[49m\n\u001b[0;32m  10016\u001b[0m \u001b[43m        \u001b[49m\u001b[38;5;28;43mself\u001b[39;49m\u001b[43m,\u001b[49m\n\u001b[0;32m  10017\u001b[0m \u001b[43m        \u001b[49m\u001b[43mother\u001b[49m\u001b[43m,\u001b[49m\n\u001b[0;32m  10018\u001b[0m \u001b[43m        \u001b[49m\u001b[43mleft_on\u001b[49m\u001b[38;5;241;43m=\u001b[39;49m\u001b[43mon\u001b[49m\u001b[43m,\u001b[49m\n\u001b[0;32m  10019\u001b[0m \u001b[43m        \u001b[49m\u001b[43mhow\u001b[49m\u001b[38;5;241;43m=\u001b[39;49m\u001b[43mhow\u001b[49m\u001b[43m,\u001b[49m\n\u001b[0;32m  10020\u001b[0m \u001b[43m        \u001b[49m\u001b[43mleft_index\u001b[49m\u001b[38;5;241;43m=\u001b[39;49m\u001b[43mon\u001b[49m\u001b[43m \u001b[49m\u001b[38;5;129;43;01mis\u001b[39;49;00m\u001b[43m \u001b[49m\u001b[38;5;28;43;01mNone\u001b[39;49;00m\u001b[43m,\u001b[49m\n\u001b[0;32m  10021\u001b[0m \u001b[43m        \u001b[49m\u001b[43mright_index\u001b[49m\u001b[38;5;241;43m=\u001b[39;49m\u001b[38;5;28;43;01mTrue\u001b[39;49;00m\u001b[43m,\u001b[49m\n\u001b[0;32m  10022\u001b[0m \u001b[43m        \u001b[49m\u001b[43msuffixes\u001b[49m\u001b[38;5;241;43m=\u001b[39;49m\u001b[43m(\u001b[49m\u001b[43mlsuffix\u001b[49m\u001b[43m,\u001b[49m\u001b[43m \u001b[49m\u001b[43mrsuffix\u001b[49m\u001b[43m)\u001b[49m\u001b[43m,\u001b[49m\n\u001b[0;32m  10023\u001b[0m \u001b[43m        \u001b[49m\u001b[43msort\u001b[49m\u001b[38;5;241;43m=\u001b[39;49m\u001b[43msort\u001b[49m\u001b[43m,\u001b[49m\n\u001b[0;32m  10024\u001b[0m \u001b[43m        \u001b[49m\u001b[43mvalidate\u001b[49m\u001b[38;5;241;43m=\u001b[39;49m\u001b[43mvalidate\u001b[49m\u001b[43m,\u001b[49m\n\u001b[0;32m  10025\u001b[0m \u001b[43m    \u001b[49m\u001b[43m)\u001b[49m\n\u001b[0;32m  10026\u001b[0m \u001b[38;5;28;01melse\u001b[39;00m:\n\u001b[0;32m  10027\u001b[0m     \u001b[38;5;28;01mif\u001b[39;00m on \u001b[38;5;129;01mis\u001b[39;00m \u001b[38;5;129;01mnot\u001b[39;00m \u001b[38;5;28;01mNone\u001b[39;00m:\n",
      "File \u001b[1;32m~\\Anaconda3\\lib\\site-packages\\pandas\\core\\reshape\\merge.py:124\u001b[0m, in \u001b[0;36mmerge\u001b[1;34m(left, right, how, on, left_on, right_on, left_index, right_index, sort, suffixes, copy, indicator, validate)\u001b[0m\n\u001b[0;32m     93\u001b[0m \u001b[38;5;129m@Substitution\u001b[39m(\u001b[38;5;124m\"\u001b[39m\u001b[38;5;130;01m\\n\u001b[39;00m\u001b[38;5;124mleft : DataFrame or named Series\u001b[39m\u001b[38;5;124m\"\u001b[39m)\n\u001b[0;32m     94\u001b[0m \u001b[38;5;129m@Appender\u001b[39m(_merge_doc, indents\u001b[38;5;241m=\u001b[39m\u001b[38;5;241m0\u001b[39m)\n\u001b[0;32m     95\u001b[0m \u001b[38;5;28;01mdef\u001b[39;00m \u001b[38;5;21mmerge\u001b[39m(\n\u001b[1;32m   (...)\u001b[0m\n\u001b[0;32m    108\u001b[0m     validate: \u001b[38;5;28mstr\u001b[39m \u001b[38;5;241m|\u001b[39m \u001b[38;5;28;01mNone\u001b[39;00m \u001b[38;5;241m=\u001b[39m \u001b[38;5;28;01mNone\u001b[39;00m,\n\u001b[0;32m    109\u001b[0m ) \u001b[38;5;241m-\u001b[39m\u001b[38;5;241m>\u001b[39m DataFrame:\n\u001b[0;32m    110\u001b[0m     op \u001b[38;5;241m=\u001b[39m _MergeOperation(\n\u001b[0;32m    111\u001b[0m         left,\n\u001b[0;32m    112\u001b[0m         right,\n\u001b[1;32m   (...)\u001b[0m\n\u001b[0;32m    122\u001b[0m         validate\u001b[38;5;241m=\u001b[39mvalidate,\n\u001b[0;32m    123\u001b[0m     )\n\u001b[1;32m--> 124\u001b[0m     \u001b[38;5;28;01mreturn\u001b[39;00m \u001b[43mop\u001b[49m\u001b[38;5;241;43m.\u001b[39;49m\u001b[43mget_result\u001b[49m\u001b[43m(\u001b[49m\u001b[43mcopy\u001b[49m\u001b[38;5;241;43m=\u001b[39;49m\u001b[43mcopy\u001b[49m\u001b[43m)\u001b[49m\n",
      "File \u001b[1;32m~\\Anaconda3\\lib\\site-packages\\pandas\\core\\reshape\\merge.py:775\u001b[0m, in \u001b[0;36m_MergeOperation.get_result\u001b[1;34m(self, copy)\u001b[0m\n\u001b[0;32m    771\u001b[0m     \u001b[38;5;28mself\u001b[39m\u001b[38;5;241m.\u001b[39mleft, \u001b[38;5;28mself\u001b[39m\u001b[38;5;241m.\u001b[39mright \u001b[38;5;241m=\u001b[39m \u001b[38;5;28mself\u001b[39m\u001b[38;5;241m.\u001b[39m_indicator_pre_merge(\u001b[38;5;28mself\u001b[39m\u001b[38;5;241m.\u001b[39mleft, \u001b[38;5;28mself\u001b[39m\u001b[38;5;241m.\u001b[39mright)\n\u001b[0;32m    773\u001b[0m join_index, left_indexer, right_indexer \u001b[38;5;241m=\u001b[39m \u001b[38;5;28mself\u001b[39m\u001b[38;5;241m.\u001b[39m_get_join_info()\n\u001b[1;32m--> 775\u001b[0m result \u001b[38;5;241m=\u001b[39m \u001b[38;5;28;43mself\u001b[39;49m\u001b[38;5;241;43m.\u001b[39;49m\u001b[43m_reindex_and_concat\u001b[49m\u001b[43m(\u001b[49m\n\u001b[0;32m    776\u001b[0m \u001b[43m    \u001b[49m\u001b[43mjoin_index\u001b[49m\u001b[43m,\u001b[49m\u001b[43m \u001b[49m\u001b[43mleft_indexer\u001b[49m\u001b[43m,\u001b[49m\u001b[43m \u001b[49m\u001b[43mright_indexer\u001b[49m\u001b[43m,\u001b[49m\u001b[43m \u001b[49m\u001b[43mcopy\u001b[49m\u001b[38;5;241;43m=\u001b[39;49m\u001b[43mcopy\u001b[49m\n\u001b[0;32m    777\u001b[0m \u001b[43m\u001b[49m\u001b[43m)\u001b[49m\n\u001b[0;32m    778\u001b[0m result \u001b[38;5;241m=\u001b[39m result\u001b[38;5;241m.\u001b[39m__finalize__(\u001b[38;5;28mself\u001b[39m, method\u001b[38;5;241m=\u001b[39m\u001b[38;5;28mself\u001b[39m\u001b[38;5;241m.\u001b[39m_merge_type)\n\u001b[0;32m    780\u001b[0m \u001b[38;5;28;01mif\u001b[39;00m \u001b[38;5;28mself\u001b[39m\u001b[38;5;241m.\u001b[39mindicator:\n",
      "File \u001b[1;32m~\\Anaconda3\\lib\\site-packages\\pandas\\core\\reshape\\merge.py:737\u001b[0m, in \u001b[0;36m_MergeOperation._reindex_and_concat\u001b[1;34m(self, join_index, left_indexer, right_indexer, copy)\u001b[0m\n\u001b[0;32m    729\u001b[0m llabels, rlabels \u001b[38;5;241m=\u001b[39m _items_overlap_with_suffix(\n\u001b[0;32m    730\u001b[0m     \u001b[38;5;28mself\u001b[39m\u001b[38;5;241m.\u001b[39mleft\u001b[38;5;241m.\u001b[39m_info_axis, \u001b[38;5;28mself\u001b[39m\u001b[38;5;241m.\u001b[39mright\u001b[38;5;241m.\u001b[39m_info_axis, \u001b[38;5;28mself\u001b[39m\u001b[38;5;241m.\u001b[39msuffixes\n\u001b[0;32m    731\u001b[0m )\n\u001b[0;32m    733\u001b[0m \u001b[38;5;28;01mif\u001b[39;00m left_indexer \u001b[38;5;129;01mis\u001b[39;00m \u001b[38;5;129;01mnot\u001b[39;00m \u001b[38;5;28;01mNone\u001b[39;00m:\n\u001b[0;32m    734\u001b[0m     \u001b[38;5;66;03m# Pinning the index here (and in the right code just below) is not\u001b[39;00m\n\u001b[0;32m    735\u001b[0m     \u001b[38;5;66;03m#  necessary, but makes the `.take` more performant if we have e.g.\u001b[39;00m\n\u001b[0;32m    736\u001b[0m     \u001b[38;5;66;03m#  a MultiIndex for left.index.\u001b[39;00m\n\u001b[1;32m--> 737\u001b[0m     lmgr \u001b[38;5;241m=\u001b[39m \u001b[43mleft\u001b[49m\u001b[38;5;241;43m.\u001b[39;49m\u001b[43m_mgr\u001b[49m\u001b[38;5;241;43m.\u001b[39;49m\u001b[43mreindex_indexer\u001b[49m\u001b[43m(\u001b[49m\n\u001b[0;32m    738\u001b[0m \u001b[43m        \u001b[49m\u001b[43mjoin_index\u001b[49m\u001b[43m,\u001b[49m\n\u001b[0;32m    739\u001b[0m \u001b[43m        \u001b[49m\u001b[43mleft_indexer\u001b[49m\u001b[43m,\u001b[49m\n\u001b[0;32m    740\u001b[0m \u001b[43m        \u001b[49m\u001b[43maxis\u001b[49m\u001b[38;5;241;43m=\u001b[39;49m\u001b[38;5;241;43m1\u001b[39;49m\u001b[43m,\u001b[49m\n\u001b[0;32m    741\u001b[0m \u001b[43m        \u001b[49m\u001b[43mcopy\u001b[49m\u001b[38;5;241;43m=\u001b[39;49m\u001b[38;5;28;43;01mFalse\u001b[39;49;00m\u001b[43m,\u001b[49m\n\u001b[0;32m    742\u001b[0m \u001b[43m        \u001b[49m\u001b[43monly_slice\u001b[49m\u001b[38;5;241;43m=\u001b[39;49m\u001b[38;5;28;43;01mTrue\u001b[39;49;00m\u001b[43m,\u001b[49m\n\u001b[0;32m    743\u001b[0m \u001b[43m        \u001b[49m\u001b[43mallow_dups\u001b[49m\u001b[38;5;241;43m=\u001b[39;49m\u001b[38;5;28;43;01mTrue\u001b[39;49;00m\u001b[43m,\u001b[49m\n\u001b[0;32m    744\u001b[0m \u001b[43m        \u001b[49m\u001b[43muse_na_proxy\u001b[49m\u001b[38;5;241;43m=\u001b[39;49m\u001b[38;5;28;43;01mTrue\u001b[39;49;00m\u001b[43m,\u001b[49m\n\u001b[0;32m    745\u001b[0m \u001b[43m    \u001b[49m\u001b[43m)\u001b[49m\n\u001b[0;32m    746\u001b[0m     left \u001b[38;5;241m=\u001b[39m left\u001b[38;5;241m.\u001b[39m_constructor(lmgr)\n\u001b[0;32m    747\u001b[0m left\u001b[38;5;241m.\u001b[39mindex \u001b[38;5;241m=\u001b[39m join_index\n",
      "File \u001b[1;32m~\\Anaconda3\\lib\\site-packages\\pandas\\core\\internals\\managers.py:753\u001b[0m, in \u001b[0;36mBaseBlockManager.reindex_indexer\u001b[1;34m(self, new_axis, indexer, axis, fill_value, allow_dups, copy, only_slice, use_na_proxy)\u001b[0m\n\u001b[0;32m    751\u001b[0m     parent \u001b[38;5;241m=\u001b[39m \u001b[38;5;28;01mNone\u001b[39;00m \u001b[38;5;28;01mif\u001b[39;00m com\u001b[38;5;241m.\u001b[39mall_none(\u001b[38;5;241m*\u001b[39mnew_refs) \u001b[38;5;28;01melse\u001b[39;00m \u001b[38;5;28mself\u001b[39m\n\u001b[0;32m    752\u001b[0m \u001b[38;5;28;01melse\u001b[39;00m:\n\u001b[1;32m--> 753\u001b[0m     new_blocks \u001b[38;5;241m=\u001b[39m [\n\u001b[0;32m    754\u001b[0m         blk\u001b[38;5;241m.\u001b[39mtake_nd(\n\u001b[0;32m    755\u001b[0m             indexer,\n\u001b[0;32m    756\u001b[0m             axis\u001b[38;5;241m=\u001b[39m\u001b[38;5;241m1\u001b[39m,\n\u001b[0;32m    757\u001b[0m             fill_value\u001b[38;5;241m=\u001b[39m(\n\u001b[0;32m    758\u001b[0m                 fill_value \u001b[38;5;28;01mif\u001b[39;00m fill_value \u001b[38;5;129;01mis\u001b[39;00m \u001b[38;5;129;01mnot\u001b[39;00m \u001b[38;5;28;01mNone\u001b[39;00m \u001b[38;5;28;01melse\u001b[39;00m blk\u001b[38;5;241m.\u001b[39mfill_value\n\u001b[0;32m    759\u001b[0m             ),\n\u001b[0;32m    760\u001b[0m         )\n\u001b[0;32m    761\u001b[0m         \u001b[38;5;28;01mfor\u001b[39;00m blk \u001b[38;5;129;01min\u001b[39;00m \u001b[38;5;28mself\u001b[39m\u001b[38;5;241m.\u001b[39mblocks\n\u001b[0;32m    762\u001b[0m     ]\n\u001b[0;32m    763\u001b[0m     new_refs \u001b[38;5;241m=\u001b[39m \u001b[38;5;28;01mNone\u001b[39;00m\n\u001b[0;32m    764\u001b[0m     parent \u001b[38;5;241m=\u001b[39m \u001b[38;5;28;01mNone\u001b[39;00m\n",
      "File \u001b[1;32m~\\Anaconda3\\lib\\site-packages\\pandas\\core\\internals\\managers.py:754\u001b[0m, in \u001b[0;36m<listcomp>\u001b[1;34m(.0)\u001b[0m\n\u001b[0;32m    751\u001b[0m     parent \u001b[38;5;241m=\u001b[39m \u001b[38;5;28;01mNone\u001b[39;00m \u001b[38;5;28;01mif\u001b[39;00m com\u001b[38;5;241m.\u001b[39mall_none(\u001b[38;5;241m*\u001b[39mnew_refs) \u001b[38;5;28;01melse\u001b[39;00m \u001b[38;5;28mself\u001b[39m\n\u001b[0;32m    752\u001b[0m \u001b[38;5;28;01melse\u001b[39;00m:\n\u001b[0;32m    753\u001b[0m     new_blocks \u001b[38;5;241m=\u001b[39m [\n\u001b[1;32m--> 754\u001b[0m         \u001b[43mblk\u001b[49m\u001b[38;5;241;43m.\u001b[39;49m\u001b[43mtake_nd\u001b[49m\u001b[43m(\u001b[49m\n\u001b[0;32m    755\u001b[0m \u001b[43m            \u001b[49m\u001b[43mindexer\u001b[49m\u001b[43m,\u001b[49m\n\u001b[0;32m    756\u001b[0m \u001b[43m            \u001b[49m\u001b[43maxis\u001b[49m\u001b[38;5;241;43m=\u001b[39;49m\u001b[38;5;241;43m1\u001b[39;49m\u001b[43m,\u001b[49m\n\u001b[0;32m    757\u001b[0m \u001b[43m            \u001b[49m\u001b[43mfill_value\u001b[49m\u001b[38;5;241;43m=\u001b[39;49m\u001b[43m(\u001b[49m\n\u001b[0;32m    758\u001b[0m \u001b[43m                \u001b[49m\u001b[43mfill_value\u001b[49m\u001b[43m \u001b[49m\u001b[38;5;28;43;01mif\u001b[39;49;00m\u001b[43m \u001b[49m\u001b[43mfill_value\u001b[49m\u001b[43m \u001b[49m\u001b[38;5;129;43;01mis\u001b[39;49;00m\u001b[43m \u001b[49m\u001b[38;5;129;43;01mnot\u001b[39;49;00m\u001b[43m \u001b[49m\u001b[38;5;28;43;01mNone\u001b[39;49;00m\u001b[43m \u001b[49m\u001b[38;5;28;43;01melse\u001b[39;49;00m\u001b[43m \u001b[49m\u001b[43mblk\u001b[49m\u001b[38;5;241;43m.\u001b[39;49m\u001b[43mfill_value\u001b[49m\n\u001b[0;32m    759\u001b[0m \u001b[43m            \u001b[49m\u001b[43m)\u001b[49m\u001b[43m,\u001b[49m\n\u001b[0;32m    760\u001b[0m \u001b[43m        \u001b[49m\u001b[43m)\u001b[49m\n\u001b[0;32m    761\u001b[0m         \u001b[38;5;28;01mfor\u001b[39;00m blk \u001b[38;5;129;01min\u001b[39;00m \u001b[38;5;28mself\u001b[39m\u001b[38;5;241m.\u001b[39mblocks\n\u001b[0;32m    762\u001b[0m     ]\n\u001b[0;32m    763\u001b[0m     new_refs \u001b[38;5;241m=\u001b[39m \u001b[38;5;28;01mNone\u001b[39;00m\n\u001b[0;32m    764\u001b[0m     parent \u001b[38;5;241m=\u001b[39m \u001b[38;5;28;01mNone\u001b[39;00m\n",
      "File \u001b[1;32m~\\Anaconda3\\lib\\site-packages\\pandas\\core\\internals\\blocks.py:880\u001b[0m, in \u001b[0;36mBlock.take_nd\u001b[1;34m(self, indexer, axis, new_mgr_locs, fill_value)\u001b[0m\n\u001b[0;32m    877\u001b[0m     allow_fill \u001b[38;5;241m=\u001b[39m \u001b[38;5;28;01mTrue\u001b[39;00m\n\u001b[0;32m    879\u001b[0m \u001b[38;5;66;03m# Note: algos.take_nd has upcast logic similar to coerce_to_target_dtype\u001b[39;00m\n\u001b[1;32m--> 880\u001b[0m new_values \u001b[38;5;241m=\u001b[39m \u001b[43malgos\u001b[49m\u001b[38;5;241;43m.\u001b[39;49m\u001b[43mtake_nd\u001b[49m\u001b[43m(\u001b[49m\n\u001b[0;32m    881\u001b[0m \u001b[43m    \u001b[49m\u001b[43mvalues\u001b[49m\u001b[43m,\u001b[49m\u001b[43m \u001b[49m\u001b[43mindexer\u001b[49m\u001b[43m,\u001b[49m\u001b[43m \u001b[49m\u001b[43maxis\u001b[49m\u001b[38;5;241;43m=\u001b[39;49m\u001b[43maxis\u001b[49m\u001b[43m,\u001b[49m\u001b[43m \u001b[49m\u001b[43mallow_fill\u001b[49m\u001b[38;5;241;43m=\u001b[39;49m\u001b[43mallow_fill\u001b[49m\u001b[43m,\u001b[49m\u001b[43m \u001b[49m\u001b[43mfill_value\u001b[49m\u001b[38;5;241;43m=\u001b[39;49m\u001b[43mfill_value\u001b[49m\n\u001b[0;32m    882\u001b[0m \u001b[43m\u001b[49m\u001b[43m)\u001b[49m\n\u001b[0;32m    884\u001b[0m \u001b[38;5;66;03m# Called from three places in managers, all of which satisfy\u001b[39;00m\n\u001b[0;32m    885\u001b[0m \u001b[38;5;66;03m#  this assertion\u001b[39;00m\n\u001b[0;32m    886\u001b[0m \u001b[38;5;28;01massert\u001b[39;00m \u001b[38;5;129;01mnot\u001b[39;00m (axis \u001b[38;5;241m==\u001b[39m \u001b[38;5;241m0\u001b[39m \u001b[38;5;129;01mand\u001b[39;00m new_mgr_locs \u001b[38;5;129;01mis\u001b[39;00m \u001b[38;5;28;01mNone\u001b[39;00m)\n",
      "File \u001b[1;32m~\\Anaconda3\\lib\\site-packages\\pandas\\core\\array_algos\\take.py:117\u001b[0m, in \u001b[0;36mtake_nd\u001b[1;34m(arr, indexer, axis, fill_value, allow_fill)\u001b[0m\n\u001b[0;32m    114\u001b[0m     \u001b[38;5;28;01mreturn\u001b[39;00m arr\u001b[38;5;241m.\u001b[39mtake(indexer, fill_value\u001b[38;5;241m=\u001b[39mfill_value, allow_fill\u001b[38;5;241m=\u001b[39mallow_fill)\n\u001b[0;32m    116\u001b[0m arr \u001b[38;5;241m=\u001b[39m np\u001b[38;5;241m.\u001b[39masarray(arr)\n\u001b[1;32m--> 117\u001b[0m \u001b[38;5;28;01mreturn\u001b[39;00m \u001b[43m_take_nd_ndarray\u001b[49m\u001b[43m(\u001b[49m\u001b[43marr\u001b[49m\u001b[43m,\u001b[49m\u001b[43m \u001b[49m\u001b[43mindexer\u001b[49m\u001b[43m,\u001b[49m\u001b[43m \u001b[49m\u001b[43maxis\u001b[49m\u001b[43m,\u001b[49m\u001b[43m \u001b[49m\u001b[43mfill_value\u001b[49m\u001b[43m,\u001b[49m\u001b[43m \u001b[49m\u001b[43mallow_fill\u001b[49m\u001b[43m)\u001b[49m\n",
      "File \u001b[1;32m~\\Anaconda3\\lib\\site-packages\\pandas\\core\\array_algos\\take.py:158\u001b[0m, in \u001b[0;36m_take_nd_ndarray\u001b[1;34m(arr, indexer, axis, fill_value, allow_fill)\u001b[0m\n\u001b[0;32m    156\u001b[0m     out \u001b[38;5;241m=\u001b[39m np\u001b[38;5;241m.\u001b[39mempty(out_shape, dtype\u001b[38;5;241m=\u001b[39mdtype, order\u001b[38;5;241m=\u001b[39m\u001b[38;5;124m\"\u001b[39m\u001b[38;5;124mF\u001b[39m\u001b[38;5;124m\"\u001b[39m)\n\u001b[0;32m    157\u001b[0m \u001b[38;5;28;01melse\u001b[39;00m:\n\u001b[1;32m--> 158\u001b[0m     out \u001b[38;5;241m=\u001b[39m \u001b[43mnp\u001b[49m\u001b[38;5;241;43m.\u001b[39;49m\u001b[43mempty\u001b[49m\u001b[43m(\u001b[49m\u001b[43mout_shape\u001b[49m\u001b[43m,\u001b[49m\u001b[43m \u001b[49m\u001b[43mdtype\u001b[49m\u001b[38;5;241;43m=\u001b[39;49m\u001b[43mdtype\u001b[49m\u001b[43m)\u001b[49m\n\u001b[0;32m    160\u001b[0m func \u001b[38;5;241m=\u001b[39m _get_take_nd_function(\n\u001b[0;32m    161\u001b[0m     arr\u001b[38;5;241m.\u001b[39mndim, arr\u001b[38;5;241m.\u001b[39mdtype, out\u001b[38;5;241m.\u001b[39mdtype, axis\u001b[38;5;241m=\u001b[39maxis, mask_info\u001b[38;5;241m=\u001b[39mmask_info\n\u001b[0;32m    162\u001b[0m )\n\u001b[0;32m    163\u001b[0m func(arr, indexer, out, fill_value)\n",
      "\u001b[1;31mMemoryError\u001b[0m: Unable to allocate 1.86 GiB for an array with shape (7, 35720178) and data type float64"
     ]
    }
   ],
   "source": [
    "## Perform lift result \n",
    "fp_growth_rule_lift = compute_association_rule(fpgrowth_matrix, metric=f_metric, min_thresh=min_thresh)\n",
    "\n",
    "result_fpg_rule_lift = fp_growth_rule_lift.explode('antecedents', \n",
    "                                                   ignore_index=True).explode('consequents').copy()"
   ]
  },
  {
   "cell_type": "code",
   "execution_count": null,
   "id": "6e15acb7",
   "metadata": {},
   "outputs": [],
   "source": [
    "## Save results product to recommend and total products by product\n",
    "recommendation_by_product = result_fpg_rule_lift[['antecedents',\n",
    "                                                  'consequents', \n",
    "                                                  'support',\n",
    "                                                  'confidence',\n",
    "                                                  'lift'\n",
    "                                                 ]]\n",
    "recommendation_by_product['Country'] = country\n",
    "\n",
    "recommendation_by_product = recommendation_by_product[['Country',\n",
    "                                                       'antecedents',\n",
    "                                                       'consequents',\n",
    "                                                       'support',\n",
    "                                                       'confidence',\n",
    "                                                       'lift'\n",
    "                                                      ]].groupby(['Country',\n",
    "                                                                  'antecedents',\n",
    "                                                                  'consequents'\n",
    "                                                                 ]).max().reset_index()"
   ]
  },
  {
   "cell_type": "code",
   "execution_count": null,
   "id": "db878728",
   "metadata": {},
   "outputs": [],
   "source": [
    "recommendation_by_product"
   ]
  },
  {
   "cell_type": "code",
   "execution_count": null,
   "id": "5e5dc3ff",
   "metadata": {
    "scrolled": true
   },
   "outputs": [],
   "source": [
    "fpgrowth_matrix, fp_growth_exec_time = perform_rule_calculation(trans_encoder_matrix) # Run the algorithm\n",
    "print(\"Fp Growth execution took: {} seconds\".format(fp_growth_exec_time))"
   ]
  },
  {
   "cell_type": "code",
   "execution_count": null,
   "id": "db854b34",
   "metadata": {
    "scrolled": true
   },
   "outputs": [],
   "source": [
    "recommendation_by_product.info()"
   ]
  },
  {
   "cell_type": "markdown",
   "id": "30cd2791",
   "metadata": {},
   "source": [
    "#### Agregamos la descripción del producto para antecedentes y consecuentes"
   ]
  },
  {
   "cell_type": "markdown",
   "id": "01b80e09",
   "metadata": {},
   "source": [
    "##### Antecedentes"
   ]
  },
  {
   "cell_type": "code",
   "execution_count": null,
   "id": "95707c8b",
   "metadata": {
    "scrolled": true
   },
   "outputs": [],
   "source": [
    "# 1. Se mergea con el dataframe orders para traer la descripción del producto\n",
    "fpg_recommendation_by_product = pd.merge(recommendation_by_product,\n",
    "                                         orders[['Description','StockCode']],\n",
    "                                         how='inner',\n",
    "                                         left_on = ['antecedents'],\n",
    "                                         right_on = ['StockCode']\n",
    "                                         )\n",
    "fpg_recommendation_by_product.drop_duplicates(inplace=True)\n",
    "fpg_recommendation_by_product.info()"
   ]
  },
  {
   "cell_type": "code",
   "execution_count": null,
   "id": "405d3879",
   "metadata": {
    "scrolled": true
   },
   "outputs": [],
   "source": [
    "# 2. Se renombra el campo a \"antecedents_description\" y se borran los campos del dataframe de orders\n",
    "fpg_recommendation_by_product['antecedents_description'] = fpg_recommendation_by_product['Description']\n",
    "fpg_recommendation_by_product.drop(['Description','StockCode'], axis=1, inplace=True)\n",
    "fpg_recommendation_by_product.info()"
   ]
  },
  {
   "cell_type": "markdown",
   "id": "991782c5",
   "metadata": {
    "collapsed": true,
    "scrolled": true
   },
   "source": [
    "##### Consecuentes"
   ]
  },
  {
   "cell_type": "code",
   "execution_count": null,
   "id": "72599d08",
   "metadata": {
    "scrolled": true
   },
   "outputs": [],
   "source": [
    "# 1. Se mergea con el dataframe orders para traer la descripción del producto\n",
    "fpg_recommendation_by_product = pd.merge(fpg_recommendation_by_product,\n",
    "                                         orders[['Description','StockCode']],\n",
    "                                         how='inner',\n",
    "                                         left_on = ['consequents'],\n",
    "                                         right_on = ['StockCode']\n",
    "                                         )\n",
    "fpg_recommendation_by_product.drop_duplicates(inplace=True)\n",
    "fpg_recommendation_by_product.info()"
   ]
  },
  {
   "cell_type": "code",
   "execution_count": null,
   "id": "c9553ff9",
   "metadata": {
    "scrolled": true
   },
   "outputs": [],
   "source": [
    "# 2. Se renombra el campo a \"consequents_description\" y se borran los campos del dataframe de orders\n",
    "fpg_recommendation_by_product['consequents_description'] = fpg_recommendation_by_product['Description']\n",
    "fpg_recommendation_by_product.drop(['Description','StockCode'], axis=1, inplace=True)\n",
    "fpg_recommendation_by_product.info()"
   ]
  },
  {
   "cell_type": "code",
   "execution_count": 27,
   "id": "e10b792a",
   "metadata": {
    "scrolled": true
   },
   "outputs": [
    {
     "data": {
      "text/html": [
       "<div>\n",
       "<style scoped>\n",
       "    .dataframe tbody tr th:only-of-type {\n",
       "        vertical-align: middle;\n",
       "    }\n",
       "\n",
       "    .dataframe tbody tr th {\n",
       "        vertical-align: top;\n",
       "    }\n",
       "\n",
       "    .dataframe thead th {\n",
       "        text-align: right;\n",
       "    }\n",
       "</style>\n",
       "<table border=\"1\" class=\"dataframe\">\n",
       "  <thead>\n",
       "    <tr style=\"text-align: right;\">\n",
       "      <th></th>\n",
       "      <th>Country</th>\n",
       "      <th>antecedents</th>\n",
       "      <th>antecedents_description</th>\n",
       "      <th>consequents</th>\n",
       "      <th>consequents_description</th>\n",
       "      <th>support</th>\n",
       "      <th>confidence</th>\n",
       "      <th>lift</th>\n",
       "    </tr>\n",
       "  </thead>\n",
       "  <tbody>\n",
       "    <tr>\n",
       "      <th>1123730</th>\n",
       "      <td>Germany</td>\n",
       "      <td>23437</td>\n",
       "      <td>50'S CHRISTMAS GIFT BAG LARGE</td>\n",
       "      <td>20719</td>\n",
       "      <td>WOODLAND CHARLOTTE BAG</td>\n",
       "      <td>0.005725</td>\n",
       "      <td>0.6</td>\n",
       "      <td>5.932075</td>\n",
       "    </tr>\n",
       "    <tr>\n",
       "      <th>5378433</th>\n",
       "      <td>Germany</td>\n",
       "      <td>23437</td>\n",
       "      <td>50'S CHRISTMAS GIFT BAG LARGE</td>\n",
       "      <td>85049G</td>\n",
       "      <td>CHOCOLATE BOX RIBBONS</td>\n",
       "      <td>0.005725</td>\n",
       "      <td>1.0</td>\n",
       "      <td>37.428571</td>\n",
       "    </tr>\n",
       "    <tr>\n",
       "      <th>958524</th>\n",
       "      <td>Germany</td>\n",
       "      <td>23437</td>\n",
       "      <td>50'S CHRISTMAS GIFT BAG LARGE</td>\n",
       "      <td>POST</td>\n",
       "      <td>POSTAGE</td>\n",
       "      <td>0.009542</td>\n",
       "      <td>1.0</td>\n",
       "      <td>37.428571</td>\n",
       "    </tr>\n",
       "    <tr>\n",
       "      <th>2215559</th>\n",
       "      <td>Germany</td>\n",
       "      <td>23437</td>\n",
       "      <td>50'S CHRISTMAS GIFT BAG LARGE</td>\n",
       "      <td>22423</td>\n",
       "      <td>REGENCY CAKESTAND 3 TIER</td>\n",
       "      <td>0.005725</td>\n",
       "      <td>0.6</td>\n",
       "      <td>5.716364</td>\n",
       "    </tr>\n",
       "    <tr>\n",
       "      <th>5363551</th>\n",
       "      <td>Germany</td>\n",
       "      <td>23437</td>\n",
       "      <td>50'S CHRISTMAS GIFT BAG LARGE</td>\n",
       "      <td>85049E</td>\n",
       "      <td>SCANDINAVIAN REDS RIBBONS</td>\n",
       "      <td>0.005725</td>\n",
       "      <td>1.0</td>\n",
       "      <td>34.933333</td>\n",
       "    </tr>\n",
       "  </tbody>\n",
       "</table>\n",
       "</div>"
      ],
      "text/plain": [
       "         Country antecedents         antecedents_description consequents  \\\n",
       "1123730  Germany       23437   50'S CHRISTMAS GIFT BAG LARGE       20719   \n",
       "5378433  Germany       23437   50'S CHRISTMAS GIFT BAG LARGE      85049G   \n",
       "958524   Germany       23437   50'S CHRISTMAS GIFT BAG LARGE        POST   \n",
       "2215559  Germany       23437   50'S CHRISTMAS GIFT BAG LARGE       22423   \n",
       "5363551  Germany       23437   50'S CHRISTMAS GIFT BAG LARGE      85049E   \n",
       "\n",
       "           consequents_description   support  confidence       lift  \n",
       "1123730     WOODLAND CHARLOTTE BAG  0.005725         0.6   5.932075  \n",
       "5378433     CHOCOLATE BOX RIBBONS   0.005725         1.0  37.428571  \n",
       "958524                     POSTAGE  0.009542         1.0  37.428571  \n",
       "2215559   REGENCY CAKESTAND 3 TIER  0.005725         0.6   5.716364  \n",
       "5363551  SCANDINAVIAN REDS RIBBONS  0.005725         1.0  34.933333  "
      ]
     },
     "execution_count": 27,
     "metadata": {},
     "output_type": "execute_result"
    }
   ],
   "source": [
    "# 3. Se reordenan las columnas del dataframe para que visualmente\n",
    "# df = df[['mean', 4,3,2,1]]\n",
    "fpg_recommendation_by_product = fpg_recommendation_by_product[['Country',\n",
    "                                                               'antecedents',\n",
    "                                                               'antecedents_description',\n",
    "                                                               'consequents',\n",
    "                                                               'consequents_description',\n",
    "                                                               'support',\n",
    "                                                               'confidence',\n",
    "                                                               'lift']]\n",
    "fpg_recommendation_by_product.sort_values(by='antecedents_description', inplace=True)\n",
    "fpg_recommendation_by_product.head(5)"
   ]
  },
  {
   "cell_type": "markdown",
   "id": "e014c953",
   "metadata": {},
   "source": [
    "#### Se guarda los resultados del FP Growth"
   ]
  },
  {
   "cell_type": "code",
   "execution_count": 28,
   "id": "f682ac3c",
   "metadata": {},
   "outputs": [],
   "source": [
    "fpg_recommendation_by_product.to_csv('C:/Users/josefina.lin/Documents/Master/10-Trabajo Final/datasets/fp_growth_results.csv', \n",
    "                                     index = False)"
   ]
  },
  {
   "cell_type": "markdown",
   "id": "7ba8ab40",
   "metadata": {},
   "source": [
    "## Apriori Algorithm"
   ]
  },
  {
   "cell_type": "code",
   "execution_count": 29,
   "id": "fc24b0d1",
   "metadata": {},
   "outputs": [
    {
     "name": "stdout",
     "output_type": "stream",
     "text": [
      "Computed Apriori!\n",
      "Apriori Execution took: 42.11325025558472 seconds\n"
     ]
    }
   ],
   "source": [
    "apriori_matrix, apriori_exec_time = perform_rule_calculation(trans_encoder_matrix, rule_type=\"apriori\")\n",
    "print(\"Apriori Execution took: {} seconds\".format(apriori_exec_time))"
   ]
  },
  {
   "cell_type": "code",
   "execution_count": 30,
   "id": "34327e5b",
   "metadata": {},
   "outputs": [],
   "source": [
    "apriori_rule_lift = compute_association_rule(apriori_matrix)\n"
   ]
  },
  {
   "cell_type": "code",
   "execution_count": 31,
   "id": "126df322",
   "metadata": {},
   "outputs": [
    {
     "data": {
      "text/html": [
       "<div>\n",
       "<style scoped>\n",
       "    .dataframe tbody tr th:only-of-type {\n",
       "        vertical-align: middle;\n",
       "    }\n",
       "\n",
       "    .dataframe tbody tr th {\n",
       "        vertical-align: top;\n",
       "    }\n",
       "\n",
       "    .dataframe thead th {\n",
       "        text-align: right;\n",
       "    }\n",
       "</style>\n",
       "<table border=\"1\" class=\"dataframe\">\n",
       "  <thead>\n",
       "    <tr style=\"text-align: right;\">\n",
       "      <th></th>\n",
       "      <th>antecedents</th>\n",
       "      <th>consequents</th>\n",
       "      <th>antecedent support</th>\n",
       "      <th>consequent support</th>\n",
       "      <th>support</th>\n",
       "      <th>confidence</th>\n",
       "      <th>lift</th>\n",
       "      <th>leverage</th>\n",
       "      <th>conviction</th>\n",
       "    </tr>\n",
       "  </thead>\n",
       "  <tbody>\n",
       "    <tr>\n",
       "      <th>0</th>\n",
       "      <td>(20725)</td>\n",
       "      <td>(10125)</td>\n",
       "      <td>0.036260</td>\n",
       "      <td>0.011450</td>\n",
       "      <td>0.005725</td>\n",
       "      <td>0.157895</td>\n",
       "      <td>13.789474</td>\n",
       "      <td>0.005310</td>\n",
       "      <td>1.173903</td>\n",
       "    </tr>\n",
       "    <tr>\n",
       "      <th>1</th>\n",
       "      <td>(10125)</td>\n",
       "      <td>(20725)</td>\n",
       "      <td>0.011450</td>\n",
       "      <td>0.036260</td>\n",
       "      <td>0.005725</td>\n",
       "      <td>0.500000</td>\n",
       "      <td>13.789474</td>\n",
       "      <td>0.005310</td>\n",
       "      <td>1.927481</td>\n",
       "    </tr>\n",
       "    <tr>\n",
       "      <th>2</th>\n",
       "      <td>(21880)</td>\n",
       "      <td>(10125)</td>\n",
       "      <td>0.030534</td>\n",
       "      <td>0.011450</td>\n",
       "      <td>0.005725</td>\n",
       "      <td>0.187500</td>\n",
       "      <td>16.375000</td>\n",
       "      <td>0.005376</td>\n",
       "      <td>1.216676</td>\n",
       "    </tr>\n",
       "    <tr>\n",
       "      <th>3</th>\n",
       "      <td>(10125)</td>\n",
       "      <td>(21880)</td>\n",
       "      <td>0.011450</td>\n",
       "      <td>0.030534</td>\n",
       "      <td>0.005725</td>\n",
       "      <td>0.500000</td>\n",
       "      <td>16.375000</td>\n",
       "      <td>0.005376</td>\n",
       "      <td>1.938931</td>\n",
       "    </tr>\n",
       "    <tr>\n",
       "      <th>4</th>\n",
       "      <td>(21883)</td>\n",
       "      <td>(10125)</td>\n",
       "      <td>0.024809</td>\n",
       "      <td>0.011450</td>\n",
       "      <td>0.005725</td>\n",
       "      <td>0.230769</td>\n",
       "      <td>20.153846</td>\n",
       "      <td>0.005441</td>\n",
       "      <td>1.285115</td>\n",
       "    </tr>\n",
       "  </tbody>\n",
       "</table>\n",
       "</div>"
      ],
      "text/plain": [
       "  antecedents consequents  antecedent support  consequent support   support  \\\n",
       "0     (20725)     (10125)            0.036260            0.011450  0.005725   \n",
       "1     (10125)     (20725)            0.011450            0.036260  0.005725   \n",
       "2     (21880)     (10125)            0.030534            0.011450  0.005725   \n",
       "3     (10125)     (21880)            0.011450            0.030534  0.005725   \n",
       "4     (21883)     (10125)            0.024809            0.011450  0.005725   \n",
       "\n",
       "   confidence       lift  leverage  conviction  \n",
       "0    0.157895  13.789474  0.005310    1.173903  \n",
       "1    0.500000  13.789474  0.005310    1.927481  \n",
       "2    0.187500  16.375000  0.005376    1.216676  \n",
       "3    0.500000  16.375000  0.005376    1.938931  \n",
       "4    0.230769  20.153846  0.005441    1.285115  "
      ]
     },
     "execution_count": 31,
     "metadata": {},
     "output_type": "execute_result"
    }
   ],
   "source": [
    "apriori_rule_lift.head()"
   ]
  },
  {
   "cell_type": "code",
   "execution_count": 32,
   "id": "23e207d5",
   "metadata": {},
   "outputs": [],
   "source": [
    "result_apriori_rule = apriori_rule_lift.explode('antecedents',\n",
    "                                                ignore_index=True).explode('consequents').copy()"
   ]
  },
  {
   "cell_type": "code",
   "execution_count": 33,
   "id": "d99e0c4a",
   "metadata": {},
   "outputs": [
    {
     "name": "stderr",
     "output_type": "stream",
     "text": [
      "C:\\Users\\josefina.lin\\AppData\\Local\\Temp\\ipykernel_10404\\273404580.py:8: SettingWithCopyWarning: \n",
      "A value is trying to be set on a copy of a slice from a DataFrame.\n",
      "Try using .loc[row_indexer,col_indexer] = value instead\n",
      "\n",
      "See the caveats in the documentation: https://pandas.pydata.org/pandas-docs/stable/user_guide/indexing.html#returning-a-view-versus-a-copy\n",
      "  apr_recommendation_by_product['Country'] = country\n"
     ]
    }
   ],
   "source": [
    "## Save results product to recommend and total products by product\n",
    "apr_recommendation_by_product = result_apriori_rule[['antecedents',\n",
    "                                                     'consequents', \n",
    "                                                     'support',\n",
    "                                                     'confidence',\n",
    "                                                     'lift'\n",
    "                                                    ]]\n",
    "apr_recommendation_by_product['Country'] = country\n",
    "\n",
    "apr_recommendation_by_product = apr_recommendation_by_product[['Country',\n",
    "                                                               'antecedents',\n",
    "                                                               'consequents',\n",
    "                                                               'support',\n",
    "                                                               'confidence',\n",
    "                                                               'lift'\n",
    "                                                             ]].groupby(['Country',\n",
    "                                                                         'antecedents',\n",
    "                                                                         'consequents'\n",
    "                                                                        ]).max().reset_index()"
   ]
  },
  {
   "cell_type": "code",
   "execution_count": 34,
   "id": "4f6f05c4",
   "metadata": {},
   "outputs": [
    {
     "data": {
      "text/html": [
       "<div>\n",
       "<style scoped>\n",
       "    .dataframe tbody tr th:only-of-type {\n",
       "        vertical-align: middle;\n",
       "    }\n",
       "\n",
       "    .dataframe tbody tr th {\n",
       "        vertical-align: top;\n",
       "    }\n",
       "\n",
       "    .dataframe thead th {\n",
       "        text-align: right;\n",
       "    }\n",
       "</style>\n",
       "<table border=\"1\" class=\"dataframe\">\n",
       "  <thead>\n",
       "    <tr style=\"text-align: right;\">\n",
       "      <th></th>\n",
       "      <th>Country</th>\n",
       "      <th>antecedents</th>\n",
       "      <th>consequents</th>\n",
       "      <th>support</th>\n",
       "      <th>confidence</th>\n",
       "      <th>lift</th>\n",
       "    </tr>\n",
       "  </thead>\n",
       "  <tbody>\n",
       "    <tr>\n",
       "      <th>0</th>\n",
       "      <td>Germany</td>\n",
       "      <td>10125</td>\n",
       "      <td>20725</td>\n",
       "      <td>0.005725</td>\n",
       "      <td>1.00</td>\n",
       "      <td>174.666667</td>\n",
       "    </tr>\n",
       "    <tr>\n",
       "      <th>1</th>\n",
       "      <td>Germany</td>\n",
       "      <td>10125</td>\n",
       "      <td>21880</td>\n",
       "      <td>0.005725</td>\n",
       "      <td>1.00</td>\n",
       "      <td>174.666667</td>\n",
       "    </tr>\n",
       "    <tr>\n",
       "      <th>2</th>\n",
       "      <td>Germany</td>\n",
       "      <td>10125</td>\n",
       "      <td>21883</td>\n",
       "      <td>0.005725</td>\n",
       "      <td>1.00</td>\n",
       "      <td>174.666667</td>\n",
       "    </tr>\n",
       "    <tr>\n",
       "      <th>3</th>\n",
       "      <td>Germany</td>\n",
       "      <td>10125</td>\n",
       "      <td>22326</td>\n",
       "      <td>0.005725</td>\n",
       "      <td>0.75</td>\n",
       "      <td>4.596491</td>\n",
       "    </tr>\n",
       "    <tr>\n",
       "      <th>4</th>\n",
       "      <td>Germany</td>\n",
       "      <td>10125</td>\n",
       "      <td>22328</td>\n",
       "      <td>0.007634</td>\n",
       "      <td>1.00</td>\n",
       "      <td>7.594203</td>\n",
       "    </tr>\n",
       "  </tbody>\n",
       "</table>\n",
       "</div>"
      ],
      "text/plain": [
       "   Country antecedents consequents   support  confidence        lift\n",
       "0  Germany       10125       20725  0.005725        1.00  174.666667\n",
       "1  Germany       10125       21880  0.005725        1.00  174.666667\n",
       "2  Germany       10125       21883  0.005725        1.00  174.666667\n",
       "3  Germany       10125       22326  0.005725        0.75    4.596491\n",
       "4  Germany       10125       22328  0.007634        1.00    7.594203"
      ]
     },
     "execution_count": 34,
     "metadata": {},
     "output_type": "execute_result"
    }
   ],
   "source": [
    "apr_recommendation_by_product.head()"
   ]
  },
  {
   "cell_type": "markdown",
   "id": "45799675",
   "metadata": {},
   "source": [
    "#### Agregamos la descripción del producto para antecedentes y consecuentes"
   ]
  },
  {
   "cell_type": "markdown",
   "id": "4acd0cad",
   "metadata": {},
   "source": [
    "##### Antecedentes"
   ]
  },
  {
   "cell_type": "code",
   "execution_count": 35,
   "id": "33ee8734",
   "metadata": {
    "scrolled": true
   },
   "outputs": [
    {
     "name": "stdout",
     "output_type": "stream",
     "text": [
      "<class 'pandas.core.frame.DataFrame'>\n",
      "Int64Index: 15918 entries, 0 to 6816390\n",
      "Data columns (total 8 columns):\n",
      " #   Column       Non-Null Count  Dtype  \n",
      "---  ------       --------------  -----  \n",
      " 0   Country      15918 non-null  object \n",
      " 1   antecedents  15918 non-null  object \n",
      " 2   consequents  15918 non-null  object \n",
      " 3   support      15918 non-null  float64\n",
      " 4   confidence   15918 non-null  float64\n",
      " 5   lift         15918 non-null  float64\n",
      " 6   Description  15918 non-null  object \n",
      " 7   StockCode    15918 non-null  object \n",
      "dtypes: float64(3), object(5)\n",
      "memory usage: 1.1+ MB\n"
     ]
    }
   ],
   "source": [
    "# 1. Se mergea con el dataframe orders para traer la descripción del producto\n",
    "apr_recommendation_by_product = pd.merge(apr_recommendation_by_product,\n",
    "                                         orders[['Description','StockCode']],\n",
    "                                         how='inner',\n",
    "                                         left_on = ['antecedents'],\n",
    "                                         right_on = ['StockCode']\n",
    "                                         )\n",
    "apr_recommendation_by_product.drop_duplicates(inplace=True)\n",
    "apr_recommendation_by_product.info()"
   ]
  },
  {
   "cell_type": "code",
   "execution_count": 36,
   "id": "03431075",
   "metadata": {
    "scrolled": true
   },
   "outputs": [
    {
     "name": "stdout",
     "output_type": "stream",
     "text": [
      "<class 'pandas.core.frame.DataFrame'>\n",
      "Int64Index: 15918 entries, 0 to 6816390\n",
      "Data columns (total 7 columns):\n",
      " #   Column                   Non-Null Count  Dtype  \n",
      "---  ------                   --------------  -----  \n",
      " 0   Country                  15918 non-null  object \n",
      " 1   antecedents              15918 non-null  object \n",
      " 2   consequents              15918 non-null  object \n",
      " 3   support                  15918 non-null  float64\n",
      " 4   confidence               15918 non-null  float64\n",
      " 5   lift                     15918 non-null  float64\n",
      " 6   antecedents_description  15918 non-null  object \n",
      "dtypes: float64(3), object(4)\n",
      "memory usage: 994.9+ KB\n"
     ]
    }
   ],
   "source": [
    "# 2. Se renombra el campo a \"antecedents_description\" y se borran los campos del dataframe de orders\n",
    "apr_recommendation_by_product['antecedents_description'] = apr_recommendation_by_product['Description']\n",
    "apr_recommendation_by_product.drop(['Description','StockCode'], axis=1, inplace=True)\n",
    "apr_recommendation_by_product.info()"
   ]
  },
  {
   "cell_type": "markdown",
   "id": "415a0099",
   "metadata": {
    "collapsed": true,
    "scrolled": true
   },
   "source": [
    "##### Consecuentes"
   ]
  },
  {
   "cell_type": "code",
   "execution_count": 37,
   "id": "6de99369",
   "metadata": {
    "scrolled": true
   },
   "outputs": [
    {
     "name": "stdout",
     "output_type": "stream",
     "text": [
      "<class 'pandas.core.frame.DataFrame'>\n",
      "Int64Index: 15918 entries, 0 to 6817037\n",
      "Data columns (total 9 columns):\n",
      " #   Column                   Non-Null Count  Dtype  \n",
      "---  ------                   --------------  -----  \n",
      " 0   Country                  15918 non-null  object \n",
      " 1   antecedents              15918 non-null  object \n",
      " 2   consequents              15918 non-null  object \n",
      " 3   support                  15918 non-null  float64\n",
      " 4   confidence               15918 non-null  float64\n",
      " 5   lift                     15918 non-null  float64\n",
      " 6   antecedents_description  15918 non-null  object \n",
      " 7   Description              15918 non-null  object \n",
      " 8   StockCode                15918 non-null  object \n",
      "dtypes: float64(3), object(6)\n",
      "memory usage: 1.2+ MB\n"
     ]
    }
   ],
   "source": [
    "# 1. Se mergea con el dataframe orders para traer la descripción del producto\n",
    "apr_recommendation_by_product = pd.merge(apr_recommendation_by_product,\n",
    "                                         orders[['Description','StockCode']],\n",
    "                                         how='inner',\n",
    "                                         left_on = ['consequents'],\n",
    "                                         right_on = ['StockCode']\n",
    "                                         )\n",
    "apr_recommendation_by_product.drop_duplicates(inplace=True)\n",
    "apr_recommendation_by_product.info()"
   ]
  },
  {
   "cell_type": "code",
   "execution_count": 38,
   "id": "d5a3267f",
   "metadata": {
    "scrolled": true
   },
   "outputs": [
    {
     "name": "stdout",
     "output_type": "stream",
     "text": [
      "<class 'pandas.core.frame.DataFrame'>\n",
      "Int64Index: 15918 entries, 0 to 6817037\n",
      "Data columns (total 8 columns):\n",
      " #   Column                   Non-Null Count  Dtype  \n",
      "---  ------                   --------------  -----  \n",
      " 0   Country                  15918 non-null  object \n",
      " 1   antecedents              15918 non-null  object \n",
      " 2   consequents              15918 non-null  object \n",
      " 3   support                  15918 non-null  float64\n",
      " 4   confidence               15918 non-null  float64\n",
      " 5   lift                     15918 non-null  float64\n",
      " 6   antecedents_description  15918 non-null  object \n",
      " 7   consequents_description  15918 non-null  object \n",
      "dtypes: float64(3), object(5)\n",
      "memory usage: 1.1+ MB\n"
     ]
    }
   ],
   "source": [
    "# 2. Se renombra el campo a \"consequents_description\" y se borran los campos del dataframe de orders\n",
    "apr_recommendation_by_product['consequents_description'] = apr_recommendation_by_product['Description']\n",
    "apr_recommendation_by_product.drop(['Description','StockCode'], axis=1, inplace=True)\n",
    "apr_recommendation_by_product.info()"
   ]
  },
  {
   "cell_type": "code",
   "execution_count": 39,
   "id": "e6ede129",
   "metadata": {},
   "outputs": [
    {
     "data": {
      "text/html": [
       "<div>\n",
       "<style scoped>\n",
       "    .dataframe tbody tr th:only-of-type {\n",
       "        vertical-align: middle;\n",
       "    }\n",
       "\n",
       "    .dataframe tbody tr th {\n",
       "        vertical-align: top;\n",
       "    }\n",
       "\n",
       "    .dataframe thead th {\n",
       "        text-align: right;\n",
       "    }\n",
       "</style>\n",
       "<table border=\"1\" class=\"dataframe\">\n",
       "  <thead>\n",
       "    <tr style=\"text-align: right;\">\n",
       "      <th></th>\n",
       "      <th>Country</th>\n",
       "      <th>antecedents</th>\n",
       "      <th>antecedents_description</th>\n",
       "      <th>consequents</th>\n",
       "      <th>consequents_description</th>\n",
       "      <th>support</th>\n",
       "      <th>confidence</th>\n",
       "      <th>lift</th>\n",
       "    </tr>\n",
       "  </thead>\n",
       "  <tbody>\n",
       "    <tr>\n",
       "      <th>1123730</th>\n",
       "      <td>Germany</td>\n",
       "      <td>23437</td>\n",
       "      <td>50'S CHRISTMAS GIFT BAG LARGE</td>\n",
       "      <td>20719</td>\n",
       "      <td>WOODLAND CHARLOTTE BAG</td>\n",
       "      <td>0.005725</td>\n",
       "      <td>0.6</td>\n",
       "      <td>5.932075</td>\n",
       "    </tr>\n",
       "    <tr>\n",
       "      <th>5378433</th>\n",
       "      <td>Germany</td>\n",
       "      <td>23437</td>\n",
       "      <td>50'S CHRISTMAS GIFT BAG LARGE</td>\n",
       "      <td>85049G</td>\n",
       "      <td>CHOCOLATE BOX RIBBONS</td>\n",
       "      <td>0.005725</td>\n",
       "      <td>1.0</td>\n",
       "      <td>37.428571</td>\n",
       "    </tr>\n",
       "    <tr>\n",
       "      <th>958524</th>\n",
       "      <td>Germany</td>\n",
       "      <td>23437</td>\n",
       "      <td>50'S CHRISTMAS GIFT BAG LARGE</td>\n",
       "      <td>POST</td>\n",
       "      <td>POSTAGE</td>\n",
       "      <td>0.009542</td>\n",
       "      <td>1.0</td>\n",
       "      <td>37.428571</td>\n",
       "    </tr>\n",
       "    <tr>\n",
       "      <th>2215559</th>\n",
       "      <td>Germany</td>\n",
       "      <td>23437</td>\n",
       "      <td>50'S CHRISTMAS GIFT BAG LARGE</td>\n",
       "      <td>22423</td>\n",
       "      <td>REGENCY CAKESTAND 3 TIER</td>\n",
       "      <td>0.005725</td>\n",
       "      <td>0.6</td>\n",
       "      <td>5.716364</td>\n",
       "    </tr>\n",
       "    <tr>\n",
       "      <th>5363551</th>\n",
       "      <td>Germany</td>\n",
       "      <td>23437</td>\n",
       "      <td>50'S CHRISTMAS GIFT BAG LARGE</td>\n",
       "      <td>85049E</td>\n",
       "      <td>SCANDINAVIAN REDS RIBBONS</td>\n",
       "      <td>0.005725</td>\n",
       "      <td>1.0</td>\n",
       "      <td>34.933333</td>\n",
       "    </tr>\n",
       "  </tbody>\n",
       "</table>\n",
       "</div>"
      ],
      "text/plain": [
       "         Country antecedents         antecedents_description consequents  \\\n",
       "1123730  Germany       23437   50'S CHRISTMAS GIFT BAG LARGE       20719   \n",
       "5378433  Germany       23437   50'S CHRISTMAS GIFT BAG LARGE      85049G   \n",
       "958524   Germany       23437   50'S CHRISTMAS GIFT BAG LARGE        POST   \n",
       "2215559  Germany       23437   50'S CHRISTMAS GIFT BAG LARGE       22423   \n",
       "5363551  Germany       23437   50'S CHRISTMAS GIFT BAG LARGE      85049E   \n",
       "\n",
       "           consequents_description   support  confidence       lift  \n",
       "1123730     WOODLAND CHARLOTTE BAG  0.005725         0.6   5.932075  \n",
       "5378433     CHOCOLATE BOX RIBBONS   0.005725         1.0  37.428571  \n",
       "958524                     POSTAGE  0.009542         1.0  37.428571  \n",
       "2215559   REGENCY CAKESTAND 3 TIER  0.005725         0.6   5.716364  \n",
       "5363551  SCANDINAVIAN REDS RIBBONS  0.005725         1.0  34.933333  "
      ]
     },
     "execution_count": 39,
     "metadata": {},
     "output_type": "execute_result"
    }
   ],
   "source": [
    "# 3. Se reordenan las columnas del dataframe para que visualmente\n",
    "# df = df[['mean', 4,3,2,1]]\n",
    "apr_recommendation_by_product = apr_recommendation_by_product[['Country',\n",
    "                                                               'antecedents',\n",
    "                                                               'antecedents_description',\n",
    "                                                               'consequents',\n",
    "                                                               'consequents_description',\n",
    "                                                               'support',\n",
    "                                                               'confidence',\n",
    "                                                               'lift']]\n",
    "apr_recommendation_by_product.sort_values(by='antecedents_description', inplace=True)\n",
    "apr_recommendation_by_product.head(5)"
   ]
  },
  {
   "cell_type": "code",
   "execution_count": 40,
   "id": "dc78be74",
   "metadata": {},
   "outputs": [
    {
     "data": {
      "text/html": [
       "<div>\n",
       "<style scoped>\n",
       "    .dataframe tbody tr th:only-of-type {\n",
       "        vertical-align: middle;\n",
       "    }\n",
       "\n",
       "    .dataframe tbody tr th {\n",
       "        vertical-align: top;\n",
       "    }\n",
       "\n",
       "    .dataframe thead th {\n",
       "        text-align: right;\n",
       "    }\n",
       "</style>\n",
       "<table border=\"1\" class=\"dataframe\">\n",
       "  <thead>\n",
       "    <tr style=\"text-align: right;\">\n",
       "      <th></th>\n",
       "      <th>Country</th>\n",
       "      <th>antecedents</th>\n",
       "      <th>antecedents_description</th>\n",
       "      <th>consequents</th>\n",
       "      <th>consequents_description</th>\n",
       "      <th>support</th>\n",
       "      <th>confidence</th>\n",
       "      <th>lift</th>\n",
       "    </tr>\n",
       "  </thead>\n",
       "  <tbody>\n",
       "    <tr>\n",
       "      <th>1891235</th>\n",
       "      <td>Germany</td>\n",
       "      <td>16161U</td>\n",
       "      <td>WRAP SUKI AND FRIENDS</td>\n",
       "      <td>22423</td>\n",
       "      <td>REGENCY CAKESTAND 3 TIER</td>\n",
       "      <td>0.009542</td>\n",
       "      <td>1.0</td>\n",
       "      <td>131.000000</td>\n",
       "    </tr>\n",
       "    <tr>\n",
       "      <th>906765</th>\n",
       "      <td>Germany</td>\n",
       "      <td>23232</td>\n",
       "      <td>WRAP VINTAGE PETALS  DESIGN</td>\n",
       "      <td>POST</td>\n",
       "      <td>POSTAGE</td>\n",
       "      <td>0.007634</td>\n",
       "      <td>1.0</td>\n",
       "      <td>1.420054</td>\n",
       "    </tr>\n",
       "    <tr>\n",
       "      <th>796686</th>\n",
       "      <td>Germany</td>\n",
       "      <td>22709</td>\n",
       "      <td>WRAP WEDDING DAY</td>\n",
       "      <td>POST</td>\n",
       "      <td>POSTAGE</td>\n",
       "      <td>0.005725</td>\n",
       "      <td>1.0</td>\n",
       "      <td>32.750000</td>\n",
       "    </tr>\n",
       "    <tr>\n",
       "      <th>2484622</th>\n",
       "      <td>Germany</td>\n",
       "      <td>22709</td>\n",
       "      <td>WRAP WEDDING DAY</td>\n",
       "      <td>22704</td>\n",
       "      <td>WRAP RED APPLES</td>\n",
       "      <td>0.005725</td>\n",
       "      <td>1.0</td>\n",
       "      <td>32.750000</td>\n",
       "    </tr>\n",
       "    <tr>\n",
       "      <th>1000806</th>\n",
       "      <td>Germany</td>\n",
       "      <td>84832</td>\n",
       "      <td>ZINC WILLIE WINKIE  CANDLE STICK</td>\n",
       "      <td>POST</td>\n",
       "      <td>POSTAGE</td>\n",
       "      <td>0.007634</td>\n",
       "      <td>1.0</td>\n",
       "      <td>1.420054</td>\n",
       "    </tr>\n",
       "  </tbody>\n",
       "</table>\n",
       "</div>"
      ],
      "text/plain": [
       "         Country antecedents           antecedents_description consequents  \\\n",
       "1891235  Germany      16161U             WRAP SUKI AND FRIENDS       22423   \n",
       "906765   Germany       23232       WRAP VINTAGE PETALS  DESIGN        POST   \n",
       "796686   Germany       22709                  WRAP WEDDING DAY        POST   \n",
       "2484622  Germany       22709                  WRAP WEDDING DAY       22704   \n",
       "1000806  Germany       84832  ZINC WILLIE WINKIE  CANDLE STICK        POST   \n",
       "\n",
       "          consequents_description   support  confidence        lift  \n",
       "1891235  REGENCY CAKESTAND 3 TIER  0.009542         1.0  131.000000  \n",
       "906765                    POSTAGE  0.007634         1.0    1.420054  \n",
       "796686                    POSTAGE  0.005725         1.0   32.750000  \n",
       "2484622          WRAP RED APPLES   0.005725         1.0   32.750000  \n",
       "1000806                   POSTAGE  0.007634         1.0    1.420054  "
      ]
     },
     "execution_count": 40,
     "metadata": {},
     "output_type": "execute_result"
    }
   ],
   "source": [
    "apr_recommendation_by_product.tail(5)"
   ]
  },
  {
   "cell_type": "code",
   "execution_count": 41,
   "id": "99fc45de",
   "metadata": {},
   "outputs": [
    {
     "data": {
      "text/html": [
       "<div>\n",
       "<style scoped>\n",
       "    .dataframe tbody tr th:only-of-type {\n",
       "        vertical-align: middle;\n",
       "    }\n",
       "\n",
       "    .dataframe tbody tr th {\n",
       "        vertical-align: top;\n",
       "    }\n",
       "\n",
       "    .dataframe thead th {\n",
       "        text-align: right;\n",
       "    }\n",
       "</style>\n",
       "<table border=\"1\" class=\"dataframe\">\n",
       "  <thead>\n",
       "    <tr style=\"text-align: right;\">\n",
       "      <th></th>\n",
       "      <th>Country</th>\n",
       "      <th>antecedents</th>\n",
       "      <th>antecedents_description</th>\n",
       "      <th>consequents</th>\n",
       "      <th>consequents_description</th>\n",
       "      <th>support</th>\n",
       "      <th>confidence</th>\n",
       "      <th>lift</th>\n",
       "    </tr>\n",
       "  </thead>\n",
       "  <tbody>\n",
       "    <tr>\n",
       "      <th>1891235</th>\n",
       "      <td>Germany</td>\n",
       "      <td>16161U</td>\n",
       "      <td>WRAP SUKI AND FRIENDS</td>\n",
       "      <td>22423</td>\n",
       "      <td>REGENCY CAKESTAND 3 TIER</td>\n",
       "      <td>0.009542</td>\n",
       "      <td>1.0</td>\n",
       "      <td>131.000000</td>\n",
       "    </tr>\n",
       "    <tr>\n",
       "      <th>906765</th>\n",
       "      <td>Germany</td>\n",
       "      <td>23232</td>\n",
       "      <td>WRAP VINTAGE PETALS  DESIGN</td>\n",
       "      <td>POST</td>\n",
       "      <td>POSTAGE</td>\n",
       "      <td>0.007634</td>\n",
       "      <td>1.0</td>\n",
       "      <td>1.420054</td>\n",
       "    </tr>\n",
       "    <tr>\n",
       "      <th>796686</th>\n",
       "      <td>Germany</td>\n",
       "      <td>22709</td>\n",
       "      <td>WRAP WEDDING DAY</td>\n",
       "      <td>POST</td>\n",
       "      <td>POSTAGE</td>\n",
       "      <td>0.005725</td>\n",
       "      <td>1.0</td>\n",
       "      <td>32.750000</td>\n",
       "    </tr>\n",
       "    <tr>\n",
       "      <th>2484622</th>\n",
       "      <td>Germany</td>\n",
       "      <td>22709</td>\n",
       "      <td>WRAP WEDDING DAY</td>\n",
       "      <td>22704</td>\n",
       "      <td>WRAP RED APPLES</td>\n",
       "      <td>0.005725</td>\n",
       "      <td>1.0</td>\n",
       "      <td>32.750000</td>\n",
       "    </tr>\n",
       "    <tr>\n",
       "      <th>1000806</th>\n",
       "      <td>Germany</td>\n",
       "      <td>84832</td>\n",
       "      <td>ZINC WILLIE WINKIE  CANDLE STICK</td>\n",
       "      <td>POST</td>\n",
       "      <td>POSTAGE</td>\n",
       "      <td>0.007634</td>\n",
       "      <td>1.0</td>\n",
       "      <td>1.420054</td>\n",
       "    </tr>\n",
       "  </tbody>\n",
       "</table>\n",
       "</div>"
      ],
      "text/plain": [
       "         Country antecedents           antecedents_description consequents  \\\n",
       "1891235  Germany      16161U             WRAP SUKI AND FRIENDS       22423   \n",
       "906765   Germany       23232       WRAP VINTAGE PETALS  DESIGN        POST   \n",
       "796686   Germany       22709                  WRAP WEDDING DAY        POST   \n",
       "2484622  Germany       22709                  WRAP WEDDING DAY       22704   \n",
       "1000806  Germany       84832  ZINC WILLIE WINKIE  CANDLE STICK        POST   \n",
       "\n",
       "          consequents_description   support  confidence        lift  \n",
       "1891235  REGENCY CAKESTAND 3 TIER  0.009542         1.0  131.000000  \n",
       "906765                    POSTAGE  0.007634         1.0    1.420054  \n",
       "796686                    POSTAGE  0.005725         1.0   32.750000  \n",
       "2484622          WRAP RED APPLES   0.005725         1.0   32.750000  \n",
       "1000806                   POSTAGE  0.007634         1.0    1.420054  "
      ]
     },
     "execution_count": 41,
     "metadata": {},
     "output_type": "execute_result"
    }
   ],
   "source": [
    "fpg_recommendation_by_product.tail(5)"
   ]
  },
  {
   "cell_type": "markdown",
   "id": "c8939d78",
   "metadata": {},
   "source": [
    "#### Se guarda los resultados del Apriori"
   ]
  },
  {
   "cell_type": "code",
   "execution_count": null,
   "id": "858e8793",
   "metadata": {},
   "outputs": [],
   "source": []
  }
 ],
 "metadata": {
  "kernelspec": {
   "display_name": "Python 3 (ipykernel)",
   "language": "python",
   "name": "python3"
  },
  "language_info": {
   "codemirror_mode": {
    "name": "ipython",
    "version": 3
   },
   "file_extension": ".py",
   "mimetype": "text/x-python",
   "name": "python",
   "nbconvert_exporter": "python",
   "pygments_lexer": "ipython3",
   "version": "3.8.5"
  }
 },
 "nbformat": 4,
 "nbformat_minor": 5
}
