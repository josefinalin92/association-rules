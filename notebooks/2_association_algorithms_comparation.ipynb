{
 "cells": [
  {
   "cell_type": "markdown",
   "id": "0d8d2ab3",
   "metadata": {},
   "source": [
    "# Exploración de los algoritmos de asociación"
   ]
  },
  {
   "cell_type": "markdown",
   "id": "68d8696e",
   "metadata": {},
   "source": [
    "### Objetivo\n",
    "\n",
    "El presente notebook tiene como objetivo explorar los datos preparados por el anterior (1_eda) usando los algoritmos de Apriori y FP Growth vistos en el curso. El resultado de esta exploración será para elegir el algoritmo a aplicar finalmente.\n",
    "\n",
    "\n",
    "### Algoritmos\n",
    "\n",
    "#### Algoritmo Apriori\n",
    "\n",
    "El algoritmo Apriori, propuesto por Agrawal y Srikant en 1994, es uno de los más utilizados para la generación de reglas de asociación a partir de bases de datos que contengan transacciones.\n",
    "\n",
    "El algoritmo Apriori utiliza un enfoque bottom up. Partiendo de los conjuntos de artículos más pequeños, mediante un proceso iterativo, se van combinando estos conjuntos hasta que se llega a un límite fijado previamente. Posteriormente se procede a la construcción de las reglas de asociación utilizando únicamente los conjuntos de datos creados en el paso anterior.\n",
    "\n",
    "#### Algoritmo FP-Growth\n",
    "El algoritmo FP-Growth ha sido propuesto por Jiawei Han, Jian Pei y Yiwen Yin en el año 2000. En su diseño se ha tenido en cuenta que recorrer la base de datos varias veces para contar los registros, como se hace en el Apriori, no es una forma eficiente de buscar la lista de candidatos para las reglas. Con la idea de evitar esta búsqueda se propuso la utilización de un árbol en el que se almacena la información necesaria para obtener el soporte de los conjuntos de artículos candidatos.\n",
    "\n",
    "Los pasos que se deben seguir para la implementación de FP-Growth son los siguientes:\n",
    "\n",
    "1. Al igual que en el Apriori, se cuenta el número de apariciones de todos los artículos, seleccionando únicamente los que superen un valor de soporte mínimo.\n",
    "2. Los artículos seleccionados en el paso anterior se ordenan en función del número de apariciones que tienen en el conjunto de datos.\n",
    "3. Se construye un árbol con el orden del paso anterior y se procede a añadir los registros de la base de datos, ordenándolos con los resultados del paso 2.\n",
    "4. Para seleccionar una regla se ha de recorrer el árbol y parar cuando ya no se supere el umbral necesario."
   ]
  },
  {
   "cell_type": "code",
   "execution_count": 1,
   "id": "8353dd1c",
   "metadata": {},
   "outputs": [],
   "source": [
    "import time\n",
    "import numpy as np\n",
    "import pandas as pd\n",
    "import matplotlib.pyplot as plt\n",
    "from mlxtend.preprocessing import TransactionEncoder\n",
    "from mlxtend.frequent_patterns import apriori, association_rules, fpgrowth"
   ]
  },
  {
   "cell_type": "markdown",
   "id": "67f9e8d4",
   "metadata": {},
   "source": [
    "### Cargar el dataset"
   ]
  },
  {
   "cell_type": "code",
   "execution_count": 2,
   "id": "4c9abe54",
   "metadata": {},
   "outputs": [],
   "source": [
    "orders = pd.read_csv('C:/Users/josefina.lin/Documents/Master/10-Trabajo Final/datasets/model_input.csv')"
   ]
  },
  {
   "cell_type": "code",
   "execution_count": 3,
   "id": "cf71603c",
   "metadata": {},
   "outputs": [
    {
     "data": {
      "text/html": [
       "<div>\n",
       "<style scoped>\n",
       "    .dataframe tbody tr th:only-of-type {\n",
       "        vertical-align: middle;\n",
       "    }\n",
       "\n",
       "    .dataframe tbody tr th {\n",
       "        vertical-align: top;\n",
       "    }\n",
       "\n",
       "    .dataframe thead th {\n",
       "        text-align: right;\n",
       "    }\n",
       "</style>\n",
       "<table border=\"1\" class=\"dataframe\">\n",
       "  <thead>\n",
       "    <tr style=\"text-align: right;\">\n",
       "      <th></th>\n",
       "      <th>StockCode</th>\n",
       "      <th>Description</th>\n",
       "      <th>InvoiceNo</th>\n",
       "      <th>Quantity</th>\n",
       "      <th>InvoiceDate</th>\n",
       "      <th>UnitPrice</th>\n",
       "      <th>CustomerID</th>\n",
       "      <th>Country</th>\n",
       "    </tr>\n",
       "  </thead>\n",
       "  <tbody>\n",
       "    <tr>\n",
       "      <th>244564</th>\n",
       "      <td>20802</td>\n",
       "      <td>SMALL GLASS SUNDAE DISH CLEAR</td>\n",
       "      <td>539250</td>\n",
       "      <td>72</td>\n",
       "      <td>2010-12-16 13:44:00</td>\n",
       "      <td>0.42</td>\n",
       "      <td>15157.0</td>\n",
       "      <td>United Kingdom</td>\n",
       "    </tr>\n",
       "    <tr>\n",
       "      <th>47147</th>\n",
       "      <td>22941</td>\n",
       "      <td>CHRISTMAS LIGHTS 10 REINDEER</td>\n",
       "      <td>575856</td>\n",
       "      <td>1</td>\n",
       "      <td>2011-11-11 12:28:00</td>\n",
       "      <td>8.50</td>\n",
       "      <td>16386.0</td>\n",
       "      <td>United Kingdom</td>\n",
       "    </tr>\n",
       "    <tr>\n",
       "      <th>338199</th>\n",
       "      <td>23661</td>\n",
       "      <td>MILK MAIDS MUG</td>\n",
       "      <td>571230</td>\n",
       "      <td>12</td>\n",
       "      <td>2011-10-14 14:16:00</td>\n",
       "      <td>1.65</td>\n",
       "      <td>13717.0</td>\n",
       "      <td>United Kingdom</td>\n",
       "    </tr>\n",
       "    <tr>\n",
       "      <th>166289</th>\n",
       "      <td>21509</td>\n",
       "      <td>COWBOYS AND INDIANS BIRTHDAY CARD</td>\n",
       "      <td>572838</td>\n",
       "      <td>12</td>\n",
       "      <td>2011-10-26 12:03:00</td>\n",
       "      <td>0.42</td>\n",
       "      <td>14539.0</td>\n",
       "      <td>United Kingdom</td>\n",
       "    </tr>\n",
       "    <tr>\n",
       "      <th>291297</th>\n",
       "      <td>23255</td>\n",
       "      <td>CHILDRENS CUTLERY CIRCUS PARADE</td>\n",
       "      <td>579196</td>\n",
       "      <td>1</td>\n",
       "      <td>2011-11-28 15:54:00</td>\n",
       "      <td>8.29</td>\n",
       "      <td>14096.0</td>\n",
       "      <td>United Kingdom</td>\n",
       "    </tr>\n",
       "  </tbody>\n",
       "</table>\n",
       "</div>"
      ],
      "text/plain": [
       "       StockCode                         Description InvoiceNo  Quantity  \\\n",
       "244564     20802       SMALL GLASS SUNDAE DISH CLEAR    539250        72   \n",
       "47147      22941        CHRISTMAS LIGHTS 10 REINDEER    575856         1   \n",
       "338199     23661                     MILK MAIDS MUG     571230        12   \n",
       "166289     21509  COWBOYS AND INDIANS BIRTHDAY CARD     572838        12   \n",
       "291297     23255     CHILDRENS CUTLERY CIRCUS PARADE    579196         1   \n",
       "\n",
       "                InvoiceDate  UnitPrice  CustomerID         Country  \n",
       "244564  2010-12-16 13:44:00       0.42     15157.0  United Kingdom  \n",
       "47147   2011-11-11 12:28:00       8.50     16386.0  United Kingdom  \n",
       "338199  2011-10-14 14:16:00       1.65     13717.0  United Kingdom  \n",
       "166289  2011-10-26 12:03:00       0.42     14539.0  United Kingdom  \n",
       "291297  2011-11-28 15:54:00       8.29     14096.0  United Kingdom  "
      ]
     },
     "execution_count": 3,
     "metadata": {},
     "output_type": "execute_result"
    }
   ],
   "source": [
    "orders.sample(5)"
   ]
  },
  {
   "cell_type": "code",
   "execution_count": 4,
   "id": "d185a2e2",
   "metadata": {},
   "outputs": [
    {
     "name": "stdout",
     "output_type": "stream",
     "text": [
      "<class 'pandas.core.frame.DataFrame'>\n",
      "RangeIndex: 361763 entries, 0 to 361762\n",
      "Data columns (total 8 columns):\n",
      " #   Column       Non-Null Count   Dtype  \n",
      "---  ------       --------------   -----  \n",
      " 0   StockCode    361763 non-null  object \n",
      " 1   Description  361763 non-null  object \n",
      " 2   InvoiceNo    361763 non-null  object \n",
      " 3   Quantity     361763 non-null  int64  \n",
      " 4   InvoiceDate  361763 non-null  object \n",
      " 5   UnitPrice    361763 non-null  float64\n",
      " 6   CustomerID   340989 non-null  float64\n",
      " 7   Country      361763 non-null  object \n",
      "dtypes: float64(2), int64(1), object(5)\n",
      "memory usage: 22.1+ MB\n"
     ]
    }
   ],
   "source": [
    "orders.info()"
   ]
  },
  {
   "cell_type": "code",
   "execution_count": 5,
   "id": "ceda2993",
   "metadata": {},
   "outputs": [],
   "source": [
    "orders.drop([\"CustomerID\",\"Quantity\",\"UnitPrice\",\"InvoiceDate\"],\n",
    "            axis=1,\n",
    "            inplace=True)"
   ]
  },
  {
   "cell_type": "markdown",
   "id": "78f8ab45",
   "metadata": {},
   "source": [
    "### Inspeccionar la data"
   ]
  },
  {
   "cell_type": "code",
   "execution_count": 6,
   "id": "1af85b57",
   "metadata": {},
   "outputs": [
    {
     "name": "stdout",
     "output_type": "stream",
     "text": [
      "<class 'pandas.core.frame.DataFrame'>\n",
      "RangeIndex: 361763 entries, 0 to 361762\n",
      "Data columns (total 4 columns):\n",
      " #   Column       Non-Null Count   Dtype \n",
      "---  ------       --------------   ----- \n",
      " 0   StockCode    361763 non-null  object\n",
      " 1   Description  361763 non-null  object\n",
      " 2   InvoiceNo    361763 non-null  object\n",
      " 3   Country      361763 non-null  object\n",
      "dtypes: object(4)\n",
      "memory usage: 11.0+ MB\n"
     ]
    }
   ],
   "source": [
    "orders.info()"
   ]
  },
  {
   "cell_type": "code",
   "execution_count": 7,
   "id": "af940fea",
   "metadata": {},
   "outputs": [],
   "source": [
    "### Identificamos las columnas que son categóricas\n",
    "\n",
    "CATEGORICAL_COLUMNS = ['InvoiceNo',\n",
    "                       'StockCode',\n",
    "                       'Description', \n",
    "                       'Country'\n",
    "                      ]\n",
    "orders[CATEGORICAL_COLUMNS] = orders[CATEGORICAL_COLUMNS].astype('object')"
   ]
  },
  {
   "cell_type": "markdown",
   "id": "a02c2ab1",
   "metadata": {},
   "source": [
    "En este dataset encontramos 17549 órdenes diferentes del país United Kingdom. En total se compraron 3774 productos diferentes. El producto más comprado `WHITE HANGING HEART T-LIGHT HOLDER`."
   ]
  },
  {
   "cell_type": "code",
   "execution_count": 8,
   "id": "a683d2c1",
   "metadata": {},
   "outputs": [
    {
     "data": {
      "text/html": [
       "<div>\n",
       "<style scoped>\n",
       "    .dataframe tbody tr th:only-of-type {\n",
       "        vertical-align: middle;\n",
       "    }\n",
       "\n",
       "    .dataframe tbody tr th {\n",
       "        vertical-align: top;\n",
       "    }\n",
       "\n",
       "    .dataframe thead th {\n",
       "        text-align: right;\n",
       "    }\n",
       "</style>\n",
       "<table border=\"1\" class=\"dataframe\">\n",
       "  <thead>\n",
       "    <tr style=\"text-align: right;\">\n",
       "      <th></th>\n",
       "      <th>InvoiceNo</th>\n",
       "      <th>StockCode</th>\n",
       "      <th>Description</th>\n",
       "      <th>Country</th>\n",
       "    </tr>\n",
       "  </thead>\n",
       "  <tbody>\n",
       "    <tr>\n",
       "      <th>count</th>\n",
       "      <td>361763</td>\n",
       "      <td>361763</td>\n",
       "      <td>361763</td>\n",
       "      <td>361763</td>\n",
       "    </tr>\n",
       "    <tr>\n",
       "      <th>unique</th>\n",
       "      <td>17549</td>\n",
       "      <td>3774</td>\n",
       "      <td>3669</td>\n",
       "      <td>1</td>\n",
       "    </tr>\n",
       "    <tr>\n",
       "      <th>top</th>\n",
       "      <td>576339</td>\n",
       "      <td>85123A</td>\n",
       "      <td>WHITE HANGING HEART T-LIGHT HOLDER</td>\n",
       "      <td>United Kingdom</td>\n",
       "    </tr>\n",
       "    <tr>\n",
       "      <th>freq</th>\n",
       "      <td>519</td>\n",
       "      <td>1960</td>\n",
       "      <td>1993</td>\n",
       "      <td>361763</td>\n",
       "    </tr>\n",
       "  </tbody>\n",
       "</table>\n",
       "</div>"
      ],
      "text/plain": [
       "       InvoiceNo StockCode                         Description         Country\n",
       "count     361763    361763                              361763          361763\n",
       "unique     17549      3774                                3669               1\n",
       "top       576339    85123A  WHITE HANGING HEART T-LIGHT HOLDER  United Kingdom\n",
       "freq         519      1960                                1993          361763"
      ]
     },
     "execution_count": 8,
     "metadata": {},
     "output_type": "execute_result"
    }
   ],
   "source": [
    "orders[CATEGORICAL_COLUMNS].describe()"
   ]
  },
  {
   "cell_type": "markdown",
   "id": "1e2b376b",
   "metadata": {},
   "source": [
    "### Preparación de los datos"
   ]
  },
  {
   "cell_type": "code",
   "execution_count": 9,
   "id": "2b65f392",
   "metadata": {},
   "outputs": [
    {
     "name": "stderr",
     "output_type": "stream",
     "text": [
      "C:\\Users\\josefina.lin\\AppData\\Local\\Temp\\ipykernel_21068\\827151519.py:5: FutureWarning: In a future version of pandas, a length 1 tuple will be returned when iterating over a groupby with a grouper equal to a list of length 1. Don't supply a list with a single grouper to avoid this warning.\n",
      "  in list(orders.groupby(['InvoiceNo']))]\n"
     ]
    }
   ],
   "source": [
    "# Generamos una lista de lista para todas nuestras transacciones\n",
    "\n",
    "all_transactions = [transaction[1]['Description'].tolist() \n",
    "                    for transaction \n",
    "                    in list(orders.groupby(['InvoiceNo']))]"
   ]
  },
  {
   "cell_type": "markdown",
   "id": "0e09c846",
   "metadata": {},
   "source": [
    "Necesitamos transformar nuestro dataset de tal forma de tener una matriz cuyas columnas contienen todos los productos disponibles en el país y las filas son todas las órdenes. Se marcará en cada caso si en esa órden se compró o no cada producto."
   ]
  },
  {
   "cell_type": "code",
   "execution_count": 10,
   "id": "1e419c8f",
   "metadata": {},
   "outputs": [
    {
     "data": {
      "text/plain": [
       "[['GLASS STAR FROSTED T-LIGHT HOLDER',\n",
       "  'SET 7 BABUSHKA NESTING BOXES',\n",
       "  'RED WOOLLY HOTTIE WHITE HEART.',\n",
       "  'KNITTED UNION FLAG HOT WATER BOTTLE',\n",
       "  'CREAM CUPID HEARTS COAT HANGER',\n",
       "  'WHITE HANGING HEART T-LIGHT HOLDER',\n",
       "  'WHITE METAL LANTERN'],\n",
       " ['HAND WARMER UNION JACK', 'HAND WARMER RED POLKA DOT'],\n",
       " ['HOME BUILDING BLOCK WORD',\n",
       "  'LOVE BUILDING BLOCK WORD',\n",
       "  'RECIPE BOX WITH METAL HEART',\n",
       "  'IVORY KNITTED MUG COSY ',\n",
       "  'BOX OF VINTAGE ALPHABET BLOCKS',\n",
       "  'BOX OF VINTAGE JIGSAW BLOCKS ',\n",
       "  \"POPPY'S PLAYHOUSE BEDROOM \",\n",
       "  \"POPPY'S PLAYHOUSE KITCHEN\",\n",
       "  'FELTCRAFT PRINCESS CHARLOTTE DOLL',\n",
       "  'DOORMAT NEW ENGLAND',\n",
       "  'ASSORTED COLOUR BIRD ORNAMENT',\n",
       "  'BOX OF 6 ASSORTED COLOUR TEASPOONS'],\n",
       " ['YELLOW COAT RACK PARIS FASHION',\n",
       "  'RED COAT RACK PARIS FASHION',\n",
       "  'BLUE COAT RACK PARIS FASHION',\n",
       "  'JAM MAKING SET WITH JARS'],\n",
       " ['HAND WARMER UNION JACK', 'HAND WARMER RED POLKA DOT'],\n",
       " ['GLASS STAR FROSTED T-LIGHT HOLDER',\n",
       "  'SET 7 BABUSHKA NESTING BOXES',\n",
       "  'RED WOOLLY HOTTIE WHITE HEART.',\n",
       "  'KNITTED UNION FLAG HOT WATER BOTTLE',\n",
       "  'CREAM CUPID HEARTS COAT HANGER',\n",
       "  'EDWARDIAN PARASOL RED',\n",
       "  'VINTAGE BILLBOARD LOVE/HATE MUG',\n",
       "  'VINTAGE BILLBOARD DRINK ME MUG',\n",
       "  'SAVE THE PLANET MUG',\n",
       "  'RETRO COFFEE MUGS ASSORTED',\n",
       "  'WOODEN PICTURE FRAME WHITE FINISH',\n",
       "  'WOOD 2 DRAWER CABINET WHITE FINISH',\n",
       "  'WOODEN FRAME ANTIQUE WHITE ',\n",
       "  'WOOD S/3 CABINET ANT WHITE FINISH',\n",
       "  'WHITE HANGING HEART T-LIGHT HOLDER',\n",
       "  'WHITE METAL LANTERN'],\n",
       " ['GLASS STAR FROSTED T-LIGHT HOLDER',\n",
       "  'SET 7 BABUSHKA NESTING BOXES',\n",
       "  'RED WOOLLY HOTTIE WHITE HEART.',\n",
       "  'KNITTED UNION FLAG HOT WATER BOTTLE',\n",
       "  'CREAM CUPID HEARTS COAT HANGER',\n",
       "  'EDWARDIAN PARASOL RED',\n",
       "  'VINTAGE BILLBOARD LOVE/HATE MUG',\n",
       "  'VINTAGE BILLBOARD DRINK ME MUG',\n",
       "  'SAVE THE PLANET MUG',\n",
       "  'RETRO COFFEE MUGS ASSORTED',\n",
       "  'WOODEN PICTURE FRAME WHITE FINISH',\n",
       "  'WOOD 2 DRAWER CABINET WHITE FINISH',\n",
       "  'WOODEN FRAME ANTIQUE WHITE ',\n",
       "  'WOOD S/3 CABINET ANT WHITE FINISH',\n",
       "  'WHITE HANGING HEART T-LIGHT HOLDER',\n",
       "  'WHITE METAL LANTERN'],\n",
       " ['RED HANGING HEART T-LIGHT HOLDER', 'HOT WATER BOTTLE TEA AND SYMPATHY'],\n",
       " ['HAND WARMER UNION JACK', 'HAND WARMER RED POLKA DOT'],\n",
       " ['STRAWBERRY CHARLOTTE BAG',\n",
       "  'LUNCH BAG RED RETROSPOT',\n",
       "  'JUMBO BAG CHARLIE AND LOLA TOYS',\n",
       "  'SET/6 RED SPOTTY PAPER PLATES',\n",
       "  'PACK OF 72 RETROSPOT CAKE CASES',\n",
       "  'STRAWBERRY LUNCH BOX WITH CUTLERY',\n",
       "  'JUMBO BAG PINK VINTAGE PAISLEY',\n",
       "  'JUMBO STORAGE BAG SUKI',\n",
       "  'PACK OF 60 DINOSAUR CAKE CASES',\n",
       "  'PACK OF 60 PINK PAISLEY CAKE CASES',\n",
       "  'LUNCH BOX WITH CUTLERY RETROSPOT ',\n",
       "  'JUMBO BAG PINK POLKADOT',\n",
       "  '60 TEATIME FAIRY CAKE CASES',\n",
       "  'TOMATO CHARLIE+LOLA COASTER SET',\n",
       "  'RED CHARLIE+LOLA PERSONAL DOORSIGN',\n",
       "  'JUMBO  BAG BAROQUE BLACK WHITE',\n",
       "  'CHARLIE & LOLA WASTEPAPER BIN FLORA',\n",
       "  'BLUE 3 PIECE POLKADOT CUTLERY SET',\n",
       "  'RED 3 PIECE RETROSPOT CUTLERY SET']]"
      ]
     },
     "execution_count": 10,
     "metadata": {},
     "output_type": "execute_result"
    }
   ],
   "source": [
    "# Miramos las primeras 10 transacciones\n",
    "all_transactions[0:10]"
   ]
  },
  {
   "cell_type": "code",
   "execution_count": 11,
   "id": "0733a9d1",
   "metadata": {},
   "outputs": [],
   "source": [
    "# TransactionEncoder nos permite transformar nuestro dataset tal como lo precisamos\n",
    "\n",
    "trans_encoder = TransactionEncoder() # Instanciate the encoder\n",
    "trans_encoder_matrix = trans_encoder.fit(all_transactions).transform(all_transactions)\n",
    "trans_encoder_matrix = pd.DataFrame(trans_encoder_matrix, columns=trans_encoder.columns_)"
   ]
  },
  {
   "cell_type": "code",
   "execution_count": 12,
   "id": "72d24334",
   "metadata": {},
   "outputs": [
    {
     "data": {
      "text/html": [
       "<div>\n",
       "<style scoped>\n",
       "    .dataframe tbody tr th:only-of-type {\n",
       "        vertical-align: middle;\n",
       "    }\n",
       "\n",
       "    .dataframe tbody tr th {\n",
       "        vertical-align: top;\n",
       "    }\n",
       "\n",
       "    .dataframe thead th {\n",
       "        text-align: right;\n",
       "    }\n",
       "</style>\n",
       "<table border=\"1\" class=\"dataframe\">\n",
       "  <thead>\n",
       "    <tr style=\"text-align: right;\">\n",
       "      <th></th>\n",
       "      <th>4 PURPLE FLOCK DINNER CANDLES</th>\n",
       "      <th>50'S CHRISTMAS GIFT BAG LARGE</th>\n",
       "      <th>DOLLY GIRL BEAKER</th>\n",
       "      <th>I LOVE LONDON MINI BACKPACK</th>\n",
       "      <th>NINE DRAWER OFFICE TIDY</th>\n",
       "      <th>OVAL WALL MIRROR DIAMANTE</th>\n",
       "      <th>RED SPOT GIFT BAG LARGE</th>\n",
       "      <th>SET 2 TEA TOWELS I LOVE LONDON</th>\n",
       "      <th>SPACEBOY BABY GIFT SET</th>\n",
       "      <th>TRELLIS COAT RACK</th>\n",
       "      <th>...</th>\n",
       "      <th>ZINC HERB GARDEN CONTAINER</th>\n",
       "      <th>ZINC METAL HEART DECORATION</th>\n",
       "      <th>ZINC SWEETHEART SOAP DISH</th>\n",
       "      <th>ZINC SWEETHEART WIRE LETTER RACK</th>\n",
       "      <th>ZINC T-LIGHT HOLDER STAR LARGE</th>\n",
       "      <th>ZINC T-LIGHT HOLDER STARS SMALL</th>\n",
       "      <th>ZINC TOP  2 DOOR WOODEN SHELF</th>\n",
       "      <th>ZINC WILLIE WINKIE  CANDLE STICK</th>\n",
       "      <th>ZINC WIRE KITCHEN ORGANISER</th>\n",
       "      <th>ZINC WIRE SWEETHEART LETTER TRAY</th>\n",
       "    </tr>\n",
       "  </thead>\n",
       "  <tbody>\n",
       "    <tr>\n",
       "      <th>0</th>\n",
       "      <td>False</td>\n",
       "      <td>False</td>\n",
       "      <td>False</td>\n",
       "      <td>False</td>\n",
       "      <td>False</td>\n",
       "      <td>False</td>\n",
       "      <td>False</td>\n",
       "      <td>False</td>\n",
       "      <td>False</td>\n",
       "      <td>False</td>\n",
       "      <td>...</td>\n",
       "      <td>False</td>\n",
       "      <td>False</td>\n",
       "      <td>False</td>\n",
       "      <td>False</td>\n",
       "      <td>False</td>\n",
       "      <td>False</td>\n",
       "      <td>False</td>\n",
       "      <td>False</td>\n",
       "      <td>False</td>\n",
       "      <td>False</td>\n",
       "    </tr>\n",
       "    <tr>\n",
       "      <th>1</th>\n",
       "      <td>False</td>\n",
       "      <td>False</td>\n",
       "      <td>False</td>\n",
       "      <td>False</td>\n",
       "      <td>False</td>\n",
       "      <td>False</td>\n",
       "      <td>False</td>\n",
       "      <td>False</td>\n",
       "      <td>False</td>\n",
       "      <td>False</td>\n",
       "      <td>...</td>\n",
       "      <td>False</td>\n",
       "      <td>False</td>\n",
       "      <td>False</td>\n",
       "      <td>False</td>\n",
       "      <td>False</td>\n",
       "      <td>False</td>\n",
       "      <td>False</td>\n",
       "      <td>False</td>\n",
       "      <td>False</td>\n",
       "      <td>False</td>\n",
       "    </tr>\n",
       "    <tr>\n",
       "      <th>2</th>\n",
       "      <td>False</td>\n",
       "      <td>False</td>\n",
       "      <td>False</td>\n",
       "      <td>False</td>\n",
       "      <td>False</td>\n",
       "      <td>False</td>\n",
       "      <td>False</td>\n",
       "      <td>False</td>\n",
       "      <td>False</td>\n",
       "      <td>False</td>\n",
       "      <td>...</td>\n",
       "      <td>False</td>\n",
       "      <td>False</td>\n",
       "      <td>False</td>\n",
       "      <td>False</td>\n",
       "      <td>False</td>\n",
       "      <td>False</td>\n",
       "      <td>False</td>\n",
       "      <td>False</td>\n",
       "      <td>False</td>\n",
       "      <td>False</td>\n",
       "    </tr>\n",
       "    <tr>\n",
       "      <th>3</th>\n",
       "      <td>False</td>\n",
       "      <td>False</td>\n",
       "      <td>False</td>\n",
       "      <td>False</td>\n",
       "      <td>False</td>\n",
       "      <td>False</td>\n",
       "      <td>False</td>\n",
       "      <td>False</td>\n",
       "      <td>False</td>\n",
       "      <td>False</td>\n",
       "      <td>...</td>\n",
       "      <td>False</td>\n",
       "      <td>False</td>\n",
       "      <td>False</td>\n",
       "      <td>False</td>\n",
       "      <td>False</td>\n",
       "      <td>False</td>\n",
       "      <td>False</td>\n",
       "      <td>False</td>\n",
       "      <td>False</td>\n",
       "      <td>False</td>\n",
       "    </tr>\n",
       "    <tr>\n",
       "      <th>4</th>\n",
       "      <td>False</td>\n",
       "      <td>False</td>\n",
       "      <td>False</td>\n",
       "      <td>False</td>\n",
       "      <td>False</td>\n",
       "      <td>False</td>\n",
       "      <td>False</td>\n",
       "      <td>False</td>\n",
       "      <td>False</td>\n",
       "      <td>False</td>\n",
       "      <td>...</td>\n",
       "      <td>False</td>\n",
       "      <td>False</td>\n",
       "      <td>False</td>\n",
       "      <td>False</td>\n",
       "      <td>False</td>\n",
       "      <td>False</td>\n",
       "      <td>False</td>\n",
       "      <td>False</td>\n",
       "      <td>False</td>\n",
       "      <td>False</td>\n",
       "    </tr>\n",
       "  </tbody>\n",
       "</table>\n",
       "<p>5 rows × 3669 columns</p>\n",
       "</div>"
      ],
      "text/plain": [
       "    4 PURPLE FLOCK DINNER CANDLES   50'S CHRISTMAS GIFT BAG LARGE  \\\n",
       "0                           False                           False   \n",
       "1                           False                           False   \n",
       "2                           False                           False   \n",
       "3                           False                           False   \n",
       "4                           False                           False   \n",
       "\n",
       "    DOLLY GIRL BEAKER   I LOVE LONDON MINI BACKPACK   NINE DRAWER OFFICE TIDY  \\\n",
       "0               False                         False                     False   \n",
       "1               False                         False                     False   \n",
       "2               False                         False                     False   \n",
       "3               False                         False                     False   \n",
       "4               False                         False                     False   \n",
       "\n",
       "    OVAL WALL MIRROR DIAMANTE    RED SPOT GIFT BAG LARGE  \\\n",
       "0                        False                     False   \n",
       "1                        False                     False   \n",
       "2                        False                     False   \n",
       "3                        False                     False   \n",
       "4                        False                     False   \n",
       "\n",
       "    SET 2 TEA TOWELS I LOVE LONDON    SPACEBOY BABY GIFT SET  \\\n",
       "0                             False                    False   \n",
       "1                             False                    False   \n",
       "2                             False                    False   \n",
       "3                             False                    False   \n",
       "4                             False                    False   \n",
       "\n",
       "    TRELLIS COAT RACK  ...  ZINC HERB GARDEN CONTAINER  \\\n",
       "0               False  ...                       False   \n",
       "1               False  ...                       False   \n",
       "2               False  ...                       False   \n",
       "3               False  ...                       False   \n",
       "4               False  ...                       False   \n",
       "\n",
       "   ZINC METAL HEART DECORATION  ZINC SWEETHEART SOAP DISH  \\\n",
       "0                        False                      False   \n",
       "1                        False                      False   \n",
       "2                        False                      False   \n",
       "3                        False                      False   \n",
       "4                        False                      False   \n",
       "\n",
       "   ZINC SWEETHEART WIRE LETTER RACK  ZINC T-LIGHT HOLDER STAR LARGE  \\\n",
       "0                             False                           False   \n",
       "1                             False                           False   \n",
       "2                             False                           False   \n",
       "3                             False                           False   \n",
       "4                             False                           False   \n",
       "\n",
       "   ZINC T-LIGHT HOLDER STARS SMALL  ZINC TOP  2 DOOR WOODEN SHELF   \\\n",
       "0                            False                           False   \n",
       "1                            False                           False   \n",
       "2                            False                           False   \n",
       "3                            False                           False   \n",
       "4                            False                           False   \n",
       "\n",
       "   ZINC WILLIE WINKIE  CANDLE STICK  ZINC WIRE KITCHEN ORGANISER  \\\n",
       "0                             False                        False   \n",
       "1                             False                        False   \n",
       "2                             False                        False   \n",
       "3                             False                        False   \n",
       "4                             False                        False   \n",
       "\n",
       "   ZINC WIRE SWEETHEART LETTER TRAY  \n",
       "0                             False  \n",
       "1                             False  \n",
       "2                             False  \n",
       "3                             False  \n",
       "4                             False  \n",
       "\n",
       "[5 rows x 3669 columns]"
      ]
     },
     "execution_count": 12,
     "metadata": {},
     "output_type": "execute_result"
    }
   ],
   "source": [
    "trans_encoder_matrix.head()"
   ]
  },
  {
   "cell_type": "code",
   "execution_count": 13,
   "id": "20d905fa",
   "metadata": {},
   "outputs": [
    {
     "data": {
      "text/plain": [
       "(17549, 3669)"
      ]
     },
     "execution_count": 13,
     "metadata": {},
     "output_type": "execute_result"
    }
   ],
   "source": [
    "trans_encoder_matrix.shape"
   ]
  },
  {
   "cell_type": "markdown",
   "id": "47f700b1",
   "metadata": {},
   "source": [
    "## Implementación de las Reglas de Asociación"
   ]
  },
  {
   "cell_type": "markdown",
   "id": "4ab098cd",
   "metadata": {},
   "source": [
    "A continuación se definirán funciones para la implementación de las reglas de asociación.\n",
    "\n",
    "El __soporte__ indica qué tan popular es un artículo, es decir, cuán frecuente aparece en las compras. El umbral lo tenemos que determinar nostotros, por ejemplo, si lo seteamos en .5 entonces nos quedaremos solo con aquellos que ocurren juntos por lo menos el 5% de las veces. Cuanto más bajo sea mayor combinaciones de artículos lograremos y por lo tanto más cantidad de recomendaciones y este es nuestro objetivo."
   ]
  },
  {
   "cell_type": "markdown",
   "id": "3d79cf97",
   "metadata": {},
   "source": [
    "### Funciones Helper"
   ]
  },
  {
   "cell_type": "code",
   "execution_count": 14,
   "id": "2dc95232",
   "metadata": {},
   "outputs": [],
   "source": [
    "def perform_rule_calculation(transact_items_matrix, rule_type=\"fpgrowth\", min_support=0.005):\n",
    "    \"\"\"\n",
    "    desc: this function performs the association rule calculation \n",
    "    @params:\n",
    "        - transact_items_matrix: the transaction X Items matrix\n",
    "        - rule_type: \n",
    "                    - apriori or Growth algorithms (default=\"fpgrowth\")\n",
    "                    \n",
    "        - min_support: minimum support threshold value (default = 0.005)\n",
    "        \n",
    "    @returns:\n",
    "        - the matrix containing 3 columns:\n",
    "            - support: support values for each combination of items\n",
    "            - itemsets: the combination of items\n",
    "            - number_of_items: the number of items in each combination of items\n",
    "            \n",
    "        - the excution time for the corresponding algorithm\n",
    "        \n",
    "    \"\"\"\n",
    "    start_time = 0\n",
    "    total_execution = 0\n",
    "    \n",
    "    if(not rule_type==\"fpgrowth\"):\n",
    "        start_time = time.time()\n",
    "        rule_items = apriori(transact_items_matrix, \n",
    "                       min_support=min_support, \n",
    "                       use_colnames=True)\n",
    "        total_execution = time.time() - start_time\n",
    "        print(\"Computed Apriori!\")\n",
    "        \n",
    "    else:\n",
    "        start_time = time.time()\n",
    "        rule_items = fpgrowth(transact_items_matrix, \n",
    "                       min_support=min_support, \n",
    "                       use_colnames=True)\n",
    "        total_execution = time.time() - start_time\n",
    "        print(\"Computed Fp Growth!\")\n",
    "    \n",
    "    rule_items['number_of_items'] = rule_items['itemsets'].apply(lambda x: len(x))\n",
    "    \n",
    "    return rule_items, total_execution"
   ]
  },
  {
   "cell_type": "code",
   "execution_count": 15,
   "id": "f7579414",
   "metadata": {},
   "outputs": [],
   "source": [
    "def compute_association_rule(rule_matrix, metric=\"lift\", min_thresh=1):\n",
    "    \"\"\"\n",
    "    @desc: Compute the final association rule\n",
    "    @params:\n",
    "        - rule_matrix: the corresponding algorithms matrix\n",
    "        - metric: the metric to be used (default is lift)\n",
    "        - min_thresh: the minimum threshold (default is 1)\n",
    "        \n",
    "    @returns:\n",
    "        - rules: all the information for each transaction satisfying the given metric & threshold\n",
    "    \"\"\"\n",
    "    rules = association_rules(rule_matrix, \n",
    "                              metric=metric, \n",
    "                              min_threshold=min_thresh)\n",
    "    \n",
    "    return rules"
   ]
  },
  {
   "cell_type": "code",
   "execution_count": 16,
   "id": "6197844a",
   "metadata": {},
   "outputs": [],
   "source": [
    "# Plot Lift Vs Coverage(confidence) \n",
    "def plot_metrics_relationship(rule_matrix, col1, col2):\n",
    "    \"\"\"\n",
    "    desc: shows the relationship between the two input columns \n",
    "    @params:\n",
    "        - rule_matrix: the matrix containing the result of a rule (apriori or Fp Growth)\n",
    "        - col1: first column\n",
    "        - col2: second column\n",
    "    \"\"\"\n",
    "    fit = np.polyfit(rule_matrix[col1], rule_matrix[col2], 1)\n",
    "    fit_funt = np.poly1d(fit)\n",
    "    plt.plot(rule_matrix[col1], rule_matrix[col2], 'yo', rule_matrix[col1], \n",
    "    fit_funt(rule_matrix[col1]))\n",
    "    plt.xlabel(col1)\n",
    "    plt.ylabel(col2)\n",
    "    plt.title('{} vs {}'.format(col1, col2))"
   ]
  },
  {
   "cell_type": "code",
   "execution_count": 17,
   "id": "3a57ead7",
   "metadata": {},
   "outputs": [],
   "source": [
    "def compare_time_exec(algo1=list, alg2=list):\n",
    "    \"\"\"\n",
    "    @desc: shows the execution time between two algorithms\n",
    "    @params:\n",
    "        - algo1: list containing the description of first algorithm, where\n",
    "            \n",
    "        - algo2: list containing the description of second algorithm, where\n",
    "    \"\"\"\n",
    "    \n",
    "    execution_times = [algo1[1], algo2[1]]\n",
    "    algo_names = (algo1[0], algo2[0])\n",
    "    y=np.arange(len(algo_names))\n",
    "    \n",
    "    plt.bar(y,execution_times,color=['orange', 'blue'])\n",
    "    plt.xticks(y,algo_names)\n",
    "    plt.xlabel('Algorithms')\n",
    "    plt.ylabel('Time')\n",
    "    plt.title(\"Execution Time (seconds) Comparison\")\n",
    "    plt.show()"
   ]
  },
  {
   "cell_type": "markdown",
   "id": "307c621f",
   "metadata": {},
   "source": [
    "## FP Growth Algorithm"
   ]
  },
  {
   "cell_type": "markdown",
   "id": "0613658b",
   "metadata": {},
   "source": [
    "Calculamos el support de todo el conjunto de artícolos utilizando la matriz calculada trans_encoder_matrix con un soporte mínimo de 0.005. Le indicamos que la regla que tiene que aplicar es del tipo \"fpgrowth\", que es la que está por defalut."
   ]
  },
  {
   "cell_type": "code",
   "execution_count": 18,
   "id": "4959bbde",
   "metadata": {},
   "outputs": [
    {
     "name": "stdout",
     "output_type": "stream",
     "text": [
      "Computed Fp Growth!\n",
      "Fp Growth execution took: 10.381493091583252 seconds\n"
     ]
    }
   ],
   "source": [
    "fpgrowth_matrix, fp_growth_exec_time = perform_rule_calculation(trans_encoder_matrix) # Run the algorithm\n",
    "print(\"Fp Growth execution took: {} seconds\".format(fp_growth_exec_time))"
   ]
  },
  {
   "cell_type": "markdown",
   "id": "fd0eb68e",
   "metadata": {},
   "source": [
    "### Soporte"
   ]
  },
  {
   "cell_type": "code",
   "execution_count": 19,
   "id": "b21dab4c",
   "metadata": {},
   "outputs": [],
   "source": [
    "result_support_fpg = fpgrowth_matrix.copy()\n",
    "result_support_fpg = pd.DataFrame(result_support_fpg)\n",
    "\n",
    "result_support_fpg[\"itemsets\"] = result_support_fpg[\"itemsets\"].apply(lambda x: \",\".join(x))"
   ]
  },
  {
   "cell_type": "markdown",
   "id": "56259234",
   "metadata": {},
   "source": [
    "Para este ejemplo podemos observar que el `WHITE HANGING HEART T-LIGHT`, el `JUMBO BAG RED RETROSPOT` y el `REGENCY CAKESTAND 3 TIER` por separados son productos que tienen un alto valor de support, esto es porque se compran con alta frecuencia. El `WHITE HANGING HEART T-LIGHT HOLDER` es el producto más comprado."
   ]
  },
  {
   "cell_type": "code",
   "execution_count": 20,
   "id": "6cdf2bb0",
   "metadata": {},
   "outputs": [
    {
     "data": {
      "text/html": [
       "<div>\n",
       "<style scoped>\n",
       "    .dataframe tbody tr th:only-of-type {\n",
       "        vertical-align: middle;\n",
       "    }\n",
       "\n",
       "    .dataframe tbody tr th {\n",
       "        vertical-align: top;\n",
       "    }\n",
       "\n",
       "    .dataframe thead th {\n",
       "        text-align: right;\n",
       "    }\n",
       "</style>\n",
       "<table border=\"1\" class=\"dataframe\">\n",
       "  <thead>\n",
       "    <tr style=\"text-align: right;\">\n",
       "      <th></th>\n",
       "      <th>support</th>\n",
       "      <th>itemsets</th>\n",
       "      <th>number_of_items</th>\n",
       "    </tr>\n",
       "  </thead>\n",
       "  <tbody>\n",
       "    <tr>\n",
       "      <th>0</th>\n",
       "      <td>0.111003</td>\n",
       "      <td>WHITE HANGING HEART T-LIGHT HOLDER</td>\n",
       "      <td>1</td>\n",
       "    </tr>\n",
       "    <tr>\n",
       "      <th>95</th>\n",
       "      <td>0.095276</td>\n",
       "      <td>JUMBO BAG RED RETROSPOT</td>\n",
       "      <td>1</td>\n",
       "    </tr>\n",
       "    <tr>\n",
       "      <th>365</th>\n",
       "      <td>0.089749</td>\n",
       "      <td>REGENCY CAKESTAND 3 TIER</td>\n",
       "      <td>1</td>\n",
       "    </tr>\n",
       "  </tbody>\n",
       "</table>\n",
       "</div>"
      ],
      "text/plain": [
       "      support                            itemsets  number_of_items\n",
       "0    0.111003  WHITE HANGING HEART T-LIGHT HOLDER                1\n",
       "95   0.095276             JUMBO BAG RED RETROSPOT                1\n",
       "365  0.089749            REGENCY CAKESTAND 3 TIER                1"
      ]
     },
     "execution_count": 20,
     "metadata": {},
     "output_type": "execute_result"
    }
   ],
   "source": [
    "result_support_fpg.sort_values(by='support', ascending=False).head(3)"
   ]
  },
  {
   "cell_type": "markdown",
   "id": "407498af",
   "metadata": {},
   "source": [
    "También observamos que por ejemplo dentro de los que tienen el support más cercano al valor al threshold se encuentran algunos productos que se compran juntos. Si bien el valor de support es bajo, hay que considerar que para calcularlo se tienen en cuenta de todas las compras realizadas en este país cuántas tuvieron esos productos en conjunto."
   ]
  },
  {
   "cell_type": "code",
   "execution_count": 21,
   "id": "35499630",
   "metadata": {
    "scrolled": true
   },
   "outputs": [
    {
     "data": {
      "text/html": [
       "<div>\n",
       "<style scoped>\n",
       "    .dataframe tbody tr th:only-of-type {\n",
       "        vertical-align: middle;\n",
       "    }\n",
       "\n",
       "    .dataframe tbody tr th {\n",
       "        vertical-align: top;\n",
       "    }\n",
       "\n",
       "    .dataframe thead th {\n",
       "        text-align: right;\n",
       "    }\n",
       "</style>\n",
       "<table border=\"1\" class=\"dataframe\">\n",
       "  <thead>\n",
       "    <tr style=\"text-align: right;\">\n",
       "      <th></th>\n",
       "      <th>support</th>\n",
       "      <th>itemsets</th>\n",
       "      <th>number_of_items</th>\n",
       "    </tr>\n",
       "  </thead>\n",
       "  <tbody>\n",
       "    <tr>\n",
       "      <th>4342</th>\n",
       "      <td>0.005015</td>\n",
       "      <td>PAPER CHAIN KIT 50'S CHRISTMAS ,SPOTTY BUNTING</td>\n",
       "      <td>2</td>\n",
       "    </tr>\n",
       "    <tr>\n",
       "      <th>2236</th>\n",
       "      <td>0.005015</td>\n",
       "      <td>SET OF 3 BUTTERFLY COOKIE CUTTERS,PARTY BUNTING</td>\n",
       "      <td>2</td>\n",
       "    </tr>\n",
       "    <tr>\n",
       "      <th>4203</th>\n",
       "      <td>0.005015</td>\n",
       "      <td>CHARLOTTE BAG PINK POLKADOT,WOODLAND CHARLOTTE...</td>\n",
       "      <td>4</td>\n",
       "    </tr>\n",
       "  </tbody>\n",
       "</table>\n",
       "</div>"
      ],
      "text/plain": [
       "       support                                           itemsets  \\\n",
       "4342  0.005015     PAPER CHAIN KIT 50'S CHRISTMAS ,SPOTTY BUNTING   \n",
       "2236  0.005015    SET OF 3 BUTTERFLY COOKIE CUTTERS,PARTY BUNTING   \n",
       "4203  0.005015  CHARLOTTE BAG PINK POLKADOT,WOODLAND CHARLOTTE...   \n",
       "\n",
       "      number_of_items  \n",
       "4342                2  \n",
       "2236                2  \n",
       "4203                4  "
      ]
     },
     "execution_count": 21,
     "metadata": {},
     "output_type": "execute_result"
    }
   ],
   "source": [
    "result_support_fpg.sort_values(by='support', ascending=False).tail(3)"
   ]
  },
  {
   "cell_type": "markdown",
   "id": "8a7b58ed",
   "metadata": {},
   "source": [
    "Veamos ahora qué sucede si computamos el support de `SET OF 3 BUTTERFLY COOKIE CUTTERS` y `PARTY BUNTING` por separado, seguramente este valor sea mayor. También veremos más adelante si existe asociación entre estos dos productos."
   ]
  },
  {
   "cell_type": "code",
   "execution_count": 22,
   "id": "93034c74",
   "metadata": {},
   "outputs": [
    {
     "data": {
      "text/html": [
       "<div>\n",
       "<style scoped>\n",
       "    .dataframe tbody tr th:only-of-type {\n",
       "        vertical-align: middle;\n",
       "    }\n",
       "\n",
       "    .dataframe tbody tr th {\n",
       "        vertical-align: top;\n",
       "    }\n",
       "\n",
       "    .dataframe thead th {\n",
       "        text-align: right;\n",
       "    }\n",
       "</style>\n",
       "<table border=\"1\" class=\"dataframe\">\n",
       "  <thead>\n",
       "    <tr style=\"text-align: right;\">\n",
       "      <th></th>\n",
       "      <th>support</th>\n",
       "      <th>itemsets</th>\n",
       "      <th>number_of_items</th>\n",
       "    </tr>\n",
       "  </thead>\n",
       "  <tbody>\n",
       "    <tr>\n",
       "      <th>190</th>\n",
       "      <td>0.029517</td>\n",
       "      <td>SET OF 3 BUTTERFLY COOKIE CUTTERS</td>\n",
       "      <td>1</td>\n",
       "    </tr>\n",
       "    <tr>\n",
       "      <th>769</th>\n",
       "      <td>0.079435</td>\n",
       "      <td>PARTY BUNTING</td>\n",
       "      <td>1</td>\n",
       "    </tr>\n",
       "  </tbody>\n",
       "</table>\n",
       "</div>"
      ],
      "text/plain": [
       "      support                           itemsets  number_of_items\n",
       "190  0.029517  SET OF 3 BUTTERFLY COOKIE CUTTERS                1\n",
       "769  0.079435                      PARTY BUNTING                1"
      ]
     },
     "execution_count": 22,
     "metadata": {},
     "output_type": "execute_result"
    }
   ],
   "source": [
    "result_support_fpg.loc[(result_support_fpg['itemsets']=='SET OF 3 BUTTERFLY COOKIE CUTTERS')|\n",
    "                       (result_support_fpg['itemsets']=='PARTY BUNTING')\n",
    "                      ]"
   ]
  },
  {
   "cell_type": "markdown",
   "id": "f3ad44fd",
   "metadata": {},
   "source": [
    "El __soporte__ de estos productos por separado es más alto, seguramente porque se compran solos o con otros productos también."
   ]
  },
  {
   "cell_type": "markdown",
   "id": "db8923bb",
   "metadata": {},
   "source": [
    "### Lift"
   ]
  },
  {
   "cell_type": "markdown",
   "id": "0cf96389",
   "metadata": {},
   "source": [
    "Calculamos ahora las reglas de asociación pero le indicaremos que el mínimo que admitimos es un lift (mejora de la confianza) de 1, esto es porque:\n",
    "\n",
    "* lift > 1 => la relación es más fuerte de lo que se puede explicar por azar\n",
    "* lift = 1 => la regla se puede explicar simplemente por azar\n",
    "* lift < 1 => la relación es muy débil\n",
    "\n",
    "Por lo tanto, si ese valor es menor a uno ya descartamos esas asociaciones."
   ]
  },
  {
   "cell_type": "code",
   "execution_count": 23,
   "id": "16fafe89",
   "metadata": {},
   "outputs": [],
   "source": [
    "fp_growth_rule_lift = compute_association_rule(fpgrowth_matrix)"
   ]
  },
  {
   "cell_type": "code",
   "execution_count": 24,
   "id": "d4156cec",
   "metadata": {},
   "outputs": [],
   "source": [
    "result_fpg_rule_lift = fp_growth_rule_lift.copy()\n",
    "result_fpg_rule_lift = pd.DataFrame(result_fpg_rule_lift)\n",
    "\n",
    "result_fpg_rule_lift[\"antecedents\"] = result_fpg_rule_lift[\"antecedents\"].apply(lambda x: \",\".join(x))\n",
    "result_fpg_rule_lift[\"consequents\"] = result_fpg_rule_lift[\"consequents\"].apply(lambda x: \",\".join(x))"
   ]
  },
  {
   "cell_type": "code",
   "execution_count": 25,
   "id": "ed73d6c4",
   "metadata": {
    "scrolled": true
   },
   "outputs": [
    {
     "data": {
      "text/html": [
       "<div>\n",
       "<style scoped>\n",
       "    .dataframe tbody tr th:only-of-type {\n",
       "        vertical-align: middle;\n",
       "    }\n",
       "\n",
       "    .dataframe tbody tr th {\n",
       "        vertical-align: top;\n",
       "    }\n",
       "\n",
       "    .dataframe thead th {\n",
       "        text-align: right;\n",
       "    }\n",
       "</style>\n",
       "<table border=\"1\" class=\"dataframe\">\n",
       "  <thead>\n",
       "    <tr style=\"text-align: right;\">\n",
       "      <th></th>\n",
       "      <th>antecedents</th>\n",
       "      <th>consequents</th>\n",
       "      <th>antecedent support</th>\n",
       "      <th>consequent support</th>\n",
       "      <th>support</th>\n",
       "      <th>confidence</th>\n",
       "      <th>lift</th>\n",
       "      <th>leverage</th>\n",
       "      <th>conviction</th>\n",
       "    </tr>\n",
       "  </thead>\n",
       "  <tbody>\n",
       "    <tr>\n",
       "      <th>0</th>\n",
       "      <td>WHITE HANGING HEART T-LIGHT HOLDER</td>\n",
       "      <td>KNITTED UNION FLAG HOT WATER BOTTLE</td>\n",
       "      <td>0.111003</td>\n",
       "      <td>0.021084</td>\n",
       "      <td>0.005470</td>\n",
       "      <td>0.049281</td>\n",
       "      <td>2.337399</td>\n",
       "      <td>0.003130</td>\n",
       "      <td>1.029659</td>\n",
       "    </tr>\n",
       "    <tr>\n",
       "      <th>1</th>\n",
       "      <td>KNITTED UNION FLAG HOT WATER BOTTLE</td>\n",
       "      <td>WHITE HANGING HEART T-LIGHT HOLDER</td>\n",
       "      <td>0.021084</td>\n",
       "      <td>0.111003</td>\n",
       "      <td>0.005470</td>\n",
       "      <td>0.259459</td>\n",
       "      <td>2.337399</td>\n",
       "      <td>0.003130</td>\n",
       "      <td>1.200470</td>\n",
       "    </tr>\n",
       "    <tr>\n",
       "      <th>2</th>\n",
       "      <td>CHOCOLATE HOT WATER BOTTLE</td>\n",
       "      <td>KNITTED UNION FLAG HOT WATER BOTTLE</td>\n",
       "      <td>0.041826</td>\n",
       "      <td>0.021084</td>\n",
       "      <td>0.006895</td>\n",
       "      <td>0.164850</td>\n",
       "      <td>7.818797</td>\n",
       "      <td>0.006013</td>\n",
       "      <td>1.172144</td>\n",
       "    </tr>\n",
       "    <tr>\n",
       "      <th>3</th>\n",
       "      <td>KNITTED UNION FLAG HOT WATER BOTTLE</td>\n",
       "      <td>CHOCOLATE HOT WATER BOTTLE</td>\n",
       "      <td>0.021084</td>\n",
       "      <td>0.041826</td>\n",
       "      <td>0.006895</td>\n",
       "      <td>0.327027</td>\n",
       "      <td>7.818797</td>\n",
       "      <td>0.006013</td>\n",
       "      <td>1.423793</td>\n",
       "    </tr>\n",
       "    <tr>\n",
       "      <th>4</th>\n",
       "      <td>KNITTED UNION FLAG HOT WATER BOTTLE</td>\n",
       "      <td>SCOTTIE DOG HOT WATER BOTTLE</td>\n",
       "      <td>0.021084</td>\n",
       "      <td>0.037951</td>\n",
       "      <td>0.005470</td>\n",
       "      <td>0.259459</td>\n",
       "      <td>6.836718</td>\n",
       "      <td>0.004670</td>\n",
       "      <td>1.299117</td>\n",
       "    </tr>\n",
       "  </tbody>\n",
       "</table>\n",
       "</div>"
      ],
      "text/plain": [
       "                           antecedents                          consequents  \\\n",
       "0   WHITE HANGING HEART T-LIGHT HOLDER  KNITTED UNION FLAG HOT WATER BOTTLE   \n",
       "1  KNITTED UNION FLAG HOT WATER BOTTLE   WHITE HANGING HEART T-LIGHT HOLDER   \n",
       "2           CHOCOLATE HOT WATER BOTTLE  KNITTED UNION FLAG HOT WATER BOTTLE   \n",
       "3  KNITTED UNION FLAG HOT WATER BOTTLE           CHOCOLATE HOT WATER BOTTLE   \n",
       "4  KNITTED UNION FLAG HOT WATER BOTTLE         SCOTTIE DOG HOT WATER BOTTLE   \n",
       "\n",
       "   antecedent support  consequent support   support  confidence      lift  \\\n",
       "0            0.111003            0.021084  0.005470    0.049281  2.337399   \n",
       "1            0.021084            0.111003  0.005470    0.259459  2.337399   \n",
       "2            0.041826            0.021084  0.006895    0.164850  7.818797   \n",
       "3            0.021084            0.041826  0.006895    0.327027  7.818797   \n",
       "4            0.021084            0.037951  0.005470    0.259459  6.836718   \n",
       "\n",
       "   leverage  conviction  \n",
       "0  0.003130    1.029659  \n",
       "1  0.003130    1.200470  \n",
       "2  0.006013    1.172144  \n",
       "3  0.006013    1.423793  \n",
       "4  0.004670    1.299117  "
      ]
     },
     "execution_count": 25,
     "metadata": {},
     "output_type": "execute_result"
    }
   ],
   "source": [
    "result_fpg_rule_lift.head(5)"
   ]
  },
  {
   "cell_type": "markdown",
   "id": "5b2994dd",
   "metadata": {},
   "source": [
    "Ordenemos ahora los productos antecedentes para ver para cada uno de ellos cuál es su consecuente y cuál tiene mayor confidence y lift.\n",
    "\n",
    "Podemos ver por ejemplo que el producto `12 PENCILS SMALL TUBE RED RETROSPOT` tiene muchos productos para recomendar."
   ]
  },
  {
   "cell_type": "code",
   "execution_count": 26,
   "id": "ef8ac7a2",
   "metadata": {
    "scrolled": true
   },
   "outputs": [
    {
     "data": {
      "text/html": [
       "<div>\n",
       "<style scoped>\n",
       "    .dataframe tbody tr th:only-of-type {\n",
       "        vertical-align: middle;\n",
       "    }\n",
       "\n",
       "    .dataframe tbody tr th {\n",
       "        vertical-align: top;\n",
       "    }\n",
       "\n",
       "    .dataframe thead th {\n",
       "        text-align: right;\n",
       "    }\n",
       "</style>\n",
       "<table border=\"1\" class=\"dataframe\">\n",
       "  <thead>\n",
       "    <tr style=\"text-align: right;\">\n",
       "      <th></th>\n",
       "      <th>antecedents</th>\n",
       "      <th>consequents</th>\n",
       "      <th>antecedent support</th>\n",
       "      <th>consequent support</th>\n",
       "      <th>support</th>\n",
       "      <th>confidence</th>\n",
       "      <th>lift</th>\n",
       "      <th>leverage</th>\n",
       "      <th>conviction</th>\n",
       "    </tr>\n",
       "  </thead>\n",
       "  <tbody>\n",
       "    <tr>\n",
       "      <th>7311</th>\n",
       "      <td>12 PENCIL SMALL TUBE WOODLAND</td>\n",
       "      <td>12 PENCILS SMALL TUBE RED RETROSPOT</td>\n",
       "      <td>0.014531</td>\n",
       "      <td>0.016468</td>\n",
       "      <td>0.005869</td>\n",
       "      <td>0.403922</td>\n",
       "      <td>24.527403</td>\n",
       "      <td>0.005630</td>\n",
       "      <td>1.650004</td>\n",
       "    </tr>\n",
       "    <tr>\n",
       "      <th>7308</th>\n",
       "      <td>12 PENCILS SMALL TUBE RED RETROSPOT</td>\n",
       "      <td>12 PENCILS SMALL TUBE SKULL</td>\n",
       "      <td>0.016468</td>\n",
       "      <td>0.015784</td>\n",
       "      <td>0.006553</td>\n",
       "      <td>0.397924</td>\n",
       "      <td>25.209986</td>\n",
       "      <td>0.006293</td>\n",
       "      <td>1.634703</td>\n",
       "    </tr>\n",
       "    <tr>\n",
       "      <th>7310</th>\n",
       "      <td>12 PENCILS SMALL TUBE RED RETROSPOT</td>\n",
       "      <td>12 PENCIL SMALL TUBE WOODLAND</td>\n",
       "      <td>0.016468</td>\n",
       "      <td>0.014531</td>\n",
       "      <td>0.005869</td>\n",
       "      <td>0.356401</td>\n",
       "      <td>24.527403</td>\n",
       "      <td>0.005630</td>\n",
       "      <td>1.531186</td>\n",
       "    </tr>\n",
       "    <tr>\n",
       "      <th>7309</th>\n",
       "      <td>12 PENCILS SMALL TUBE SKULL</td>\n",
       "      <td>12 PENCILS SMALL TUBE RED RETROSPOT</td>\n",
       "      <td>0.015784</td>\n",
       "      <td>0.016468</td>\n",
       "      <td>0.006553</td>\n",
       "      <td>0.415162</td>\n",
       "      <td>25.209986</td>\n",
       "      <td>0.006293</td>\n",
       "      <td>1.681718</td>\n",
       "    </tr>\n",
       "    <tr>\n",
       "      <th>9379</th>\n",
       "      <td>12 PENCILS TALL TUBE RED RETROSPOT</td>\n",
       "      <td>12 PENCILS TALL TUBE SKULLS</td>\n",
       "      <td>0.012023</td>\n",
       "      <td>0.012080</td>\n",
       "      <td>0.005470</td>\n",
       "      <td>0.454976</td>\n",
       "      <td>37.662166</td>\n",
       "      <td>0.005325</td>\n",
       "      <td>1.812618</td>\n",
       "    </tr>\n",
       "    <tr>\n",
       "      <th>9378</th>\n",
       "      <td>12 PENCILS TALL TUBE SKULLS</td>\n",
       "      <td>12 PENCILS TALL TUBE RED RETROSPOT</td>\n",
       "      <td>0.012080</td>\n",
       "      <td>0.012023</td>\n",
       "      <td>0.005470</td>\n",
       "      <td>0.452830</td>\n",
       "      <td>37.662166</td>\n",
       "      <td>0.005325</td>\n",
       "      <td>1.805612</td>\n",
       "    </tr>\n",
       "    <tr>\n",
       "      <th>5379</th>\n",
       "      <td>3 PIECE SPACEBOY COOKIE CUTTER SET</td>\n",
       "      <td>SET OF 3 BUTTERFLY COOKIE CUTTERS</td>\n",
       "      <td>0.015556</td>\n",
       "      <td>0.029517</td>\n",
       "      <td>0.006268</td>\n",
       "      <td>0.402930</td>\n",
       "      <td>13.650629</td>\n",
       "      <td>0.005809</td>\n",
       "      <td>1.625410</td>\n",
       "    </tr>\n",
       "    <tr>\n",
       "      <th>5380</th>\n",
       "      <td>3 PIECE SPACEBOY COOKIE CUTTER SET</td>\n",
       "      <td>GINGERBREAD MAN COOKIE CUTTER</td>\n",
       "      <td>0.015556</td>\n",
       "      <td>0.028663</td>\n",
       "      <td>0.005128</td>\n",
       "      <td>0.329670</td>\n",
       "      <td>11.501759</td>\n",
       "      <td>0.004683</td>\n",
       "      <td>1.449044</td>\n",
       "    </tr>\n",
       "    <tr>\n",
       "      <th>3279</th>\n",
       "      <td>3 STRIPEY MICE FELTCRAFT</td>\n",
       "      <td>FELTCRAFT BUTTERFLY HEARTS</td>\n",
       "      <td>0.021711</td>\n",
       "      <td>0.024446</td>\n",
       "      <td>0.007351</td>\n",
       "      <td>0.338583</td>\n",
       "      <td>13.850320</td>\n",
       "      <td>0.006820</td>\n",
       "      <td>1.474945</td>\n",
       "    </tr>\n",
       "    <tr>\n",
       "      <th>3276</th>\n",
       "      <td>3 STRIPEY MICE FELTCRAFT</td>\n",
       "      <td>FELTCRAFT 6 FLOWER FRIENDS</td>\n",
       "      <td>0.021711</td>\n",
       "      <td>0.026497</td>\n",
       "      <td>0.007066</td>\n",
       "      <td>0.325459</td>\n",
       "      <td>12.282765</td>\n",
       "      <td>0.006491</td>\n",
       "      <td>1.443208</td>\n",
       "    </tr>\n",
       "  </tbody>\n",
       "</table>\n",
       "</div>"
      ],
      "text/plain": [
       "                              antecedents  \\\n",
       "7311        12 PENCIL SMALL TUBE WOODLAND   \n",
       "7308  12 PENCILS SMALL TUBE RED RETROSPOT   \n",
       "7310  12 PENCILS SMALL TUBE RED RETROSPOT   \n",
       "7309          12 PENCILS SMALL TUBE SKULL   \n",
       "9379   12 PENCILS TALL TUBE RED RETROSPOT   \n",
       "9378          12 PENCILS TALL TUBE SKULLS   \n",
       "5379   3 PIECE SPACEBOY COOKIE CUTTER SET   \n",
       "5380   3 PIECE SPACEBOY COOKIE CUTTER SET   \n",
       "3279             3 STRIPEY MICE FELTCRAFT   \n",
       "3276             3 STRIPEY MICE FELTCRAFT   \n",
       "\n",
       "                              consequents  antecedent support  \\\n",
       "7311  12 PENCILS SMALL TUBE RED RETROSPOT            0.014531   \n",
       "7308          12 PENCILS SMALL TUBE SKULL            0.016468   \n",
       "7310        12 PENCIL SMALL TUBE WOODLAND            0.016468   \n",
       "7309  12 PENCILS SMALL TUBE RED RETROSPOT            0.015784   \n",
       "9379          12 PENCILS TALL TUBE SKULLS            0.012023   \n",
       "9378   12 PENCILS TALL TUBE RED RETROSPOT            0.012080   \n",
       "5379    SET OF 3 BUTTERFLY COOKIE CUTTERS            0.015556   \n",
       "5380        GINGERBREAD MAN COOKIE CUTTER            0.015556   \n",
       "3279           FELTCRAFT BUTTERFLY HEARTS            0.021711   \n",
       "3276           FELTCRAFT 6 FLOWER FRIENDS            0.021711   \n",
       "\n",
       "      consequent support   support  confidence       lift  leverage  \\\n",
       "7311            0.016468  0.005869    0.403922  24.527403  0.005630   \n",
       "7308            0.015784  0.006553    0.397924  25.209986  0.006293   \n",
       "7310            0.014531  0.005869    0.356401  24.527403  0.005630   \n",
       "7309            0.016468  0.006553    0.415162  25.209986  0.006293   \n",
       "9379            0.012080  0.005470    0.454976  37.662166  0.005325   \n",
       "9378            0.012023  0.005470    0.452830  37.662166  0.005325   \n",
       "5379            0.029517  0.006268    0.402930  13.650629  0.005809   \n",
       "5380            0.028663  0.005128    0.329670  11.501759  0.004683   \n",
       "3279            0.024446  0.007351    0.338583  13.850320  0.006820   \n",
       "3276            0.026497  0.007066    0.325459  12.282765  0.006491   \n",
       "\n",
       "      conviction  \n",
       "7311    1.650004  \n",
       "7308    1.634703  \n",
       "7310    1.531186  \n",
       "7309    1.681718  \n",
       "9379    1.812618  \n",
       "9378    1.805612  \n",
       "5379    1.625410  \n",
       "5380    1.449044  \n",
       "3279    1.474945  \n",
       "3276    1.443208  "
      ]
     },
     "execution_count": 26,
     "metadata": {},
     "output_type": "execute_result"
    }
   ],
   "source": [
    "result_fpg_rule_lift.sort_values(by=['antecedents','lift'], ascending=[True,False]).head(10)"
   ]
  },
  {
   "cell_type": "markdown",
   "id": "8689e7f5",
   "metadata": {},
   "source": [
    "Por ejemplo para el `12 PENCILS SMALL TUBE RED RETROSPOT` tenemos muchos productos para recomendar. Si tenemos en cuenta el valor de lift, entonces la primera recomendación debería ser `12 PENCILS SMALL TUBE SKULL`. Lo buenos es que si alguno de estos productos ya se encontrara en el carrito tenemos otro producto para recomendar."
   ]
  },
  {
   "cell_type": "markdown",
   "id": "524dab43",
   "metadata": {},
   "source": [
    "### Confidence"
   ]
  },
  {
   "cell_type": "markdown",
   "id": "27baec91",
   "metadata": {},
   "source": [
    "En este paso se calculan las reglas de asociación pero ahora le indicaremos que el mínimo que admitimos es un confidence mejora de la confianza de .5. Suponiendo que ahora queremos quedarnos solo con las reglas fuertes."
   ]
  },
  {
   "cell_type": "code",
   "execution_count": 27,
   "id": "ccca06a2",
   "metadata": {},
   "outputs": [
    {
     "data": {
      "text/plain": [
       "(19522, 9)"
      ]
     },
     "execution_count": 27,
     "metadata": {},
     "output_type": "execute_result"
    }
   ],
   "source": [
    "fp_growth_rule_conf = compute_association_rule(fpgrowth_matrix, metric=\"confidence\", min_thresh=0.05)\n",
    "fp_growth_rule_conf.shape"
   ]
  },
  {
   "cell_type": "code",
   "execution_count": 28,
   "id": "a64604ec",
   "metadata": {},
   "outputs": [],
   "source": [
    "result_fpg_rule_conf = fp_growth_rule_conf.copy()\n",
    "result_fpg_rule_conf = pd.DataFrame(result_fpg_rule_conf)\n",
    "\n",
    "result_fpg_rule_conf[\"antecedents\"] = result_fpg_rule_conf[\"antecedents\"].apply(lambda x: \",\".join(x))\n",
    "result_fpg_rule_conf[\"consequents\"] = result_fpg_rule_conf[\"consequents\"].apply(lambda x: \",\".join(x))"
   ]
  },
  {
   "cell_type": "markdown",
   "id": "f43c00e9",
   "metadata": {},
   "source": [
    "Si ordenamos en cuanto al confidence"
   ]
  },
  {
   "cell_type": "code",
   "execution_count": 29,
   "id": "cf43b454",
   "metadata": {},
   "outputs": [
    {
     "data": {
      "text/html": [
       "<div>\n",
       "<style scoped>\n",
       "    .dataframe tbody tr th:only-of-type {\n",
       "        vertical-align: middle;\n",
       "    }\n",
       "\n",
       "    .dataframe tbody tr th {\n",
       "        vertical-align: top;\n",
       "    }\n",
       "\n",
       "    .dataframe thead th {\n",
       "        text-align: right;\n",
       "    }\n",
       "</style>\n",
       "<table border=\"1\" class=\"dataframe\">\n",
       "  <thead>\n",
       "    <tr style=\"text-align: right;\">\n",
       "      <th></th>\n",
       "      <th>antecedents</th>\n",
       "      <th>consequents</th>\n",
       "      <th>antecedent support</th>\n",
       "      <th>consequent support</th>\n",
       "      <th>support</th>\n",
       "      <th>confidence</th>\n",
       "      <th>lift</th>\n",
       "      <th>leverage</th>\n",
       "      <th>conviction</th>\n",
       "    </tr>\n",
       "  </thead>\n",
       "  <tbody>\n",
       "    <tr>\n",
       "      <th>7288</th>\n",
       "      <td>12 PENCIL SMALL TUBE WOODLAND</td>\n",
       "      <td>12 PENCILS SMALL TUBE RED RETROSPOT</td>\n",
       "      <td>0.014531</td>\n",
       "      <td>0.016468</td>\n",
       "      <td>0.005869</td>\n",
       "      <td>0.403922</td>\n",
       "      <td>24.527403</td>\n",
       "      <td>0.005630</td>\n",
       "      <td>1.650004</td>\n",
       "    </tr>\n",
       "    <tr>\n",
       "      <th>7285</th>\n",
       "      <td>12 PENCILS SMALL TUBE RED RETROSPOT</td>\n",
       "      <td>12 PENCILS SMALL TUBE SKULL</td>\n",
       "      <td>0.016468</td>\n",
       "      <td>0.015784</td>\n",
       "      <td>0.006553</td>\n",
       "      <td>0.397924</td>\n",
       "      <td>25.209986</td>\n",
       "      <td>0.006293</td>\n",
       "      <td>1.634703</td>\n",
       "    </tr>\n",
       "    <tr>\n",
       "      <th>7287</th>\n",
       "      <td>12 PENCILS SMALL TUBE RED RETROSPOT</td>\n",
       "      <td>12 PENCIL SMALL TUBE WOODLAND</td>\n",
       "      <td>0.016468</td>\n",
       "      <td>0.014531</td>\n",
       "      <td>0.005869</td>\n",
       "      <td>0.356401</td>\n",
       "      <td>24.527403</td>\n",
       "      <td>0.005630</td>\n",
       "      <td>1.531186</td>\n",
       "    </tr>\n",
       "    <tr>\n",
       "      <th>7286</th>\n",
       "      <td>12 PENCILS SMALL TUBE SKULL</td>\n",
       "      <td>12 PENCILS SMALL TUBE RED RETROSPOT</td>\n",
       "      <td>0.015784</td>\n",
       "      <td>0.016468</td>\n",
       "      <td>0.006553</td>\n",
       "      <td>0.415162</td>\n",
       "      <td>25.209986</td>\n",
       "      <td>0.006293</td>\n",
       "      <td>1.681718</td>\n",
       "    </tr>\n",
       "    <tr>\n",
       "      <th>9351</th>\n",
       "      <td>12 PENCILS TALL TUBE RED RETROSPOT</td>\n",
       "      <td>12 PENCILS TALL TUBE SKULLS</td>\n",
       "      <td>0.012023</td>\n",
       "      <td>0.012080</td>\n",
       "      <td>0.005470</td>\n",
       "      <td>0.454976</td>\n",
       "      <td>37.662166</td>\n",
       "      <td>0.005325</td>\n",
       "      <td>1.812618</td>\n",
       "    </tr>\n",
       "  </tbody>\n",
       "</table>\n",
       "</div>"
      ],
      "text/plain": [
       "                              antecedents  \\\n",
       "7288        12 PENCIL SMALL TUBE WOODLAND   \n",
       "7285  12 PENCILS SMALL TUBE RED RETROSPOT   \n",
       "7287  12 PENCILS SMALL TUBE RED RETROSPOT   \n",
       "7286          12 PENCILS SMALL TUBE SKULL   \n",
       "9351   12 PENCILS TALL TUBE RED RETROSPOT   \n",
       "\n",
       "                              consequents  antecedent support  \\\n",
       "7288  12 PENCILS SMALL TUBE RED RETROSPOT            0.014531   \n",
       "7285          12 PENCILS SMALL TUBE SKULL            0.016468   \n",
       "7287        12 PENCIL SMALL TUBE WOODLAND            0.016468   \n",
       "7286  12 PENCILS SMALL TUBE RED RETROSPOT            0.015784   \n",
       "9351          12 PENCILS TALL TUBE SKULLS            0.012023   \n",
       "\n",
       "      consequent support   support  confidence       lift  leverage  \\\n",
       "7288            0.016468  0.005869    0.403922  24.527403  0.005630   \n",
       "7285            0.015784  0.006553    0.397924  25.209986  0.006293   \n",
       "7287            0.014531  0.005869    0.356401  24.527403  0.005630   \n",
       "7286            0.016468  0.006553    0.415162  25.209986  0.006293   \n",
       "9351            0.012080  0.005470    0.454976  37.662166  0.005325   \n",
       "\n",
       "      conviction  \n",
       "7288    1.650004  \n",
       "7285    1.634703  \n",
       "7287    1.531186  \n",
       "7286    1.681718  \n",
       "9351    1.812618  "
      ]
     },
     "execution_count": 29,
     "metadata": {},
     "output_type": "execute_result"
    }
   ],
   "source": [
    "result_fpg_rule_conf.sort_values(by=['antecedents','confidence'], ascending=[True,False]).head(5)"
   ]
  },
  {
   "cell_type": "markdown",
   "id": "0c9ccfc6",
   "metadata": {},
   "source": [
    "En esta gráfica podemos observar que existe cierta asociación entre algunos productos pero muchos se encuentran cercanos al cero."
   ]
  },
  {
   "cell_type": "code",
   "execution_count": 30,
   "id": "74c175ba",
   "metadata": {
    "scrolled": true
   },
   "outputs": [
    {
     "data": {
      "image/png": "[encoded data removed]",
      "text/plain": [
       "<Figure size 640x480 with 1 Axes>"
      ]
     },
     "metadata": {},
     "output_type": "display_data"
    }
   ],
   "source": [
    "plot_metrics_relationship(fp_growth_rule_lift, col1='lift', col2='confidence')"
   ]
  },
  {
   "cell_type": "markdown",
   "id": "746008f6",
   "metadata": {},
   "source": [
    "## Apriori Algorithm"
   ]
  },
  {
   "cell_type": "markdown",
   "id": "2d0f860d",
   "metadata": {},
   "source": [
    "Vamos a realizar el mismo procedimiento que con el algoritmo FP Growth pero ahora utilizando la regla Apriori. Este notebook se hará con las dos metodologías para comprarar el tiempo de ejecución."
   ]
  },
  {
   "cell_type": "code",
   "execution_count": 31,
   "id": "ecce0154",
   "metadata": {},
   "outputs": [
    {
     "data": {
      "text/plain": [
       "(17549, 3669)"
      ]
     },
     "execution_count": 31,
     "metadata": {},
     "output_type": "execute_result"
    }
   ],
   "source": [
    "trans_encoder_matrix.shape"
   ]
  },
  {
   "cell_type": "code",
   "execution_count": 32,
   "id": "18330fdd",
   "metadata": {
    "scrolled": true
   },
   "outputs": [
    {
     "name": "stdout",
     "output_type": "stream",
     "text": [
      "Computed Apriori!\n",
      "Apriori Execution took: 983.8566098213196 seconds\n"
     ]
    }
   ],
   "source": [
    "apriori_matrix, apriori_exec_time = perform_rule_calculation(trans_encoder_matrix, rule_type=\"apriori\")\n",
    "print(\"Apriori Execution took: {} seconds\".format(apriori_exec_time))"
   ]
  },
  {
   "cell_type": "markdown",
   "id": "21bc340f",
   "metadata": {},
   "source": [
    "__Observamos que Apriori le lleva más tiempo que FP Growth.__"
   ]
  },
  {
   "cell_type": "markdown",
   "id": "c64f7fc7",
   "metadata": {},
   "source": [
    "### Soporte"
   ]
  },
  {
   "cell_type": "code",
   "execution_count": 33,
   "id": "782aa477",
   "metadata": {},
   "outputs": [
    {
     "data": {
      "text/html": [
       "<div>\n",
       "<style scoped>\n",
       "    .dataframe tbody tr th:only-of-type {\n",
       "        vertical-align: middle;\n",
       "    }\n",
       "\n",
       "    .dataframe tbody tr th {\n",
       "        vertical-align: top;\n",
       "    }\n",
       "\n",
       "    .dataframe thead th {\n",
       "        text-align: right;\n",
       "    }\n",
       "</style>\n",
       "<table border=\"1\" class=\"dataframe\">\n",
       "  <thead>\n",
       "    <tr style=\"text-align: right;\">\n",
       "      <th></th>\n",
       "      <th>support</th>\n",
       "      <th>itemsets</th>\n",
       "      <th>number_of_items</th>\n",
       "    </tr>\n",
       "  </thead>\n",
       "  <tbody>\n",
       "    <tr>\n",
       "      <th>4</th>\n",
       "      <td>0.012365</td>\n",
       "      <td>(10 COLOUR SPACEBOY PEN)</td>\n",
       "      <td>1</td>\n",
       "    </tr>\n",
       "    <tr>\n",
       "      <th>2</th>\n",
       "      <td>0.012251</td>\n",
       "      <td>( SET 2 TEA TOWELS I LOVE LONDON )</td>\n",
       "      <td>1</td>\n",
       "    </tr>\n",
       "    <tr>\n",
       "      <th>1</th>\n",
       "      <td>0.005926</td>\n",
       "      <td>( DOLLY GIRL BEAKER)</td>\n",
       "      <td>1</td>\n",
       "    </tr>\n",
       "    <tr>\n",
       "      <th>0</th>\n",
       "      <td>0.005698</td>\n",
       "      <td>( 50'S CHRISTMAS GIFT BAG LARGE)</td>\n",
       "      <td>1</td>\n",
       "    </tr>\n",
       "    <tr>\n",
       "      <th>3</th>\n",
       "      <td>0.005698</td>\n",
       "      <td>( SPACEBOY BABY GIFT SET)</td>\n",
       "      <td>1</td>\n",
       "    </tr>\n",
       "  </tbody>\n",
       "</table>\n",
       "</div>"
      ],
      "text/plain": [
       "    support                            itemsets  number_of_items\n",
       "4  0.012365            (10 COLOUR SPACEBOY PEN)                1\n",
       "2  0.012251  ( SET 2 TEA TOWELS I LOVE LONDON )                1\n",
       "1  0.005926                ( DOLLY GIRL BEAKER)                1\n",
       "0  0.005698    ( 50'S CHRISTMAS GIFT BAG LARGE)                1\n",
       "3  0.005698           ( SPACEBOY BABY GIFT SET)                1"
      ]
     },
     "execution_count": 33,
     "metadata": {},
     "output_type": "execute_result"
    }
   ],
   "source": [
    "apriori_matrix.head().sort_values(by='support', ascending=False)"
   ]
  },
  {
   "cell_type": "markdown",
   "id": "c450cc1c",
   "metadata": {},
   "source": [
    "La mayoría de las relaciones es de conjuntos de dos productos"
   ]
  },
  {
   "cell_type": "code",
   "execution_count": 34,
   "id": "01b87ef5",
   "metadata": {},
   "outputs": [
    {
     "data": {
      "text/plain": [
       "2    1904\n",
       "1    1193\n",
       "3    1008\n",
       "4     474\n",
       "5      92\n",
       "6       5\n",
       "Name: number_of_items, dtype: int64"
      ]
     },
     "execution_count": 34,
     "metadata": {},
     "output_type": "execute_result"
    }
   ],
   "source": [
    "apriori_matrix.number_of_items.value_counts()"
   ]
  },
  {
   "cell_type": "markdown",
   "id": "9e422911",
   "metadata": {},
   "source": [
    "### Lift"
   ]
  },
  {
   "cell_type": "code",
   "execution_count": 35,
   "id": "66660e39",
   "metadata": {},
   "outputs": [],
   "source": [
    "apriori_rule_lift = compute_association_rule(apriori_matrix)"
   ]
  },
  {
   "cell_type": "code",
   "execution_count": 36,
   "id": "17687613",
   "metadata": {
    "scrolled": true
   },
   "outputs": [
    {
     "data": {
      "text/html": [
       "<div>\n",
       "<style scoped>\n",
       "    .dataframe tbody tr th:only-of-type {\n",
       "        vertical-align: middle;\n",
       "    }\n",
       "\n",
       "    .dataframe tbody tr th {\n",
       "        vertical-align: top;\n",
       "    }\n",
       "\n",
       "    .dataframe thead th {\n",
       "        text-align: right;\n",
       "    }\n",
       "</style>\n",
       "<table border=\"1\" class=\"dataframe\">\n",
       "  <thead>\n",
       "    <tr style=\"text-align: right;\">\n",
       "      <th></th>\n",
       "      <th>antecedents</th>\n",
       "      <th>consequents</th>\n",
       "      <th>antecedent support</th>\n",
       "      <th>consequent support</th>\n",
       "      <th>support</th>\n",
       "      <th>confidence</th>\n",
       "      <th>lift</th>\n",
       "      <th>leverage</th>\n",
       "      <th>conviction</th>\n",
       "    </tr>\n",
       "  </thead>\n",
       "  <tbody>\n",
       "    <tr>\n",
       "      <th>0</th>\n",
       "      <td>(12 PENCILS SMALL TUBE RED RETROSPOT)</td>\n",
       "      <td>(12 PENCIL SMALL TUBE WOODLAND)</td>\n",
       "      <td>0.016468</td>\n",
       "      <td>0.014531</td>\n",
       "      <td>0.005869</td>\n",
       "      <td>0.356401</td>\n",
       "      <td>24.527403</td>\n",
       "      <td>0.005630</td>\n",
       "      <td>1.531186</td>\n",
       "    </tr>\n",
       "    <tr>\n",
       "      <th>1</th>\n",
       "      <td>(12 PENCIL SMALL TUBE WOODLAND)</td>\n",
       "      <td>(12 PENCILS SMALL TUBE RED RETROSPOT)</td>\n",
       "      <td>0.014531</td>\n",
       "      <td>0.016468</td>\n",
       "      <td>0.005869</td>\n",
       "      <td>0.403922</td>\n",
       "      <td>24.527403</td>\n",
       "      <td>0.005630</td>\n",
       "      <td>1.650004</td>\n",
       "    </tr>\n",
       "    <tr>\n",
       "      <th>2</th>\n",
       "      <td>(12 PENCILS SMALL TUBE RED RETROSPOT)</td>\n",
       "      <td>(12 PENCILS SMALL TUBE SKULL)</td>\n",
       "      <td>0.016468</td>\n",
       "      <td>0.015784</td>\n",
       "      <td>0.006553</td>\n",
       "      <td>0.397924</td>\n",
       "      <td>25.209986</td>\n",
       "      <td>0.006293</td>\n",
       "      <td>1.634703</td>\n",
       "    </tr>\n",
       "    <tr>\n",
       "      <th>3</th>\n",
       "      <td>(12 PENCILS SMALL TUBE SKULL)</td>\n",
       "      <td>(12 PENCILS SMALL TUBE RED RETROSPOT)</td>\n",
       "      <td>0.015784</td>\n",
       "      <td>0.016468</td>\n",
       "      <td>0.006553</td>\n",
       "      <td>0.415162</td>\n",
       "      <td>25.209986</td>\n",
       "      <td>0.006293</td>\n",
       "      <td>1.681718</td>\n",
       "    </tr>\n",
       "    <tr>\n",
       "      <th>4</th>\n",
       "      <td>(12 PENCILS TALL TUBE SKULLS)</td>\n",
       "      <td>(12 PENCILS TALL TUBE RED RETROSPOT)</td>\n",
       "      <td>0.012080</td>\n",
       "      <td>0.012023</td>\n",
       "      <td>0.005470</td>\n",
       "      <td>0.452830</td>\n",
       "      <td>37.662166</td>\n",
       "      <td>0.005325</td>\n",
       "      <td>1.805612</td>\n",
       "    </tr>\n",
       "  </tbody>\n",
       "</table>\n",
       "</div>"
      ],
      "text/plain": [
       "                             antecedents  \\\n",
       "0  (12 PENCILS SMALL TUBE RED RETROSPOT)   \n",
       "1        (12 PENCIL SMALL TUBE WOODLAND)   \n",
       "2  (12 PENCILS SMALL TUBE RED RETROSPOT)   \n",
       "3          (12 PENCILS SMALL TUBE SKULL)   \n",
       "4          (12 PENCILS TALL TUBE SKULLS)   \n",
       "\n",
       "                             consequents  antecedent support  \\\n",
       "0        (12 PENCIL SMALL TUBE WOODLAND)            0.016468   \n",
       "1  (12 PENCILS SMALL TUBE RED RETROSPOT)            0.014531   \n",
       "2          (12 PENCILS SMALL TUBE SKULL)            0.016468   \n",
       "3  (12 PENCILS SMALL TUBE RED RETROSPOT)            0.015784   \n",
       "4   (12 PENCILS TALL TUBE RED RETROSPOT)            0.012080   \n",
       "\n",
       "   consequent support   support  confidence       lift  leverage  conviction  \n",
       "0            0.014531  0.005869    0.356401  24.527403  0.005630    1.531186  \n",
       "1            0.016468  0.005869    0.403922  24.527403  0.005630    1.650004  \n",
       "2            0.015784  0.006553    0.397924  25.209986  0.006293    1.634703  \n",
       "3            0.016468  0.006553    0.415162  25.209986  0.006293    1.681718  \n",
       "4            0.012023  0.005470    0.452830  37.662166  0.005325    1.805612  "
      ]
     },
     "execution_count": 36,
     "metadata": {},
     "output_type": "execute_result"
    }
   ],
   "source": [
    "apriori_rule_lift.head()"
   ]
  },
  {
   "cell_type": "code",
   "execution_count": 37,
   "id": "4e860db5",
   "metadata": {},
   "outputs": [],
   "source": [
    "result_apriori_rule_lift = apriori_rule_lift.copy()\n",
    "result_apriori_rule_lift = pd.DataFrame(result_apriori_rule_lift)\n",
    "\n",
    "result_apriori_rule_lift[\"antecedents\"] = result_apriori_rule_lift[\"antecedents\"].apply(lambda x: \",\".join(x))\n",
    "result_apriori_rule_lift[\"consequents\"] = result_apriori_rule_lift[\"consequents\"].apply(lambda x: \",\".join(x))"
   ]
  },
  {
   "cell_type": "markdown",
   "id": "b836db46",
   "metadata": {},
   "source": [
    "Observamos los mismos productos que se le recomendaría si el usuario agregara el producto `12 PENCILS SMALL TUBE RED RETROSPOT` para ambos algoritmos."
   ]
  },
  {
   "cell_type": "code",
   "execution_count": 38,
   "id": "48790c76",
   "metadata": {},
   "outputs": [
    {
     "data": {
      "text/html": [
       "<div>\n",
       "<style scoped>\n",
       "    .dataframe tbody tr th:only-of-type {\n",
       "        vertical-align: middle;\n",
       "    }\n",
       "\n",
       "    .dataframe tbody tr th {\n",
       "        vertical-align: top;\n",
       "    }\n",
       "\n",
       "    .dataframe thead th {\n",
       "        text-align: right;\n",
       "    }\n",
       "</style>\n",
       "<table border=\"1\" class=\"dataframe\">\n",
       "  <thead>\n",
       "    <tr style=\"text-align: right;\">\n",
       "      <th></th>\n",
       "      <th>antecedents</th>\n",
       "      <th>consequents</th>\n",
       "      <th>antecedent support</th>\n",
       "      <th>consequent support</th>\n",
       "      <th>support</th>\n",
       "      <th>confidence</th>\n",
       "      <th>lift</th>\n",
       "      <th>leverage</th>\n",
       "      <th>conviction</th>\n",
       "    </tr>\n",
       "  </thead>\n",
       "  <tbody>\n",
       "    <tr>\n",
       "      <th>2</th>\n",
       "      <td>12 PENCILS SMALL TUBE RED RETROSPOT</td>\n",
       "      <td>12 PENCILS SMALL TUBE SKULL</td>\n",
       "      <td>0.016468</td>\n",
       "      <td>0.015784</td>\n",
       "      <td>0.006553</td>\n",
       "      <td>0.397924</td>\n",
       "      <td>25.209986</td>\n",
       "      <td>0.006293</td>\n",
       "      <td>1.634703</td>\n",
       "    </tr>\n",
       "    <tr>\n",
       "      <th>0</th>\n",
       "      <td>12 PENCILS SMALL TUBE RED RETROSPOT</td>\n",
       "      <td>12 PENCIL SMALL TUBE WOODLAND</td>\n",
       "      <td>0.016468</td>\n",
       "      <td>0.014531</td>\n",
       "      <td>0.005869</td>\n",
       "      <td>0.356401</td>\n",
       "      <td>24.527403</td>\n",
       "      <td>0.005630</td>\n",
       "      <td>1.531186</td>\n",
       "    </tr>\n",
       "  </tbody>\n",
       "</table>\n",
       "</div>"
      ],
      "text/plain": [
       "                           antecedents                    consequents  \\\n",
       "2  12 PENCILS SMALL TUBE RED RETROSPOT    12 PENCILS SMALL TUBE SKULL   \n",
       "0  12 PENCILS SMALL TUBE RED RETROSPOT  12 PENCIL SMALL TUBE WOODLAND   \n",
       "\n",
       "   antecedent support  consequent support   support  confidence       lift  \\\n",
       "2            0.016468            0.015784  0.006553    0.397924  25.209986   \n",
       "0            0.016468            0.014531  0.005869    0.356401  24.527403   \n",
       "\n",
       "   leverage  conviction  \n",
       "2  0.006293    1.634703  \n",
       "0  0.005630    1.531186  "
      ]
     },
     "execution_count": 38,
     "metadata": {},
     "output_type": "execute_result"
    }
   ],
   "source": [
    "result_apriori_rule_lift.loc[result_apriori_rule_lift.antecedents=='12 PENCILS SMALL TUBE RED RETROSPOT'\n",
    "                        ].sort_values(by=['lift'], ascending=[False]).head(20)"
   ]
  },
  {
   "cell_type": "markdown",
   "id": "ff5916aa",
   "metadata": {},
   "source": [
    "### Confidence"
   ]
  },
  {
   "cell_type": "code",
   "execution_count": 48,
   "id": "2d1b38ba",
   "metadata": {},
   "outputs": [
    {
     "data": {
      "text/plain": [
       "(19522, 9)"
      ]
     },
     "execution_count": 48,
     "metadata": {},
     "output_type": "execute_result"
    }
   ],
   "source": [
    "apripri_rule_conf = compute_association_rule(apriori_matrix, metric=\"confidence\", min_thresh=0.05)\n",
    "apripri_rule_conf.shape"
   ]
  },
  {
   "cell_type": "code",
   "execution_count": 49,
   "id": "ad1003ca",
   "metadata": {},
   "outputs": [],
   "source": [
    "result_apriori_rule_conf = apripri_rule_conf.copy()\n",
    "result_apriori_rule_conf = pd.DataFrame(result_apriori_rule_conf)\n",
    "\n",
    "result_apriori_rule_conf[\"antecedents\"] = result_apriori_rule_conf[\"antecedents\"].apply(lambda x: \",\".join(x))\n",
    "result_apriori_rule_conf[\"consequents\"] = result_apriori_rule_conf[\"consequents\"].apply(lambda x: \",\".join(x))"
   ]
  },
  {
   "cell_type": "code",
   "execution_count": 50,
   "id": "8d66ccc1",
   "metadata": {},
   "outputs": [
    {
     "data": {
      "text/html": [
       "<div>\n",
       "<style scoped>\n",
       "    .dataframe tbody tr th:only-of-type {\n",
       "        vertical-align: middle;\n",
       "    }\n",
       "\n",
       "    .dataframe tbody tr th {\n",
       "        vertical-align: top;\n",
       "    }\n",
       "\n",
       "    .dataframe thead th {\n",
       "        text-align: right;\n",
       "    }\n",
       "</style>\n",
       "<table border=\"1\" class=\"dataframe\">\n",
       "  <thead>\n",
       "    <tr style=\"text-align: right;\">\n",
       "      <th></th>\n",
       "      <th>antecedents</th>\n",
       "      <th>consequents</th>\n",
       "      <th>antecedent support</th>\n",
       "      <th>consequent support</th>\n",
       "      <th>support</th>\n",
       "      <th>confidence</th>\n",
       "      <th>lift</th>\n",
       "      <th>leverage</th>\n",
       "      <th>conviction</th>\n",
       "    </tr>\n",
       "  </thead>\n",
       "  <tbody>\n",
       "    <tr>\n",
       "      <th>0</th>\n",
       "      <td>12 PENCILS SMALL TUBE RED RETROSPOT</td>\n",
       "      <td>12 PENCIL SMALL TUBE WOODLAND</td>\n",
       "      <td>0.016468</td>\n",
       "      <td>0.014531</td>\n",
       "      <td>0.005869</td>\n",
       "      <td>0.356401</td>\n",
       "      <td>24.527403</td>\n",
       "      <td>0.00563</td>\n",
       "      <td>1.531186</td>\n",
       "    </tr>\n",
       "    <tr>\n",
       "      <th>1</th>\n",
       "      <td>12 PENCIL SMALL TUBE WOODLAND</td>\n",
       "      <td>12 PENCILS SMALL TUBE RED RETROSPOT</td>\n",
       "      <td>0.014531</td>\n",
       "      <td>0.016468</td>\n",
       "      <td>0.005869</td>\n",
       "      <td>0.403922</td>\n",
       "      <td>24.527403</td>\n",
       "      <td>0.00563</td>\n",
       "      <td>1.650004</td>\n",
       "    </tr>\n",
       "  </tbody>\n",
       "</table>\n",
       "</div>"
      ],
      "text/plain": [
       "                           antecedents                          consequents  \\\n",
       "0  12 PENCILS SMALL TUBE RED RETROSPOT        12 PENCIL SMALL TUBE WOODLAND   \n",
       "1        12 PENCIL SMALL TUBE WOODLAND  12 PENCILS SMALL TUBE RED RETROSPOT   \n",
       "\n",
       "   antecedent support  consequent support   support  confidence       lift  \\\n",
       "0            0.016468            0.014531  0.005869    0.356401  24.527403   \n",
       "1            0.014531            0.016468  0.005869    0.403922  24.527403   \n",
       "\n",
       "   leverage  conviction  \n",
       "0   0.00563    1.531186  \n",
       "1   0.00563    1.650004  "
      ]
     },
     "execution_count": 50,
     "metadata": {},
     "output_type": "execute_result"
    }
   ],
   "source": [
    "result_apriori_rule_conf.head(2)"
   ]
  },
  {
   "cell_type": "code",
   "execution_count": 51,
   "id": "13a3a715",
   "metadata": {},
   "outputs": [
    {
     "data": {
      "text/html": [
       "<div>\n",
       "<style scoped>\n",
       "    .dataframe tbody tr th:only-of-type {\n",
       "        vertical-align: middle;\n",
       "    }\n",
       "\n",
       "    .dataframe tbody tr th {\n",
       "        vertical-align: top;\n",
       "    }\n",
       "\n",
       "    .dataframe thead th {\n",
       "        text-align: right;\n",
       "    }\n",
       "</style>\n",
       "<table border=\"1\" class=\"dataframe\">\n",
       "  <thead>\n",
       "    <tr style=\"text-align: right;\">\n",
       "      <th></th>\n",
       "      <th>antecedents</th>\n",
       "      <th>consequents</th>\n",
       "      <th>antecedent support</th>\n",
       "      <th>consequent support</th>\n",
       "      <th>support</th>\n",
       "      <th>confidence</th>\n",
       "      <th>lift</th>\n",
       "      <th>leverage</th>\n",
       "      <th>conviction</th>\n",
       "    </tr>\n",
       "  </thead>\n",
       "  <tbody>\n",
       "    <tr>\n",
       "      <th>1</th>\n",
       "      <td>12 PENCIL SMALL TUBE WOODLAND</td>\n",
       "      <td>12 PENCILS SMALL TUBE RED RETROSPOT</td>\n",
       "      <td>0.014531</td>\n",
       "      <td>0.016468</td>\n",
       "      <td>0.005869</td>\n",
       "      <td>0.403922</td>\n",
       "      <td>24.527403</td>\n",
       "      <td>0.005630</td>\n",
       "      <td>1.650004</td>\n",
       "    </tr>\n",
       "    <tr>\n",
       "      <th>2</th>\n",
       "      <td>12 PENCILS SMALL TUBE RED RETROSPOT</td>\n",
       "      <td>12 PENCILS SMALL TUBE SKULL</td>\n",
       "      <td>0.016468</td>\n",
       "      <td>0.015784</td>\n",
       "      <td>0.006553</td>\n",
       "      <td>0.397924</td>\n",
       "      <td>25.209986</td>\n",
       "      <td>0.006293</td>\n",
       "      <td>1.634703</td>\n",
       "    </tr>\n",
       "    <tr>\n",
       "      <th>0</th>\n",
       "      <td>12 PENCILS SMALL TUBE RED RETROSPOT</td>\n",
       "      <td>12 PENCIL SMALL TUBE WOODLAND</td>\n",
       "      <td>0.016468</td>\n",
       "      <td>0.014531</td>\n",
       "      <td>0.005869</td>\n",
       "      <td>0.356401</td>\n",
       "      <td>24.527403</td>\n",
       "      <td>0.005630</td>\n",
       "      <td>1.531186</td>\n",
       "    </tr>\n",
       "    <tr>\n",
       "      <th>3</th>\n",
       "      <td>12 PENCILS SMALL TUBE SKULL</td>\n",
       "      <td>12 PENCILS SMALL TUBE RED RETROSPOT</td>\n",
       "      <td>0.015784</td>\n",
       "      <td>0.016468</td>\n",
       "      <td>0.006553</td>\n",
       "      <td>0.415162</td>\n",
       "      <td>25.209986</td>\n",
       "      <td>0.006293</td>\n",
       "      <td>1.681718</td>\n",
       "    </tr>\n",
       "    <tr>\n",
       "      <th>5</th>\n",
       "      <td>12 PENCILS TALL TUBE RED RETROSPOT</td>\n",
       "      <td>12 PENCILS TALL TUBE SKULLS</td>\n",
       "      <td>0.012023</td>\n",
       "      <td>0.012080</td>\n",
       "      <td>0.005470</td>\n",
       "      <td>0.454976</td>\n",
       "      <td>37.662166</td>\n",
       "      <td>0.005325</td>\n",
       "      <td>1.812618</td>\n",
       "    </tr>\n",
       "  </tbody>\n",
       "</table>\n",
       "</div>"
      ],
      "text/plain": [
       "                           antecedents                          consequents  \\\n",
       "1        12 PENCIL SMALL TUBE WOODLAND  12 PENCILS SMALL TUBE RED RETROSPOT   \n",
       "2  12 PENCILS SMALL TUBE RED RETROSPOT          12 PENCILS SMALL TUBE SKULL   \n",
       "0  12 PENCILS SMALL TUBE RED RETROSPOT        12 PENCIL SMALL TUBE WOODLAND   \n",
       "3          12 PENCILS SMALL TUBE SKULL  12 PENCILS SMALL TUBE RED RETROSPOT   \n",
       "5   12 PENCILS TALL TUBE RED RETROSPOT          12 PENCILS TALL TUBE SKULLS   \n",
       "\n",
       "   antecedent support  consequent support   support  confidence       lift  \\\n",
       "1            0.014531            0.016468  0.005869    0.403922  24.527403   \n",
       "2            0.016468            0.015784  0.006553    0.397924  25.209986   \n",
       "0            0.016468            0.014531  0.005869    0.356401  24.527403   \n",
       "3            0.015784            0.016468  0.006553    0.415162  25.209986   \n",
       "5            0.012023            0.012080  0.005470    0.454976  37.662166   \n",
       "\n",
       "   leverage  conviction  \n",
       "1  0.005630    1.650004  \n",
       "2  0.006293    1.634703  \n",
       "0  0.005630    1.531186  \n",
       "3  0.006293    1.681718  \n",
       "5  0.005325    1.812618  "
      ]
     },
     "execution_count": 51,
     "metadata": {},
     "output_type": "execute_result"
    }
   ],
   "source": [
    "result_apriori_rule_conf.sort_values(by=['antecedents','confidence'], ascending=[True,False]).head(5)"
   ]
  },
  {
   "cell_type": "code",
   "execution_count": 43,
   "id": "013dbe95",
   "metadata": {},
   "outputs": [
    {
     "data": {
      "text/html": [
       "<div>\n",
       "<style scoped>\n",
       "    .dataframe tbody tr th:only-of-type {\n",
       "        vertical-align: middle;\n",
       "    }\n",
       "\n",
       "    .dataframe tbody tr th {\n",
       "        vertical-align: top;\n",
       "    }\n",
       "\n",
       "    .dataframe thead th {\n",
       "        text-align: right;\n",
       "    }\n",
       "</style>\n",
       "<table border=\"1\" class=\"dataframe\">\n",
       "  <thead>\n",
       "    <tr style=\"text-align: right;\">\n",
       "      <th></th>\n",
       "      <th>antecedents</th>\n",
       "      <th>consequents</th>\n",
       "      <th>antecedent support</th>\n",
       "      <th>consequent support</th>\n",
       "      <th>support</th>\n",
       "      <th>confidence</th>\n",
       "      <th>lift</th>\n",
       "      <th>leverage</th>\n",
       "      <th>conviction</th>\n",
       "    </tr>\n",
       "  </thead>\n",
       "  <tbody>\n",
       "    <tr>\n",
       "      <th>2</th>\n",
       "      <td>12 PENCILS SMALL TUBE RED RETROSPOT</td>\n",
       "      <td>12 PENCILS SMALL TUBE SKULL</td>\n",
       "      <td>0.016468</td>\n",
       "      <td>0.015784</td>\n",
       "      <td>0.006553</td>\n",
       "      <td>0.397924</td>\n",
       "      <td>25.209986</td>\n",
       "      <td>0.006293</td>\n",
       "      <td>1.634703</td>\n",
       "    </tr>\n",
       "    <tr>\n",
       "      <th>0</th>\n",
       "      <td>12 PENCILS SMALL TUBE RED RETROSPOT</td>\n",
       "      <td>12 PENCIL SMALL TUBE WOODLAND</td>\n",
       "      <td>0.016468</td>\n",
       "      <td>0.014531</td>\n",
       "      <td>0.005869</td>\n",
       "      <td>0.356401</td>\n",
       "      <td>24.527403</td>\n",
       "      <td>0.005630</td>\n",
       "      <td>1.531186</td>\n",
       "    </tr>\n",
       "  </tbody>\n",
       "</table>\n",
       "</div>"
      ],
      "text/plain": [
       "                           antecedents                    consequents  \\\n",
       "2  12 PENCILS SMALL TUBE RED RETROSPOT    12 PENCILS SMALL TUBE SKULL   \n",
       "0  12 PENCILS SMALL TUBE RED RETROSPOT  12 PENCIL SMALL TUBE WOODLAND   \n",
       "\n",
       "   antecedent support  consequent support   support  confidence       lift  \\\n",
       "2            0.016468            0.015784  0.006553    0.397924  25.209986   \n",
       "0            0.016468            0.014531  0.005869    0.356401  24.527403   \n",
       "\n",
       "   leverage  conviction  \n",
       "2  0.006293    1.634703  \n",
       "0  0.005630    1.531186  "
      ]
     },
     "execution_count": 43,
     "metadata": {},
     "output_type": "execute_result"
    }
   ],
   "source": [
    "result_apriori_rule_conf.loc[result_apriori_rule_conf.antecedents=='12 PENCILS SMALL TUBE RED RETROSPOT'\n",
    "                        ].sort_values(by=['lift'], ascending=[False]).head(20)"
   ]
  },
  {
   "cell_type": "markdown",
   "id": "c09b5210",
   "metadata": {},
   "source": [
    "En esta gráfica podemos observar que existe cierta asociación entre algunos productos pero muchos se encuentran cercanos al cero."
   ]
  },
  {
   "cell_type": "code",
   "execution_count": 44,
   "id": "31ee79e6",
   "metadata": {},
   "outputs": [
    {
     "data": {
      "image/png": "[encoded data removed]",
      "text/plain": [
       "<Figure size 640x480 with 1 Axes>"
      ]
     },
     "metadata": {},
     "output_type": "display_data"
    }
   ],
   "source": [
    "plot_metrics_relationship(apriori_rule_lift, col1='lift', col2='confidence')"
   ]
  },
  {
   "cell_type": "markdown",
   "id": "4a621ad4",
   "metadata": {},
   "source": [
    "## Tiempo de ejecución"
   ]
  },
  {
   "cell_type": "code",
   "execution_count": 53,
   "id": "9a9e68dc",
   "metadata": {},
   "outputs": [
    {
     "data": {
      "image/png": "[encoded data removed]",
      "text/plain": [
       "<Figure size 640x480 with 1 Axes>"
      ]
     },
     "metadata": {},
     "output_type": "display_data"
    }
   ],
   "source": [
    "algo1 = ['Fp Growth', fp_growth_exec_time]\n",
    "algo2 = ['Apriori', apriori_exec_time]\n",
    "\n",
    "compare_time_exec(algo1, algo2)"
   ]
  },
  {
   "cell_type": "markdown",
   "id": "c0a7d782",
   "metadata": {},
   "source": [
    "Tal como es de esperar el algoritmo de FP Growth es computacionalemente mucho más rápido y los resultados son los mismos. "
   ]
  },
  {
   "cell_type": "code",
   "execution_count": 54,
   "id": "a1599994",
   "metadata": {},
   "outputs": [
    {
     "name": "stdout",
     "output_type": "stream",
     "text": [
      "Execution time FP Growth: 10.381493091583252 \n",
      "Execution time Apriori: 983.8566098213196 \n",
      " 1.0\n"
     ]
    }
   ],
   "source": [
    "print('Execution time FP Growth:', fp_growth_exec_time, \n",
    "      '\\n'\n",
    "      'Execution time Apriori:',   apriori_exec_time,\n",
    "      '\\n',\n",
    "      round(fp_growth_exec_time/apriori_exec_time*100,0))"
   ]
  }
 ],
 "metadata": {
  "kernelspec": {
   "display_name": "Python 3 (ipykernel)",
   "language": "python",
   "name": "python3"
  },
  "language_info": {
   "codemirror_mode": {
    "name": "ipython",
    "version": 3
   },
   "file_extension": ".py",
   "mimetype": "text/x-python",
   "name": "python",
   "nbconvert_exporter": "python",
   "pygments_lexer": "ipython3",
   "version": "3.8.5"
  }
 },
 "nbformat": 4,
 "nbformat_minor": 5
}
