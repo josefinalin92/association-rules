{
 "cells": [
  {
   "cell_type": "markdown",
   "id": "59bb405e",
   "metadata": {},
   "source": [
    "# Recomendar productos según el carrito de compras del usuario\n",
    "\n",
    "## Objetivo\n",
    "\n",
    "Incrementar el Basket Size (tamaño del carrito de compras) de los usuarios mejorando la experiencia de compra a través de la recomendación de productos que tienen alta probabilidad de comprarse en conjunto, en base a reglas de asociación generadas por el algoritmo de FP Growth. \n",
    "Se elige este algoritmo pues en el notebook anterior se comprobó que es más eficiente en cuanto a la implementación que el algoritmo Apriori y llegan a los mismos resultados.\n",
    "\n",
    "## Alcance\n",
    "\n",
    "Se trabajará con los datos del `model_input.csv`, resultado del primer notebook (1_eda). En el análisis exploratorio realizado se definió las siguientes decisiones a tomar:\n",
    "1. Filtrar el dataset solo para United Kingdom\n",
    "2. Borrar las órdenes con 1 solo producto\n",
    "3. Borrar las órdenes que potencialmente pueden ser para más de 1 cliente: sin CustomerID y con más de 100 productos por órden.\n",
    "4. Borrar las descripciones duplicadas que están asociadas a 1 StockCode "
   ]
  },
  {
   "cell_type": "markdown",
   "id": "c1adb39d",
   "metadata": {},
   "source": [
    "## Importar librerías"
   ]
  },
  {
   "cell_type": "code",
   "execution_count": 1,
   "id": "bf80d694",
   "metadata": {
    "scrolled": true
   },
   "outputs": [],
   "source": [
    "import time\n",
    "from datetime import datetime\n",
    "import numpy as np\n",
    "import pandas as pd\n",
    "import pymongo"
   ]
  },
  {
   "cell_type": "code",
   "execution_count": 2,
   "id": "8ac57d48",
   "metadata": {
    "scrolled": true
   },
   "outputs": [],
   "source": [
    "orders = pd.read_csv('C:/Users/josefina.lin/Documents/Master/10-Trabajo Final/datasets/model_input.csv')"
   ]
  },
  {
   "cell_type": "code",
   "execution_count": 3,
   "id": "938e1b4c",
   "metadata": {
    "scrolled": true
   },
   "outputs": [
    {
     "data": {
      "text/html": [
       "<div>\n",
       "<style scoped>\n",
       "    .dataframe tbody tr th:only-of-type {\n",
       "        vertical-align: middle;\n",
       "    }\n",
       "\n",
       "    .dataframe tbody tr th {\n",
       "        vertical-align: top;\n",
       "    }\n",
       "\n",
       "    .dataframe thead th {\n",
       "        text-align: right;\n",
       "    }\n",
       "</style>\n",
       "<table border=\"1\" class=\"dataframe\">\n",
       "  <thead>\n",
       "    <tr style=\"text-align: right;\">\n",
       "      <th></th>\n",
       "      <th>StockCode</th>\n",
       "      <th>Description</th>\n",
       "      <th>InvoiceNo</th>\n",
       "      <th>Quantity</th>\n",
       "      <th>InvoiceDate</th>\n",
       "      <th>UnitPrice</th>\n",
       "      <th>CustomerID</th>\n",
       "      <th>Country</th>\n",
       "    </tr>\n",
       "  </thead>\n",
       "  <tbody>\n",
       "    <tr>\n",
       "      <th>0</th>\n",
       "      <td>21730</td>\n",
       "      <td>GLASS STAR FROSTED T-LIGHT HOLDER</td>\n",
       "      <td>536365</td>\n",
       "      <td>6</td>\n",
       "      <td>2010-12-01 08:26:00</td>\n",
       "      <td>4.25</td>\n",
       "      <td>17850.0</td>\n",
       "      <td>United Kingdom</td>\n",
       "    </tr>\n",
       "    <tr>\n",
       "      <th>1</th>\n",
       "      <td>21730</td>\n",
       "      <td>GLASS STAR FROSTED T-LIGHT HOLDER</td>\n",
       "      <td>536373</td>\n",
       "      <td>6</td>\n",
       "      <td>2010-12-01 09:02:00</td>\n",
       "      <td>4.25</td>\n",
       "      <td>17850.0</td>\n",
       "      <td>United Kingdom</td>\n",
       "    </tr>\n",
       "    <tr>\n",
       "      <th>2</th>\n",
       "      <td>21730</td>\n",
       "      <td>GLASS STAR FROSTED T-LIGHT HOLDER</td>\n",
       "      <td>536375</td>\n",
       "      <td>6</td>\n",
       "      <td>2010-12-01 09:32:00</td>\n",
       "      <td>4.25</td>\n",
       "      <td>17850.0</td>\n",
       "      <td>United Kingdom</td>\n",
       "    </tr>\n",
       "    <tr>\n",
       "      <th>3</th>\n",
       "      <td>21730</td>\n",
       "      <td>GLASS STAR FROSTED T-LIGHT HOLDER</td>\n",
       "      <td>536396</td>\n",
       "      <td>6</td>\n",
       "      <td>2010-12-01 10:51:00</td>\n",
       "      <td>4.25</td>\n",
       "      <td>17850.0</td>\n",
       "      <td>United Kingdom</td>\n",
       "    </tr>\n",
       "    <tr>\n",
       "      <th>4</th>\n",
       "      <td>21730</td>\n",
       "      <td>GLASS STAR FROSTED T-LIGHT HOLDER</td>\n",
       "      <td>536406</td>\n",
       "      <td>6</td>\n",
       "      <td>2010-12-01 11:33:00</td>\n",
       "      <td>4.25</td>\n",
       "      <td>17850.0</td>\n",
       "      <td>United Kingdom</td>\n",
       "    </tr>\n",
       "  </tbody>\n",
       "</table>\n",
       "</div>"
      ],
      "text/plain": [
       "  StockCode                        Description InvoiceNo  Quantity  \\\n",
       "0     21730  GLASS STAR FROSTED T-LIGHT HOLDER    536365         6   \n",
       "1     21730  GLASS STAR FROSTED T-LIGHT HOLDER    536373         6   \n",
       "2     21730  GLASS STAR FROSTED T-LIGHT HOLDER    536375         6   \n",
       "3     21730  GLASS STAR FROSTED T-LIGHT HOLDER    536396         6   \n",
       "4     21730  GLASS STAR FROSTED T-LIGHT HOLDER    536406         6   \n",
       "\n",
       "           InvoiceDate  UnitPrice  CustomerID         Country  \n",
       "0  2010-12-01 08:26:00       4.25     17850.0  United Kingdom  \n",
       "1  2010-12-01 09:02:00       4.25     17850.0  United Kingdom  \n",
       "2  2010-12-01 09:32:00       4.25     17850.0  United Kingdom  \n",
       "3  2010-12-01 10:51:00       4.25     17850.0  United Kingdom  \n",
       "4  2010-12-01 11:33:00       4.25     17850.0  United Kingdom  "
      ]
     },
     "execution_count": 3,
     "metadata": {},
     "output_type": "execute_result"
    }
   ],
   "source": [
    "orders.head()"
   ]
  },
  {
   "cell_type": "code",
   "execution_count": 4,
   "id": "61878fd7",
   "metadata": {
    "scrolled": true
   },
   "outputs": [],
   "source": [
    "orders.drop([\"CustomerID\",\"Quantity\",\"UnitPrice\",\"InvoiceDate\"],\n",
    "            axis=1,\n",
    "           inplace=True)"
   ]
  },
  {
   "cell_type": "markdown",
   "id": "1c0ed12f",
   "metadata": {},
   "source": [
    "## Inspeccionar la data"
   ]
  },
  {
   "cell_type": "code",
   "execution_count": 5,
   "id": "cfe8fc0f",
   "metadata": {
    "scrolled": true
   },
   "outputs": [
    {
     "name": "stdout",
     "output_type": "stream",
     "text": [
      "<class 'pandas.core.frame.DataFrame'>\n",
      "RangeIndex: 361763 entries, 0 to 361762\n",
      "Data columns (total 4 columns):\n",
      " #   Column       Non-Null Count   Dtype \n",
      "---  ------       --------------   ----- \n",
      " 0   StockCode    361763 non-null  object\n",
      " 1   Description  361763 non-null  object\n",
      " 2   InvoiceNo    361763 non-null  object\n",
      " 3   Country      361763 non-null  object\n",
      "dtypes: object(4)\n",
      "memory usage: 11.0+ MB\n"
     ]
    }
   ],
   "source": [
    "orders.info()"
   ]
  },
  {
   "cell_type": "code",
   "execution_count": 6,
   "id": "98dedb77",
   "metadata": {
    "scrolled": true
   },
   "outputs": [],
   "source": [
    "### Identificamos las columnas que son categóricas\n",
    "\n",
    "CATEGORICAL_COLUMNS = ['InvoiceNo',\n",
    "                       'StockCode',\n",
    "                       'Description', \n",
    "                       'Country'\n",
    "                      ]\n",
    "orders[CATEGORICAL_COLUMNS] = orders[CATEGORICAL_COLUMNS].astype('object')"
   ]
  },
  {
   "cell_type": "code",
   "execution_count": 7,
   "id": "91513a13",
   "metadata": {
    "scrolled": false
   },
   "outputs": [
    {
     "data": {
      "text/html": [
       "<div>\n",
       "<style scoped>\n",
       "    .dataframe tbody tr th:only-of-type {\n",
       "        vertical-align: middle;\n",
       "    }\n",
       "\n",
       "    .dataframe tbody tr th {\n",
       "        vertical-align: top;\n",
       "    }\n",
       "\n",
       "    .dataframe thead th {\n",
       "        text-align: right;\n",
       "    }\n",
       "</style>\n",
       "<table border=\"1\" class=\"dataframe\">\n",
       "  <thead>\n",
       "    <tr style=\"text-align: right;\">\n",
       "      <th></th>\n",
       "      <th>InvoiceNo</th>\n",
       "      <th>StockCode</th>\n",
       "      <th>Description</th>\n",
       "      <th>Country</th>\n",
       "    </tr>\n",
       "  </thead>\n",
       "  <tbody>\n",
       "    <tr>\n",
       "      <th>count</th>\n",
       "      <td>361763</td>\n",
       "      <td>361763</td>\n",
       "      <td>361763</td>\n",
       "      <td>361763</td>\n",
       "    </tr>\n",
       "    <tr>\n",
       "      <th>unique</th>\n",
       "      <td>17549</td>\n",
       "      <td>3774</td>\n",
       "      <td>3669</td>\n",
       "      <td>1</td>\n",
       "    </tr>\n",
       "    <tr>\n",
       "      <th>top</th>\n",
       "      <td>576339</td>\n",
       "      <td>85123A</td>\n",
       "      <td>WHITE HANGING HEART T-LIGHT HOLDER</td>\n",
       "      <td>United Kingdom</td>\n",
       "    </tr>\n",
       "    <tr>\n",
       "      <th>freq</th>\n",
       "      <td>519</td>\n",
       "      <td>1960</td>\n",
       "      <td>1993</td>\n",
       "      <td>361763</td>\n",
       "    </tr>\n",
       "  </tbody>\n",
       "</table>\n",
       "</div>"
      ],
      "text/plain": [
       "       InvoiceNo StockCode                         Description         Country\n",
       "count     361763    361763                              361763          361763\n",
       "unique     17549      3774                                3669               1\n",
       "top       576339    85123A  WHITE HANGING HEART T-LIGHT HOLDER  United Kingdom\n",
       "freq         519      1960                                1993          361763"
      ]
     },
     "execution_count": 7,
     "metadata": {},
     "output_type": "execute_result"
    }
   ],
   "source": [
    "orders[CATEGORICAL_COLUMNS].describe()"
   ]
  },
  {
   "cell_type": "markdown",
   "id": "ba9953a3",
   "metadata": {},
   "source": [
    "## Implementación de las Reglas de Asociación"
   ]
  },
  {
   "cell_type": "code",
   "execution_count": 8,
   "id": "1c2560e1",
   "metadata": {},
   "outputs": [],
   "source": [
    "from mlxtend.preprocessing import TransactionEncoder\n",
    "from mlxtend.frequent_patterns import apriori, association_rules, fpgrowth"
   ]
  },
  {
   "cell_type": "code",
   "execution_count": 9,
   "id": "e5eb17ed",
   "metadata": {
    "scrolled": false
   },
   "outputs": [],
   "source": [
    "import networkx as nx\n",
    "from pyvis.network import Network"
   ]
  },
  {
   "cell_type": "markdown",
   "id": "ace7f23b",
   "metadata": {},
   "source": [
    "El __soporte__ indica qué tan popular es un artículo, es decir, cuán frecuente aparece en las compras. El umbral lo tenemos que determinar nostotros, por ejemplo, si lo seteamos en 0.5 entonces nos quedaeremos solo con aquellos que ocurren juntos por lo menos el 5% de las veces. Cuanto más bajo sea mayor combinaciones de artícuilos lograremos y por lo tanto más cantidad de recomendaciones y este es nuestro objetivo."
   ]
  },
  {
   "cell_type": "markdown",
   "id": "0675c5e3",
   "metadata": {},
   "source": [
    "### Helper Functions"
   ]
  },
  {
   "cell_type": "code",
   "execution_count": 10,
   "id": "487363d1",
   "metadata": {
    "scrolled": true
   },
   "outputs": [],
   "source": [
    "def perform_rule_calculation(transact_items_matrix, rule_type=\"fpgrowth\", min_support=0.005):\n",
    "    \"\"\"\n",
    "    desc: this function performs the association rule calculation \n",
    "    @params:\n",
    "        - transact_items_matrix: the transaction X Items matrix\n",
    "        - rule_type: \n",
    "                    - apriori or Growth algorithms (default=\"fpgrowth\")\n",
    "                    \n",
    "        - min_support: minimum support threshold value (default = 0.005)\n",
    "        \n",
    "    @returns:\n",
    "        - the matrix containing 3 columns:\n",
    "            - support: support values for each combination of items\n",
    "            - itemsets: the combination of items\n",
    "            - number_of_items: the number of items in each combination of items\n",
    "            \n",
    "        - the excution time for the corresponding algorithm\n",
    "        \n",
    "    \"\"\"\n",
    "    start_time = 0\n",
    "    total_execution = 0\n",
    "    \n",
    "    if(not rule_type==\"fpgrowth\"):\n",
    "        start_time = time.time()\n",
    "        rule_items = apriori(transact_items_matrix, \n",
    "                       min_support=min_support, \n",
    "                       use_colnames=True)\n",
    "        total_execution = time.time() - start_time\n",
    "        print(\"Computed Apriori!\")\n",
    "        \n",
    "    else:\n",
    "        start_time = time.time()\n",
    "        rule_items = fpgrowth(transact_items_matrix, \n",
    "                       min_support=min_support, \n",
    "                       use_colnames=True)\n",
    "        total_execution = time.time() - start_time\n",
    "        print(\"Computed Fp Growth!\")\n",
    "    \n",
    "    rule_items['number_of_items'] = rule_items['itemsets'].apply(lambda x: len(x))\n",
    "    \n",
    "    return rule_items, total_execution"
   ]
  },
  {
   "cell_type": "code",
   "execution_count": 11,
   "id": "5d4cc76b",
   "metadata": {
    "scrolled": true
   },
   "outputs": [],
   "source": [
    "def compute_association_rule(rule_matrix, metric=\"lift\", min_thresh=1):\n",
    "    \"\"\"\n",
    "    @desc: Compute the final association rule\n",
    "    @params:\n",
    "        - rule_matrix: the corresponding algorithms matrix\n",
    "        - metric: the metric to be used (default is lift)\n",
    "        - min_thresh: the minimum threshold (default is 1)\n",
    "        \n",
    "    @returns:\n",
    "        - rules: all the information for each transaction satisfying the given metric & threshold\n",
    "    \"\"\"\n",
    "    rules = association_rules(rule_matrix, \n",
    "                              metric=metric, \n",
    "                              min_threshold=min_thresh)\n",
    "    \n",
    "    return rules"
   ]
  },
  {
   "cell_type": "code",
   "execution_count": 12,
   "id": "137cc2d7",
   "metadata": {},
   "outputs": [],
   "source": [
    "# Plot Lift Vs Coverage(confidence) \n",
    "def plot_metrics_relationship(rule_matrix, col1, col2):\n",
    "    \"\"\"\n",
    "    desc: shows the relationship between the two input columns \n",
    "    @params:\n",
    "        - rule_matrix: the matrix containing the result of a rule (apriori or Fp Growth)\n",
    "        - col1: first column\n",
    "        - col2: second column\n",
    "    \"\"\"\n",
    "    fit = np.polyfit(rule_matrix[col1], rule_matrix[col2], 1)\n",
    "    fit_funt = np.poly1d(fit)\n",
    "    plt.plot(rule_matrix[col1], rule_matrix[col2], 'yo', rule_matrix[col1], \n",
    "    fit_funt(rule_matrix[col1]))\n",
    "    plt.xlabel(col1)\n",
    "    plt.ylabel(col2)\n",
    "    plt.title('{} vs {}'.format(col1, col2))"
   ]
  },
  {
   "cell_type": "code",
   "execution_count": 13,
   "id": "e85d1dfb",
   "metadata": {},
   "outputs": [],
   "source": [
    "def compare_time_exec(algo1=list, alg2=list):\n",
    "    \"\"\"\n",
    "    @desc: shows the execution time between two algorithms\n",
    "    @params:\n",
    "        - algo1: list containing the description of first algorithm, where\n",
    "            \n",
    "        - algo2: list containing the description of second algorithm, where\n",
    "    \"\"\"\n",
    "    \n",
    "    execution_times = [algo1[1], algo2[1]]\n",
    "    algo_names = (algo1[0], algo2[0])\n",
    "    y=np.arange(len(algo_names))\n",
    "    \n",
    "    plt.bar(y,execution_times,color=['orange', 'blue'])\n",
    "    plt.xticks(y,algo_names)\n",
    "    plt.xlabel('Algorithms')\n",
    "    plt.ylabel('Time')\n",
    "    plt.title(\"Execution Time (seconds) Comparison\")\n",
    "    plt.show()"
   ]
  },
  {
   "cell_type": "markdown",
   "id": "93dcd481",
   "metadata": {},
   "source": [
    "## Fp Growth Algorithm"
   ]
  },
  {
   "cell_type": "markdown",
   "id": "1b4ba3f0",
   "metadata": {},
   "source": [
    "Se calcula el soporte de todo el conjunto de artículos utilizando la matriz calculada __trans_encoder_matrix__ con un soporte mínimo de 0.005. \n",
    "La  regla aplicada es del tipo \"fpgrowth\" que es la que está por default."
   ]
  },
  {
   "cell_type": "markdown",
   "id": "7a6afb87",
   "metadata": {},
   "source": [
    "Se divide la base de orders en dos conjuntos: el de entrenamiento y el de testeo.\n",
    "El de entrenamiento lo usaremos para calcular las reglas de asociación y el de testeo lo utilizaremos más adelante para la evaluación de los resultados."
   ]
  },
  {
   "cell_type": "code",
   "execution_count": 14,
   "id": "9e4a41db",
   "metadata": {},
   "outputs": [],
   "source": [
    "from sklearn.model_selection import train_test_split\n",
    "train, test = train_test_split(orders, test_size=0.1)"
   ]
  },
  {
   "cell_type": "code",
   "execution_count": 15,
   "id": "e5fc597c",
   "metadata": {
    "scrolled": true
   },
   "outputs": [],
   "source": [
    "min_thresh = 1\n",
    "f_metric='lift'\n",
    "t = datetime.now().strftime(\"%Y%m%d\")"
   ]
  },
  {
   "cell_type": "code",
   "execution_count": 16,
   "id": "2c0ba2d0",
   "metadata": {
    "scrolled": true
   },
   "outputs": [
    {
     "name": "stderr",
     "output_type": "stream",
     "text": [
      "C:\\Users\\josefina.lin\\AppData\\Local\\Temp\\ipykernel_11972\\2021507476.py:3: FutureWarning: In a future version of pandas, a length 1 tuple will be returned when iterating over a groupby with a grouper equal to a list of length 1. Don't supply a list with a single grouper to avoid this warning.\n",
      "  in list(train.groupby(['InvoiceNo']))]\n"
     ]
    }
   ],
   "source": [
    "all_transactions = [transaction[1]['StockCode'].tolist() \n",
    "                for transaction \n",
    "                in list(train.groupby(['InvoiceNo']))]"
   ]
  },
  {
   "cell_type": "code",
   "execution_count": 17,
   "id": "5321f0f2",
   "metadata": {
    "scrolled": true
   },
   "outputs": [],
   "source": [
    "## Creamos la matriz de transaction encoder    \n",
    "trans_encoder = TransactionEncoder() # Instanciate the encoder\n",
    "trans_encoder_matrix = trans_encoder.fit(all_transactions).transform(all_transactions)\n",
    "trans_encoder_matrix = pd.DataFrame(trans_encoder_matrix, columns=trans_encoder.columns_)"
   ]
  },
  {
   "cell_type": "code",
   "execution_count": 18,
   "id": "e0cdbbd3",
   "metadata": {},
   "outputs": [
    {
     "data": {
      "text/html": [
       "<div>\n",
       "<style scoped>\n",
       "    .dataframe tbody tr th:only-of-type {\n",
       "        vertical-align: middle;\n",
       "    }\n",
       "\n",
       "    .dataframe tbody tr th {\n",
       "        vertical-align: top;\n",
       "    }\n",
       "\n",
       "    .dataframe thead th {\n",
       "        text-align: right;\n",
       "    }\n",
       "</style>\n",
       "<table border=\"1\" class=\"dataframe\">\n",
       "  <thead>\n",
       "    <tr style=\"text-align: right;\">\n",
       "      <th></th>\n",
       "      <th>10002</th>\n",
       "      <th>10080</th>\n",
       "      <th>10120</th>\n",
       "      <th>10123C</th>\n",
       "      <th>10124A</th>\n",
       "      <th>10124G</th>\n",
       "      <th>10125</th>\n",
       "      <th>10133</th>\n",
       "      <th>10135</th>\n",
       "      <th>11001</th>\n",
       "      <th>...</th>\n",
       "      <th>90214Y</th>\n",
       "      <th>90214Z</th>\n",
       "      <th>C2</th>\n",
       "      <th>DOT</th>\n",
       "      <th>M</th>\n",
       "      <th>PADS</th>\n",
       "      <th>POST</th>\n",
       "      <th>gift_0001_20</th>\n",
       "      <th>gift_0001_30</th>\n",
       "      <th>m</th>\n",
       "    </tr>\n",
       "  </thead>\n",
       "  <tbody>\n",
       "    <tr>\n",
       "      <th>0</th>\n",
       "      <td>False</td>\n",
       "      <td>False</td>\n",
       "      <td>False</td>\n",
       "      <td>False</td>\n",
       "      <td>False</td>\n",
       "      <td>False</td>\n",
       "      <td>False</td>\n",
       "      <td>False</td>\n",
       "      <td>False</td>\n",
       "      <td>False</td>\n",
       "      <td>...</td>\n",
       "      <td>False</td>\n",
       "      <td>False</td>\n",
       "      <td>False</td>\n",
       "      <td>False</td>\n",
       "      <td>False</td>\n",
       "      <td>False</td>\n",
       "      <td>False</td>\n",
       "      <td>False</td>\n",
       "      <td>False</td>\n",
       "      <td>False</td>\n",
       "    </tr>\n",
       "    <tr>\n",
       "      <th>1</th>\n",
       "      <td>False</td>\n",
       "      <td>False</td>\n",
       "      <td>False</td>\n",
       "      <td>False</td>\n",
       "      <td>False</td>\n",
       "      <td>False</td>\n",
       "      <td>False</td>\n",
       "      <td>False</td>\n",
       "      <td>False</td>\n",
       "      <td>False</td>\n",
       "      <td>...</td>\n",
       "      <td>False</td>\n",
       "      <td>False</td>\n",
       "      <td>False</td>\n",
       "      <td>False</td>\n",
       "      <td>False</td>\n",
       "      <td>False</td>\n",
       "      <td>False</td>\n",
       "      <td>False</td>\n",
       "      <td>False</td>\n",
       "      <td>False</td>\n",
       "    </tr>\n",
       "    <tr>\n",
       "      <th>2</th>\n",
       "      <td>False</td>\n",
       "      <td>False</td>\n",
       "      <td>False</td>\n",
       "      <td>False</td>\n",
       "      <td>False</td>\n",
       "      <td>False</td>\n",
       "      <td>False</td>\n",
       "      <td>False</td>\n",
       "      <td>False</td>\n",
       "      <td>False</td>\n",
       "      <td>...</td>\n",
       "      <td>False</td>\n",
       "      <td>False</td>\n",
       "      <td>False</td>\n",
       "      <td>False</td>\n",
       "      <td>False</td>\n",
       "      <td>False</td>\n",
       "      <td>False</td>\n",
       "      <td>False</td>\n",
       "      <td>False</td>\n",
       "      <td>False</td>\n",
       "    </tr>\n",
       "    <tr>\n",
       "      <th>3</th>\n",
       "      <td>False</td>\n",
       "      <td>False</td>\n",
       "      <td>False</td>\n",
       "      <td>False</td>\n",
       "      <td>False</td>\n",
       "      <td>False</td>\n",
       "      <td>False</td>\n",
       "      <td>False</td>\n",
       "      <td>False</td>\n",
       "      <td>False</td>\n",
       "      <td>...</td>\n",
       "      <td>False</td>\n",
       "      <td>False</td>\n",
       "      <td>False</td>\n",
       "      <td>False</td>\n",
       "      <td>False</td>\n",
       "      <td>False</td>\n",
       "      <td>False</td>\n",
       "      <td>False</td>\n",
       "      <td>False</td>\n",
       "      <td>False</td>\n",
       "    </tr>\n",
       "    <tr>\n",
       "      <th>4</th>\n",
       "      <td>False</td>\n",
       "      <td>False</td>\n",
       "      <td>False</td>\n",
       "      <td>False</td>\n",
       "      <td>False</td>\n",
       "      <td>False</td>\n",
       "      <td>False</td>\n",
       "      <td>False</td>\n",
       "      <td>False</td>\n",
       "      <td>False</td>\n",
       "      <td>...</td>\n",
       "      <td>False</td>\n",
       "      <td>False</td>\n",
       "      <td>False</td>\n",
       "      <td>False</td>\n",
       "      <td>False</td>\n",
       "      <td>False</td>\n",
       "      <td>False</td>\n",
       "      <td>False</td>\n",
       "      <td>False</td>\n",
       "      <td>False</td>\n",
       "    </tr>\n",
       "  </tbody>\n",
       "</table>\n",
       "<p>5 rows × 3747 columns</p>\n",
       "</div>"
      ],
      "text/plain": [
       "   10002  10080  10120  10123C  10124A  10124G  10125  10133  10135  11001  \\\n",
       "0  False  False  False   False   False   False  False  False  False  False   \n",
       "1  False  False  False   False   False   False  False  False  False  False   \n",
       "2  False  False  False   False   False   False  False  False  False  False   \n",
       "3  False  False  False   False   False   False  False  False  False  False   \n",
       "4  False  False  False   False   False   False  False  False  False  False   \n",
       "\n",
       "   ...  90214Y  90214Z     C2    DOT      M   PADS   POST  gift_0001_20  \\\n",
       "0  ...   False   False  False  False  False  False  False         False   \n",
       "1  ...   False   False  False  False  False  False  False         False   \n",
       "2  ...   False   False  False  False  False  False  False         False   \n",
       "3  ...   False   False  False  False  False  False  False         False   \n",
       "4  ...   False   False  False  False  False  False  False         False   \n",
       "\n",
       "   gift_0001_30      m  \n",
       "0         False  False  \n",
       "1         False  False  \n",
       "2         False  False  \n",
       "3         False  False  \n",
       "4         False  False  \n",
       "\n",
       "[5 rows x 3747 columns]"
      ]
     },
     "execution_count": 18,
     "metadata": {},
     "output_type": "execute_result"
    }
   ],
   "source": [
    "trans_encoder_matrix.head()"
   ]
  },
  {
   "cell_type": "code",
   "execution_count": 19,
   "id": "f52e4759",
   "metadata": {},
   "outputs": [
    {
     "name": "stdout",
     "output_type": "stream",
     "text": [
      "Computed Fp Growth!\n"
     ]
    }
   ],
   "source": [
    "## Make rule calculation rule\n",
    "    \n",
    "fpgrowth_matrix, fp_growth_exec_time = perform_rule_calculation(trans_encoder_matrix)"
   ]
  },
  {
   "cell_type": "code",
   "execution_count": 20,
   "id": "efe2bb47",
   "metadata": {
    "scrolled": true
   },
   "outputs": [],
   "source": [
    "## Perform lift result \n",
    "fp_growth_rule_lift = compute_association_rule(fpgrowth_matrix, metric=f_metric, min_thresh=min_thresh)\n",
    "\n",
    "result_fpg_rule_lift = fp_growth_rule_lift.explode('antecedents', \n",
    "                                                   ignore_index=True).explode('consequents').copy()"
   ]
  },
  {
   "cell_type": "code",
   "execution_count": 21,
   "id": "7454736a",
   "metadata": {},
   "outputs": [],
   "source": [
    "## Save results product to recommend and total products by product\n",
    "recommendation_by_product = result_fpg_rule_lift[['antecedents',\n",
    "                                                  'consequents', \n",
    "                                                  'support',\n",
    "                                                  'confidence',\n",
    "                                                  'lift'\n",
    "                                                 ]]\n",
    "\n",
    "recommendation_by_product = recommendation_by_product[['antecedents',\n",
    "                                                       'consequents',\n",
    "                                                       'support',\n",
    "                                                       'confidence',\n",
    "                                                       'lift'\n",
    "                                                      ]].groupby(['antecedents',\n",
    "                                                                  'consequents'\n",
    "                                                                 ]).max().reset_index()"
   ]
  },
  {
   "cell_type": "code",
   "execution_count": 22,
   "id": "72bdc36c",
   "metadata": {},
   "outputs": [
    {
     "data": {
      "text/html": [
       "<div>\n",
       "<style scoped>\n",
       "    .dataframe tbody tr th:only-of-type {\n",
       "        vertical-align: middle;\n",
       "    }\n",
       "\n",
       "    .dataframe tbody tr th {\n",
       "        vertical-align: top;\n",
       "    }\n",
       "\n",
       "    .dataframe thead th {\n",
       "        text-align: right;\n",
       "    }\n",
       "</style>\n",
       "<table border=\"1\" class=\"dataframe\">\n",
       "  <thead>\n",
       "    <tr style=\"text-align: right;\">\n",
       "      <th></th>\n",
       "      <th>antecedents</th>\n",
       "      <th>consequents</th>\n",
       "      <th>support</th>\n",
       "      <th>confidence</th>\n",
       "      <th>lift</th>\n",
       "    </tr>\n",
       "  </thead>\n",
       "  <tbody>\n",
       "    <tr>\n",
       "      <th>0</th>\n",
       "      <td>15056BL</td>\n",
       "      <td>15056N</td>\n",
       "      <td>0.005996</td>\n",
       "      <td>0.509709</td>\n",
       "      <td>30.464230</td>\n",
       "    </tr>\n",
       "    <tr>\n",
       "      <th>1</th>\n",
       "      <td>15056N</td>\n",
       "      <td>15056BL</td>\n",
       "      <td>0.005996</td>\n",
       "      <td>0.358362</td>\n",
       "      <td>30.464230</td>\n",
       "    </tr>\n",
       "    <tr>\n",
       "      <th>2</th>\n",
       "      <td>15056N</td>\n",
       "      <td>20679</td>\n",
       "      <td>0.005539</td>\n",
       "      <td>0.331058</td>\n",
       "      <td>26.472548</td>\n",
       "    </tr>\n",
       "    <tr>\n",
       "      <th>3</th>\n",
       "      <td>20675</td>\n",
       "      <td>20676</td>\n",
       "      <td>0.005482</td>\n",
       "      <td>0.436364</td>\n",
       "      <td>29.618605</td>\n",
       "    </tr>\n",
       "    <tr>\n",
       "      <th>4</th>\n",
       "      <td>20675</td>\n",
       "      <td>20677</td>\n",
       "      <td>0.007595</td>\n",
       "      <td>0.604545</td>\n",
       "      <td>49.703286</td>\n",
       "    </tr>\n",
       "    <tr>\n",
       "      <th>...</th>\n",
       "      <td>...</td>\n",
       "      <td>...</td>\n",
       "      <td>...</td>\n",
       "      <td>...</td>\n",
       "      <td>...</td>\n",
       "    </tr>\n",
       "    <tr>\n",
       "      <th>2213</th>\n",
       "      <td>DOT</td>\n",
       "      <td>22379</td>\n",
       "      <td>0.005767</td>\n",
       "      <td>0.372694</td>\n",
       "      <td>14.900942</td>\n",
       "    </tr>\n",
       "    <tr>\n",
       "      <th>2214</th>\n",
       "      <td>DOT</td>\n",
       "      <td>22386</td>\n",
       "      <td>0.008223</td>\n",
       "      <td>0.671233</td>\n",
       "      <td>25.742897</td>\n",
       "    </tr>\n",
       "    <tr>\n",
       "      <th>2215</th>\n",
       "      <td>DOT</td>\n",
       "      <td>22411</td>\n",
       "      <td>0.008965</td>\n",
       "      <td>0.745098</td>\n",
       "      <td>36.422140</td>\n",
       "    </tr>\n",
       "    <tr>\n",
       "      <th>2216</th>\n",
       "      <td>DOT</td>\n",
       "      <td>22502</td>\n",
       "      <td>0.005539</td>\n",
       "      <td>0.357934</td>\n",
       "      <td>20.351081</td>\n",
       "    </tr>\n",
       "    <tr>\n",
       "      <th>2217</th>\n",
       "      <td>DOT</td>\n",
       "      <td>85099B</td>\n",
       "      <td>0.009079</td>\n",
       "      <td>0.701389</td>\n",
       "      <td>28.135949</td>\n",
       "    </tr>\n",
       "  </tbody>\n",
       "</table>\n",
       "<p>2218 rows × 5 columns</p>\n",
       "</div>"
      ],
      "text/plain": [
       "     antecedents consequents   support  confidence       lift\n",
       "0        15056BL      15056N  0.005996    0.509709  30.464230\n",
       "1         15056N     15056BL  0.005996    0.358362  30.464230\n",
       "2         15056N       20679  0.005539    0.331058  26.472548\n",
       "3          20675       20676  0.005482    0.436364  29.618605\n",
       "4          20675       20677  0.007595    0.604545  49.703286\n",
       "...          ...         ...       ...         ...        ...\n",
       "2213         DOT       22379  0.005767    0.372694  14.900942\n",
       "2214         DOT       22386  0.008223    0.671233  25.742897\n",
       "2215         DOT       22411  0.008965    0.745098  36.422140\n",
       "2216         DOT       22502  0.005539    0.357934  20.351081\n",
       "2217         DOT      85099B  0.009079    0.701389  28.135949\n",
       "\n",
       "[2218 rows x 5 columns]"
      ]
     },
     "execution_count": 22,
     "metadata": {},
     "output_type": "execute_result"
    }
   ],
   "source": [
    "recommendation_by_product"
   ]
  },
  {
   "cell_type": "code",
   "execution_count": 23,
   "id": "94112453",
   "metadata": {
    "scrolled": false
   },
   "outputs": [
    {
     "name": "stdout",
     "output_type": "stream",
     "text": [
      "<class 'pandas.core.frame.DataFrame'>\n",
      "RangeIndex: 2218 entries, 0 to 2217\n",
      "Data columns (total 5 columns):\n",
      " #   Column       Non-Null Count  Dtype  \n",
      "---  ------       --------------  -----  \n",
      " 0   antecedents  2218 non-null   object \n",
      " 1   consequents  2218 non-null   object \n",
      " 2   support      2218 non-null   float64\n",
      " 3   confidence   2218 non-null   float64\n",
      " 4   lift         2218 non-null   float64\n",
      "dtypes: float64(3), object(2)\n",
      "memory usage: 86.8+ KB\n"
     ]
    }
   ],
   "source": [
    "recommendation_by_product.info()"
   ]
  },
  {
   "cell_type": "markdown",
   "id": "7e73b5ab",
   "metadata": {},
   "source": [
    "#### Agregamos la descripción del producto para antecedentes y consecuentes"
   ]
  },
  {
   "cell_type": "markdown",
   "id": "6a7ee613",
   "metadata": {},
   "source": [
    "##### Antecedentes"
   ]
  },
  {
   "cell_type": "code",
   "execution_count": 24,
   "id": "dbdf3707",
   "metadata": {
    "scrolled": true
   },
   "outputs": [
    {
     "name": "stdout",
     "output_type": "stream",
     "text": [
      "<class 'pandas.core.frame.DataFrame'>\n",
      "Int64Index: 2218 entries, 0 to 1638934\n",
      "Data columns (total 7 columns):\n",
      " #   Column       Non-Null Count  Dtype  \n",
      "---  ------       --------------  -----  \n",
      " 0   antecedents  2218 non-null   object \n",
      " 1   consequents  2218 non-null   object \n",
      " 2   support      2218 non-null   float64\n",
      " 3   confidence   2218 non-null   float64\n",
      " 4   lift         2218 non-null   float64\n",
      " 5   Description  2218 non-null   object \n",
      " 6   StockCode    2218 non-null   object \n",
      "dtypes: float64(3), object(4)\n",
      "memory usage: 138.6+ KB\n"
     ]
    }
   ],
   "source": [
    "# 1. Se mergea con el dataframe orders para traer la descripción del producto\n",
    "fpg_recommendation_by_product = pd.merge(recommendation_by_product,\n",
    "                                         orders[['Description','StockCode']],\n",
    "                                         how='inner',\n",
    "                                         left_on = ['antecedents'],\n",
    "                                         right_on = ['StockCode']\n",
    "                                         )\n",
    "fpg_recommendation_by_product.drop_duplicates(inplace=True)\n",
    "fpg_recommendation_by_product.info()"
   ]
  },
  {
   "cell_type": "code",
   "execution_count": 25,
   "id": "a24f821e",
   "metadata": {
    "scrolled": true
   },
   "outputs": [
    {
     "name": "stdout",
     "output_type": "stream",
     "text": [
      "<class 'pandas.core.frame.DataFrame'>\n",
      "Int64Index: 2218 entries, 0 to 1638934\n",
      "Data columns (total 6 columns):\n",
      " #   Column                   Non-Null Count  Dtype  \n",
      "---  ------                   --------------  -----  \n",
      " 0   antecedents              2218 non-null   object \n",
      " 1   consequents              2218 non-null   object \n",
      " 2   support                  2218 non-null   float64\n",
      " 3   confidence               2218 non-null   float64\n",
      " 4   lift                     2218 non-null   float64\n",
      " 5   antecedents_description  2218 non-null   object \n",
      "dtypes: float64(3), object(3)\n",
      "memory usage: 121.3+ KB\n"
     ]
    }
   ],
   "source": [
    "# 2. Se renombra el campo a \"antecedents_description\" y se borran los campos del dataframe de orders\n",
    "fpg_recommendation_by_product['antecedents_description'] = fpg_recommendation_by_product['Description']\n",
    "fpg_recommendation_by_product.drop(['Description','StockCode'], axis=1, inplace=True)\n",
    "fpg_recommendation_by_product.info()"
   ]
  },
  {
   "cell_type": "markdown",
   "id": "578da5bd",
   "metadata": {
    "collapsed": true,
    "scrolled": true
   },
   "source": [
    "##### Consecuentes"
   ]
  },
  {
   "cell_type": "code",
   "execution_count": 26,
   "id": "f384d48c",
   "metadata": {
    "scrolled": true
   },
   "outputs": [
    {
     "name": "stdout",
     "output_type": "stream",
     "text": [
      "<class 'pandas.core.frame.DataFrame'>\n",
      "Int64Index: 2218 entries, 0 to 1638797\n",
      "Data columns (total 8 columns):\n",
      " #   Column                   Non-Null Count  Dtype  \n",
      "---  ------                   --------------  -----  \n",
      " 0   antecedents              2218 non-null   object \n",
      " 1   consequents              2218 non-null   object \n",
      " 2   support                  2218 non-null   float64\n",
      " 3   confidence               2218 non-null   float64\n",
      " 4   lift                     2218 non-null   float64\n",
      " 5   antecedents_description  2218 non-null   object \n",
      " 6   Description              2218 non-null   object \n",
      " 7   StockCode                2218 non-null   object \n",
      "dtypes: float64(3), object(5)\n",
      "memory usage: 156.0+ KB\n"
     ]
    }
   ],
   "source": [
    "# 1. Se mergea con el dataframe orders para traer la descripción del producto\n",
    "fpg_recommendation_by_product = pd.merge(fpg_recommendation_by_product,\n",
    "                                         orders[['Description','StockCode']],\n",
    "                                         how='inner',\n",
    "                                         left_on = ['consequents'],\n",
    "                                         right_on = ['StockCode']\n",
    "                                         )\n",
    "fpg_recommendation_by_product.drop_duplicates(inplace=True)\n",
    "fpg_recommendation_by_product.info()"
   ]
  },
  {
   "cell_type": "code",
   "execution_count": 27,
   "id": "203a7d7c",
   "metadata": {
    "scrolled": true
   },
   "outputs": [
    {
     "name": "stdout",
     "output_type": "stream",
     "text": [
      "<class 'pandas.core.frame.DataFrame'>\n",
      "Int64Index: 2218 entries, 0 to 1638797\n",
      "Data columns (total 7 columns):\n",
      " #   Column                   Non-Null Count  Dtype  \n",
      "---  ------                   --------------  -----  \n",
      " 0   antecedents              2218 non-null   object \n",
      " 1   consequents              2218 non-null   object \n",
      " 2   support                  2218 non-null   float64\n",
      " 3   confidence               2218 non-null   float64\n",
      " 4   lift                     2218 non-null   float64\n",
      " 5   antecedents_description  2218 non-null   object \n",
      " 6   consequents_description  2218 non-null   object \n",
      "dtypes: float64(3), object(4)\n",
      "memory usage: 138.6+ KB\n"
     ]
    }
   ],
   "source": [
    "# 2. Se renombra el campo a \"consequents_description\" y se borran los campos del dataframe de orders\n",
    "fpg_recommendation_by_product['consequents_description'] = fpg_recommendation_by_product['Description']\n",
    "fpg_recommendation_by_product.drop(['Description','StockCode'], axis=1, inplace=True)\n",
    "fpg_recommendation_by_product.info()"
   ]
  },
  {
   "cell_type": "code",
   "execution_count": 28,
   "id": "ea368eba",
   "metadata": {},
   "outputs": [
    {
     "data": {
      "text/html": [
       "<div>\n",
       "<style scoped>\n",
       "    .dataframe tbody tr th:only-of-type {\n",
       "        vertical-align: middle;\n",
       "    }\n",
       "\n",
       "    .dataframe tbody tr th {\n",
       "        vertical-align: top;\n",
       "    }\n",
       "\n",
       "    .dataframe thead th {\n",
       "        text-align: right;\n",
       "    }\n",
       "</style>\n",
       "<table border=\"1\" class=\"dataframe\">\n",
       "  <thead>\n",
       "    <tr style=\"text-align: right;\">\n",
       "      <th></th>\n",
       "      <th>antecedents</th>\n",
       "      <th>antecedents_description</th>\n",
       "      <th>consequents</th>\n",
       "      <th>consequents_description</th>\n",
       "      <th>support</th>\n",
       "      <th>confidence</th>\n",
       "      <th>lift</th>\n",
       "    </tr>\n",
       "  </thead>\n",
       "  <tbody>\n",
       "    <tr>\n",
       "      <th>1252978</th>\n",
       "      <td>20975</td>\n",
       "      <td>12 PENCILS SMALL TUBE RED RETROSPOT</td>\n",
       "      <td>20974</td>\n",
       "      <td>12 PENCILS SMALL TUBE SKULL</td>\n",
       "      <td>0.005482</td>\n",
       "      <td>0.363636</td>\n",
       "      <td>25.781377</td>\n",
       "    </tr>\n",
       "    <tr>\n",
       "      <th>1252685</th>\n",
       "      <td>20974</td>\n",
       "      <td>12 PENCILS SMALL TUBE SKULL</td>\n",
       "      <td>20975</td>\n",
       "      <td>12 PENCILS SMALL TUBE RED RETROSPOT</td>\n",
       "      <td>0.005482</td>\n",
       "      <td>0.388664</td>\n",
       "      <td>25.781377</td>\n",
       "    </tr>\n",
       "    <tr>\n",
       "      <th>1478605</th>\n",
       "      <td>22150</td>\n",
       "      <td>3 STRIPEY MICE FELTCRAFT</td>\n",
       "      <td>22149</td>\n",
       "      <td>FELTCRAFT 6 FLOWER FRIENDS</td>\n",
       "      <td>0.005825</td>\n",
       "      <td>0.298246</td>\n",
       "      <td>12.376486</td>\n",
       "    </tr>\n",
       "    <tr>\n",
       "      <th>1250240</th>\n",
       "      <td>22150</td>\n",
       "      <td>3 STRIPEY MICE FELTCRAFT</td>\n",
       "      <td>22147</td>\n",
       "      <td>FELTCRAFT BUTTERFLY HEARTS</td>\n",
       "      <td>0.006167</td>\n",
       "      <td>0.315789</td>\n",
       "      <td>13.964912</td>\n",
       "    </tr>\n",
       "    <tr>\n",
       "      <th>1457592</th>\n",
       "      <td>23354</td>\n",
       "      <td>6 GIFT TAGS 50'S CHRISTMAS</td>\n",
       "      <td>23351</td>\n",
       "      <td>ROLL WRAP 50'S CHRISTMAS</td>\n",
       "      <td>0.005196</td>\n",
       "      <td>0.439614</td>\n",
       "      <td>33.040824</td>\n",
       "    </tr>\n",
       "  </tbody>\n",
       "</table>\n",
       "</div>"
      ],
      "text/plain": [
       "        antecedents              antecedents_description consequents  \\\n",
       "1252978       20975  12 PENCILS SMALL TUBE RED RETROSPOT       20974   \n",
       "1252685       20974          12 PENCILS SMALL TUBE SKULL       20975   \n",
       "1478605       22150             3 STRIPEY MICE FELTCRAFT       22149   \n",
       "1250240       22150             3 STRIPEY MICE FELTCRAFT       22147   \n",
       "1457592       23354          6 GIFT TAGS 50'S CHRISTMAS        23351   \n",
       "\n",
       "                     consequents_description   support  confidence       lift  \n",
       "1252978          12 PENCILS SMALL TUBE SKULL  0.005482    0.363636  25.781377  \n",
       "1252685  12 PENCILS SMALL TUBE RED RETROSPOT  0.005482    0.388664  25.781377  \n",
       "1478605           FELTCRAFT 6 FLOWER FRIENDS  0.005825    0.298246  12.376486  \n",
       "1250240           FELTCRAFT BUTTERFLY HEARTS  0.006167    0.315789  13.964912  \n",
       "1457592             ROLL WRAP 50'S CHRISTMAS  0.005196    0.439614  33.040824  "
      ]
     },
     "execution_count": 28,
     "metadata": {},
     "output_type": "execute_result"
    }
   ],
   "source": [
    "# 3. Se reordenan las columnas del dataframe para que visualmente\n",
    "# df = df[['mean', 4,3,2,1]]\n",
    "fpg_recommendation_by_product = fpg_recommendation_by_product[['antecedents',\n",
    "                                                               'antecedents_description',\n",
    "                                                               'consequents',\n",
    "                                                               'consequents_description',\n",
    "                                                               'support',\n",
    "                                                               'confidence',\n",
    "                                                               'lift']]\n",
    "fpg_recommendation_by_product.sort_values(by='antecedents_description', inplace=True)\n",
    "fpg_recommendation_by_product.head(5)"
   ]
  },
  {
   "cell_type": "markdown",
   "id": "8194a251",
   "metadata": {},
   "source": [
    "#### Se guarda los resultados del FP Growth"
   ]
  },
  {
   "cell_type": "markdown",
   "id": "38759211",
   "metadata": {},
   "source": [
    "1. Se guarda en CSV"
   ]
  },
  {
   "cell_type": "code",
   "execution_count": 29,
   "id": "47a8b015",
   "metadata": {},
   "outputs": [],
   "source": [
    "fpg_recommendation_by_product.to_csv('C:/Users/josefina.lin/Documents/Master/10-Trabajo Final/datasets/fp_growth_results.csv', \n",
    "                                     index = False)"
   ]
  },
  {
   "cell_type": "markdown",
   "id": "0d6dcb66",
   "metadata": {},
   "source": [
    "2. Se guarda en MongoDB"
   ]
  },
  {
   "cell_type": "code",
   "execution_count": 30,
   "id": "7e2e78d5",
   "metadata": {},
   "outputs": [],
   "source": [
    "import json"
   ]
  },
  {
   "cell_type": "code",
   "execution_count": 31,
   "id": "4dd13e3b",
   "metadata": {},
   "outputs": [],
   "source": [
    "# 2.1 Primero transformamos en JSON las recomendaciones por producto\n",
    "records = json.loads(fpg_recommendation_by_product.T.to_json()).values()"
   ]
  },
  {
   "cell_type": "code",
   "execution_count": 32,
   "id": "82bdb82e",
   "metadata": {},
   "outputs": [],
   "source": [
    "# 2.2 Nos conectamos al servidor de MongoDB local\n",
    "myclient = pymongo.MongoClient(\"mongodb://localhost:27017/\")"
   ]
  },
  {
   "cell_type": "code",
   "execution_count": 33,
   "id": "f288431f",
   "metadata": {},
   "outputs": [],
   "source": [
    "# 2.3 Nos conectamos a la base de datos \"association_rules\" y a la colección \"rules\"\n",
    "db = myclient['association_rules']\n",
    "collection = db['rules']"
   ]
  },
  {
   "cell_type": "code",
   "execution_count": 34,
   "id": "c0ace059",
   "metadata": {
    "scrolled": true
   },
   "outputs": [
    {
     "data": {
      "text/plain": [
       "<pymongo.results.InsertManyResult at 0x24ff35e9a60>"
      ]
     },
     "execution_count": 34,
     "metadata": {},
     "output_type": "execute_result"
    }
   ],
   "source": [
    "# 2.4 Insertamos en la collection los registros que transformamos en JSON en el paso 1\n",
    "collection.insert_many(records)"
   ]
  },
  {
   "cell_type": "markdown",
   "id": "bb07f4a5",
   "metadata": {},
   "source": [
    "#### Se guarda el dataset de testeo"
   ]
  },
  {
   "cell_type": "code",
   "execution_count": 35,
   "id": "4f817f24",
   "metadata": {},
   "outputs": [],
   "source": [
    "test.to_csv('C:/Users/josefina.lin/Documents/Master/10-Trabajo Final/datasets/test.csv', \n",
    "                                     index = False)"
   ]
  }
 ],
 "metadata": {
  "kernelspec": {
   "display_name": "Python 3 (ipykernel)",
   "language": "python",
   "name": "python3"
  },
  "language_info": {
   "codemirror_mode": {
    "name": "ipython",
    "version": 3
   },
   "file_extension": ".py",
   "mimetype": "text/x-python",
   "name": "python",
   "nbconvert_exporter": "python",
   "pygments_lexer": "ipython3",
   "version": "3.8.5"
  }
 },
 "nbformat": 4,
 "nbformat_minor": 5
}
