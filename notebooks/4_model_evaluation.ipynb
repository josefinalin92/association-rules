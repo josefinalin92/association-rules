{
 "cells": [
  {
   "cell_type": "markdown",
   "id": "8d510633",
   "metadata": {},
   "source": [
    "# Evaluación de los resultados del modelo\n",
    "\n",
    "## Objetivo\n",
    "\n",
    "El objetivo del presente notebook es evaluar los resultados del modelo. Se utilizará el dataset de testeo que se dejó inicialmente en el notebook anterior para identificar cuántas órdenes tendrán al menos una recomendación. La idea es jugar con el valor del lift y evaluar los distintos casos."
   ]
  },
  {
   "cell_type": "markdown",
   "id": "a09f6c19",
   "metadata": {},
   "source": [
    "#### Importar librerías"
   ]
  },
  {
   "cell_type": "code",
   "execution_count": 1,
   "id": "e0a5a817",
   "metadata": {},
   "outputs": [],
   "source": [
    "import pandas as pd\n",
    "import matplotlib.pyplot as plt \n",
    "import seaborn as sns\n",
    "sns.set_palette(\"pastel\")"
   ]
  },
  {
   "cell_type": "markdown",
   "id": "79e76b55",
   "metadata": {},
   "source": [
    "#### Importar datos"
   ]
  },
  {
   "cell_type": "code",
   "execution_count": 20,
   "id": "bdbf928f",
   "metadata": {},
   "outputs": [],
   "source": [
    "## Datos de órdenes del dataset de testeo\n",
    "orders = pd.read_csv('C:/Users/josefina.lin/Documents/Master/10-Trabajo Final/datasets/test.csv')"
   ]
  },
  {
   "cell_type": "code",
   "execution_count": 21,
   "id": "8f5797db",
   "metadata": {
    "scrolled": true
   },
   "outputs": [
    {
     "name": "stdout",
     "output_type": "stream",
     "text": [
      "<class 'pandas.core.frame.DataFrame'>\n",
      "RangeIndex: 36177 entries, 0 to 36176\n",
      "Data columns (total 4 columns):\n",
      " #   Column       Non-Null Count  Dtype \n",
      "---  ------       --------------  ----- \n",
      " 0   StockCode    36177 non-null  object\n",
      " 1   Description  36177 non-null  object\n",
      " 2   InvoiceNo    36177 non-null  object\n",
      " 3   Country      36177 non-null  object\n",
      "dtypes: object(4)\n",
      "memory usage: 1.1+ MB\n"
     ]
    }
   ],
   "source": [
    "orders.info()"
   ]
  },
  {
   "cell_type": "code",
   "execution_count": 4,
   "id": "40e6005e",
   "metadata": {},
   "outputs": [],
   "source": [
    "## Resultados del FP-Growth\n",
    "fpg = pd.read_csv('C:/Users/josefina.lin/Documents/Master/10-Trabajo Final/datasets/fp_growth_results.csv')"
   ]
  },
  {
   "cell_type": "code",
   "execution_count": 5,
   "id": "fde8949c",
   "metadata": {
    "scrolled": true
   },
   "outputs": [
    {
     "name": "stdout",
     "output_type": "stream",
     "text": [
      "<class 'pandas.core.frame.DataFrame'>\n",
      "RangeIndex: 2218 entries, 0 to 2217\n",
      "Data columns (total 7 columns):\n",
      " #   Column                   Non-Null Count  Dtype  \n",
      "---  ------                   --------------  -----  \n",
      " 0   antecedents              2218 non-null   object \n",
      " 1   antecedents_description  2218 non-null   object \n",
      " 2   consequents              2218 non-null   object \n",
      " 3   consequents_description  2218 non-null   object \n",
      " 4   support                  2218 non-null   float64\n",
      " 5   confidence               2218 non-null   float64\n",
      " 6   lift                     2218 non-null   float64\n",
      "dtypes: float64(3), object(4)\n",
      "memory usage: 121.4+ KB\n"
     ]
    }
   ],
   "source": [
    "fpg.info()"
   ]
  },
  {
   "cell_type": "code",
   "execution_count": 6,
   "id": "94267df3",
   "metadata": {
    "scrolled": true
   },
   "outputs": [
    {
     "data": {
      "text/html": [
       "<div>\n",
       "<style scoped>\n",
       "    .dataframe tbody tr th:only-of-type {\n",
       "        vertical-align: middle;\n",
       "    }\n",
       "\n",
       "    .dataframe tbody tr th {\n",
       "        vertical-align: top;\n",
       "    }\n",
       "\n",
       "    .dataframe thead th {\n",
       "        text-align: right;\n",
       "    }\n",
       "</style>\n",
       "<table border=\"1\" class=\"dataframe\">\n",
       "  <thead>\n",
       "    <tr style=\"text-align: right;\">\n",
       "      <th></th>\n",
       "      <th>antecedents</th>\n",
       "      <th>antecedents_description</th>\n",
       "      <th>consequents</th>\n",
       "      <th>consequents_description</th>\n",
       "      <th>support</th>\n",
       "      <th>confidence</th>\n",
       "      <th>lift</th>\n",
       "    </tr>\n",
       "  </thead>\n",
       "  <tbody>\n",
       "    <tr>\n",
       "      <th>0</th>\n",
       "      <td>20975</td>\n",
       "      <td>12 PENCILS SMALL TUBE RED RETROSPOT</td>\n",
       "      <td>20974</td>\n",
       "      <td>12 PENCILS SMALL TUBE SKULL</td>\n",
       "      <td>0.005482</td>\n",
       "      <td>0.363636</td>\n",
       "      <td>25.781377</td>\n",
       "    </tr>\n",
       "    <tr>\n",
       "      <th>1</th>\n",
       "      <td>20974</td>\n",
       "      <td>12 PENCILS SMALL TUBE SKULL</td>\n",
       "      <td>20975</td>\n",
       "      <td>12 PENCILS SMALL TUBE RED RETROSPOT</td>\n",
       "      <td>0.005482</td>\n",
       "      <td>0.388664</td>\n",
       "      <td>25.781377</td>\n",
       "    </tr>\n",
       "    <tr>\n",
       "      <th>2</th>\n",
       "      <td>22150</td>\n",
       "      <td>3 STRIPEY MICE FELTCRAFT</td>\n",
       "      <td>22149</td>\n",
       "      <td>FELTCRAFT 6 FLOWER FRIENDS</td>\n",
       "      <td>0.005825</td>\n",
       "      <td>0.298246</td>\n",
       "      <td>12.376486</td>\n",
       "    </tr>\n",
       "    <tr>\n",
       "      <th>3</th>\n",
       "      <td>22150</td>\n",
       "      <td>3 STRIPEY MICE FELTCRAFT</td>\n",
       "      <td>22147</td>\n",
       "      <td>FELTCRAFT BUTTERFLY HEARTS</td>\n",
       "      <td>0.006167</td>\n",
       "      <td>0.315789</td>\n",
       "      <td>13.964912</td>\n",
       "    </tr>\n",
       "    <tr>\n",
       "      <th>4</th>\n",
       "      <td>23354</td>\n",
       "      <td>6 GIFT TAGS 50'S CHRISTMAS</td>\n",
       "      <td>23351</td>\n",
       "      <td>ROLL WRAP 50'S CHRISTMAS</td>\n",
       "      <td>0.005196</td>\n",
       "      <td>0.439614</td>\n",
       "      <td>33.040824</td>\n",
       "    </tr>\n",
       "  </tbody>\n",
       "</table>\n",
       "</div>"
      ],
      "text/plain": [
       "  antecedents              antecedents_description consequents  \\\n",
       "0       20975  12 PENCILS SMALL TUBE RED RETROSPOT       20974   \n",
       "1       20974          12 PENCILS SMALL TUBE SKULL       20975   \n",
       "2       22150             3 STRIPEY MICE FELTCRAFT       22149   \n",
       "3       22150             3 STRIPEY MICE FELTCRAFT       22147   \n",
       "4       23354          6 GIFT TAGS 50'S CHRISTMAS        23351   \n",
       "\n",
       "               consequents_description   support  confidence       lift  \n",
       "0          12 PENCILS SMALL TUBE SKULL  0.005482    0.363636  25.781377  \n",
       "1  12 PENCILS SMALL TUBE RED RETROSPOT  0.005482    0.388664  25.781377  \n",
       "2           FELTCRAFT 6 FLOWER FRIENDS  0.005825    0.298246  12.376486  \n",
       "3           FELTCRAFT BUTTERFLY HEARTS  0.006167    0.315789  13.964912  \n",
       "4             ROLL WRAP 50'S CHRISTMAS  0.005196    0.439614  33.040824  "
      ]
     },
     "execution_count": 6,
     "metadata": {},
     "output_type": "execute_result"
    }
   ],
   "source": [
    "fpg.head()"
   ]
  },
  {
   "cell_type": "markdown",
   "id": "fc1eed6a",
   "metadata": {},
   "source": [
    "Se observa que la mediana de lift es de 8,81. Es decir, al menos el 50 de los productos comprados tienen un lift menor al 8,81. "
   ]
  },
  {
   "cell_type": "code",
   "execution_count": 7,
   "id": "cdb4c6fa",
   "metadata": {
    "scrolled": true
   },
   "outputs": [
    {
     "data": {
      "text/html": [
       "<div>\n",
       "<style scoped>\n",
       "    .dataframe tbody tr th:only-of-type {\n",
       "        vertical-align: middle;\n",
       "    }\n",
       "\n",
       "    .dataframe tbody tr th {\n",
       "        vertical-align: top;\n",
       "    }\n",
       "\n",
       "    .dataframe thead th {\n",
       "        text-align: right;\n",
       "    }\n",
       "</style>\n",
       "<table border=\"1\" class=\"dataframe\">\n",
       "  <thead>\n",
       "    <tr style=\"text-align: right;\">\n",
       "      <th></th>\n",
       "      <th>support</th>\n",
       "      <th>confidence</th>\n",
       "      <th>lift</th>\n",
       "    </tr>\n",
       "  </thead>\n",
       "  <tbody>\n",
       "    <tr>\n",
       "      <th>count</th>\n",
       "      <td>2218.000000</td>\n",
       "      <td>2218.000000</td>\n",
       "      <td>2218.000000</td>\n",
       "    </tr>\n",
       "    <tr>\n",
       "      <th>mean</th>\n",
       "      <td>0.007804</td>\n",
       "      <td>0.331585</td>\n",
       "      <td>15.116075</td>\n",
       "    </tr>\n",
       "    <tr>\n",
       "      <th>std</th>\n",
       "      <td>0.003331</td>\n",
       "      <td>0.218528</td>\n",
       "      <td>17.772122</td>\n",
       "    </tr>\n",
       "    <tr>\n",
       "      <th>min</th>\n",
       "      <td>0.005025</td>\n",
       "      <td>0.050257</td>\n",
       "      <td>1.190347</td>\n",
       "    </tr>\n",
       "    <tr>\n",
       "      <th>25%</th>\n",
       "      <td>0.005653</td>\n",
       "      <td>0.150834</td>\n",
       "      <td>3.489680</td>\n",
       "    </tr>\n",
       "    <tr>\n",
       "      <th>50%</th>\n",
       "      <td>0.006738</td>\n",
       "      <td>0.264000</td>\n",
       "      <td>8.815212</td>\n",
       "    </tr>\n",
       "    <tr>\n",
       "      <th>75%</th>\n",
       "      <td>0.008623</td>\n",
       "      <td>0.479518</td>\n",
       "      <td>19.739775</td>\n",
       "    </tr>\n",
       "    <tr>\n",
       "      <th>max</th>\n",
       "      <td>0.029979</td>\n",
       "      <td>0.969388</td>\n",
       "      <td>109.220063</td>\n",
       "    </tr>\n",
       "  </tbody>\n",
       "</table>\n",
       "</div>"
      ],
      "text/plain": [
       "           support   confidence         lift\n",
       "count  2218.000000  2218.000000  2218.000000\n",
       "mean      0.007804     0.331585    15.116075\n",
       "std       0.003331     0.218528    17.772122\n",
       "min       0.005025     0.050257     1.190347\n",
       "25%       0.005653     0.150834     3.489680\n",
       "50%       0.006738     0.264000     8.815212\n",
       "75%       0.008623     0.479518    19.739775\n",
       "max       0.029979     0.969388   109.220063"
      ]
     },
     "execution_count": 7,
     "metadata": {},
     "output_type": "execute_result"
    }
   ],
   "source": [
    "fpg.describe()"
   ]
  },
  {
   "cell_type": "markdown",
   "id": "45a66f3b",
   "metadata": {},
   "source": [
    "## Evaluación"
   ]
  },
  {
   "cell_type": "markdown",
   "id": "2b6d8ec2",
   "metadata": {},
   "source": [
    "### Todas las reglas de asociación"
   ]
  },
  {
   "cell_type": "code",
   "execution_count": 8,
   "id": "b0ad5ac7",
   "metadata": {
    "scrolled": true
   },
   "outputs": [
    {
     "data": {
      "text/html": [
       "<div>\n",
       "<style scoped>\n",
       "    .dataframe tbody tr th:only-of-type {\n",
       "        vertical-align: middle;\n",
       "    }\n",
       "\n",
       "    .dataframe tbody tr th {\n",
       "        vertical-align: top;\n",
       "    }\n",
       "\n",
       "    .dataframe thead th {\n",
       "        text-align: right;\n",
       "    }\n",
       "</style>\n",
       "<table border=\"1\" class=\"dataframe\">\n",
       "  <thead>\n",
       "    <tr style=\"text-align: right;\">\n",
       "      <th></th>\n",
       "      <th>antecedents</th>\n",
       "      <th>antecedents_description</th>\n",
       "      <th>consequents</th>\n",
       "      <th>consequents_description</th>\n",
       "      <th>support</th>\n",
       "      <th>confidence</th>\n",
       "      <th>lift</th>\n",
       "    </tr>\n",
       "  </thead>\n",
       "  <tbody>\n",
       "    <tr>\n",
       "      <th>334</th>\n",
       "      <td>15056BL</td>\n",
       "      <td>EDWARDIAN PARASOL BLACK</td>\n",
       "      <td>15056N</td>\n",
       "      <td>EDWARDIAN PARASOL NATURAL</td>\n",
       "      <td>0.005996</td>\n",
       "      <td>0.509709</td>\n",
       "      <td>30.464230</td>\n",
       "    </tr>\n",
       "    <tr>\n",
       "      <th>336</th>\n",
       "      <td>15056N</td>\n",
       "      <td>EDWARDIAN PARASOL NATURAL</td>\n",
       "      <td>20679</td>\n",
       "      <td>EDWARDIAN PARASOL RED</td>\n",
       "      <td>0.005539</td>\n",
       "      <td>0.331058</td>\n",
       "      <td>26.472548</td>\n",
       "    </tr>\n",
       "    <tr>\n",
       "      <th>335</th>\n",
       "      <td>15056N</td>\n",
       "      <td>EDWARDIAN PARASOL NATURAL</td>\n",
       "      <td>15056BL</td>\n",
       "      <td>EDWARDIAN PARASOL BLACK</td>\n",
       "      <td>0.005996</td>\n",
       "      <td>0.358362</td>\n",
       "      <td>30.464230</td>\n",
       "    </tr>\n",
       "    <tr>\n",
       "      <th>126</th>\n",
       "      <td>20675</td>\n",
       "      <td>BLUE POLKADOT BOWL</td>\n",
       "      <td>21238</td>\n",
       "      <td>RED RETROSPOT CUP</td>\n",
       "      <td>0.005139</td>\n",
       "      <td>0.409091</td>\n",
       "      <td>30.227848</td>\n",
       "    </tr>\n",
       "    <tr>\n",
       "      <th>129</th>\n",
       "      <td>20675</td>\n",
       "      <td>BLUE POLKADOT BOWL</td>\n",
       "      <td>20676</td>\n",
       "      <td>RED RETROSPOT BOWL</td>\n",
       "      <td>0.005482</td>\n",
       "      <td>0.436364</td>\n",
       "      <td>29.618605</td>\n",
       "    </tr>\n",
       "    <tr>\n",
       "      <th>...</th>\n",
       "      <td>...</td>\n",
       "      <td>...</td>\n",
       "      <td>...</td>\n",
       "      <td>...</td>\n",
       "      <td>...</td>\n",
       "      <td>...</td>\n",
       "      <td>...</td>\n",
       "    </tr>\n",
       "    <tr>\n",
       "      <th>330</th>\n",
       "      <td>DOT</td>\n",
       "      <td>DOTCOM POSTAGE</td>\n",
       "      <td>21931</td>\n",
       "      <td>JUMBO STORAGE BAG SUKI</td>\n",
       "      <td>0.008737</td>\n",
       "      <td>0.726115</td>\n",
       "      <td>33.020072</td>\n",
       "    </tr>\n",
       "    <tr>\n",
       "      <th>329</th>\n",
       "      <td>DOT</td>\n",
       "      <td>DOTCOM POSTAGE</td>\n",
       "      <td>22502</td>\n",
       "      <td>PICNIC BASKET WICKER SMALL</td>\n",
       "      <td>0.005539</td>\n",
       "      <td>0.357934</td>\n",
       "      <td>20.351081</td>\n",
       "    </tr>\n",
       "    <tr>\n",
       "      <th>328</th>\n",
       "      <td>DOT</td>\n",
       "      <td>DOTCOM POSTAGE</td>\n",
       "      <td>22379</td>\n",
       "      <td>RECYCLING BAG RETROSPOT</td>\n",
       "      <td>0.005767</td>\n",
       "      <td>0.372694</td>\n",
       "      <td>14.900942</td>\n",
       "    </tr>\n",
       "    <tr>\n",
       "      <th>327</th>\n",
       "      <td>DOT</td>\n",
       "      <td>DOTCOM POSTAGE</td>\n",
       "      <td>22386</td>\n",
       "      <td>JUMBO BAG PINK POLKADOT</td>\n",
       "      <td>0.008223</td>\n",
       "      <td>0.671233</td>\n",
       "      <td>25.742897</td>\n",
       "    </tr>\n",
       "    <tr>\n",
       "      <th>326</th>\n",
       "      <td>DOT</td>\n",
       "      <td>DOTCOM POSTAGE</td>\n",
       "      <td>20712</td>\n",
       "      <td>JUMBO BAG WOODLAND ANIMALS</td>\n",
       "      <td>0.008337</td>\n",
       "      <td>0.687898</td>\n",
       "      <td>34.463961</td>\n",
       "    </tr>\n",
       "  </tbody>\n",
       "</table>\n",
       "<p>2218 rows × 7 columns</p>\n",
       "</div>"
      ],
      "text/plain": [
       "    antecedents    antecedents_description consequents  \\\n",
       "334     15056BL    EDWARDIAN PARASOL BLACK      15056N   \n",
       "336      15056N  EDWARDIAN PARASOL NATURAL       20679   \n",
       "335      15056N  EDWARDIAN PARASOL NATURAL     15056BL   \n",
       "126       20675         BLUE POLKADOT BOWL       21238   \n",
       "129       20675         BLUE POLKADOT BOWL       20676   \n",
       "..          ...                        ...         ...   \n",
       "330         DOT             DOTCOM POSTAGE       21931   \n",
       "329         DOT             DOTCOM POSTAGE       22502   \n",
       "328         DOT             DOTCOM POSTAGE       22379   \n",
       "327         DOT             DOTCOM POSTAGE       22386   \n",
       "326         DOT             DOTCOM POSTAGE       20712   \n",
       "\n",
       "        consequents_description   support  confidence       lift  \n",
       "334   EDWARDIAN PARASOL NATURAL  0.005996    0.509709  30.464230  \n",
       "336       EDWARDIAN PARASOL RED  0.005539    0.331058  26.472548  \n",
       "335     EDWARDIAN PARASOL BLACK  0.005996    0.358362  30.464230  \n",
       "126           RED RETROSPOT CUP  0.005139    0.409091  30.227848  \n",
       "129          RED RETROSPOT BOWL  0.005482    0.436364  29.618605  \n",
       "..                          ...       ...         ...        ...  \n",
       "330      JUMBO STORAGE BAG SUKI  0.008737    0.726115  33.020072  \n",
       "329  PICNIC BASKET WICKER SMALL  0.005539    0.357934  20.351081  \n",
       "328    RECYCLING BAG RETROSPOT   0.005767    0.372694  14.900942  \n",
       "327     JUMBO BAG PINK POLKADOT  0.008223    0.671233  25.742897  \n",
       "326  JUMBO BAG WOODLAND ANIMALS  0.008337    0.687898  34.463961  \n",
       "\n",
       "[2218 rows x 7 columns]"
      ]
     },
     "execution_count": 8,
     "metadata": {},
     "output_type": "execute_result"
    }
   ],
   "source": [
    "fpg.sort_values(by=['antecedents'])"
   ]
  },
  {
   "cell_type": "markdown",
   "id": "d10e6c77",
   "metadata": {},
   "source": [
    "##### Contamos cuántos productos consecuentes tienen asociados a un antecedente"
   ]
  },
  {
   "cell_type": "code",
   "execution_count": 9,
   "id": "4f314fb0",
   "metadata": {},
   "outputs": [
    {
     "data": {
      "text/html": [
       "<div>\n",
       "<style scoped>\n",
       "    .dataframe tbody tr th:only-of-type {\n",
       "        vertical-align: middle;\n",
       "    }\n",
       "\n",
       "    .dataframe tbody tr th {\n",
       "        vertical-align: top;\n",
       "    }\n",
       "\n",
       "    .dataframe thead th {\n",
       "        text-align: right;\n",
       "    }\n",
       "</style>\n",
       "<table border=\"1\" class=\"dataframe\">\n",
       "  <thead>\n",
       "    <tr style=\"text-align: right;\">\n",
       "      <th></th>\n",
       "      <th>antecedents</th>\n",
       "      <th>qty_recommended_products</th>\n",
       "    </tr>\n",
       "  </thead>\n",
       "  <tbody>\n",
       "    <tr>\n",
       "      <th>0</th>\n",
       "      <td>15056BL</td>\n",
       "      <td>1</td>\n",
       "    </tr>\n",
       "    <tr>\n",
       "      <th>1</th>\n",
       "      <td>15056N</td>\n",
       "      <td>2</td>\n",
       "    </tr>\n",
       "    <tr>\n",
       "      <th>2</th>\n",
       "      <td>20675</td>\n",
       "      <td>6</td>\n",
       "    </tr>\n",
       "    <tr>\n",
       "      <th>3</th>\n",
       "      <td>20676</td>\n",
       "      <td>1</td>\n",
       "    </tr>\n",
       "    <tr>\n",
       "      <th>4</th>\n",
       "      <td>20677</td>\n",
       "      <td>2</td>\n",
       "    </tr>\n",
       "  </tbody>\n",
       "</table>\n",
       "</div>"
      ],
      "text/plain": [
       "  antecedents  qty_recommended_products\n",
       "0     15056BL                         1\n",
       "1      15056N                         2\n",
       "2       20675                         6\n",
       "3       20676                         1\n",
       "4       20677                         2"
      ]
     },
     "execution_count": 9,
     "metadata": {},
     "output_type": "execute_result"
    }
   ],
   "source": [
    "rmd_gb = fpg.groupby(by = ['antecedents'])\\\n",
    "            .agg({'consequents':'nunique'})\\\n",
    "            .rename(columns={'consequents':'qty_recommended_products'})\\\n",
    "            .reset_index()\n",
    "rmd_gb.head(5)"
   ]
  },
  {
   "cell_type": "markdown",
   "id": "b4e869d6",
   "metadata": {},
   "source": [
    "##### Mergeamos la tabla de órdenes con la tabla de recomendados (cantidad de recomendados por antecedente)"
   ]
  },
  {
   "cell_type": "code",
   "execution_count": 10,
   "id": "c4336275",
   "metadata": {},
   "outputs": [],
   "source": [
    "rmd_m = orders.merge(right=rmd_gb, \n",
    "                     left_on='StockCode',\n",
    "                     right_on='antecedents',\n",
    "                     how='inner'\n",
    "                     )"
   ]
  },
  {
   "cell_type": "markdown",
   "id": "6ce5731e",
   "metadata": {},
   "source": [
    "El 68% de las órdenes tendrán al menos 1 producto a recomendar y el 46% de las órdenes tendrán al menos 3 productos a recomendar."
   ]
  },
  {
   "cell_type": "code",
   "execution_count": 11,
   "id": "4128a968",
   "metadata": {},
   "outputs": [
    {
     "data": {
      "text/plain": [
       "0.68"
      ]
     },
     "execution_count": 11,
     "metadata": {},
     "output_type": "execute_result"
    }
   ],
   "source": [
    "round(rmd_m['InvoiceNo'].nunique()/orders['InvoiceNo'].nunique(),2)"
   ]
  },
  {
   "cell_type": "code",
   "execution_count": 12,
   "id": "a00211f0",
   "metadata": {
    "scrolled": true
   },
   "outputs": [
    {
     "data": {
      "text/plain": [
       "0.46"
      ]
     },
     "execution_count": 12,
     "metadata": {},
     "output_type": "execute_result"
    }
   ],
   "source": [
    "round(rmd_m[rmd_m['qty_recommended_products']>3]['InvoiceNo'].nunique()/orders['InvoiceNo'].nunique(),2)"
   ]
  },
  {
   "cell_type": "markdown",
   "id": "f2dfa8d4",
   "metadata": {},
   "source": [
    "##### Revisamos distribución por cantidad de productos recomendados"
   ]
  },
  {
   "cell_type": "code",
   "execution_count": 42,
   "id": "ef381325",
   "metadata": {},
   "outputs": [],
   "source": [
    "qrp = rmd_m.groupby(by=['qty_recommended_products'])\\\n",
    "          .agg({'InvoiceNo':'nunique'})\\\n",
    "          .rename(columns={'InvoiceNo':'qty_orders'})\\\n",
    "          .reset_index()    "
   ]
  },
  {
   "cell_type": "code",
   "execution_count": 43,
   "id": "c86e7687",
   "metadata": {},
   "outputs": [],
   "source": [
    "qrp['share'] = round(qrp['qty_orders']/qrp['qty_orders'].sum()*100,2)"
   ]
  },
  {
   "cell_type": "code",
   "execution_count": 47,
   "id": "1abee580",
   "metadata": {},
   "outputs": [
    {
     "data": {
      "image/png": "[encoded data removed]",
      "text/plain": [
       "<Figure size 800x500 with 1 Axes>"
      ]
     },
     "metadata": {},
     "output_type": "display_data"
    }
   ],
   "source": [
    "plt.figure(figsize=(8, 5))\n",
    "splot = sns.barplot(x = qrp.qty_recommended_products, \n",
    "                    y = qrp.share)\n",
    "\n",
    "for p in splot.patches:\n",
    "    splot.annotate(format(p.get_height(), '.1f'), \n",
    "                   (p.get_x() + p.get_width() / 2., p.get_height()), \n",
    "                   ha = 'center', va = 'center', \n",
    "                   xytext = (0, 9), \n",
    "                   textcoords = 'offset points')\n",
    "plt.ylim(0, 25)\n",
    "splot.tick_params(axis='x', rotation=90, labelsize=8)\n",
    "plt.title('Orders distribution by Quantity recommended products', fontsize=9)    \n",
    "plt.show()"
   ]
  },
  {
   "cell_type": "code",
   "execution_count": null,
   "id": "6eb4682f",
   "metadata": {},
   "outputs": [],
   "source": []
  },
  {
   "cell_type": "markdown",
   "id": "db18a9d3",
   "metadata": {},
   "source": [
    "### Filtramos el dataset para lift > 9"
   ]
  },
  {
   "cell_type": "code",
   "execution_count": 13,
   "id": "abb19458",
   "metadata": {},
   "outputs": [
    {
     "data": {
      "text/html": [
       "<div>\n",
       "<style scoped>\n",
       "    .dataframe tbody tr th:only-of-type {\n",
       "        vertical-align: middle;\n",
       "    }\n",
       "\n",
       "    .dataframe tbody tr th {\n",
       "        vertical-align: top;\n",
       "    }\n",
       "\n",
       "    .dataframe thead th {\n",
       "        text-align: right;\n",
       "    }\n",
       "</style>\n",
       "<table border=\"1\" class=\"dataframe\">\n",
       "  <thead>\n",
       "    <tr style=\"text-align: right;\">\n",
       "      <th></th>\n",
       "      <th>support</th>\n",
       "      <th>confidence</th>\n",
       "      <th>lift</th>\n",
       "    </tr>\n",
       "  </thead>\n",
       "  <tbody>\n",
       "    <tr>\n",
       "      <th>count</th>\n",
       "      <td>2218.000000</td>\n",
       "      <td>2218.000000</td>\n",
       "      <td>2218.000000</td>\n",
       "    </tr>\n",
       "    <tr>\n",
       "      <th>mean</th>\n",
       "      <td>0.007804</td>\n",
       "      <td>0.331585</td>\n",
       "      <td>15.116075</td>\n",
       "    </tr>\n",
       "    <tr>\n",
       "      <th>std</th>\n",
       "      <td>0.003331</td>\n",
       "      <td>0.218528</td>\n",
       "      <td>17.772122</td>\n",
       "    </tr>\n",
       "    <tr>\n",
       "      <th>min</th>\n",
       "      <td>0.005025</td>\n",
       "      <td>0.050257</td>\n",
       "      <td>1.190347</td>\n",
       "    </tr>\n",
       "    <tr>\n",
       "      <th>25%</th>\n",
       "      <td>0.005653</td>\n",
       "      <td>0.150834</td>\n",
       "      <td>3.489680</td>\n",
       "    </tr>\n",
       "    <tr>\n",
       "      <th>50%</th>\n",
       "      <td>0.006738</td>\n",
       "      <td>0.264000</td>\n",
       "      <td>8.815212</td>\n",
       "    </tr>\n",
       "    <tr>\n",
       "      <th>75%</th>\n",
       "      <td>0.008623</td>\n",
       "      <td>0.479518</td>\n",
       "      <td>19.739775</td>\n",
       "    </tr>\n",
       "    <tr>\n",
       "      <th>max</th>\n",
       "      <td>0.029979</td>\n",
       "      <td>0.969388</td>\n",
       "      <td>109.220063</td>\n",
       "    </tr>\n",
       "  </tbody>\n",
       "</table>\n",
       "</div>"
      ],
      "text/plain": [
       "           support   confidence         lift\n",
       "count  2218.000000  2218.000000  2218.000000\n",
       "mean      0.007804     0.331585    15.116075\n",
       "std       0.003331     0.218528    17.772122\n",
       "min       0.005025     0.050257     1.190347\n",
       "25%       0.005653     0.150834     3.489680\n",
       "50%       0.006738     0.264000     8.815212\n",
       "75%       0.008623     0.479518    19.739775\n",
       "max       0.029979     0.969388   109.220063"
      ]
     },
     "execution_count": 13,
     "metadata": {},
     "output_type": "execute_result"
    }
   ],
   "source": [
    "fpg.describe()"
   ]
  },
  {
   "cell_type": "code",
   "execution_count": 14,
   "id": "7916f6ea",
   "metadata": {},
   "outputs": [],
   "source": [
    "fpg_lift = fpg[fpg['lift'] > 9].copy()"
   ]
  },
  {
   "cell_type": "markdown",
   "id": "a8721c2f",
   "metadata": {},
   "source": [
    "##### Contamos cuántos productos consecuentes tienen asociados a un antecedente"
   ]
  },
  {
   "cell_type": "code",
   "execution_count": 15,
   "id": "233f627c",
   "metadata": {},
   "outputs": [
    {
     "data": {
      "text/html": [
       "<div>\n",
       "<style scoped>\n",
       "    .dataframe tbody tr th:only-of-type {\n",
       "        vertical-align: middle;\n",
       "    }\n",
       "\n",
       "    .dataframe tbody tr th {\n",
       "        vertical-align: top;\n",
       "    }\n",
       "\n",
       "    .dataframe thead th {\n",
       "        text-align: right;\n",
       "    }\n",
       "</style>\n",
       "<table border=\"1\" class=\"dataframe\">\n",
       "  <thead>\n",
       "    <tr style=\"text-align: right;\">\n",
       "      <th></th>\n",
       "      <th>antecedents</th>\n",
       "      <th>qty_recommended_products</th>\n",
       "    </tr>\n",
       "  </thead>\n",
       "  <tbody>\n",
       "    <tr>\n",
       "      <th>0</th>\n",
       "      <td>15056BL</td>\n",
       "      <td>1</td>\n",
       "    </tr>\n",
       "    <tr>\n",
       "      <th>1</th>\n",
       "      <td>15056N</td>\n",
       "      <td>2</td>\n",
       "    </tr>\n",
       "    <tr>\n",
       "      <th>2</th>\n",
       "      <td>20675</td>\n",
       "      <td>6</td>\n",
       "    </tr>\n",
       "    <tr>\n",
       "      <th>3</th>\n",
       "      <td>20676</td>\n",
       "      <td>1</td>\n",
       "    </tr>\n",
       "    <tr>\n",
       "      <th>4</th>\n",
       "      <td>20677</td>\n",
       "      <td>2</td>\n",
       "    </tr>\n",
       "  </tbody>\n",
       "</table>\n",
       "</div>"
      ],
      "text/plain": [
       "  antecedents  qty_recommended_products\n",
       "0     15056BL                         1\n",
       "1      15056N                         2\n",
       "2       20675                         6\n",
       "3       20676                         1\n",
       "4       20677                         2"
      ]
     },
     "execution_count": 15,
     "metadata": {},
     "output_type": "execute_result"
    }
   ],
   "source": [
    "rmd_gb_lift = fpg_lift.groupby(by = ['antecedents'])\\\n",
    "                      .agg({'consequents':'nunique'})\\\n",
    "                      .rename(columns={'consequents':'qty_recommended_products'})\\\n",
    "                      .reset_index()\n",
    "rmd_gb_lift.head(5)"
   ]
  },
  {
   "cell_type": "markdown",
   "id": "07b4d8e5",
   "metadata": {},
   "source": [
    "##### Mergeamos la tabla de órdenes con la tabla de recomendados (cantidad de recomendados por antecedente)"
   ]
  },
  {
   "cell_type": "code",
   "execution_count": 17,
   "id": "8b7e32cf",
   "metadata": {},
   "outputs": [],
   "source": [
    "rmd_lift_m = orders.merge(right=rmd_gb_lift, \n",
    "                          left_on='StockCode',\n",
    "                          right_on='antecedents',\n",
    "                          how='inner'\n",
    "                          )"
   ]
  },
  {
   "cell_type": "markdown",
   "id": "dc434ee8",
   "metadata": {},
   "source": [
    "##### Revisamos distribución por cantidad de productos recomendados"
   ]
  },
  {
   "cell_type": "code",
   "execution_count": 23,
   "id": "36fde085",
   "metadata": {},
   "outputs": [],
   "source": [
    "qrp_lift = rmd_lift_m.groupby(by=['qty_recommended_products'])\\\n",
    "                      .agg({'InvoiceNo':'nunique'})\\\n",
    "                      .rename(columns={'InvoiceNo':'qty_orders'})\\\n",
    "                      .reset_index()                        "
   ]
  },
  {
   "cell_type": "code",
   "execution_count": 30,
   "id": "b3752f9d",
   "metadata": {},
   "outputs": [],
   "source": [
    "qrp_lift['share'] = round(qrp_lift['qty_orders']/qrp_lift['qty_orders'].sum()*100,2)"
   ]
  },
  {
   "cell_type": "code",
   "execution_count": 41,
   "id": "0182303f",
   "metadata": {},
   "outputs": [
    {
     "data": {
      "image/png": "[encoded data removed]",
      "text/plain": [
       "<Figure size 600x400 with 1 Axes>"
      ]
     },
     "metadata": {},
     "output_type": "display_data"
    }
   ],
   "source": [
    "plt.figure(figsize=(6, 4))\n",
    "splot = sns.barplot(x = qrp.qty_recommended_products, \n",
    "                    y = qrp.share)\n",
    "\n",
    "for p in splot.patches:\n",
    "    splot.annotate(format(p.get_height(), '.1f'), \n",
    "                   (p.get_x() + p.get_width() / 2., p.get_height()), \n",
    "                   ha = 'center', va = 'center', \n",
    "                   xytext = (0, 9), \n",
    "                   textcoords = 'offset points')\n",
    "plt.ylim(0, 40)\n",
    "splot.tick_params(axis='x', rotation=90, labelsize=8)\n",
    "plt.title('Orders distribution by Quantity recommended products', fontsize=9)    \n",
    "plt.show()"
   ]
  },
  {
   "cell_type": "markdown",
   "id": "b990818c",
   "metadata": {},
   "source": [
    "Al exigir un umbral de lift más exigente, se puede observar que el porcentaje de órdenes que tendrá al menos 1 producto a recomendar baja de 68% a 61%, y de los que tienen al menos 3 productos a recomendar disminuye aún más (de 46% a 31%)."
   ]
  },
  {
   "cell_type": "code",
   "execution_count": 18,
   "id": "a72599d1",
   "metadata": {},
   "outputs": [
    {
     "data": {
      "text/plain": [
       "0.61"
      ]
     },
     "execution_count": 18,
     "metadata": {},
     "output_type": "execute_result"
    }
   ],
   "source": [
    "round(rmd_lift_m['InvoiceNo'].nunique()/orders['InvoiceNo'].nunique(),2)"
   ]
  },
  {
   "cell_type": "code",
   "execution_count": 19,
   "id": "0d0b8796",
   "metadata": {},
   "outputs": [
    {
     "data": {
      "text/plain": [
       "0.31"
      ]
     },
     "execution_count": 19,
     "metadata": {},
     "output_type": "execute_result"
    }
   ],
   "source": [
    "round(rmd_lift_m[rmd_lift_m['qty_recommended_products']>3]['InvoiceNo'].nunique()/orders['InvoiceNo'].nunique(),2)"
   ]
  }
 ],
 "metadata": {
  "kernelspec": {
   "display_name": "Python 3 (ipykernel)",
   "language": "python",
   "name": "python3"
  },
  "language_info": {
   "codemirror_mode": {
    "name": "ipython",
    "version": 3
   },
   "file_extension": ".py",
   "mimetype": "text/x-python",
   "name": "python",
   "nbconvert_exporter": "python",
   "pygments_lexer": "ipython3",
   "version": "3.8.5"
  }
 },
 "nbformat": 4,
 "nbformat_minor": 5
}
